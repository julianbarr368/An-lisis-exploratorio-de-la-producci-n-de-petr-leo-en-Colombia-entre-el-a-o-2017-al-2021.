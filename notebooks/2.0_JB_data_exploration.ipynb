{
 "cells": [
  {
   "cell_type": "markdown",
   "source": "# Librerías, carga del datset y previsualización.",
   "metadata": {
    "formattedRanges": [],
    "is_collapsed": false,
    "cell_id": "971db34319ad41cc97880ba28501aac0",
    "tags": [],
    "deepnote_app_coordinates": {
     "x": 0,
     "y": 1,
     "w": 12,
     "h": 5
    },
    "deepnote_cell_type": "text-cell-h1"
   }
  },
  {
   "cell_type": "code",
   "metadata": {
    "tags": [],
    "cell_id": "e6d980a0-9837-4b73-8356-67e68ccf337a",
    "deepnote_to_be_reexecuted": false,
    "source_hash": "bf903efd",
    "execution_start": 1660676383735,
    "execution_millis": 2895,
    "deepnote_app_coordinates": {
     "x": 0,
     "y": 7,
     "w": 12,
     "h": 5
    },
    "deepnote_cell_type": "code",
    "deepnote_cell_height": 130
   },
   "source": "import matplotlib.pyplot as plt\nimport numpy as np\nimport pandas as pd\nimport seaborn as sns",
   "execution_count": null,
   "outputs": []
  },
  {
   "cell_type": "code",
   "metadata": {
    "cell_id": "d2cd6e788aba446ba23c7c51819e499f",
    "tags": [],
    "deepnote_to_be_reexecuted": false,
    "source_hash": "727502ca",
    "execution_start": 1660676386632,
    "execution_millis": 42,
    "deepnote_app_coordinates": {
     "x": 0,
     "y": 13,
     "w": 12,
     "h": 5
    },
    "deepnote_cell_type": "code",
    "deepnote_cell_height": 99
   },
   "source": "df_produccion_petroleo = pd.read_csv('/work/produccion_petroleo_colombia_2017-2021/data/processed/produccion petroleo 2017 - 2021.csv')\n",
   "execution_count": null,
   "outputs": []
  },
  {
   "cell_type": "code",
   "metadata": {
    "cell_id": "5cb5cfc3776248399d5b696d30cec8cc",
    "tags": [],
    "deepnote_to_be_reexecuted": false,
    "source_hash": "4db0e6fb",
    "execution_start": 1660676386689,
    "execution_millis": 121,
    "deepnote_app_coordinates": {
     "x": 0,
     "y": 19,
     "w": 12,
     "h": 5
    },
    "deepnote_cell_type": "code",
    "deepnote_cell_height": 612
   },
   "source": "df_produccion_petroleo.head(10)",
   "execution_count": null,
   "outputs": [
    {
     "output_type": "execute_result",
     "execution_count": 3,
     "data": {
      "application/vnd.deepnote.dataframe.v3+json": {
       "column_count": 21,
       "row_count": 10,
       "columns": [
        {
         "name": "Departamento",
         "dtype": "object",
         "stats": {
          "unique_count": 2,
          "nan_count": 0,
          "categories": [
           {
            "name": "ANTIOQUIA",
            "count": 7
           },
           {
            "name": "ARAUCA",
            "count": 3
           }
          ]
         }
        },
        {
         "name": "Municipio",
         "dtype": "object",
         "stats": {
          "unique_count": 4,
          "nan_count": 0,
          "categories": [
           {
            "name": "PUERTO NARE",
            "count": 3
           },
           {
            "name": "YONDO",
            "count": 3
           },
           {
            "name": "2 others",
            "count": 4
           }
          ]
         }
        },
        {
         "name": "Latitud",
         "dtype": "float64",
         "stats": {
          "unique_count": 5,
          "nan_count": 0,
          "min": "5.826388779",
          "max": "6.925159318",
          "histogram": [
           {
            "bin_start": 5.826388779,
            "bin_end": 5.9362658329,
            "count": 1
           },
           {
            "bin_start": 5.9362658329,
            "bin_end": 6.0461428868,
            "count": 1
           },
           {
            "bin_start": 6.0461428868,
            "bin_end": 6.1560199407,
            "count": 3
           },
           {
            "bin_start": 6.1560199407,
            "bin_end": 6.2658969946,
            "count": 0
           },
           {
            "bin_start": 6.2658969946,
            "bin_end": 6.3757740485,
            "count": 0
           },
           {
            "bin_start": 6.3757740485,
            "bin_end": 6.4856511024,
            "count": 0
           },
           {
            "bin_start": 6.4856511024,
            "bin_end": 6.5955281563,
            "count": 0
           },
           {
            "bin_start": 6.5955281563,
            "bin_end": 6.7054052102,
            "count": 0
           },
           {
            "bin_start": 6.7054052102,
            "bin_end": 6.8152822641,
            "count": 2
           },
           {
            "bin_start": 6.8152822641,
            "bin_end": 6.925159318,
            "count": 3
           }
          ]
         }
        },
        {
         "name": "Longitud",
         "dtype": "float64",
         "stats": {
          "unique_count": 5,
          "nan_count": 0,
          "min": "-74.83637623",
          "max": "-70.50921153",
          "histogram": [
           {
            "bin_start": -74.83637623,
            "bin_end": -74.40365976,
            "count": 5
           },
           {
            "bin_start": -74.40365976,
            "bin_end": -73.97094329,
            "count": 3
           },
           {
            "bin_start": -73.97094329,
            "bin_end": -73.53822682,
            "count": 0
           },
           {
            "bin_start": -73.53822682,
            "bin_end": -73.10551035,
            "count": 0
           },
           {
            "bin_start": -73.10551035,
            "bin_end": -72.67279388,
            "count": 0
           },
           {
            "bin_start": -72.67279388,
            "bin_end": -72.24007741,
            "count": 0
           },
           {
            "bin_start": -72.24007741,
            "bin_end": -71.80736094,
            "count": 0
           },
           {
            "bin_start": -71.80736094,
            "bin_end": -71.37464447,
            "count": 0
           },
           {
            "bin_start": -71.37464447,
            "bin_end": -70.941928,
            "count": 0
           },
           {
            "bin_start": -70.941928,
            "bin_end": -70.50921153,
            "count": 2
           }
          ]
         }
        },
        {
         "name": "Geolocalizacion",
         "dtype": "object",
         "stats": {
          "unique_count": 5,
          "nan_count": 0,
          "categories": [
           {
            "name": "POINT (-74.70317722 6.126539139)",
            "count": 3
           },
           {
            "name": "POINT (-74.15824041 6.925159318)",
            "count": 3
           },
           {
            "name": "3 others",
            "count": 4
           }
          ]
         }
        },
        {
         "name": "Operadora",
         "dtype": "object",
         "stats": {
          "unique_count": 3,
          "nan_count": 0,
          "categories": [
           {
            "name": "ECOPETROL S.A.",
            "count": 5
           },
           {
            "name": "OCCIDENTAL DE COLOMBIA LLC",
            "count": 3
           },
           {
            "name": "MANSAROVAR ENERGY COLOMBIA LTD",
            "count": 2
           }
          ]
         }
        },
        {
         "name": "Contrato",
         "dtype": "object",
         "stats": {
          "unique_count": 4,
          "nan_count": 0,
          "categories": [
           {
            "name": "CASABE",
            "count": 3
           },
           {
            "name": "CHIPIRON",
            "count": 3
           },
           {
            "name": "2 others",
            "count": 4
           }
          ]
         }
        },
        {
         "name": "Campo",
         "dtype": "object",
         "stats": {
          "unique_count": 9,
          "nan_count": 0,
          "categories": [
           {
            "name": "AREA TECA-COCORNA",
            "count": 2
           },
           {
            "name": "NARE",
            "count": 1
           },
           {
            "name": "7 others",
            "count": 7
           }
          ]
         }
        },
        {
         "name": "Enero",
         "dtype": "float64",
         "stats": {
          "unique_count": 10,
          "nan_count": 0,
          "min": "5.0",
          "max": "12745.0",
          "histogram": [
           {
            "bin_start": 5,
            "bin_end": 1279,
            "count": 6
           },
           {
            "bin_start": 1279,
            "bin_end": 2553,
            "count": 2
           },
           {
            "bin_start": 2553,
            "bin_end": 3827,
            "count": 0
           },
           {
            "bin_start": 3827,
            "bin_end": 5101,
            "count": 0
           },
           {
            "bin_start": 5101,
            "bin_end": 6375,
            "count": 0
           },
           {
            "bin_start": 6375,
            "bin_end": 7649,
            "count": 0
           },
           {
            "bin_start": 7649,
            "bin_end": 8923,
            "count": 0
           },
           {
            "bin_start": 8923,
            "bin_end": 10197,
            "count": 0
           },
           {
            "bin_start": 10197,
            "bin_end": 11471,
            "count": 1
           },
           {
            "bin_start": 11471,
            "bin_end": 12745,
            "count": 1
           }
          ]
         }
        },
        {
         "name": "Febrero",
         "dtype": "float64",
         "stats": {
          "unique_count": 10,
          "nan_count": 0,
          "min": "0.0",
          "max": "13009.0",
          "histogram": [
           {
            "bin_start": 0,
            "bin_end": 1300.9,
            "count": 6
           },
           {
            "bin_start": 1300.9,
            "bin_end": 2601.8,
            "count": 2
           },
           {
            "bin_start": 2601.8,
            "bin_end": 3902.7000000000003,
            "count": 0
           },
           {
            "bin_start": 3902.7000000000003,
            "bin_end": 5203.6,
            "count": 0
           },
           {
            "bin_start": 5203.6,
            "bin_end": 6504.5,
            "count": 0
           },
           {
            "bin_start": 6504.5,
            "bin_end": 7805.400000000001,
            "count": 0
           },
           {
            "bin_start": 7805.400000000001,
            "bin_end": 9106.300000000001,
            "count": 0
           },
           {
            "bin_start": 9106.300000000001,
            "bin_end": 10407.2,
            "count": 0
           },
           {
            "bin_start": 10407.2,
            "bin_end": 11708.1,
            "count": 0
           },
           {
            "bin_start": 11708.1,
            "bin_end": 13009,
            "count": 2
           }
          ]
         }
        },
        {
         "name": "Marzo",
         "dtype": "float64",
         "stats": {
          "unique_count": 10,
          "nan_count": 0,
          "min": "54.0",
          "max": "12756.0",
          "histogram": [
           {
            "bin_start": 54,
            "bin_end": 1324.2,
            "count": 6
           },
           {
            "bin_start": 1324.2,
            "bin_end": 2594.4,
            "count": 2
           },
           {
            "bin_start": 2594.4,
            "bin_end": 3864.6000000000004,
            "count": 1
           },
           {
            "bin_start": 3864.6000000000004,
            "bin_end": 5134.8,
            "count": 0
           },
           {
            "bin_start": 5134.8,
            "bin_end": 6405,
            "count": 0
           },
           {
            "bin_start": 6405,
            "bin_end": 7675.200000000001,
            "count": 0
           },
           {
            "bin_start": 7675.200000000001,
            "bin_end": 8945.4,
            "count": 0
           },
           {
            "bin_start": 8945.4,
            "bin_end": 10215.6,
            "count": 0
           },
           {
            "bin_start": 10215.6,
            "bin_end": 11485.800000000001,
            "count": 0
           },
           {
            "bin_start": 11485.800000000001,
            "bin_end": 12756,
            "count": 1
           }
          ]
         }
        },
        {
         "name": "Abril",
         "dtype": "float64",
         "stats": {
          "unique_count": 10,
          "nan_count": 0,
          "min": "233.0",
          "max": "12833.0",
          "histogram": [
           {
            "bin_start": 233,
            "bin_end": 1493,
            "count": 7
           },
           {
            "bin_start": 1493,
            "bin_end": 2753,
            "count": 1
           },
           {
            "bin_start": 2753,
            "bin_end": 4013,
            "count": 0
           },
           {
            "bin_start": 4013,
            "bin_end": 5273,
            "count": 0
           },
           {
            "bin_start": 5273,
            "bin_end": 6533,
            "count": 0
           },
           {
            "bin_start": 6533,
            "bin_end": 7793,
            "count": 0
           },
           {
            "bin_start": 7793,
            "bin_end": 9053,
            "count": 0
           },
           {
            "bin_start": 9053,
            "bin_end": 10313,
            "count": 0
           },
           {
            "bin_start": 10313,
            "bin_end": 11573,
            "count": 0
           },
           {
            "bin_start": 11573,
            "bin_end": 12833,
            "count": 2
           }
          ]
         }
        },
        {
         "name": "Mayo",
         "dtype": "float64",
         "stats": {
          "unique_count": 10,
          "nan_count": 0,
          "min": "262.0",
          "max": "12492.0",
          "histogram": [
           {
            "bin_start": 262,
            "bin_end": 1485,
            "count": 7
           },
           {
            "bin_start": 1485,
            "bin_end": 2708,
            "count": 1
           },
           {
            "bin_start": 2708,
            "bin_end": 3931,
            "count": 0
           },
           {
            "bin_start": 3931,
            "bin_end": 5154,
            "count": 0
           },
           {
            "bin_start": 5154,
            "bin_end": 6377,
            "count": 0
           },
           {
            "bin_start": 6377,
            "bin_end": 7600,
            "count": 0
           },
           {
            "bin_start": 7600,
            "bin_end": 8823,
            "count": 0
           },
           {
            "bin_start": 8823,
            "bin_end": 10046,
            "count": 0
           },
           {
            "bin_start": 10046,
            "bin_end": 11269,
            "count": 0
           },
           {
            "bin_start": 11269,
            "bin_end": 12492,
            "count": 2
           }
          ]
         }
        },
        {
         "name": "Junio",
         "dtype": "float64",
         "stats": {
          "unique_count": 10,
          "nan_count": 0,
          "min": "216.0",
          "max": "13127.0",
          "histogram": [
           {
            "bin_start": 216,
            "bin_end": 1507.1,
            "count": 7
           },
           {
            "bin_start": 1507.1,
            "bin_end": 2798.2,
            "count": 1
           },
           {
            "bin_start": 2798.2,
            "bin_end": 4089.2999999999997,
            "count": 0
           },
           {
            "bin_start": 4089.2999999999997,
            "bin_end": 5380.4,
            "count": 0
           },
           {
            "bin_start": 5380.4,
            "bin_end": 6671.5,
            "count": 0
           },
           {
            "bin_start": 6671.5,
            "bin_end": 7962.599999999999,
            "count": 0
           },
           {
            "bin_start": 7962.599999999999,
            "bin_end": 9253.699999999999,
            "count": 0
           },
           {
            "bin_start": 9253.699999999999,
            "bin_end": 10544.8,
            "count": 0
           },
           {
            "bin_start": 10544.8,
            "bin_end": 11835.9,
            "count": 1
           },
           {
            "bin_start": 11835.9,
            "bin_end": 13127,
            "count": 1
           }
          ]
         }
        },
        {
         "name": "Julio",
         "dtype": "float64",
         "stats": {
          "unique_count": 10,
          "nan_count": 0,
          "min": "194.0",
          "max": "12377.0",
          "histogram": [
           {
            "bin_start": 194,
            "bin_end": 1412.3,
            "count": 7
           },
           {
            "bin_start": 1412.3,
            "bin_end": 2630.6,
            "count": 1
           },
           {
            "bin_start": 2630.6,
            "bin_end": 3848.8999999999996,
            "count": 0
           },
           {
            "bin_start": 3848.8999999999996,
            "bin_end": 5067.2,
            "count": 0
           },
           {
            "bin_start": 5067.2,
            "bin_end": 6285.5,
            "count": 0
           },
           {
            "bin_start": 6285.5,
            "bin_end": 7503.799999999999,
            "count": 0
           },
           {
            "bin_start": 7503.799999999999,
            "bin_end": 8722.1,
            "count": 0
           },
           {
            "bin_start": 8722.1,
            "bin_end": 9940.4,
            "count": 0
           },
           {
            "bin_start": 9940.4,
            "bin_end": 11158.699999999999,
            "count": 1
           },
           {
            "bin_start": 11158.699999999999,
            "bin_end": 12377,
            "count": 1
           }
          ]
         }
        },
        {
         "name": "Agosto",
         "dtype": "float64",
         "stats": {
          "unique_count": 10,
          "nan_count": 0,
          "min": "162.0",
          "max": "12084.0",
          "histogram": [
           {
            "bin_start": 162,
            "bin_end": 1354.2,
            "count": 7
           },
           {
            "bin_start": 1354.2,
            "bin_end": 2546.4,
            "count": 1
           },
           {
            "bin_start": 2546.4,
            "bin_end": 3738.6000000000004,
            "count": 0
           },
           {
            "bin_start": 3738.6000000000004,
            "bin_end": 4930.8,
            "count": 0
           },
           {
            "bin_start": 4930.8,
            "bin_end": 6123,
            "count": 0
           },
           {
            "bin_start": 6123,
            "bin_end": 7315.200000000001,
            "count": 0
           },
           {
            "bin_start": 7315.200000000001,
            "bin_end": 8507.4,
            "count": 0
           },
           {
            "bin_start": 8507.4,
            "bin_end": 9699.6,
            "count": 0
           },
           {
            "bin_start": 9699.6,
            "bin_end": 10891.800000000001,
            "count": 0
           },
           {
            "bin_start": 10891.800000000001,
            "bin_end": 12084,
            "count": 2
           }
          ]
         }
        },
        {
         "name": "Septiembre",
         "dtype": "float64",
         "stats": {
          "unique_count": 10,
          "nan_count": 0,
          "min": "232.0",
          "max": "11965.0",
          "histogram": [
           {
            "bin_start": 232,
            "bin_end": 1405.3,
            "count": 7
           },
           {
            "bin_start": 1405.3,
            "bin_end": 2578.6,
            "count": 1
           },
           {
            "bin_start": 2578.6,
            "bin_end": 3751.8999999999996,
            "count": 0
           },
           {
            "bin_start": 3751.8999999999996,
            "bin_end": 4925.2,
            "count": 0
           },
           {
            "bin_start": 4925.2,
            "bin_end": 6098.5,
            "count": 0
           },
           {
            "bin_start": 6098.5,
            "bin_end": 7271.799999999999,
            "count": 0
           },
           {
            "bin_start": 7271.799999999999,
            "bin_end": 8445.1,
            "count": 0
           },
           {
            "bin_start": 8445.1,
            "bin_end": 9618.4,
            "count": 0
           },
           {
            "bin_start": 9618.4,
            "bin_end": 10791.699999999999,
            "count": 0
           },
           {
            "bin_start": 10791.699999999999,
            "bin_end": 11965,
            "count": 2
           }
          ]
         }
        },
        {
         "name": "Octubre",
         "dtype": "float64",
         "stats": {
          "unique_count": 10,
          "nan_count": 0,
          "min": "244.0",
          "max": "11751.0",
          "histogram": [
           {
            "bin_start": 244,
            "bin_end": 1394.7,
            "count": 7
           },
           {
            "bin_start": 1394.7,
            "bin_end": 2545.4,
            "count": 1
           },
           {
            "bin_start": 2545.4,
            "bin_end": 3696.1000000000004,
            "count": 0
           },
           {
            "bin_start": 3696.1000000000004,
            "bin_end": 4846.8,
            "count": 0
           },
           {
            "bin_start": 4846.8,
            "bin_end": 5997.5,
            "count": 0
           },
           {
            "bin_start": 5997.5,
            "bin_end": 7148.200000000001,
            "count": 0
           },
           {
            "bin_start": 7148.200000000001,
            "bin_end": 8298.900000000001,
            "count": 0
           },
           {
            "bin_start": 8298.900000000001,
            "bin_end": 9449.6,
            "count": 0
           },
           {
            "bin_start": 9449.6,
            "bin_end": 10600.300000000001,
            "count": 1
           },
           {
            "bin_start": 10600.300000000001,
            "bin_end": 11751,
            "count": 1
           }
          ]
         }
        },
        {
         "name": "Noviembre",
         "dtype": "float64",
         "stats": {
          "unique_count": 10,
          "nan_count": 0,
          "min": "38.0",
          "max": "11932.0",
          "histogram": [
           {
            "bin_start": 38,
            "bin_end": 1227.4,
            "count": 7
           },
           {
            "bin_start": 1227.4,
            "bin_end": 2416.8,
            "count": 1
           },
           {
            "bin_start": 2416.8,
            "bin_end": 3606.2000000000003,
            "count": 0
           },
           {
            "bin_start": 3606.2000000000003,
            "bin_end": 4795.6,
            "count": 0
           },
           {
            "bin_start": 4795.6,
            "bin_end": 5985,
            "count": 0
           },
           {
            "bin_start": 5985,
            "bin_end": 7174.400000000001,
            "count": 0
           },
           {
            "bin_start": 7174.400000000001,
            "bin_end": 8363.800000000001,
            "count": 0
           },
           {
            "bin_start": 8363.800000000001,
            "bin_end": 9553.2,
            "count": 1
           },
           {
            "bin_start": 9553.2,
            "bin_end": 10742.6,
            "count": 0
           },
           {
            "bin_start": 10742.6,
            "bin_end": 11932,
            "count": 1
           }
          ]
         }
        },
        {
         "name": "Diciembre",
         "dtype": "float64",
         "stats": {
          "unique_count": 10,
          "nan_count": 0,
          "min": "209.0",
          "max": "11634.0",
          "histogram": [
           {
            "bin_start": 209,
            "bin_end": 1351.5,
            "count": 7
           },
           {
            "bin_start": 1351.5,
            "bin_end": 2494,
            "count": 1
           },
           {
            "bin_start": 2494,
            "bin_end": 3636.5,
            "count": 0
           },
           {
            "bin_start": 3636.5,
            "bin_end": 4779,
            "count": 0
           },
           {
            "bin_start": 4779,
            "bin_end": 5921.5,
            "count": 0
           },
           {
            "bin_start": 5921.5,
            "bin_end": 7064,
            "count": 0
           },
           {
            "bin_start": 7064,
            "bin_end": 8206.5,
            "count": 0
           },
           {
            "bin_start": 8206.5,
            "bin_end": 9349,
            "count": 1
           },
           {
            "bin_start": 9349,
            "bin_end": 10491.5,
            "count": 0
           },
           {
            "bin_start": 10491.5,
            "bin_end": 11634,
            "count": 1
           }
          ]
         }
        },
        {
         "name": "Año",
         "dtype": "int64",
         "stats": {
          "unique_count": 1,
          "nan_count": 0,
          "min": "2017",
          "max": "2017",
          "histogram": [
           {
            "bin_start": 2016.5,
            "bin_end": 2016.6,
            "count": 0
           },
           {
            "bin_start": 2016.6,
            "bin_end": 2016.7,
            "count": 0
           },
           {
            "bin_start": 2016.7,
            "bin_end": 2016.8,
            "count": 0
           },
           {
            "bin_start": 2016.8,
            "bin_end": 2016.9,
            "count": 0
           },
           {
            "bin_start": 2016.9,
            "bin_end": 2017,
            "count": 0
           },
           {
            "bin_start": 2017,
            "bin_end": 2017.1,
            "count": 10
           },
           {
            "bin_start": 2017.1,
            "bin_end": 2017.2,
            "count": 0
           },
           {
            "bin_start": 2017.2,
            "bin_end": 2017.3,
            "count": 0
           },
           {
            "bin_start": 2017.3,
            "bin_end": 2017.4,
            "count": 0
           },
           {
            "bin_start": 2017.4,
            "bin_end": 2017.5,
            "count": 0
           }
          ]
         }
        },
        {
         "name": "_deepnote_index_column",
         "dtype": "int64"
        }
       ],
       "rows": [
        {
         "Departamento": "ANTIOQUIA",
         "Municipio": "PUERTO NARE",
         "Latitud": 6.126539139,
         "Longitud": -74.70317722,
         "Geolocalizacion": "POINT (-74.70317722 6.126539139)",
         "Operadora": "ECOPETROL S.A.",
         "Contrato": "OPERACION-DIRECTA ECOPETROL",
         "Campo": "AREA TECA-COCORNA",
         "Enero": 1231,
         "Febrero": 1109,
         "Marzo": 1026,
         "Abril": 1036,
         "Mayo": 1047,
         "Junio": 1122,
         "Julio": 1133,
         "Agosto": 1164,
         "Septiembre": 1130,
         "Octubre": 1078,
         "Noviembre": 1156,
         "Diciembre": 1099,
         "Año": 2017,
         "_deepnote_index_column": 0
        },
        {
         "Departamento": "ANTIOQUIA",
         "Municipio": "PUERTO NARE",
         "Latitud": 6.126539139,
         "Longitud": -74.70317722,
         "Geolocalizacion": "POINT (-74.70317722 6.126539139)",
         "Operadora": "MANSAROVAR ENERGY COLOMBIA LTD",
         "Contrato": "NARE ASOCIACION",
         "Campo": "NARE",
         "Enero": 272,
         "Febrero": 257,
         "Marzo": 253,
         "Abril": 233,
         "Mayo": 262,
         "Junio": 216,
         "Julio": 194,
         "Agosto": 162,
         "Septiembre": 232,
         "Octubre": 244,
         "Noviembre": 222,
         "Diciembre": 209,
         "Año": 2017,
         "_deepnote_index_column": 1
        },
        {
         "Departamento": "ANTIOQUIA",
         "Municipio": "PUERTO NARE",
         "Latitud": 6.126539139,
         "Longitud": -74.70317722,
         "Geolocalizacion": "POINT (-74.70317722 6.126539139)",
         "Operadora": "MANSAROVAR ENERGY COLOMBIA LTD",
         "Contrato": "NARE ASOCIACION",
         "Campo": "UNDERRIVER",
         "Enero": 936,
         "Febrero": 797,
         "Marzo": 880,
         "Abril": 900,
         "Mayo": 994,
         "Junio": 802,
         "Julio": 765,
         "Agosto": 815,
         "Septiembre": 888,
         "Octubre": 846,
         "Noviembre": 720,
         "Diciembre": 833,
         "Año": 2017,
         "_deepnote_index_column": 2
        },
        {
         "Departamento": "ANTIOQUIA",
         "Municipio": "PUERTO TRIUNFO",
         "Latitud": 5.954830151,
         "Longitud": -74.6861918,
         "Geolocalizacion": "POINT (-74.6861918 5.954830151)",
         "Operadora": "ECOPETROL S.A.",
         "Contrato": "OPERACION-DIRECTA ECOPETROL",
         "Campo": "AREA TECA-COCORNA",
         "Enero": 393,
         "Febrero": 386,
         "Marzo": 362,
         "Abril": 365,
         "Mayo": 396,
         "Junio": 382,
         "Julio": 369,
         "Agosto": 342,
         "Septiembre": 280,
         "Octubre": 264,
         "Noviembre": 282,
         "Diciembre": 278,
         "Año": 2017,
         "_deepnote_index_column": 3
        },
        {
         "Departamento": "ANTIOQUIA",
         "Municipio": "YONDO",
         "Latitud": 6.925159318,
         "Longitud": -74.15824041,
         "Geolocalizacion": "POINT (-74.15824041 6.925159318)",
         "Operadora": "ECOPETROL S.A.",
         "Contrato": "CASABE",
         "Campo": "CASABE",
         "Enero": 12745,
         "Febrero": 12535,
         "Marzo": 12756,
         "Abril": 12720,
         "Mayo": 12492,
         "Junio": 13127,
         "Julio": 12377,
         "Agosto": 12084,
         "Septiembre": 11965,
         "Octubre": 11751,
         "Noviembre": 11932,
         "Diciembre": 11634,
         "Año": 2017,
         "_deepnote_index_column": 4
        },
        {
         "Departamento": "ANTIOQUIA",
         "Municipio": "YONDO",
         "Latitud": 6.925159318,
         "Longitud": -74.15824041,
         "Geolocalizacion": "POINT (-74.15824041 6.925159318)",
         "Operadora": "ECOPETROL S.A.",
         "Contrato": "CASABE",
         "Campo": "CASABE SUR",
         "Enero": 2301,
         "Febrero": 2487,
         "Marzo": 2393,
         "Abril": 2268,
         "Mayo": 2187,
         "Junio": 2277,
         "Julio": 2323,
         "Agosto": 2274,
         "Septiembre": 2125,
         "Octubre": 2254,
         "Noviembre": 2194,
         "Diciembre": 2123,
         "Año": 2017,
         "_deepnote_index_column": 5
        },
        {
         "Departamento": "ANTIOQUIA",
         "Municipio": "YONDO",
         "Latitud": 6.925159318,
         "Longitud": -74.15824041,
         "Geolocalizacion": "POINT (-74.15824041 6.925159318)",
         "Operadora": "ECOPETROL S.A.",
         "Contrato": "CASABE",
         "Campo": "PE�AS BLANCAS",
         "Enero": 1437,
         "Febrero": 1532,
         "Marzo": 1420,
         "Abril": 1399,
         "Mayo": 1391,
         "Junio": 1193,
         "Julio": 1193,
         "Agosto": 1182,
         "Septiembre": 1190,
         "Octubre": 1204,
         "Noviembre": 1200,
         "Diciembre": 1118,
         "Año": 2017,
         "_deepnote_index_column": 6
        },
        {
         "Departamento": "ARAUCA",
         "Municipio": "ARAUCA",
         "Latitud": 5.826388779,
         "Longitud": -74.83637623,
         "Geolocalizacion": "POINT (-74.83637623 5.826388779)",
         "Operadora": "OCCIDENTAL DE COLOMBIA LLC",
         "Contrato": "CHIPIRON",
         "Campo": "CHIPIRON",
         "Enero": 11376,
         "Febrero": 13009,
         "Marzo": 3673,
         "Abril": 12833,
         "Mayo": 11878,
         "Junio": 11159,
         "Julio": 10682,
         "Agosto": 11371,
         "Septiembre": 11045,
         "Octubre": 10036,
         "Noviembre": 9120,
         "Diciembre": 8406,
         "Año": 2017,
         "_deepnote_index_column": 7
        },
        {
         "Departamento": "ARAUCA",
         "Municipio": "ARAUCA",
         "Latitud": 6.796280825,
         "Longitud": -70.50921153,
         "Geolocalizacion": "POINT (-70.50921153 6.796280825)",
         "Operadora": "OCCIDENTAL DE COLOMBIA LLC",
         "Contrato": "CHIPIRON",
         "Campo": "GALEMBO",
         "Enero": 5,
         "Febrero": 0,
         "Marzo": 54,
         "Abril": 400,
         "Mayo": 297,
         "Junio": 234,
         "Julio": 215,
         "Agosto": 233,
         "Septiembre": 262,
         "Octubre": 253,
         "Noviembre": 38,
         "Diciembre": 226,
         "Año": 2017,
         "_deepnote_index_column": 8
        },
        {
         "Departamento": "ARAUCA",
         "Municipio": "ARAUCA",
         "Latitud": 6.796280825,
         "Longitud": -70.50921153,
         "Geolocalizacion": "POINT (-70.50921153 6.796280825)",
         "Operadora": "OCCIDENTAL DE COLOMBIA LLC",
         "Contrato": "CHIPIRON",
         "Campo": "MACANA",
         "Enero": 111,
         "Febrero": 524,
         "Marzo": 209,
         "Abril": 440,
         "Mayo": 505,
         "Junio": 519,
         "Julio": 422,
         "Agosto": 455,
         "Septiembre": 397,
         "Octubre": 350,
         "Noviembre": 454,
         "Diciembre": 407,
         "Año": 2017,
         "_deepnote_index_column": 9
        }
       ]
      },
      "text/plain": "  Departamento       Municipio   Latitud   Longitud  \\\n0    ANTIOQUIA     PUERTO NARE  6.126539 -74.703177   \n1    ANTIOQUIA     PUERTO NARE  6.126539 -74.703177   \n2    ANTIOQUIA     PUERTO NARE  6.126539 -74.703177   \n3    ANTIOQUIA  PUERTO TRIUNFO  5.954830 -74.686192   \n4    ANTIOQUIA           YONDO  6.925159 -74.158240   \n5    ANTIOQUIA           YONDO  6.925159 -74.158240   \n6    ANTIOQUIA           YONDO  6.925159 -74.158240   \n7       ARAUCA          ARAUCA  5.826389 -74.836376   \n8       ARAUCA          ARAUCA  6.796281 -70.509212   \n9       ARAUCA          ARAUCA  6.796281 -70.509212   \n\n                    Geolocalizacion                       Operadora  \\\n0  POINT (-74.70317722 6.126539139)                  ECOPETROL S.A.   \n1  POINT (-74.70317722 6.126539139)  MANSAROVAR ENERGY COLOMBIA LTD   \n2  POINT (-74.70317722 6.126539139)  MANSAROVAR ENERGY COLOMBIA LTD   \n3   POINT (-74.6861918 5.954830151)                  ECOPETROL S.A.   \n4  POINT (-74.15824041 6.925159318)                  ECOPETROL S.A.   \n5  POINT (-74.15824041 6.925159318)                  ECOPETROL S.A.   \n6  POINT (-74.15824041 6.925159318)                  ECOPETROL S.A.   \n7  POINT (-74.83637623 5.826388779)      OCCIDENTAL DE COLOMBIA LLC   \n8  POINT (-70.50921153 6.796280825)      OCCIDENTAL DE COLOMBIA LLC   \n9  POINT (-70.50921153 6.796280825)      OCCIDENTAL DE COLOMBIA LLC   \n\n                      Contrato              Campo    Enero  Febrero  ...  \\\n0  OPERACION-DIRECTA ECOPETROL  AREA TECA-COCORNA   1231.0   1109.0  ...   \n1              NARE ASOCIACION               NARE    272.0    257.0  ...   \n2              NARE ASOCIACION         UNDERRIVER    936.0    797.0  ...   \n3  OPERACION-DIRECTA ECOPETROL  AREA TECA-COCORNA    393.0    386.0  ...   \n4                       CASABE             CASABE  12745.0  12535.0  ...   \n5                       CASABE         CASABE SUR   2301.0   2487.0  ...   \n6                       CASABE      PE�AS BLANCAS   1437.0   1532.0  ...   \n7                     CHIPIRON           CHIPIRON  11376.0  13009.0  ...   \n8                     CHIPIRON            GALEMBO      5.0      0.0  ...   \n9                     CHIPIRON             MACANA    111.0    524.0  ...   \n\n     Abril     Mayo    Junio    Julio   Agosto  Septiembre  Octubre  \\\n0   1036.0   1047.0   1122.0   1133.0   1164.0      1130.0   1078.0   \n1    233.0    262.0    216.0    194.0    162.0       232.0    244.0   \n2    900.0    994.0    802.0    765.0    815.0       888.0    846.0   \n3    365.0    396.0    382.0    369.0    342.0       280.0    264.0   \n4  12720.0  12492.0  13127.0  12377.0  12084.0     11965.0  11751.0   \n5   2268.0   2187.0   2277.0   2323.0   2274.0      2125.0   2254.0   \n6   1399.0   1391.0   1193.0   1193.0   1182.0      1190.0   1204.0   \n7  12833.0  11878.0  11159.0  10682.0  11371.0     11045.0  10036.0   \n8    400.0    297.0    234.0    215.0    233.0       262.0    253.0   \n9    440.0    505.0    519.0    422.0    455.0       397.0    350.0   \n\n   Noviembre  Diciembre   Año  \n0     1156.0     1099.0  2017  \n1      222.0      209.0  2017  \n2      720.0      833.0  2017  \n3      282.0      278.0  2017  \n4    11932.0    11634.0  2017  \n5     2194.0     2123.0  2017  \n6     1200.0     1118.0  2017  \n7     9120.0     8406.0  2017  \n8       38.0      226.0  2017  \n9      454.0      407.0  2017  \n\n[10 rows x 21 columns]",
      "text/html": "<div>\n<style scoped>\n    .dataframe tbody tr th:only-of-type {\n        vertical-align: middle;\n    }\n\n    .dataframe tbody tr th {\n        vertical-align: top;\n    }\n\n    .dataframe thead th {\n        text-align: right;\n    }\n</style>\n<table border=\"1\" class=\"dataframe\">\n  <thead>\n    <tr style=\"text-align: right;\">\n      <th></th>\n      <th>Departamento</th>\n      <th>Municipio</th>\n      <th>Latitud</th>\n      <th>Longitud</th>\n      <th>Geolocalizacion</th>\n      <th>Operadora</th>\n      <th>Contrato</th>\n      <th>Campo</th>\n      <th>Enero</th>\n      <th>Febrero</th>\n      <th>...</th>\n      <th>Abril</th>\n      <th>Mayo</th>\n      <th>Junio</th>\n      <th>Julio</th>\n      <th>Agosto</th>\n      <th>Septiembre</th>\n      <th>Octubre</th>\n      <th>Noviembre</th>\n      <th>Diciembre</th>\n      <th>Año</th>\n    </tr>\n  </thead>\n  <tbody>\n    <tr>\n      <th>0</th>\n      <td>ANTIOQUIA</td>\n      <td>PUERTO NARE</td>\n      <td>6.126539</td>\n      <td>-74.703177</td>\n      <td>POINT (-74.70317722 6.126539139)</td>\n      <td>ECOPETROL S.A.</td>\n      <td>OPERACION-DIRECTA ECOPETROL</td>\n      <td>AREA TECA-COCORNA</td>\n      <td>1231.0</td>\n      <td>1109.0</td>\n      <td>...</td>\n      <td>1036.0</td>\n      <td>1047.0</td>\n      <td>1122.0</td>\n      <td>1133.0</td>\n      <td>1164.0</td>\n      <td>1130.0</td>\n      <td>1078.0</td>\n      <td>1156.0</td>\n      <td>1099.0</td>\n      <td>2017</td>\n    </tr>\n    <tr>\n      <th>1</th>\n      <td>ANTIOQUIA</td>\n      <td>PUERTO NARE</td>\n      <td>6.126539</td>\n      <td>-74.703177</td>\n      <td>POINT (-74.70317722 6.126539139)</td>\n      <td>MANSAROVAR ENERGY COLOMBIA LTD</td>\n      <td>NARE ASOCIACION</td>\n      <td>NARE</td>\n      <td>272.0</td>\n      <td>257.0</td>\n      <td>...</td>\n      <td>233.0</td>\n      <td>262.0</td>\n      <td>216.0</td>\n      <td>194.0</td>\n      <td>162.0</td>\n      <td>232.0</td>\n      <td>244.0</td>\n      <td>222.0</td>\n      <td>209.0</td>\n      <td>2017</td>\n    </tr>\n    <tr>\n      <th>2</th>\n      <td>ANTIOQUIA</td>\n      <td>PUERTO NARE</td>\n      <td>6.126539</td>\n      <td>-74.703177</td>\n      <td>POINT (-74.70317722 6.126539139)</td>\n      <td>MANSAROVAR ENERGY COLOMBIA LTD</td>\n      <td>NARE ASOCIACION</td>\n      <td>UNDERRIVER</td>\n      <td>936.0</td>\n      <td>797.0</td>\n      <td>...</td>\n      <td>900.0</td>\n      <td>994.0</td>\n      <td>802.0</td>\n      <td>765.0</td>\n      <td>815.0</td>\n      <td>888.0</td>\n      <td>846.0</td>\n      <td>720.0</td>\n      <td>833.0</td>\n      <td>2017</td>\n    </tr>\n    <tr>\n      <th>3</th>\n      <td>ANTIOQUIA</td>\n      <td>PUERTO TRIUNFO</td>\n      <td>5.954830</td>\n      <td>-74.686192</td>\n      <td>POINT (-74.6861918 5.954830151)</td>\n      <td>ECOPETROL S.A.</td>\n      <td>OPERACION-DIRECTA ECOPETROL</td>\n      <td>AREA TECA-COCORNA</td>\n      <td>393.0</td>\n      <td>386.0</td>\n      <td>...</td>\n      <td>365.0</td>\n      <td>396.0</td>\n      <td>382.0</td>\n      <td>369.0</td>\n      <td>342.0</td>\n      <td>280.0</td>\n      <td>264.0</td>\n      <td>282.0</td>\n      <td>278.0</td>\n      <td>2017</td>\n    </tr>\n    <tr>\n      <th>4</th>\n      <td>ANTIOQUIA</td>\n      <td>YONDO</td>\n      <td>6.925159</td>\n      <td>-74.158240</td>\n      <td>POINT (-74.15824041 6.925159318)</td>\n      <td>ECOPETROL S.A.</td>\n      <td>CASABE</td>\n      <td>CASABE</td>\n      <td>12745.0</td>\n      <td>12535.0</td>\n      <td>...</td>\n      <td>12720.0</td>\n      <td>12492.0</td>\n      <td>13127.0</td>\n      <td>12377.0</td>\n      <td>12084.0</td>\n      <td>11965.0</td>\n      <td>11751.0</td>\n      <td>11932.0</td>\n      <td>11634.0</td>\n      <td>2017</td>\n    </tr>\n    <tr>\n      <th>5</th>\n      <td>ANTIOQUIA</td>\n      <td>YONDO</td>\n      <td>6.925159</td>\n      <td>-74.158240</td>\n      <td>POINT (-74.15824041 6.925159318)</td>\n      <td>ECOPETROL S.A.</td>\n      <td>CASABE</td>\n      <td>CASABE SUR</td>\n      <td>2301.0</td>\n      <td>2487.0</td>\n      <td>...</td>\n      <td>2268.0</td>\n      <td>2187.0</td>\n      <td>2277.0</td>\n      <td>2323.0</td>\n      <td>2274.0</td>\n      <td>2125.0</td>\n      <td>2254.0</td>\n      <td>2194.0</td>\n      <td>2123.0</td>\n      <td>2017</td>\n    </tr>\n    <tr>\n      <th>6</th>\n      <td>ANTIOQUIA</td>\n      <td>YONDO</td>\n      <td>6.925159</td>\n      <td>-74.158240</td>\n      <td>POINT (-74.15824041 6.925159318)</td>\n      <td>ECOPETROL S.A.</td>\n      <td>CASABE</td>\n      <td>PE�AS BLANCAS</td>\n      <td>1437.0</td>\n      <td>1532.0</td>\n      <td>...</td>\n      <td>1399.0</td>\n      <td>1391.0</td>\n      <td>1193.0</td>\n      <td>1193.0</td>\n      <td>1182.0</td>\n      <td>1190.0</td>\n      <td>1204.0</td>\n      <td>1200.0</td>\n      <td>1118.0</td>\n      <td>2017</td>\n    </tr>\n    <tr>\n      <th>7</th>\n      <td>ARAUCA</td>\n      <td>ARAUCA</td>\n      <td>5.826389</td>\n      <td>-74.836376</td>\n      <td>POINT (-74.83637623 5.826388779)</td>\n      <td>OCCIDENTAL DE COLOMBIA LLC</td>\n      <td>CHIPIRON</td>\n      <td>CHIPIRON</td>\n      <td>11376.0</td>\n      <td>13009.0</td>\n      <td>...</td>\n      <td>12833.0</td>\n      <td>11878.0</td>\n      <td>11159.0</td>\n      <td>10682.0</td>\n      <td>11371.0</td>\n      <td>11045.0</td>\n      <td>10036.0</td>\n      <td>9120.0</td>\n      <td>8406.0</td>\n      <td>2017</td>\n    </tr>\n    <tr>\n      <th>8</th>\n      <td>ARAUCA</td>\n      <td>ARAUCA</td>\n      <td>6.796281</td>\n      <td>-70.509212</td>\n      <td>POINT (-70.50921153 6.796280825)</td>\n      <td>OCCIDENTAL DE COLOMBIA LLC</td>\n      <td>CHIPIRON</td>\n      <td>GALEMBO</td>\n      <td>5.0</td>\n      <td>0.0</td>\n      <td>...</td>\n      <td>400.0</td>\n      <td>297.0</td>\n      <td>234.0</td>\n      <td>215.0</td>\n      <td>233.0</td>\n      <td>262.0</td>\n      <td>253.0</td>\n      <td>38.0</td>\n      <td>226.0</td>\n      <td>2017</td>\n    </tr>\n    <tr>\n      <th>9</th>\n      <td>ARAUCA</td>\n      <td>ARAUCA</td>\n      <td>6.796281</td>\n      <td>-70.509212</td>\n      <td>POINT (-70.50921153 6.796280825)</td>\n      <td>OCCIDENTAL DE COLOMBIA LLC</td>\n      <td>CHIPIRON</td>\n      <td>MACANA</td>\n      <td>111.0</td>\n      <td>524.0</td>\n      <td>...</td>\n      <td>440.0</td>\n      <td>505.0</td>\n      <td>519.0</td>\n      <td>422.0</td>\n      <td>455.0</td>\n      <td>397.0</td>\n      <td>350.0</td>\n      <td>454.0</td>\n      <td>407.0</td>\n      <td>2017</td>\n    </tr>\n  </tbody>\n</table>\n<p>10 rows × 21 columns</p>\n</div>"
     },
     "metadata": {}
    }
   ]
  },
  {
   "cell_type": "markdown",
   "source": "# Visión general del dataset",
   "metadata": {
    "formattedRanges": [],
    "is_collapsed": false,
    "cell_id": "e09b2bafc28f47cc8e0a52a449485d1c",
    "tags": [],
    "deepnote_app_coordinates": {
     "x": 0,
     "y": 25,
     "w": 12,
     "h": 5
    },
    "deepnote_cell_type": "text-cell-h1"
   }
  },
  {
   "cell_type": "markdown",
   "source": "El dataset esta compuesto por 21 columnas y 2226 filas. Que contienen la información de la producción de petróleo en Colombia desde el año 2017 hasta agosto del 2021, la cantidad de petróleo producido esta dividido por meses, campo petrolero, empresa, municipio y departamento de producción.",
   "metadata": {
    "formattedRanges": [],
    "is_collapsed": false,
    "cell_id": "a1ee16145e134f1e8ffc6f5c3e92d18f",
    "tags": [],
    "deepnote_app_coordinates": {
     "x": 0,
     "y": 31,
     "w": 8,
     "h": 2
    },
    "deepnote_cell_type": "text-cell-p"
   }
  },
  {
   "cell_type": "code",
   "metadata": {
    "cell_id": "39a175aacac74aa7abafbfb26f4ae8c0",
    "tags": [],
    "deepnote_to_be_reexecuted": false,
    "source_hash": "24f7579a",
    "execution_start": 1660676386818,
    "execution_millis": 25,
    "deepnote_app_coordinates": {
     "x": 0,
     "y": 34,
     "w": 12,
     "h": 5
    },
    "deepnote_cell_type": "code",
    "deepnote_cell_height": 188.9375
   },
   "source": "df_produccion_petroleo.columns",
   "execution_count": null,
   "outputs": [
    {
     "output_type": "execute_result",
     "execution_count": 4,
     "data": {
      "text/plain": "Index(['Departamento', 'Municipio', 'Latitud', 'Longitud', 'Geolocalizacion',\n       'Operadora', 'Contrato', 'Campo', 'Enero', 'Febrero', 'Marzo', 'Abril',\n       'Mayo', 'Junio', 'Julio', 'Agosto', 'Septiembre', 'Octubre',\n       'Noviembre', 'Diciembre', 'Año'],\n      dtype='object')"
     },
     "metadata": {}
    }
   ]
  },
  {
   "cell_type": "code",
   "metadata": {
    "cell_id": "24636f095cec4328a2173e28bf6fc512",
    "tags": [],
    "deepnote_to_be_reexecuted": false,
    "source_hash": "f8fe837",
    "execution_start": 1660676386859,
    "execution_millis": 132,
    "deepnote_app_coordinates": {
     "x": 0,
     "y": 40,
     "w": 12,
     "h": 5
    },
    "deepnote_cell_type": "code",
    "deepnote_cell_height": 530
   },
   "source": "df_produccion_petroleo.describe()",
   "execution_count": null,
   "outputs": [
    {
     "output_type": "execute_result",
     "execution_count": 5,
     "data": {
      "application/vnd.deepnote.dataframe.v3+json": {
       "column_count": 15,
       "row_count": 8,
       "columns": [
        {
         "name": "Latitud",
         "dtype": "float64",
         "stats": {
          "unique_count": 8,
          "nan_count": 0,
          "min": "0.272449048",
          "max": "2226.0",
          "histogram": [
           {
            "bin_start": 0.272449048,
            "bin_end": 222.8452041432,
            "count": 7
           },
           {
            "bin_start": 222.8452041432,
            "bin_end": 445.4179592384,
            "count": 0
           },
           {
            "bin_start": 445.4179592384,
            "bin_end": 667.9907143336,
            "count": 0
           },
           {
            "bin_start": 667.9907143336,
            "bin_end": 890.5634694288,
            "count": 0
           },
           {
            "bin_start": 890.5634694288,
            "bin_end": 1113.136224524,
            "count": 0
           },
           {
            "bin_start": 1113.136224524,
            "bin_end": 1335.7089796192,
            "count": 0
           },
           {
            "bin_start": 1335.7089796192,
            "bin_end": 1558.2817347144,
            "count": 0
           },
           {
            "bin_start": 1558.2817347144,
            "bin_end": 1780.8544898096,
            "count": 0
           },
           {
            "bin_start": 1780.8544898096,
            "bin_end": 2003.4272449047999,
            "count": 0
           },
           {
            "bin_start": 2003.4272449047999,
            "bin_end": 2226,
            "count": 1
           }
          ]
         }
        },
        {
         "name": "Longitud",
         "dtype": "float64",
         "stats": {
          "unique_count": 8,
          "nan_count": 0,
          "min": "-77.24047625",
          "max": "2226.0",
          "histogram": [
           {
            "bin_start": -77.24047625,
            "bin_end": 153.083571375,
            "count": 7
           },
           {
            "bin_start": 153.083571375,
            "bin_end": 383.40761899999995,
            "count": 0
           },
           {
            "bin_start": 383.40761899999995,
            "bin_end": 613.7316666249999,
            "count": 0
           },
           {
            "bin_start": 613.7316666249999,
            "bin_end": 844.0557142499999,
            "count": 0
           },
           {
            "bin_start": 844.0557142499999,
            "bin_end": 1074.379761875,
            "count": 0
           },
           {
            "bin_start": 1074.379761875,
            "bin_end": 1304.7038094999998,
            "count": 0
           },
           {
            "bin_start": 1304.7038094999998,
            "bin_end": 1535.0278571249999,
            "count": 0
           },
           {
            "bin_start": 1535.0278571249999,
            "bin_end": 1765.35190475,
            "count": 0
           },
           {
            "bin_start": 1765.35190475,
            "bin_end": 1995.6759523749997,
            "count": 0
           },
           {
            "bin_start": 1995.6759523749997,
            "bin_end": 2226,
            "count": 1
           }
          ]
         }
        },
        {
         "name": "Enero",
         "dtype": "float64",
         "stats": {
          "unique_count": 8,
          "nan_count": 0,
          "min": "0.0",
          "max": "122499.45",
          "histogram": [
           {
            "bin_start": 0,
            "bin_end": 12249.945,
            "count": 7
           },
           {
            "bin_start": 12249.945,
            "bin_end": 24499.89,
            "count": 0
           },
           {
            "bin_start": 24499.89,
            "bin_end": 36749.835,
            "count": 0
           },
           {
            "bin_start": 36749.835,
            "bin_end": 48999.78,
            "count": 0
           },
           {
            "bin_start": 48999.78,
            "bin_end": 61249.725,
            "count": 0
           },
           {
            "bin_start": 61249.725,
            "bin_end": 73499.67,
            "count": 0
           },
           {
            "bin_start": 73499.67,
            "bin_end": 85749.61499999999,
            "count": 0
           },
           {
            "bin_start": 85749.61499999999,
            "bin_end": 97999.56,
            "count": 0
           },
           {
            "bin_start": 97999.56,
            "bin_end": 110249.505,
            "count": 0
           },
           {
            "bin_start": 110249.505,
            "bin_end": 122499.45,
            "count": 1
           }
          ]
         }
        },
        {
         "name": "Febrero",
         "dtype": "float64",
         "stats": {
          "unique_count": 8,
          "nan_count": 0,
          "min": "0.0",
          "max": "121803.04",
          "histogram": [
           {
            "bin_start": 0,
            "bin_end": 12180.304,
            "count": 7
           },
           {
            "bin_start": 12180.304,
            "bin_end": 24360.608,
            "count": 0
           },
           {
            "bin_start": 24360.608,
            "bin_end": 36540.912,
            "count": 0
           },
           {
            "bin_start": 36540.912,
            "bin_end": 48721.216,
            "count": 0
           },
           {
            "bin_start": 48721.216,
            "bin_end": 60901.520000000004,
            "count": 0
           },
           {
            "bin_start": 60901.520000000004,
            "bin_end": 73081.824,
            "count": 0
           },
           {
            "bin_start": 73081.824,
            "bin_end": 85262.128,
            "count": 0
           },
           {
            "bin_start": 85262.128,
            "bin_end": 97442.432,
            "count": 0
           },
           {
            "bin_start": 97442.432,
            "bin_end": 109622.736,
            "count": 0
           },
           {
            "bin_start": 109622.736,
            "bin_end": 121803.04,
            "count": 1
           }
          ]
         }
        },
        {
         "name": "Marzo",
         "dtype": "float64",
         "stats": {
          "unique_count": 8,
          "nan_count": 0,
          "min": "0.0",
          "max": "117572.0",
          "histogram": [
           {
            "bin_start": 0,
            "bin_end": 11757.2,
            "count": 7
           },
           {
            "bin_start": 11757.2,
            "bin_end": 23514.4,
            "count": 0
           },
           {
            "bin_start": 23514.4,
            "bin_end": 35271.600000000006,
            "count": 0
           },
           {
            "bin_start": 35271.600000000006,
            "bin_end": 47028.8,
            "count": 0
           },
           {
            "bin_start": 47028.8,
            "bin_end": 58786,
            "count": 0
           },
           {
            "bin_start": 58786,
            "bin_end": 70543.20000000001,
            "count": 0
           },
           {
            "bin_start": 70543.20000000001,
            "bin_end": 82300.40000000001,
            "count": 0
           },
           {
            "bin_start": 82300.40000000001,
            "bin_end": 94057.6,
            "count": 0
           },
           {
            "bin_start": 94057.6,
            "bin_end": 105814.8,
            "count": 0
           },
           {
            "bin_start": 105814.8,
            "bin_end": 117572,
            "count": 1
           }
          ]
         }
        },
        {
         "name": "Abril",
         "dtype": "float64",
         "stats": {
          "unique_count": 8,
          "nan_count": 0,
          "min": "0.0",
          "max": "121200.72",
          "histogram": [
           {
            "bin_start": 0,
            "bin_end": 12120.072,
            "count": 7
           },
           {
            "bin_start": 12120.072,
            "bin_end": 24240.144,
            "count": 0
           },
           {
            "bin_start": 24240.144,
            "bin_end": 36360.216,
            "count": 0
           },
           {
            "bin_start": 36360.216,
            "bin_end": 48480.288,
            "count": 0
           },
           {
            "bin_start": 48480.288,
            "bin_end": 60600.36,
            "count": 0
           },
           {
            "bin_start": 60600.36,
            "bin_end": 72720.432,
            "count": 0
           },
           {
            "bin_start": 72720.432,
            "bin_end": 84840.504,
            "count": 0
           },
           {
            "bin_start": 84840.504,
            "bin_end": 96960.576,
            "count": 0
           },
           {
            "bin_start": 96960.576,
            "bin_end": 109080.648,
            "count": 0
           },
           {
            "bin_start": 109080.648,
            "bin_end": 121200.72,
            "count": 1
           }
          ]
         }
        },
        {
         "name": "Mayo",
         "dtype": "float64",
         "stats": {
          "unique_count": 8,
          "nan_count": 0,
          "min": "0.0",
          "max": "120572.42",
          "histogram": [
           {
            "bin_start": 0,
            "bin_end": 12057.242,
            "count": 7
           },
           {
            "bin_start": 12057.242,
            "bin_end": 24114.484,
            "count": 0
           },
           {
            "bin_start": 24114.484,
            "bin_end": 36171.726,
            "count": 0
           },
           {
            "bin_start": 36171.726,
            "bin_end": 48228.968,
            "count": 0
           },
           {
            "bin_start": 48228.968,
            "bin_end": 60286.21,
            "count": 0
           },
           {
            "bin_start": 60286.21,
            "bin_end": 72343.452,
            "count": 0
           },
           {
            "bin_start": 72343.452,
            "bin_end": 84400.694,
            "count": 0
           },
           {
            "bin_start": 84400.694,
            "bin_end": 96457.936,
            "count": 0
           },
           {
            "bin_start": 96457.936,
            "bin_end": 108515.178,
            "count": 0
           },
           {
            "bin_start": 108515.178,
            "bin_end": 120572.42,
            "count": 1
           }
          ]
         }
        },
        {
         "name": "Junio",
         "dtype": "float64",
         "stats": {
          "unique_count": 8,
          "nan_count": 0,
          "min": "0.0",
          "max": "121107.0",
          "histogram": [
           {
            "bin_start": 0,
            "bin_end": 12110.7,
            "count": 7
           },
           {
            "bin_start": 12110.7,
            "bin_end": 24221.4,
            "count": 0
           },
           {
            "bin_start": 24221.4,
            "bin_end": 36332.100000000006,
            "count": 0
           },
           {
            "bin_start": 36332.100000000006,
            "bin_end": 48442.8,
            "count": 0
           },
           {
            "bin_start": 48442.8,
            "bin_end": 60553.5,
            "count": 0
           },
           {
            "bin_start": 60553.5,
            "bin_end": 72664.20000000001,
            "count": 0
           },
           {
            "bin_start": 72664.20000000001,
            "bin_end": 84774.90000000001,
            "count": 0
           },
           {
            "bin_start": 84774.90000000001,
            "bin_end": 96885.6,
            "count": 0
           },
           {
            "bin_start": 96885.6,
            "bin_end": 108996.3,
            "count": 0
           },
           {
            "bin_start": 108996.3,
            "bin_end": 121107,
            "count": 1
           }
          ]
         }
        },
        {
         "name": "Julio",
         "dtype": "float64",
         "stats": {
          "unique_count": 8,
          "nan_count": 0,
          "min": "0.0",
          "max": "122102.0",
          "histogram": [
           {
            "bin_start": 0,
            "bin_end": 12210.2,
            "count": 7
           },
           {
            "bin_start": 12210.2,
            "bin_end": 24420.4,
            "count": 0
           },
           {
            "bin_start": 24420.4,
            "bin_end": 36630.600000000006,
            "count": 0
           },
           {
            "bin_start": 36630.600000000006,
            "bin_end": 48840.8,
            "count": 0
           },
           {
            "bin_start": 48840.8,
            "bin_end": 61051,
            "count": 0
           },
           {
            "bin_start": 61051,
            "bin_end": 73261.20000000001,
            "count": 0
           },
           {
            "bin_start": 73261.20000000001,
            "bin_end": 85471.40000000001,
            "count": 0
           },
           {
            "bin_start": 85471.40000000001,
            "bin_end": 97681.6,
            "count": 0
           },
           {
            "bin_start": 97681.6,
            "bin_end": 109891.8,
            "count": 0
           },
           {
            "bin_start": 109891.8,
            "bin_end": 122102,
            "count": 1
           }
          ]
         }
        },
        {
         "name": "Agosto",
         "dtype": "float64",
         "stats": {
          "unique_count": 8,
          "nan_count": 0,
          "min": "0.0",
          "max": "123536.0",
          "histogram": [
           {
            "bin_start": 0,
            "bin_end": 12353.6,
            "count": 7
           },
           {
            "bin_start": 12353.6,
            "bin_end": 24707.2,
            "count": 0
           },
           {
            "bin_start": 24707.2,
            "bin_end": 37060.8,
            "count": 0
           },
           {
            "bin_start": 37060.8,
            "bin_end": 49414.4,
            "count": 0
           },
           {
            "bin_start": 49414.4,
            "bin_end": 61768,
            "count": 0
           },
           {
            "bin_start": 61768,
            "bin_end": 74121.6,
            "count": 0
           },
           {
            "bin_start": 74121.6,
            "bin_end": 86475.2,
            "count": 0
           },
           {
            "bin_start": 86475.2,
            "bin_end": 98828.8,
            "count": 0
           },
           {
            "bin_start": 98828.8,
            "bin_end": 111182.40000000001,
            "count": 0
           },
           {
            "bin_start": 111182.40000000001,
            "bin_end": 123536,
            "count": 1
           }
          ]
         }
        },
        {
         "name": "Septiembre",
         "dtype": "float64",
         "stats": {
          "unique_count": 7,
          "nan_count": 0,
          "min": "0.0",
          "max": "121785.0",
          "histogram": [
           {
            "bin_start": 0,
            "bin_end": 12178.5,
            "count": 7
           },
           {
            "bin_start": 12178.5,
            "bin_end": 24357,
            "count": 0
           },
           {
            "bin_start": 24357,
            "bin_end": 36535.5,
            "count": 0
           },
           {
            "bin_start": 36535.5,
            "bin_end": 48714,
            "count": 0
           },
           {
            "bin_start": 48714,
            "bin_end": 60892.5,
            "count": 0
           },
           {
            "bin_start": 60892.5,
            "bin_end": 73071,
            "count": 0
           },
           {
            "bin_start": 73071,
            "bin_end": 85249.5,
            "count": 0
           },
           {
            "bin_start": 85249.5,
            "bin_end": 97428,
            "count": 0
           },
           {
            "bin_start": 97428,
            "bin_end": 109606.5,
            "count": 0
           },
           {
            "bin_start": 109606.5,
            "bin_end": 121785,
            "count": 1
           }
          ]
         }
        },
        {
         "name": "Octubre",
         "dtype": "float64",
         "stats": {
          "unique_count": 7,
          "nan_count": 0,
          "min": "0.0",
          "max": "123125.0",
          "histogram": [
           {
            "bin_start": 0,
            "bin_end": 12312.5,
            "count": 7
           },
           {
            "bin_start": 12312.5,
            "bin_end": 24625,
            "count": 0
           },
           {
            "bin_start": 24625,
            "bin_end": 36937.5,
            "count": 0
           },
           {
            "bin_start": 36937.5,
            "bin_end": 49250,
            "count": 0
           },
           {
            "bin_start": 49250,
            "bin_end": 61562.5,
            "count": 0
           },
           {
            "bin_start": 61562.5,
            "bin_end": 73875,
            "count": 0
           },
           {
            "bin_start": 73875,
            "bin_end": 86187.5,
            "count": 0
           },
           {
            "bin_start": 86187.5,
            "bin_end": 98500,
            "count": 0
           },
           {
            "bin_start": 98500,
            "bin_end": 110812.5,
            "count": 0
           },
           {
            "bin_start": 110812.5,
            "bin_end": 123125,
            "count": 1
           }
          ]
         }
        },
        {
         "name": "Noviembre",
         "dtype": "float64",
         "stats": {
          "unique_count": 7,
          "nan_count": 0,
          "min": "0.0",
          "max": "121541.0",
          "histogram": [
           {
            "bin_start": 0,
            "bin_end": 12154.1,
            "count": 7
           },
           {
            "bin_start": 12154.1,
            "bin_end": 24308.2,
            "count": 0
           },
           {
            "bin_start": 24308.2,
            "bin_end": 36462.3,
            "count": 0
           },
           {
            "bin_start": 36462.3,
            "bin_end": 48616.4,
            "count": 0
           },
           {
            "bin_start": 48616.4,
            "bin_end": 60770.5,
            "count": 0
           },
           {
            "bin_start": 60770.5,
            "bin_end": 72924.6,
            "count": 0
           },
           {
            "bin_start": 72924.6,
            "bin_end": 85078.7,
            "count": 0
           },
           {
            "bin_start": 85078.7,
            "bin_end": 97232.8,
            "count": 0
           },
           {
            "bin_start": 97232.8,
            "bin_end": 109386.90000000001,
            "count": 0
           },
           {
            "bin_start": 109386.90000000001,
            "bin_end": 121541,
            "count": 1
           }
          ]
         }
        },
        {
         "name": "Diciembre",
         "dtype": "float64",
         "stats": {
          "unique_count": 7,
          "nan_count": 0,
          "min": "0.0",
          "max": "122560.0",
          "histogram": [
           {
            "bin_start": 0,
            "bin_end": 12256,
            "count": 7
           },
           {
            "bin_start": 12256,
            "bin_end": 24512,
            "count": 0
           },
           {
            "bin_start": 24512,
            "bin_end": 36768,
            "count": 0
           },
           {
            "bin_start": 36768,
            "bin_end": 49024,
            "count": 0
           },
           {
            "bin_start": 49024,
            "bin_end": 61280,
            "count": 0
           },
           {
            "bin_start": 61280,
            "bin_end": 73536,
            "count": 0
           },
           {
            "bin_start": 73536,
            "bin_end": 85792,
            "count": 0
           },
           {
            "bin_start": 85792,
            "bin_end": 98048,
            "count": 0
           },
           {
            "bin_start": 98048,
            "bin_end": 110304,
            "count": 0
           },
           {
            "bin_start": 110304,
            "bin_end": 122560,
            "count": 1
           }
          ]
         }
        },
        {
         "name": "Año",
         "dtype": "float64",
         "stats": {
          "unique_count": 8,
          "nan_count": 0,
          "min": "1.3939588348403094",
          "max": "2226.0",
          "histogram": [
           {
            "bin_start": 1.3939588348403094,
            "bin_end": 223.8545629513563,
            "count": 1
           },
           {
            "bin_start": 223.8545629513563,
            "bin_end": 446.31516706787227,
            "count": 0
           },
           {
            "bin_start": 446.31516706787227,
            "bin_end": 668.7757711843883,
            "count": 0
           },
           {
            "bin_start": 668.7757711843883,
            "bin_end": 891.2363753009042,
            "count": 0
           },
           {
            "bin_start": 891.2363753009042,
            "bin_end": 1113.6969794174202,
            "count": 0
           },
           {
            "bin_start": 1113.6969794174202,
            "bin_end": 1336.1575835339363,
            "count": 0
           },
           {
            "bin_start": 1336.1575835339363,
            "bin_end": 1558.6181876504522,
            "count": 0
           },
           {
            "bin_start": 1558.6181876504522,
            "bin_end": 1781.0787917669682,
            "count": 0
           },
           {
            "bin_start": 1781.0787917669682,
            "bin_end": 2003.539395883484,
            "count": 0
           },
           {
            "bin_start": 2003.539395883484,
            "bin_end": 2226,
            "count": 7
           }
          ]
         }
        },
        {
         "name": "_deepnote_index_column",
         "dtype": "object"
        }
       ],
       "rows": [
        {
         "Latitud": 2226,
         "Longitud": 2226,
         "Enero": 2226,
         "Febrero": 2226,
         "Marzo": 2226,
         "Abril": 2226,
         "Mayo": 2226,
         "Junio": 2226,
         "Julio": 2226,
         "Agosto": 2226,
         "Septiembre": 2226,
         "Octubre": 2226,
         "Noviembre": 2226,
         "Diciembre": 2226,
         "Año": 2226,
         "_deepnote_index_column": "count"
        },
        {
         "Latitud": 5.040682255831537,
         "Longitud": -73.10976620592093,
         "Enero": 1909.0942991913748,
         "Febrero": 1888.9028481581313,
         "Marzo": 1863.5345956873314,
         "Abril": 1866.9673899371069,
         "Mayo": 1818.8884681042227,
         "Junio": 1813.5640566037735,
         "Julio": 1820.208656783468,
         "Agosto": 1840.855026954178,
         "Septiembre": 1504.7850449236298,
         "Octubre": 1516.9959029649594,
         "Noviembre": 1516.4109613656783,
         "Diciembre": 1528.272565139263,
         "Año": 2018.9191374663073,
         "_deepnote_index_column": "mean"
        },
        {
         "Latitud": 1.9255304568719198,
         "Longitud": 1.6546234572088638,
         "Enero": 7915.523319839097,
         "Febrero": 7788.137688997178,
         "Marzo": 7680.880095584644,
         "Abril": 7696.027069295311,
         "Mayo": 7653.573594038386,
         "Junio": 7628.324480622661,
         "Julio": 7770.710409032114,
         "Agosto": 7793.51072362303,
         "Septiembre": 7131.091343109374,
         "Octubre": 7166.574298312379,
         "Noviembre": 7130.104430788331,
         "Diciembre": 7139.097302733136,
         "Año": 1.3939588348403094,
         "_deepnote_index_column": "std"
        },
        {
         "Latitud": 0.272449048,
         "Longitud": -77.24047625,
         "Enero": 0,
         "Febrero": 0,
         "Marzo": 0,
         "Abril": 0,
         "Mayo": 0,
         "Junio": 0,
         "Julio": 0,
         "Agosto": 0,
         "Septiembre": 0,
         "Octubre": 0,
         "Noviembre": 0,
         "Diciembre": 0,
         "Año": 2017,
         "_deepnote_index_column": "min"
        },
        {
         "Latitud": 4.005034467,
         "Longitud": -74.19746971,
         "Enero": 38,
         "Febrero": 37.8925,
         "Marzo": 39.7225,
         "Abril": 29.73,
         "Mayo": 23.6625,
         "Junio": 26.814999999999998,
         "Julio": 29.6025,
         "Agosto": 30.53,
         "Septiembre": 0,
         "Octubre": 0,
         "Noviembre": 0,
         "Diciembre": 0,
         "Año": 2018,
         "_deepnote_index_column": "25%"
        },
        {
         "Latitud": 4.915139133,
         "Longitud": -72.82314281,
         "Enero": 232.095,
         "Febrero": 226.70999999999998,
         "Marzo": 222.51999999999998,
         "Abril": 215,
         "Mayo": 198.45999999999998,
         "Junio": 204.5,
         "Julio": 205.76999999999998,
         "Agosto": 210.695,
         "Septiembre": 126.735,
         "Octubre": 124.305,
         "Noviembre": 125.48,
         "Diciembre": 127.25999999999999,
         "Año": 2019,
         "_deepnote_index_column": "50%"
        },
        {
         "Latitud": 5.953466654,
         "Longitud": -71.63157429,
         "Enero": 932.3499999999999,
         "Febrero": 925.25,
         "Marzo": 901.3149999999999,
         "Abril": 910.5825,
         "Mayo": 852.1375,
         "Junio": 858.13,
         "Julio": 862.1375,
         "Agosto": 856.65,
         "Septiembre": 595.855,
         "Octubre": 587.985,
         "Noviembre": 589.95,
         "Diciembre": 607.75,
         "Año": 2020,
         "_deepnote_index_column": "75%"
        },
        {
         "Latitud": 10.79894015,
         "Longitud": -70.50921153,
         "Enero": 122499.45,
         "Febrero": 121803.04,
         "Marzo": 117572,
         "Abril": 121200.72,
         "Mayo": 120572.42,
         "Junio": 121107,
         "Julio": 122102,
         "Agosto": 123536,
         "Septiembre": 121785,
         "Octubre": 123125,
         "Noviembre": 121541,
         "Diciembre": 122560,
         "Año": 2021,
         "_deepnote_index_column": "max"
        }
       ]
      },
      "text/plain": "           Latitud     Longitud          Enero        Febrero          Marzo  \\\ncount  2226.000000  2226.000000    2226.000000    2226.000000    2226.000000   \nmean      5.040682   -73.109766    1909.094299    1888.902848    1863.534596   \nstd       1.925530     1.654623    7915.523320    7788.137689    7680.880096   \nmin       0.272449   -77.240476       0.000000       0.000000       0.000000   \n25%       4.005034   -74.197470      38.000000      37.892500      39.722500   \n50%       4.915139   -72.823143     232.095000     226.710000     222.520000   \n75%       5.953467   -71.631574     932.350000     925.250000     901.315000   \nmax      10.798940   -70.509212  122499.450000  121803.040000  117572.000000   \n\n               Abril           Mayo          Junio          Julio  \\\ncount    2226.000000    2226.000000    2226.000000    2226.000000   \nmean     1866.967390    1818.888468    1813.564057    1820.208657   \nstd      7696.027069    7653.573594    7628.324481    7770.710409   \nmin         0.000000       0.000000       0.000000       0.000000   \n25%        29.730000      23.662500      26.815000      29.602500   \n50%       215.000000     198.460000     204.500000     205.770000   \n75%       910.582500     852.137500     858.130000     862.137500   \nmax    121200.720000  120572.420000  121107.000000  122102.000000   \n\n              Agosto     Septiembre        Octubre      Noviembre  \\\ncount    2226.000000    2226.000000    2226.000000    2226.000000   \nmean     1840.855027    1504.785045    1516.995903    1516.410961   \nstd      7793.510724    7131.091343    7166.574298    7130.104431   \nmin         0.000000       0.000000       0.000000       0.000000   \n25%        30.530000       0.000000       0.000000       0.000000   \n50%       210.695000     126.735000     124.305000     125.480000   \n75%       856.650000     595.855000     587.985000     589.950000   \nmax    123536.000000  121785.000000  123125.000000  121541.000000   \n\n           Diciembre          Año  \ncount    2226.000000  2226.000000  \nmean     1528.272565  2018.919137  \nstd      7139.097303     1.393959  \nmin         0.000000  2017.000000  \n25%         0.000000  2018.000000  \n50%       127.260000  2019.000000  \n75%       607.750000  2020.000000  \nmax    122560.000000  2021.000000  ",
      "text/html": "<div>\n<style scoped>\n    .dataframe tbody tr th:only-of-type {\n        vertical-align: middle;\n    }\n\n    .dataframe tbody tr th {\n        vertical-align: top;\n    }\n\n    .dataframe thead th {\n        text-align: right;\n    }\n</style>\n<table border=\"1\" class=\"dataframe\">\n  <thead>\n    <tr style=\"text-align: right;\">\n      <th></th>\n      <th>Latitud</th>\n      <th>Longitud</th>\n      <th>Enero</th>\n      <th>Febrero</th>\n      <th>Marzo</th>\n      <th>Abril</th>\n      <th>Mayo</th>\n      <th>Junio</th>\n      <th>Julio</th>\n      <th>Agosto</th>\n      <th>Septiembre</th>\n      <th>Octubre</th>\n      <th>Noviembre</th>\n      <th>Diciembre</th>\n      <th>Año</th>\n    </tr>\n  </thead>\n  <tbody>\n    <tr>\n      <th>count</th>\n      <td>2226.000000</td>\n      <td>2226.000000</td>\n      <td>2226.000000</td>\n      <td>2226.000000</td>\n      <td>2226.000000</td>\n      <td>2226.000000</td>\n      <td>2226.000000</td>\n      <td>2226.000000</td>\n      <td>2226.000000</td>\n      <td>2226.000000</td>\n      <td>2226.000000</td>\n      <td>2226.000000</td>\n      <td>2226.000000</td>\n      <td>2226.000000</td>\n      <td>2226.000000</td>\n    </tr>\n    <tr>\n      <th>mean</th>\n      <td>5.040682</td>\n      <td>-73.109766</td>\n      <td>1909.094299</td>\n      <td>1888.902848</td>\n      <td>1863.534596</td>\n      <td>1866.967390</td>\n      <td>1818.888468</td>\n      <td>1813.564057</td>\n      <td>1820.208657</td>\n      <td>1840.855027</td>\n      <td>1504.785045</td>\n      <td>1516.995903</td>\n      <td>1516.410961</td>\n      <td>1528.272565</td>\n      <td>2018.919137</td>\n    </tr>\n    <tr>\n      <th>std</th>\n      <td>1.925530</td>\n      <td>1.654623</td>\n      <td>7915.523320</td>\n      <td>7788.137689</td>\n      <td>7680.880096</td>\n      <td>7696.027069</td>\n      <td>7653.573594</td>\n      <td>7628.324481</td>\n      <td>7770.710409</td>\n      <td>7793.510724</td>\n      <td>7131.091343</td>\n      <td>7166.574298</td>\n      <td>7130.104431</td>\n      <td>7139.097303</td>\n      <td>1.393959</td>\n    </tr>\n    <tr>\n      <th>min</th>\n      <td>0.272449</td>\n      <td>-77.240476</td>\n      <td>0.000000</td>\n      <td>0.000000</td>\n      <td>0.000000</td>\n      <td>0.000000</td>\n      <td>0.000000</td>\n      <td>0.000000</td>\n      <td>0.000000</td>\n      <td>0.000000</td>\n      <td>0.000000</td>\n      <td>0.000000</td>\n      <td>0.000000</td>\n      <td>0.000000</td>\n      <td>2017.000000</td>\n    </tr>\n    <tr>\n      <th>25%</th>\n      <td>4.005034</td>\n      <td>-74.197470</td>\n      <td>38.000000</td>\n      <td>37.892500</td>\n      <td>39.722500</td>\n      <td>29.730000</td>\n      <td>23.662500</td>\n      <td>26.815000</td>\n      <td>29.602500</td>\n      <td>30.530000</td>\n      <td>0.000000</td>\n      <td>0.000000</td>\n      <td>0.000000</td>\n      <td>0.000000</td>\n      <td>2018.000000</td>\n    </tr>\n    <tr>\n      <th>50%</th>\n      <td>4.915139</td>\n      <td>-72.823143</td>\n      <td>232.095000</td>\n      <td>226.710000</td>\n      <td>222.520000</td>\n      <td>215.000000</td>\n      <td>198.460000</td>\n      <td>204.500000</td>\n      <td>205.770000</td>\n      <td>210.695000</td>\n      <td>126.735000</td>\n      <td>124.305000</td>\n      <td>125.480000</td>\n      <td>127.260000</td>\n      <td>2019.000000</td>\n    </tr>\n    <tr>\n      <th>75%</th>\n      <td>5.953467</td>\n      <td>-71.631574</td>\n      <td>932.350000</td>\n      <td>925.250000</td>\n      <td>901.315000</td>\n      <td>910.582500</td>\n      <td>852.137500</td>\n      <td>858.130000</td>\n      <td>862.137500</td>\n      <td>856.650000</td>\n      <td>595.855000</td>\n      <td>587.985000</td>\n      <td>589.950000</td>\n      <td>607.750000</td>\n      <td>2020.000000</td>\n    </tr>\n    <tr>\n      <th>max</th>\n      <td>10.798940</td>\n      <td>-70.509212</td>\n      <td>122499.450000</td>\n      <td>121803.040000</td>\n      <td>117572.000000</td>\n      <td>121200.720000</td>\n      <td>120572.420000</td>\n      <td>121107.000000</td>\n      <td>122102.000000</td>\n      <td>123536.000000</td>\n      <td>121785.000000</td>\n      <td>123125.000000</td>\n      <td>121541.000000</td>\n      <td>122560.000000</td>\n      <td>2021.000000</td>\n    </tr>\n  </tbody>\n</table>\n</div>"
     },
     "metadata": {}
    }
   ]
  },
  {
   "cell_type": "markdown",
   "source": "# Análisis unidimensional de las variables",
   "metadata": {
    "formattedRanges": [],
    "is_collapsed": false,
    "cell_id": "b091a8bdb4234ee391b3bf5d1aac1d2f",
    "tags": [],
    "deepnote_app_coordinates": {
     "x": 0,
     "y": 46,
     "w": 12,
     "h": 5
    },
    "deepnote_cell_type": "text-cell-h1"
   }
  },
  {
   "cell_type": "markdown",
   "source": "Departamentos con mas actividad en la producción de petróleo.",
   "metadata": {
    "formattedRanges": [],
    "is_collapsed": false,
    "cell_id": "9e2b7730-5340-4dee-bbdf-3f30b24366f8",
    "tags": [],
    "deepnote_app_coordinates": {
     "x": 0,
     "y": 52,
     "w": 8,
     "h": 2
    },
    "deepnote_cell_type": "text-cell-p"
   }
  },
  {
   "cell_type": "code",
   "metadata": {
    "cell_id": "52d51fab82584a0194f3a736008d9823",
    "tags": [],
    "deepnote_to_be_reexecuted": false,
    "source_hash": "2737765e",
    "execution_start": 1660676386998,
    "execution_millis": 723,
    "deepnote_app_coordinates": {
     "x": 0,
     "y": 55,
     "w": 12,
     "h": 5
    },
    "deepnote_cell_type": "code",
    "deepnote_cell_height": 515.125
   },
   "source": "df_produccion_petroleo['Departamento'].value_counts()",
   "execution_count": null,
   "outputs": [
    {
     "output_type": "execute_result",
     "execution_count": 6,
     "data": {
      "text/plain": "CASANARE              846\nMETA                  378\nSANTANDER             162\nPUTUMAYO              143\nHUILA                 139\nARAUCA                123\nTOLIMA                103\nCESAR                  92\nBOYACA                 61\nANTIOQUIA              36\nNORTE DE SANTANDER     24\nBOLIVAR                24\nMAGDALENA              23\nSUCRE                  19\nCAUCA                  15\nCUNDINAMARCA           12\nCORDOBA                 9\nATLANTICO               8\nNARINO                  5\nDEPARTAMENTO NN         3\nCAQUETA                 1\nName: Departamento, dtype: int64"
     },
     "metadata": {}
    }
   ]
  },
  {
   "cell_type": "markdown",
   "source": "Municipios con mas actividad para la producción de petróleo.",
   "metadata": {
    "formattedRanges": [],
    "is_collapsed": false,
    "cell_id": "75205a4c-fd1c-4781-a91f-cd772325ac2c",
    "tags": [],
    "deepnote_app_coordinates": {
     "x": 0,
     "y": 61,
     "w": 8,
     "h": 2
    },
    "deepnote_cell_type": "text-cell-p"
   }
  },
  {
   "cell_type": "code",
   "metadata": {
    "cell_id": "5a1876035661403582827407c78ace2a",
    "tags": [],
    "deepnote_to_be_reexecuted": false,
    "source_hash": "b9eb7e7f",
    "execution_start": 1660676387007,
    "execution_millis": 716,
    "deepnote_app_coordinates": {
     "x": 0,
     "y": 64,
     "w": 12,
     "h": 5
    },
    "deepnote_cell_type": "code"
   },
   "source": "df_produccion_petroleo['Municipio'].value_counts()[0:20]",
   "execution_count": null,
   "outputs": [
    {
     "output_type": "execute_result",
     "execution_count": 7,
     "data": {
      "text/plain": "OROCUE                  202\nPUERTO GAITAN           141\nSAN LUIS DE PALENQUE    119\nPAZ DE ARIPORO          101\nTAURAMENA                96\nARAUQUITA                80\nMANI                     75\nYOPAL                    74\nCABUYARO                 67\nTRINIDAD                 66\nVILLAVICENCIO            58\nNEIVA                    46\nAIPE                     46\nPUERTO BOYACA            45\nSABANA DE TORRES         43\nRIO DE ORO               38\nSAN MARTIN               36\nAGUAZUL                  36\nORITO                    36\nARAUCA                   31\nName: Municipio, dtype: int64"
     },
     "metadata": {}
    }
   ]
  },
  {
   "cell_type": "markdown",
   "source": "Top 10 empresas con mas actividad para la producción de petróleo.",
   "metadata": {
    "formattedRanges": [],
    "is_collapsed": false,
    "cell_id": "4767101374e240aebe5919dc6b4f6d19",
    "tags": [],
    "deepnote_app_coordinates": {
     "x": 0,
     "y": 70,
     "w": 8,
     "h": 2
    },
    "deepnote_cell_type": "text-cell-p"
   }
  },
  {
   "cell_type": "code",
   "metadata": {
    "cell_id": "d2cd9bc5976c49379c3b307386d4b0a1",
    "tags": [],
    "deepnote_to_be_reexecuted": false,
    "source_hash": "1da5de8f",
    "execution_start": 1660676387014,
    "execution_millis": 712,
    "deepnote_app_coordinates": {
     "x": 0,
     "y": 73,
     "w": 12,
     "h": 5
    },
    "deepnote_cell_type": "code"
   },
   "source": "df_produccion_petroleo['Operadora'].value_counts()[0:10]",
   "execution_count": null,
   "outputs": [
    {
     "output_type": "execute_result",
     "execution_count": 8,
     "data": {
      "text/plain": "ECOPETROL S.A.                                     562\nFrontera Energy Colombia Corp Sucursal Colombia    244\nPERENCO COLOMBIA LIMITED                           173\nHOCOL S.A.                                         137\nGEOPARK COLOMBIA S.A.S.                             89\nGRAN TIERRA ENERGY COLOMBIA LTD                     82\nCEPSA COLOMBIA S.A.                                 69\nOCCIDENTAL DE COLOMBIA LLC                          68\nPAREX RESOURCES COLOMBIA LTD. SUCURSAL              65\nEMERALD ENERGY PLC SUCURSAL COLOMBIA                53\nName: Operadora, dtype: int64"
     },
     "metadata": {}
    }
   ]
  },
  {
   "cell_type": "code",
   "metadata": {
    "cell_id": "7709475a6e904423a43b7fb5f982608d",
    "tags": [],
    "deepnote_to_be_reexecuted": false,
    "source_hash": "b77089b",
    "execution_start": 1660676387060,
    "execution_millis": 667,
    "deepnote_app_coordinates": {
     "x": 0,
     "y": 79,
     "w": 12,
     "h": 5
    },
    "deepnote_cell_type": "code"
   },
   "source": "df_produccion_petroleo['Contrato'].value_counts()",
   "execution_count": null,
   "outputs": [
    {
     "output_type": "execute_result",
     "execution_count": 9,
     "data": {
      "text/plain": "CARACARA                       48\nCASANARE                       47\nAPIAY                          47\nCORCEL                         40\nPIJAO-POTRERILLO               40\n                               ..\nGUANAPALO                       1\nE&P Llanos 16 Contrato # 45     1\nCOPA C                          1\nVIM-8                           1\nNANCY                           1\nName: Contrato, Length: 598, dtype: int64"
     },
     "metadata": {}
    }
   ]
  },
  {
   "cell_type": "code",
   "metadata": {
    "cell_id": "03f982b0ca79403bbbacf9797fc7ece7",
    "tags": [],
    "deepnote_to_be_reexecuted": false,
    "source_hash": "261bde4b",
    "execution_start": 1660676387074,
    "execution_millis": 654,
    "deepnote_app_coordinates": {
     "x": 0,
     "y": 85,
     "w": 12,
     "h": 5
    },
    "deepnote_cell_type": "code"
   },
   "source": "len(df_produccion_petroleo['Campo'].unique())",
   "execution_count": null,
   "outputs": [
    {
     "output_type": "execute_result",
     "execution_count": 10,
     "data": {
      "text/plain": "595"
     },
     "metadata": {}
    }
   ]
  },
  {
   "cell_type": "markdown",
   "source": "Existe 595 diferentes campos petroleros de los cuales en algún momento se ha extraído petróleo.",
   "metadata": {
    "formattedRanges": [],
    "is_collapsed": false,
    "cell_id": "9cb64cc898fa404c8ce2477b91596bf8",
    "tags": [],
    "deepnote_app_coordinates": {
     "x": 0,
     "y": 91,
     "w": 8,
     "h": 2
    },
    "deepnote_cell_type": "text-cell-p"
   }
  },
  {
   "cell_type": "code",
   "metadata": {
    "cell_id": "43d58d3ae03e42f58e256b5406a1da42",
    "tags": [],
    "deepnote_to_be_reexecuted": false,
    "source_hash": "af10c8a4",
    "execution_start": 1660676387121,
    "execution_millis": 610,
    "deepnote_app_coordinates": {
     "x": 0,
     "y": 94,
     "w": 12,
     "h": 5
    },
    "deepnote_cell_type": "code"
   },
   "source": "df_produccion_petroleo['Año'].value_counts()",
   "execution_count": null,
   "outputs": [
    {
     "output_type": "execute_result",
     "execution_count": 11,
     "data": {
      "text/plain": "2018    469\n2017    467\n2019    456\n2020    445\n2021    389\nName: Año, dtype: int64"
     },
     "metadata": {}
    }
   ]
  },
  {
   "cell_type": "code",
   "metadata": {
    "cell_id": "9e42345df5ad49fa9f85e38771d6ed4b",
    "tags": [],
    "deepnote_to_be_reexecuted": false,
    "source_hash": "5d1a0fbe",
    "execution_start": 1660676387122,
    "execution_millis": 0,
    "deepnote_app_coordinates": {
     "x": 0,
     "y": 100,
     "w": 12,
     "h": 5
    },
    "deepnote_cell_type": "code"
   },
   "source": "meses = ['Enero', 'Febrero', 'Marzo', 'Abril',\n       'Mayo', 'Junio', 'Julio', 'Agosto', 'Septiembre', 'Octubre',\n       'Noviembre', 'Diciembre']\n\n",
   "execution_count": null,
   "outputs": []
  },
  {
   "cell_type": "code",
   "metadata": {
    "cell_id": "9e7363a69ffa4c6e8f18169ec6741ad6",
    "tags": [],
    "deepnote_to_be_reexecuted": false,
    "source_hash": "9b50a7e0",
    "execution_start": 1660676387122,
    "execution_millis": 609,
    "deepnote_app_coordinates": {
     "x": 0,
     "y": 106,
     "w": 12,
     "h": 5
    },
    "deepnote_cell_type": "code"
   },
   "source": "producion_petroleo_mensual_2017_2021 = df_produccion_petroleo[meses].sum()\nproducion_petroleo_mensual_2017_2021",
   "execution_count": null,
   "outputs": [
    {
     "output_type": "execute_result",
     "execution_count": 13,
     "data": {
      "text/plain": "Enero         4249643.91\nFebrero       4204697.74\nMarzo         4148228.01\nAbril         4155869.41\nMayo          4048845.73\nJunio         4036993.59\nJulio         4051784.47\nAgosto        4097743.29\nSeptiembre    3349651.51\nOctubre       3376832.88\nNoviembre     3375530.80\nDiciembre     3401934.73\ndtype: float64"
     },
     "metadata": {}
    }
   ]
  },
  {
   "cell_type": "markdown",
   "source": "Se suman la cantidad de petróleo producida desde el 2017 al 2021 por meses.  ",
   "metadata": {
    "formattedRanges": [],
    "is_collapsed": false,
    "cell_id": "da8289538c4c4c17b629b7f7a5b5290a",
    "tags": [],
    "deepnote_app_coordinates": {
     "x": 0,
     "y": 112,
     "w": 8,
     "h": 2
    },
    "deepnote_cell_type": "text-cell-p"
   }
  },
  {
   "cell_type": "markdown",
   "source": "Para expresar el total en barriles producidos diarios (BPD), como es la convención se usa la siguiente función.",
   "metadata": {
    "formattedRanges": [],
    "is_collapsed": false,
    "cell_id": "62c3334ecdc94c6aafee35e00ab3a9d4",
    "tags": [],
    "deepnote_app_coordinates": {
     "x": 0,
     "y": 115,
     "w": 8,
     "h": 2
    },
    "deepnote_cell_type": "text-cell-p"
   }
  },
  {
   "cell_type": "code",
   "metadata": {
    "cell_id": "edec0b7159ab4085a5a4cbb1bfd56efe",
    "tags": [],
    "deepnote_to_be_reexecuted": false,
    "source_hash": "5b574af3",
    "execution_start": 1660676387124,
    "execution_millis": 2,
    "deepnote_app_coordinates": {
     "x": 0,
     "y": 118,
     "w": 12,
     "h": 5
    },
    "deepnote_cell_type": "code"
   },
   "source": "def cambio_BPD(name):\n    df = ((name)/5).round(2)\n    return df\n",
   "execution_count": null,
   "outputs": []
  },
  {
   "cell_type": "code",
   "metadata": {
    "cell_id": "b6927f81f1e54757837d76fc12d9aee6",
    "tags": [],
    "deepnote_to_be_reexecuted": false,
    "source_hash": "5545be60",
    "execution_start": 1660676387130,
    "execution_millis": 602,
    "deepnote_app_coordinates": {
     "x": 0,
     "y": 124,
     "w": 12,
     "h": 5
    },
    "deepnote_cell_type": "code"
   },
   "source": "producion_petroleo_mensual_2017_2021_bpd = cambio_BPD(producion_petroleo_mensual_2017_2021)\nproducion_petroleo_mensual_2017_2021_bpd",
   "execution_count": null,
   "outputs": [
    {
     "output_type": "execute_result",
     "execution_count": 15,
     "data": {
      "text/plain": "Enero         849928.78\nFebrero       840939.55\nMarzo         829645.60\nAbril         831173.88\nMayo          809769.15\nJunio         807398.72\nJulio         810356.89\nAgosto        819548.66\nSeptiembre    669930.30\nOctubre       675366.58\nNoviembre     675106.16\nDiciembre     680386.95\ndtype: float64"
     },
     "metadata": {}
    }
   ]
  },
  {
   "cell_type": "code",
   "metadata": {
    "cell_id": "ba6f258b00a44ca1bdaaa090f35e33b1",
    "tags": [],
    "deepnote_to_be_reexecuted": false,
    "source_hash": "4c8ac2b7",
    "execution_start": 1660676387164,
    "execution_millis": 586,
    "deepnote_app_coordinates": {
     "x": 0,
     "y": 130,
     "w": 12,
     "h": 5
    },
    "deepnote_cell_type": "code"
   },
   "source": "plt.figure(figsize=(14,8))\nplt.bar(meses, producion_petroleo_mensual_2017_2021_bpd)\nplt.xlabel('Meses')\nplt.ylabel('Produccion de petroleo (BPD)')\nplt.title('Produccion total del petroleo por meses del 2017 al 2021');\n",
   "execution_count": null,
   "outputs": [
    {
     "data": {
      "text/plain": "<Figure size 1008x576 with 1 Axes>",
      "image/png": "[encoded data removed]"
     },
     "metadata": {
      "needs_background": "light",
      "image/png": {
       "width": 854,
       "height": 496
      }
     },
     "output_type": "display_data"
    }
   ]
  },
  {
   "cell_type": "markdown",
   "source": "Sumando toda la producción de petróleo desde el 2017 hasta el 2021 (teniendo en cuenta la falta de datos de septiembre a diciembre del 2021). Se puede observar una producción constante por encima de los 800.000 BPD (Barriles petróleo diario) ",
   "metadata": {
    "formattedRanges": [],
    "is_collapsed": false,
    "cell_id": "26bfdc9968084da5b9f8ee1010497180",
    "tags": [],
    "deepnote_app_coordinates": {
     "x": 0,
     "y": 136,
     "w": 8,
     "h": 2
    },
    "deepnote_cell_type": "text-cell-p"
   }
  },
  {
   "cell_type": "markdown",
   "source": "# Análisis multidimensional de las variable",
   "metadata": {
    "formattedRanges": [],
    "is_collapsed": false,
    "cell_id": "956a6ede24d544c2b18995316369c159",
    "tags": [],
    "deepnote_app_coordinates": {
     "x": 0,
     "y": 139,
     "w": 12,
     "h": 5
    },
    "deepnote_cell_type": "text-cell-h1"
   }
  },
  {
   "cell_type": "markdown",
   "source": "### Análisis de producción por año.",
   "metadata": {
    "formattedRanges": [],
    "is_collapsed": false,
    "cell_id": "66c1ac4c73bc4b6aabe8278207c13cc2",
    "tags": [],
    "deepnote_app_coordinates": {
     "x": 0,
     "y": 145,
     "w": 12,
     "h": 5
    },
    "deepnote_cell_type": "text-cell-h3"
   }
  },
  {
   "cell_type": "code",
   "metadata": {
    "cell_id": "6d9d01410c3541adabfb115a13211adb",
    "tags": [],
    "deepnote_to_be_reexecuted": false,
    "source_hash": "c4a438e1",
    "execution_start": 1660676387750,
    "execution_millis": 65,
    "deepnote_app_coordinates": {
     "x": 0,
     "y": 151,
     "w": 12,
     "h": 5
    },
    "deepnote_cell_type": "code"
   },
   "source": "suma_produccion_años = df_produccion_petroleo.groupby('Año').sum()[meses].round(2).reset_index()\nsuma_produccion_años",
   "execution_count": null,
   "outputs": [
    {
     "output_type": "execute_result",
     "execution_count": 17,
     "data": {
      "application/vnd.deepnote.dataframe.v3+json": {
       "column_count": 13,
       "row_count": 5,
       "columns": [
        {
         "name": "Año",
         "dtype": "int64",
         "stats": {
          "unique_count": 5,
          "nan_count": 0,
          "min": "2017",
          "max": "2021",
          "histogram": [
           {
            "bin_start": 2017,
            "bin_end": 2017.4,
            "count": 1
           },
           {
            "bin_start": 2017.4,
            "bin_end": 2017.8,
            "count": 0
           },
           {
            "bin_start": 2017.8,
            "bin_end": 2018.2,
            "count": 1
           },
           {
            "bin_start": 2018.2,
            "bin_end": 2018.6,
            "count": 0
           },
           {
            "bin_start": 2018.6,
            "bin_end": 2019,
            "count": 0
           },
           {
            "bin_start": 2019,
            "bin_end": 2019.4,
            "count": 1
           },
           {
            "bin_start": 2019.4,
            "bin_end": 2019.8,
            "count": 0
           },
           {
            "bin_start": 2019.8,
            "bin_end": 2020.2,
            "count": 1
           },
           {
            "bin_start": 2020.2,
            "bin_end": 2020.6,
            "count": 0
           },
           {
            "bin_start": 2020.6,
            "bin_end": 2021,
            "count": 1
           }
          ]
         }
        },
        {
         "name": "Enero",
         "dtype": "float64",
         "stats": {
          "unique_count": 5,
          "nan_count": 0,
          "min": "745403.0",
          "max": "898972.85",
          "histogram": [
           {
            "bin_start": 745403,
            "bin_end": 760759.985,
            "count": 1
           },
           {
            "bin_start": 760759.985,
            "bin_end": 776116.97,
            "count": 0
           },
           {
            "bin_start": 776116.97,
            "bin_end": 791473.955,
            "count": 0
           },
           {
            "bin_start": 791473.955,
            "bin_end": 806830.94,
            "count": 0
           },
           {
            "bin_start": 806830.94,
            "bin_end": 822187.925,
            "count": 0
           },
           {
            "bin_start": 822187.925,
            "bin_end": 837544.9099999999,
            "count": 0
           },
           {
            "bin_start": 837544.9099999999,
            "bin_end": 852901.895,
            "count": 0
           },
           {
            "bin_start": 852901.895,
            "bin_end": 868258.88,
            "count": 2
           },
           {
            "bin_start": 868258.88,
            "bin_end": 883615.865,
            "count": 0
           },
           {
            "bin_start": 883615.865,
            "bin_end": 898972.85,
            "count": 2
           }
          ]
         }
        },
        {
         "name": "Febrero",
         "dtype": "float64",
         "stats": {
          "unique_count": 5,
          "nan_count": 0,
          "min": "745773.0",
          "max": "892689.44",
          "histogram": [
           {
            "bin_start": 745773,
            "bin_end": 760464.644,
            "count": 1
           },
           {
            "bin_start": 760464.644,
            "bin_end": 775156.288,
            "count": 0
           },
           {
            "bin_start": 775156.288,
            "bin_end": 789847.932,
            "count": 0
           },
           {
            "bin_start": 789847.932,
            "bin_end": 804539.576,
            "count": 0
           },
           {
            "bin_start": 804539.576,
            "bin_end": 819231.22,
            "count": 0
           },
           {
            "bin_start": 819231.22,
            "bin_end": 833922.864,
            "count": 1
           },
           {
            "bin_start": 833922.864,
            "bin_end": 848614.5079999999,
            "count": 0
           },
           {
            "bin_start": 848614.5079999999,
            "bin_end": 863306.152,
            "count": 0
           },
           {
            "bin_start": 863306.152,
            "bin_end": 877997.796,
            "count": 1
           },
           {
            "bin_start": 877997.796,
            "bin_end": 892689.44,
            "count": 2
           }
          ]
         }
        },
        {
         "name": "Marzo",
         "dtype": "float64",
         "stats": {
          "unique_count": 5,
          "nan_count": 0,
          "min": "745426.0",
          "max": "884876.14",
          "histogram": [
           {
            "bin_start": 745426,
            "bin_end": 759371.014,
            "count": 1
           },
           {
            "bin_start": 759371.014,
            "bin_end": 773316.028,
            "count": 0
           },
           {
            "bin_start": 773316.028,
            "bin_end": 787261.042,
            "count": 0
           },
           {
            "bin_start": 787261.042,
            "bin_end": 801206.056,
            "count": 0
           },
           {
            "bin_start": 801206.056,
            "bin_end": 815151.0700000001,
            "count": 1
           },
           {
            "bin_start": 815151.0700000001,
            "bin_end": 829096.084,
            "count": 0
           },
           {
            "bin_start": 829096.084,
            "bin_end": 843041.098,
            "count": 0
           },
           {
            "bin_start": 843041.098,
            "bin_end": 856986.112,
            "count": 1
           },
           {
            "bin_start": 856986.112,
            "bin_end": 870931.126,
            "count": 1
           },
           {
            "bin_start": 870931.126,
            "bin_end": 884876.14,
            "count": 1
           }
          ]
         }
        },
        {
         "name": "Abril",
         "dtype": "float64",
         "stats": {
          "unique_count": 5,
          "nan_count": 0,
          "min": "745490.0",
          "max": "891011.43",
          "histogram": [
           {
            "bin_start": 745490,
            "bin_end": 760042.143,
            "count": 1
           },
           {
            "bin_start": 760042.143,
            "bin_end": 774594.286,
            "count": 0
           },
           {
            "bin_start": 774594.286,
            "bin_end": 789146.429,
            "count": 0
           },
           {
            "bin_start": 789146.429,
            "bin_end": 803698.572,
            "count": 1
           },
           {
            "bin_start": 803698.572,
            "bin_end": 818250.7150000001,
            "count": 0
           },
           {
            "bin_start": 818250.7150000001,
            "bin_end": 832802.858,
            "count": 0
           },
           {
            "bin_start": 832802.858,
            "bin_end": 847355.001,
            "count": 0
           },
           {
            "bin_start": 847355.001,
            "bin_end": 861907.1440000001,
            "count": 1
           },
           {
            "bin_start": 861907.1440000001,
            "bin_end": 876459.287,
            "count": 1
           },
           {
            "bin_start": 876459.287,
            "bin_end": 891011.43,
            "count": 1
           }
          ]
         }
        },
        {
         "name": "Mayo",
         "dtype": "float64",
         "stats": {
          "unique_count": 5,
          "nan_count": 0,
          "min": "703530.0",
          "max": "894518.58",
          "histogram": [
           {
            "bin_start": 703530,
            "bin_end": 722628.858,
            "count": 1
           },
           {
            "bin_start": 722628.858,
            "bin_end": 741727.716,
            "count": 1
           },
           {
            "bin_start": 741727.716,
            "bin_end": 760826.574,
            "count": 0
           },
           {
            "bin_start": 760826.574,
            "bin_end": 779925.432,
            "count": 0
           },
           {
            "bin_start": 779925.432,
            "bin_end": 799024.29,
            "count": 0
           },
           {
            "bin_start": 799024.29,
            "bin_end": 818123.148,
            "count": 0
           },
           {
            "bin_start": 818123.148,
            "bin_end": 837222.0059999999,
            "count": 0
           },
           {
            "bin_start": 837222.0059999999,
            "bin_end": 856320.864,
            "count": 1
           },
           {
            "bin_start": 856320.864,
            "bin_end": 875419.722,
            "count": 1
           },
           {
            "bin_start": 875419.722,
            "bin_end": 894518.58,
            "count": 1
           }
          ]
         }
        },
        {
         "name": "Junio",
         "dtype": "float64",
         "stats": {
          "unique_count": 5,
          "nan_count": 0,
          "min": "694152.0",
          "max": "892187.45",
          "histogram": [
           {
            "bin_start": 694152,
            "bin_end": 713955.545,
            "count": 1
           },
           {
            "bin_start": 713955.545,
            "bin_end": 733759.09,
            "count": 1
           },
           {
            "bin_start": 733759.09,
            "bin_end": 753562.635,
            "count": 0
           },
           {
            "bin_start": 753562.635,
            "bin_end": 773366.1799999999,
            "count": 0
           },
           {
            "bin_start": 773366.1799999999,
            "bin_end": 793169.725,
            "count": 0
           },
           {
            "bin_start": 793169.725,
            "bin_end": 812973.27,
            "count": 0
           },
           {
            "bin_start": 812973.27,
            "bin_end": 832776.815,
            "count": 0
           },
           {
            "bin_start": 832776.815,
            "bin_end": 852580.36,
            "count": 0
           },
           {
            "bin_start": 852580.36,
            "bin_end": 872383.9049999999,
            "count": 2
           },
           {
            "bin_start": 872383.9049999999,
            "bin_end": 892187.45,
            "count": 1
           }
          ]
         }
        },
        {
         "name": "Julio",
         "dtype": "float64",
         "stats": {
          "unique_count": 5,
          "nan_count": 0,
          "min": "731241.0",
          "max": "868749.88",
          "histogram": [
           {
            "bin_start": 731241,
            "bin_end": 744991.888,
            "count": 2
           },
           {
            "bin_start": 744991.888,
            "bin_end": 758742.776,
            "count": 0
           },
           {
            "bin_start": 758742.776,
            "bin_end": 772493.664,
            "count": 0
           },
           {
            "bin_start": 772493.664,
            "bin_end": 786244.552,
            "count": 0
           },
           {
            "bin_start": 786244.552,
            "bin_end": 799995.44,
            "count": 0
           },
           {
            "bin_start": 799995.44,
            "bin_end": 813746.328,
            "count": 0
           },
           {
            "bin_start": 813746.328,
            "bin_end": 827497.216,
            "count": 0
           },
           {
            "bin_start": 827497.216,
            "bin_end": 841248.104,
            "count": 0
           },
           {
            "bin_start": 841248.104,
            "bin_end": 854998.992,
            "count": 0
           },
           {
            "bin_start": 854998.992,
            "bin_end": 868749.88,
            "count": 3
           }
          ]
         }
        },
        {
         "name": "Agosto",
         "dtype": "float64",
         "stats": {
          "unique_count": 5,
          "nan_count": 0,
          "min": "742090.71",
          "max": "882863.58",
          "histogram": [
           {
            "bin_start": 742090.71,
            "bin_end": 756167.997,
            "count": 2
           },
           {
            "bin_start": 756167.997,
            "bin_end": 770245.284,
            "count": 0
           },
           {
            "bin_start": 770245.284,
            "bin_end": 784322.571,
            "count": 0
           },
           {
            "bin_start": 784322.571,
            "bin_end": 798399.858,
            "count": 0
           },
           {
            "bin_start": 798399.858,
            "bin_end": 812477.145,
            "count": 0
           },
           {
            "bin_start": 812477.145,
            "bin_end": 826554.432,
            "count": 0
           },
           {
            "bin_start": 826554.432,
            "bin_end": 840631.7189999999,
            "count": 0
           },
           {
            "bin_start": 840631.7189999999,
            "bin_end": 854709.0059999999,
            "count": 0
           },
           {
            "bin_start": 854709.0059999999,
            "bin_end": 868786.293,
            "count": 2
           },
           {
            "bin_start": 868786.293,
            "bin_end": 882863.58,
            "count": 1
           }
          ]
         }
        },
        {
         "name": "Septiembre",
         "dtype": "float64",
         "stats": {
          "unique_count": 5,
          "nan_count": 0,
          "min": "0.0",
          "max": "879497.42",
          "histogram": [
           {
            "bin_start": 0,
            "bin_end": 87949.742,
            "count": 1
           },
           {
            "bin_start": 87949.742,
            "bin_end": 175899.484,
            "count": 0
           },
           {
            "bin_start": 175899.484,
            "bin_end": 263849.226,
            "count": 0
           },
           {
            "bin_start": 263849.226,
            "bin_end": 351798.968,
            "count": 0
           },
           {
            "bin_start": 351798.968,
            "bin_end": 439748.70999999996,
            "count": 0
           },
           {
            "bin_start": 439748.70999999996,
            "bin_end": 527698.452,
            "count": 0
           },
           {
            "bin_start": 527698.452,
            "bin_end": 615648.194,
            "count": 0
           },
           {
            "bin_start": 615648.194,
            "bin_end": 703597.936,
            "count": 0
           },
           {
            "bin_start": 703597.936,
            "bin_end": 791547.678,
            "count": 1
           },
           {
            "bin_start": 791547.678,
            "bin_end": 879497.42,
            "count": 3
           }
          ]
         }
        },
        {
         "name": "Octubre",
         "dtype": "float64",
         "stats": {
          "unique_count": 5,
          "nan_count": 0,
          "min": "0.0",
          "max": "882748.79",
          "histogram": [
           {
            "bin_start": 0,
            "bin_end": 88274.879,
            "count": 1
           },
           {
            "bin_start": 88274.879,
            "bin_end": 176549.758,
            "count": 0
           },
           {
            "bin_start": 176549.758,
            "bin_end": 264824.637,
            "count": 0
           },
           {
            "bin_start": 264824.637,
            "bin_end": 353099.516,
            "count": 0
           },
           {
            "bin_start": 353099.516,
            "bin_end": 441374.395,
            "count": 0
           },
           {
            "bin_start": 441374.395,
            "bin_end": 529649.274,
            "count": 0
           },
           {
            "bin_start": 529649.274,
            "bin_end": 617924.153,
            "count": 0
           },
           {
            "bin_start": 617924.153,
            "bin_end": 706199.032,
            "count": 0
           },
           {
            "bin_start": 706199.032,
            "bin_end": 794473.911,
            "count": 1
           },
           {
            "bin_start": 794473.911,
            "bin_end": 882748.79,
            "count": 3
           }
          ]
         }
        },
        {
         "name": "Noviembre",
         "dtype": "float64",
         "stats": {
          "unique_count": 5,
          "nan_count": 0,
          "min": "0.0",
          "max": "883264.0",
          "histogram": [
           {
            "bin_start": 0,
            "bin_end": 88326.4,
            "count": 1
           },
           {
            "bin_start": 88326.4,
            "bin_end": 176652.8,
            "count": 0
           },
           {
            "bin_start": 176652.8,
            "bin_end": 264979.19999999995,
            "count": 0
           },
           {
            "bin_start": 264979.19999999995,
            "bin_end": 353305.6,
            "count": 0
           },
           {
            "bin_start": 353305.6,
            "bin_end": 441632,
            "count": 0
           },
           {
            "bin_start": 441632,
            "bin_end": 529958.3999999999,
            "count": 0
           },
           {
            "bin_start": 529958.3999999999,
            "bin_end": 618284.7999999999,
            "count": 0
           },
           {
            "bin_start": 618284.7999999999,
            "bin_end": 706611.2,
            "count": 0
           },
           {
            "bin_start": 706611.2,
            "bin_end": 794937.6,
            "count": 1
           },
           {
            "bin_start": 794937.6,
            "bin_end": 883264,
            "count": 3
           }
          ]
         }
        },
        {
         "name": "Diciembre",
         "dtype": "float64",
         "stats": {
          "unique_count": 5,
          "nan_count": 0,
          "min": "0.0",
          "max": "889383.0",
          "histogram": [
           {
            "bin_start": 0,
            "bin_end": 88938.3,
            "count": 1
           },
           {
            "bin_start": 88938.3,
            "bin_end": 177876.6,
            "count": 0
           },
           {
            "bin_start": 177876.6,
            "bin_end": 266814.9,
            "count": 0
           },
           {
            "bin_start": 266814.9,
            "bin_end": 355753.2,
            "count": 0
           },
           {
            "bin_start": 355753.2,
            "bin_end": 444691.5,
            "count": 0
           },
           {
            "bin_start": 444691.5,
            "bin_end": 533629.8,
            "count": 0
           },
           {
            "bin_start": 533629.8,
            "bin_end": 622568.1,
            "count": 0
           },
           {
            "bin_start": 622568.1,
            "bin_end": 711506.4,
            "count": 0
           },
           {
            "bin_start": 711506.4,
            "bin_end": 800444.7000000001,
            "count": 1
           },
           {
            "bin_start": 800444.7000000001,
            "bin_end": 889383,
            "count": 3
           }
          ]
         }
        },
        {
         "name": "_deepnote_index_column",
         "dtype": "int64"
        }
       ],
       "rows": [
        {
         "Año": 2017,
         "Enero": 860477,
         "Febrero": 864522,
         "Marzo": 804304,
         "Abril": 858448,
         "Mayo": 852516,
         "Junio": 857011,
         "Julio": 856400,
         "Agosto": 858520,
         "Septiembre": 852190,
         "Octubre": 863854,
         "Noviembre": 851053,
         "Diciembre": 870311,
         "_deepnote_index_column": 0
        },
        {
         "Año": 2018,
         "Enero": 860876,
         "Febrero": 823324,
         "Marzo": 856509,
         "Abril": 864756,
         "Mayo": 866005,
         "Junio": 863738,
         "Julio": 860407,
         "Agosto": 866485,
         "Septiembre": 868708,
         "Octubre": 878854,
         "Noviembre": 883264,
         "Diciembre": 889383,
         "_deepnote_index_column": 1
        },
        {
         "Año": 2019,
         "Enero": 898972.85,
         "Febrero": 892689.44,
         "Marzo": 884876.14,
         "Abril": 891011.43,
         "Mayo": 894518.58,
         "Junio": 892187.45,
         "Julio": 868749.88,
         "Agosto": 882863.58,
         "Septiembre": 879497.42,
         "Octubre": 882748.79,
         "Noviembre": 880270.8,
         "Diciembre": 882222.31,
         "_deepnote_index_column": 2
        },
        {
         "Año": 2020,
         "Enero": 883915.06,
         "Febrero": 878389.3,
         "Marzo": 857112.87,
         "Abril": 796163.98,
         "Mayo": 732276.15,
         "Junio": 729905.14,
         "Julio": 734986.59,
         "Agosto": 742090.71,
         "Septiembre": 749256.09,
         "Octubre": 751376.09,
         "Noviembre": 760943,
         "Diciembre": 760018.42,
         "_deepnote_index_column": 3
        },
        {
         "Año": 2021,
         "Enero": 745403,
         "Febrero": 745773,
         "Marzo": 745426,
         "Abril": 745490,
         "Mayo": 703530,
         "Junio": 694152,
         "Julio": 731241,
         "Agosto": 747784,
         "Septiembre": 0,
         "Octubre": 0,
         "Noviembre": 0,
         "Diciembre": 0,
         "_deepnote_index_column": 4
        }
       ]
      },
      "text/plain": "    Año      Enero    Febrero      Marzo      Abril       Mayo      Junio  \\\n0  2017  860477.00  864522.00  804304.00  858448.00  852516.00  857011.00   \n1  2018  860876.00  823324.00  856509.00  864756.00  866005.00  863738.00   \n2  2019  898972.85  892689.44  884876.14  891011.43  894518.58  892187.45   \n3  2020  883915.06  878389.30  857112.87  796163.98  732276.15  729905.14   \n4  2021  745403.00  745773.00  745426.00  745490.00  703530.00  694152.00   \n\n       Julio     Agosto  Septiembre    Octubre  Noviembre  Diciembre  \n0  856400.00  858520.00   852190.00  863854.00   851053.0  870311.00  \n1  860407.00  866485.00   868708.00  878854.00   883264.0  889383.00  \n2  868749.88  882863.58   879497.42  882748.79   880270.8  882222.31  \n3  734986.59  742090.71   749256.09  751376.09   760943.0  760018.42  \n4  731241.00  747784.00        0.00       0.00        0.0       0.00  ",
      "text/html": "<div>\n<style scoped>\n    .dataframe tbody tr th:only-of-type {\n        vertical-align: middle;\n    }\n\n    .dataframe tbody tr th {\n        vertical-align: top;\n    }\n\n    .dataframe thead th {\n        text-align: right;\n    }\n</style>\n<table border=\"1\" class=\"dataframe\">\n  <thead>\n    <tr style=\"text-align: right;\">\n      <th></th>\n      <th>Año</th>\n      <th>Enero</th>\n      <th>Febrero</th>\n      <th>Marzo</th>\n      <th>Abril</th>\n      <th>Mayo</th>\n      <th>Junio</th>\n      <th>Julio</th>\n      <th>Agosto</th>\n      <th>Septiembre</th>\n      <th>Octubre</th>\n      <th>Noviembre</th>\n      <th>Diciembre</th>\n    </tr>\n  </thead>\n  <tbody>\n    <tr>\n      <th>0</th>\n      <td>2017</td>\n      <td>860477.00</td>\n      <td>864522.00</td>\n      <td>804304.00</td>\n      <td>858448.00</td>\n      <td>852516.00</td>\n      <td>857011.00</td>\n      <td>856400.00</td>\n      <td>858520.00</td>\n      <td>852190.00</td>\n      <td>863854.00</td>\n      <td>851053.0</td>\n      <td>870311.00</td>\n    </tr>\n    <tr>\n      <th>1</th>\n      <td>2018</td>\n      <td>860876.00</td>\n      <td>823324.00</td>\n      <td>856509.00</td>\n      <td>864756.00</td>\n      <td>866005.00</td>\n      <td>863738.00</td>\n      <td>860407.00</td>\n      <td>866485.00</td>\n      <td>868708.00</td>\n      <td>878854.00</td>\n      <td>883264.0</td>\n      <td>889383.00</td>\n    </tr>\n    <tr>\n      <th>2</th>\n      <td>2019</td>\n      <td>898972.85</td>\n      <td>892689.44</td>\n      <td>884876.14</td>\n      <td>891011.43</td>\n      <td>894518.58</td>\n      <td>892187.45</td>\n      <td>868749.88</td>\n      <td>882863.58</td>\n      <td>879497.42</td>\n      <td>882748.79</td>\n      <td>880270.8</td>\n      <td>882222.31</td>\n    </tr>\n    <tr>\n      <th>3</th>\n      <td>2020</td>\n      <td>883915.06</td>\n      <td>878389.30</td>\n      <td>857112.87</td>\n      <td>796163.98</td>\n      <td>732276.15</td>\n      <td>729905.14</td>\n      <td>734986.59</td>\n      <td>742090.71</td>\n      <td>749256.09</td>\n      <td>751376.09</td>\n      <td>760943.0</td>\n      <td>760018.42</td>\n    </tr>\n    <tr>\n      <th>4</th>\n      <td>2021</td>\n      <td>745403.00</td>\n      <td>745773.00</td>\n      <td>745426.00</td>\n      <td>745490.00</td>\n      <td>703530.00</td>\n      <td>694152.00</td>\n      <td>731241.00</td>\n      <td>747784.00</td>\n      <td>0.00</td>\n      <td>0.00</td>\n      <td>0.0</td>\n      <td>0.00</td>\n    </tr>\n  </tbody>\n</table>\n</div>"
     },
     "metadata": {}
    }
   ]
  },
  {
   "cell_type": "code",
   "metadata": {
    "cell_id": "7ea1f7bdc9514fd5b07aeab474c56b90",
    "tags": [],
    "deepnote_to_be_reexecuted": false,
    "source_hash": "5162bdbc",
    "execution_start": 1660676387818,
    "execution_millis": 604,
    "deepnote_app_coordinates": {
     "x": 0,
     "y": 157,
     "w": 12,
     "h": 5
    },
    "deepnote_cell_type": "code"
   },
   "source": "suma_produccion_años.plot(kind= 'bar',x= 'Año', figsize=(10,8))\nplt.xlabel('Año')\nplt.ylabel('Produccion de petroleo (BPD)')\nplt.title('Produccion petroleo por meses del 2017 al 2021')\nplt.legend(bbox_to_anchor=(0.7, 0.2, 0.5, 0.5));\n",
   "execution_count": null,
   "outputs": [
    {
     "data": {
      "text/plain": "<Figure size 720x576 with 1 Axes>",
      "image/png": "[encoded data removed]"
     },
     "metadata": {
      "needs_background": "light",
      "image/png": {
       "width": 737,
       "height": 511
      }
     },
     "output_type": "display_data"
    }
   ]
  },
  {
   "cell_type": "markdown",
   "source": "Se puede observar una producción  constante de petróleo, incluso un aumento desde el 2017 hasta marzo del 2020, cuando empezó la cuarentena. Se observa claramente una disminución de la producción general de petróleo en todo Colombia, la cual hasta octubre del 2021 no ha podido volver a niveles pre-pandemia.  ",
   "metadata": {
    "formattedRanges": [],
    "is_collapsed": false,
    "cell_id": "864cd710acda4826a8acdc3dad4ea786",
    "tags": [],
    "deepnote_app_coordinates": {
     "x": 0,
     "y": 163,
     "w": 8,
     "h": 2
    },
    "deepnote_cell_type": "text-cell-p"
   }
  },
  {
   "cell_type": "code",
   "metadata": {
    "cell_id": "bb521061838e4ed4954bf58052a607ab",
    "tags": [],
    "deepnote_to_be_reexecuted": false,
    "source_hash": "2568348d",
    "execution_start": 1660676388477,
    "execution_millis": 8,
    "deepnote_app_coordinates": {
     "x": 0,
     "y": 166,
     "w": 12,
     "h": 5
    },
    "deepnote_cell_type": "code"
   },
   "source": "sum_2017 = (suma_produccion_años.loc[0,meses].sum()/12).round(2)\nsum_2018 = (suma_produccion_años.loc[1,meses].sum()/12).round(2)\nsum_2019 = (suma_produccion_años.loc[2,meses].sum()/12).round(2)\nsum_2020 = (suma_produccion_años.loc[3,meses].sum()/12).round(2)\nsum_2021 = (suma_produccion_años.loc[4,meses].sum()/8).round(2)\ntotal_producido_2017_2021 = [sum_2017,sum_2018,sum_2019,sum_2020, sum_2021]\ntotal_producido_2017_2021 ",
   "execution_count": null,
   "outputs": [
    {
     "output_type": "execute_result",
     "execution_count": 19,
     "data": {
      "text/plain": "[854133.83, 865192.42, 885884.06, 781369.45, 732349.88]"
     },
     "metadata": {}
    }
   ]
  },
  {
   "cell_type": "markdown",
   "source": "Se suma toda la producción de los meses, con el fin de obtener la producción total por cada uno de estos.",
   "metadata": {
    "formattedRanges": [],
    "is_collapsed": false,
    "cell_id": "7b4bf85ee003457eb0846bb36b29c7ad",
    "tags": [],
    "deepnote_app_coordinates": {
     "x": 0,
     "y": 172,
     "w": 8,
     "h": 2
    },
    "deepnote_cell_type": "text-cell-p"
   }
  },
  {
   "cell_type": "markdown",
   "source": "undefined.  2017 = 854.133 BPD",
   "metadata": {
    "formattedRanges": [
     {
      "fromCodePoint": 8,
      "toCodePoint": 19,
      "marks": {
       "bold": true,
       "italic": true
      }
     }
    ],
    "is_collapsed": false,
    "cell_id": "1ff5c668da07439b8831c3792965108a",
    "tags": [],
    "deepnote_app_coordinates": {
     "x": 0,
     "y": 175,
     "w": 8,
     "h": 2
    },
    "deepnote_cell_type": "text-cell-number"
   }
  },
  {
   "cell_type": "markdown",
   "source": "undefined.  2018 = 865.192 BPD",
   "metadata": {
    "formattedRanges": [
     {
      "fromCodePoint": 8,
      "toCodePoint": 19,
      "marks": {
       "bold": true,
       "italic": true
      }
     }
    ],
    "is_collapsed": false,
    "cell_id": "f9a81167-53a0-4829-8de3-49d304f236eb",
    "tags": [],
    "deepnote_app_coordinates": {
     "x": 0,
     "y": 178,
     "w": 8,
     "h": 2
    },
    "deepnote_cell_type": "text-cell-number"
   }
  },
  {
   "cell_type": "markdown",
   "source": "undefined.  2019 = 885.884 BPD",
   "metadata": {
    "formattedRanges": [
     {
      "fromCodePoint": 0,
      "toCodePoint": 1,
      "marks": {
       "bold": true,
       "italic": true
      }
     },
     {
      "fromCodePoint": 8,
      "toCodePoint": 19,
      "marks": {
       "bold": true,
       "italic": true
      }
     }
    ],
    "is_collapsed": false,
    "cell_id": "31da18b1-dc1b-4f89-b53f-b47b77b4b58e",
    "tags": [],
    "deepnote_app_coordinates": {
     "x": 0,
     "y": 181,
     "w": 8,
     "h": 2
    },
    "deepnote_cell_type": "text-cell-number"
   }
  },
  {
   "cell_type": "markdown",
   "source": "undefined.  2020 = 781.369 BPD",
   "metadata": {
    "formattedRanges": [
     {
      "fromCodePoint": 0,
      "toCodePoint": 1,
      "marks": {
       "bold": true,
       "italic": true
      }
     },
     {
      "fromCodePoint": 7,
      "toCodePoint": 19,
      "marks": {
       "bold": true,
       "italic": true
      }
     }
    ],
    "is_collapsed": false,
    "cell_id": "35ad208a-da4d-4f45-932b-cc9871446d69",
    "tags": [],
    "deepnote_app_coordinates": {
     "x": 0,
     "y": 184,
     "w": 8,
     "h": 2
    },
    "deepnote_cell_type": "text-cell-number"
   }
  },
  {
   "cell_type": "markdown",
   "source": "undefined.  2021 = 732.349 BPD",
   "metadata": {
    "formattedRanges": [
     {
      "fromCodePoint": 0,
      "toCodePoint": 1,
      "marks": {
       "bold": true,
       "italic": true
      }
     },
     {
      "fromCodePoint": 2,
      "toCodePoint": 7,
      "marks": {
       "italic": true
      }
     },
     {
      "fromCodePoint": 7,
      "toCodePoint": 19,
      "marks": {
       "bold": true,
       "italic": true
      }
     }
    ],
    "is_collapsed": false,
    "cell_id": "a8f3afff-f6f1-4109-b6d6-c4858f088322",
    "tags": [],
    "deepnote_app_coordinates": {
     "x": 0,
     "y": 187,
     "w": 8,
     "h": 2
    },
    "deepnote_cell_type": "text-cell-number"
   }
  },
  {
   "cell_type": "code",
   "metadata": {
    "cell_id": "200869a9afe44da5b9ef45c5f13db5de",
    "tags": [],
    "deepnote_to_be_reexecuted": false,
    "source_hash": "ef94b158",
    "execution_start": 1660676388478,
    "execution_millis": 18,
    "deepnote_app_coordinates": {
     "x": 0,
     "y": 190,
     "w": 12,
     "h": 5
    },
    "deepnote_cell_type": "code"
   },
   "source": "suma_produccion_años['Total producido año (BPD)']= total_producido_2017_2021\nsuma_produccion_años",
   "execution_count": null,
   "outputs": [
    {
     "output_type": "execute_result",
     "execution_count": 20,
     "data": {
      "application/vnd.deepnote.dataframe.v3+json": {
       "column_count": 14,
       "row_count": 5,
       "columns": [
        {
         "name": "Año",
         "dtype": "int64",
         "stats": {
          "unique_count": 5,
          "nan_count": 0,
          "min": "2017",
          "max": "2021",
          "histogram": [
           {
            "bin_start": 2017,
            "bin_end": 2017.4,
            "count": 1
           },
           {
            "bin_start": 2017.4,
            "bin_end": 2017.8,
            "count": 0
           },
           {
            "bin_start": 2017.8,
            "bin_end": 2018.2,
            "count": 1
           },
           {
            "bin_start": 2018.2,
            "bin_end": 2018.6,
            "count": 0
           },
           {
            "bin_start": 2018.6,
            "bin_end": 2019,
            "count": 0
           },
           {
            "bin_start": 2019,
            "bin_end": 2019.4,
            "count": 1
           },
           {
            "bin_start": 2019.4,
            "bin_end": 2019.8,
            "count": 0
           },
           {
            "bin_start": 2019.8,
            "bin_end": 2020.2,
            "count": 1
           },
           {
            "bin_start": 2020.2,
            "bin_end": 2020.6,
            "count": 0
           },
           {
            "bin_start": 2020.6,
            "bin_end": 2021,
            "count": 1
           }
          ]
         }
        },
        {
         "name": "Enero",
         "dtype": "float64",
         "stats": {
          "unique_count": 5,
          "nan_count": 0,
          "min": "745403.0",
          "max": "898972.85",
          "histogram": [
           {
            "bin_start": 745403,
            "bin_end": 760759.985,
            "count": 1
           },
           {
            "bin_start": 760759.985,
            "bin_end": 776116.97,
            "count": 0
           },
           {
            "bin_start": 776116.97,
            "bin_end": 791473.955,
            "count": 0
           },
           {
            "bin_start": 791473.955,
            "bin_end": 806830.94,
            "count": 0
           },
           {
            "bin_start": 806830.94,
            "bin_end": 822187.925,
            "count": 0
           },
           {
            "bin_start": 822187.925,
            "bin_end": 837544.9099999999,
            "count": 0
           },
           {
            "bin_start": 837544.9099999999,
            "bin_end": 852901.895,
            "count": 0
           },
           {
            "bin_start": 852901.895,
            "bin_end": 868258.88,
            "count": 2
           },
           {
            "bin_start": 868258.88,
            "bin_end": 883615.865,
            "count": 0
           },
           {
            "bin_start": 883615.865,
            "bin_end": 898972.85,
            "count": 2
           }
          ]
         }
        },
        {
         "name": "Febrero",
         "dtype": "float64",
         "stats": {
          "unique_count": 5,
          "nan_count": 0,
          "min": "745773.0",
          "max": "892689.44",
          "histogram": [
           {
            "bin_start": 745773,
            "bin_end": 760464.644,
            "count": 1
           },
           {
            "bin_start": 760464.644,
            "bin_end": 775156.288,
            "count": 0
           },
           {
            "bin_start": 775156.288,
            "bin_end": 789847.932,
            "count": 0
           },
           {
            "bin_start": 789847.932,
            "bin_end": 804539.576,
            "count": 0
           },
           {
            "bin_start": 804539.576,
            "bin_end": 819231.22,
            "count": 0
           },
           {
            "bin_start": 819231.22,
            "bin_end": 833922.864,
            "count": 1
           },
           {
            "bin_start": 833922.864,
            "bin_end": 848614.5079999999,
            "count": 0
           },
           {
            "bin_start": 848614.5079999999,
            "bin_end": 863306.152,
            "count": 0
           },
           {
            "bin_start": 863306.152,
            "bin_end": 877997.796,
            "count": 1
           },
           {
            "bin_start": 877997.796,
            "bin_end": 892689.44,
            "count": 2
           }
          ]
         }
        },
        {
         "name": "Marzo",
         "dtype": "float64",
         "stats": {
          "unique_count": 5,
          "nan_count": 0,
          "min": "745426.0",
          "max": "884876.14",
          "histogram": [
           {
            "bin_start": 745426,
            "bin_end": 759371.014,
            "count": 1
           },
           {
            "bin_start": 759371.014,
            "bin_end": 773316.028,
            "count": 0
           },
           {
            "bin_start": 773316.028,
            "bin_end": 787261.042,
            "count": 0
           },
           {
            "bin_start": 787261.042,
            "bin_end": 801206.056,
            "count": 0
           },
           {
            "bin_start": 801206.056,
            "bin_end": 815151.0700000001,
            "count": 1
           },
           {
            "bin_start": 815151.0700000001,
            "bin_end": 829096.084,
            "count": 0
           },
           {
            "bin_start": 829096.084,
            "bin_end": 843041.098,
            "count": 0
           },
           {
            "bin_start": 843041.098,
            "bin_end": 856986.112,
            "count": 1
           },
           {
            "bin_start": 856986.112,
            "bin_end": 870931.126,
            "count": 1
           },
           {
            "bin_start": 870931.126,
            "bin_end": 884876.14,
            "count": 1
           }
          ]
         }
        },
        {
         "name": "Abril",
         "dtype": "float64",
         "stats": {
          "unique_count": 5,
          "nan_count": 0,
          "min": "745490.0",
          "max": "891011.43",
          "histogram": [
           {
            "bin_start": 745490,
            "bin_end": 760042.143,
            "count": 1
           },
           {
            "bin_start": 760042.143,
            "bin_end": 774594.286,
            "count": 0
           },
           {
            "bin_start": 774594.286,
            "bin_end": 789146.429,
            "count": 0
           },
           {
            "bin_start": 789146.429,
            "bin_end": 803698.572,
            "count": 1
           },
           {
            "bin_start": 803698.572,
            "bin_end": 818250.7150000001,
            "count": 0
           },
           {
            "bin_start": 818250.7150000001,
            "bin_end": 832802.858,
            "count": 0
           },
           {
            "bin_start": 832802.858,
            "bin_end": 847355.001,
            "count": 0
           },
           {
            "bin_start": 847355.001,
            "bin_end": 861907.1440000001,
            "count": 1
           },
           {
            "bin_start": 861907.1440000001,
            "bin_end": 876459.287,
            "count": 1
           },
           {
            "bin_start": 876459.287,
            "bin_end": 891011.43,
            "count": 1
           }
          ]
         }
        },
        {
         "name": "Mayo",
         "dtype": "float64",
         "stats": {
          "unique_count": 5,
          "nan_count": 0,
          "min": "703530.0",
          "max": "894518.58",
          "histogram": [
           {
            "bin_start": 703530,
            "bin_end": 722628.858,
            "count": 1
           },
           {
            "bin_start": 722628.858,
            "bin_end": 741727.716,
            "count": 1
           },
           {
            "bin_start": 741727.716,
            "bin_end": 760826.574,
            "count": 0
           },
           {
            "bin_start": 760826.574,
            "bin_end": 779925.432,
            "count": 0
           },
           {
            "bin_start": 779925.432,
            "bin_end": 799024.29,
            "count": 0
           },
           {
            "bin_start": 799024.29,
            "bin_end": 818123.148,
            "count": 0
           },
           {
            "bin_start": 818123.148,
            "bin_end": 837222.0059999999,
            "count": 0
           },
           {
            "bin_start": 837222.0059999999,
            "bin_end": 856320.864,
            "count": 1
           },
           {
            "bin_start": 856320.864,
            "bin_end": 875419.722,
            "count": 1
           },
           {
            "bin_start": 875419.722,
            "bin_end": 894518.58,
            "count": 1
           }
          ]
         }
        },
        {
         "name": "Junio",
         "dtype": "float64",
         "stats": {
          "unique_count": 5,
          "nan_count": 0,
          "min": "694152.0",
          "max": "892187.45",
          "histogram": [
           {
            "bin_start": 694152,
            "bin_end": 713955.545,
            "count": 1
           },
           {
            "bin_start": 713955.545,
            "bin_end": 733759.09,
            "count": 1
           },
           {
            "bin_start": 733759.09,
            "bin_end": 753562.635,
            "count": 0
           },
           {
            "bin_start": 753562.635,
            "bin_end": 773366.1799999999,
            "count": 0
           },
           {
            "bin_start": 773366.1799999999,
            "bin_end": 793169.725,
            "count": 0
           },
           {
            "bin_start": 793169.725,
            "bin_end": 812973.27,
            "count": 0
           },
           {
            "bin_start": 812973.27,
            "bin_end": 832776.815,
            "count": 0
           },
           {
            "bin_start": 832776.815,
            "bin_end": 852580.36,
            "count": 0
           },
           {
            "bin_start": 852580.36,
            "bin_end": 872383.9049999999,
            "count": 2
           },
           {
            "bin_start": 872383.9049999999,
            "bin_end": 892187.45,
            "count": 1
           }
          ]
         }
        },
        {
         "name": "Julio",
         "dtype": "float64",
         "stats": {
          "unique_count": 5,
          "nan_count": 0,
          "min": "731241.0",
          "max": "868749.88",
          "histogram": [
           {
            "bin_start": 731241,
            "bin_end": 744991.888,
            "count": 2
           },
           {
            "bin_start": 744991.888,
            "bin_end": 758742.776,
            "count": 0
           },
           {
            "bin_start": 758742.776,
            "bin_end": 772493.664,
            "count": 0
           },
           {
            "bin_start": 772493.664,
            "bin_end": 786244.552,
            "count": 0
           },
           {
            "bin_start": 786244.552,
            "bin_end": 799995.44,
            "count": 0
           },
           {
            "bin_start": 799995.44,
            "bin_end": 813746.328,
            "count": 0
           },
           {
            "bin_start": 813746.328,
            "bin_end": 827497.216,
            "count": 0
           },
           {
            "bin_start": 827497.216,
            "bin_end": 841248.104,
            "count": 0
           },
           {
            "bin_start": 841248.104,
            "bin_end": 854998.992,
            "count": 0
           },
           {
            "bin_start": 854998.992,
            "bin_end": 868749.88,
            "count": 3
           }
          ]
         }
        },
        {
         "name": "Agosto",
         "dtype": "float64",
         "stats": {
          "unique_count": 5,
          "nan_count": 0,
          "min": "742090.71",
          "max": "882863.58",
          "histogram": [
           {
            "bin_start": 742090.71,
            "bin_end": 756167.997,
            "count": 2
           },
           {
            "bin_start": 756167.997,
            "bin_end": 770245.284,
            "count": 0
           },
           {
            "bin_start": 770245.284,
            "bin_end": 784322.571,
            "count": 0
           },
           {
            "bin_start": 784322.571,
            "bin_end": 798399.858,
            "count": 0
           },
           {
            "bin_start": 798399.858,
            "bin_end": 812477.145,
            "count": 0
           },
           {
            "bin_start": 812477.145,
            "bin_end": 826554.432,
            "count": 0
           },
           {
            "bin_start": 826554.432,
            "bin_end": 840631.7189999999,
            "count": 0
           },
           {
            "bin_start": 840631.7189999999,
            "bin_end": 854709.0059999999,
            "count": 0
           },
           {
            "bin_start": 854709.0059999999,
            "bin_end": 868786.293,
            "count": 2
           },
           {
            "bin_start": 868786.293,
            "bin_end": 882863.58,
            "count": 1
           }
          ]
         }
        },
        {
         "name": "Septiembre",
         "dtype": "float64",
         "stats": {
          "unique_count": 5,
          "nan_count": 0,
          "min": "0.0",
          "max": "879497.42",
          "histogram": [
           {
            "bin_start": 0,
            "bin_end": 87949.742,
            "count": 1
           },
           {
            "bin_start": 87949.742,
            "bin_end": 175899.484,
            "count": 0
           },
           {
            "bin_start": 175899.484,
            "bin_end": 263849.226,
            "count": 0
           },
           {
            "bin_start": 263849.226,
            "bin_end": 351798.968,
            "count": 0
           },
           {
            "bin_start": 351798.968,
            "bin_end": 439748.70999999996,
            "count": 0
           },
           {
            "bin_start": 439748.70999999996,
            "bin_end": 527698.452,
            "count": 0
           },
           {
            "bin_start": 527698.452,
            "bin_end": 615648.194,
            "count": 0
           },
           {
            "bin_start": 615648.194,
            "bin_end": 703597.936,
            "count": 0
           },
           {
            "bin_start": 703597.936,
            "bin_end": 791547.678,
            "count": 1
           },
           {
            "bin_start": 791547.678,
            "bin_end": 879497.42,
            "count": 3
           }
          ]
         }
        },
        {
         "name": "Octubre",
         "dtype": "float64",
         "stats": {
          "unique_count": 5,
          "nan_count": 0,
          "min": "0.0",
          "max": "882748.79",
          "histogram": [
           {
            "bin_start": 0,
            "bin_end": 88274.879,
            "count": 1
           },
           {
            "bin_start": 88274.879,
            "bin_end": 176549.758,
            "count": 0
           },
           {
            "bin_start": 176549.758,
            "bin_end": 264824.637,
            "count": 0
           },
           {
            "bin_start": 264824.637,
            "bin_end": 353099.516,
            "count": 0
           },
           {
            "bin_start": 353099.516,
            "bin_end": 441374.395,
            "count": 0
           },
           {
            "bin_start": 441374.395,
            "bin_end": 529649.274,
            "count": 0
           },
           {
            "bin_start": 529649.274,
            "bin_end": 617924.153,
            "count": 0
           },
           {
            "bin_start": 617924.153,
            "bin_end": 706199.032,
            "count": 0
           },
           {
            "bin_start": 706199.032,
            "bin_end": 794473.911,
            "count": 1
           },
           {
            "bin_start": 794473.911,
            "bin_end": 882748.79,
            "count": 3
           }
          ]
         }
        },
        {
         "name": "Noviembre",
         "dtype": "float64",
         "stats": {
          "unique_count": 5,
          "nan_count": 0,
          "min": "0.0",
          "max": "883264.0",
          "histogram": [
           {
            "bin_start": 0,
            "bin_end": 88326.4,
            "count": 1
           },
           {
            "bin_start": 88326.4,
            "bin_end": 176652.8,
            "count": 0
           },
           {
            "bin_start": 176652.8,
            "bin_end": 264979.19999999995,
            "count": 0
           },
           {
            "bin_start": 264979.19999999995,
            "bin_end": 353305.6,
            "count": 0
           },
           {
            "bin_start": 353305.6,
            "bin_end": 441632,
            "count": 0
           },
           {
            "bin_start": 441632,
            "bin_end": 529958.3999999999,
            "count": 0
           },
           {
            "bin_start": 529958.3999999999,
            "bin_end": 618284.7999999999,
            "count": 0
           },
           {
            "bin_start": 618284.7999999999,
            "bin_end": 706611.2,
            "count": 0
           },
           {
            "bin_start": 706611.2,
            "bin_end": 794937.6,
            "count": 1
           },
           {
            "bin_start": 794937.6,
            "bin_end": 883264,
            "count": 3
           }
          ]
         }
        },
        {
         "name": "Diciembre",
         "dtype": "float64",
         "stats": {
          "unique_count": 5,
          "nan_count": 0,
          "min": "0.0",
          "max": "889383.0",
          "histogram": [
           {
            "bin_start": 0,
            "bin_end": 88938.3,
            "count": 1
           },
           {
            "bin_start": 88938.3,
            "bin_end": 177876.6,
            "count": 0
           },
           {
            "bin_start": 177876.6,
            "bin_end": 266814.9,
            "count": 0
           },
           {
            "bin_start": 266814.9,
            "bin_end": 355753.2,
            "count": 0
           },
           {
            "bin_start": 355753.2,
            "bin_end": 444691.5,
            "count": 0
           },
           {
            "bin_start": 444691.5,
            "bin_end": 533629.8,
            "count": 0
           },
           {
            "bin_start": 533629.8,
            "bin_end": 622568.1,
            "count": 0
           },
           {
            "bin_start": 622568.1,
            "bin_end": 711506.4,
            "count": 0
           },
           {
            "bin_start": 711506.4,
            "bin_end": 800444.7000000001,
            "count": 1
           },
           {
            "bin_start": 800444.7000000001,
            "bin_end": 889383,
            "count": 3
           }
          ]
         }
        },
        {
         "name": "Total producido año (BPD)",
         "dtype": "float64",
         "stats": {
          "unique_count": 5,
          "nan_count": 0,
          "min": "732349.88",
          "max": "885884.06",
          "histogram": [
           {
            "bin_start": 732349.88,
            "bin_end": 747703.298,
            "count": 1
           },
           {
            "bin_start": 747703.298,
            "bin_end": 763056.716,
            "count": 0
           },
           {
            "bin_start": 763056.716,
            "bin_end": 778410.1340000001,
            "count": 0
           },
           {
            "bin_start": 778410.1340000001,
            "bin_end": 793763.552,
            "count": 1
           },
           {
            "bin_start": 793763.552,
            "bin_end": 809116.97,
            "count": 0
           },
           {
            "bin_start": 809116.97,
            "bin_end": 824470.388,
            "count": 0
           },
           {
            "bin_start": 824470.388,
            "bin_end": 839823.8060000001,
            "count": 0
           },
           {
            "bin_start": 839823.8060000001,
            "bin_end": 855177.224,
            "count": 1
           },
           {
            "bin_start": 855177.224,
            "bin_end": 870530.642,
            "count": 1
           },
           {
            "bin_start": 870530.642,
            "bin_end": 885884.06,
            "count": 1
           }
          ]
         }
        },
        {
         "name": "_deepnote_index_column",
         "dtype": "int64"
        }
       ],
       "rows": [
        {
         "Año": 2017,
         "Enero": 860477,
         "Febrero": 864522,
         "Marzo": 804304,
         "Abril": 858448,
         "Mayo": 852516,
         "Junio": 857011,
         "Julio": 856400,
         "Agosto": 858520,
         "Septiembre": 852190,
         "Octubre": 863854,
         "Noviembre": 851053,
         "Diciembre": 870311,
         "Total producido año (BPD)": 854133.83,
         "_deepnote_index_column": 0
        },
        {
         "Año": 2018,
         "Enero": 860876,
         "Febrero": 823324,
         "Marzo": 856509,
         "Abril": 864756,
         "Mayo": 866005,
         "Junio": 863738,
         "Julio": 860407,
         "Agosto": 866485,
         "Septiembre": 868708,
         "Octubre": 878854,
         "Noviembre": 883264,
         "Diciembre": 889383,
         "Total producido año (BPD)": 865192.42,
         "_deepnote_index_column": 1
        },
        {
         "Año": 2019,
         "Enero": 898972.85,
         "Febrero": 892689.44,
         "Marzo": 884876.14,
         "Abril": 891011.43,
         "Mayo": 894518.58,
         "Junio": 892187.45,
         "Julio": 868749.88,
         "Agosto": 882863.58,
         "Septiembre": 879497.42,
         "Octubre": 882748.79,
         "Noviembre": 880270.8,
         "Diciembre": 882222.31,
         "Total producido año (BPD)": 885884.06,
         "_deepnote_index_column": 2
        },
        {
         "Año": 2020,
         "Enero": 883915.06,
         "Febrero": 878389.3,
         "Marzo": 857112.87,
         "Abril": 796163.98,
         "Mayo": 732276.15,
         "Junio": 729905.14,
         "Julio": 734986.59,
         "Agosto": 742090.71,
         "Septiembre": 749256.09,
         "Octubre": 751376.09,
         "Noviembre": 760943,
         "Diciembre": 760018.42,
         "Total producido año (BPD)": 781369.45,
         "_deepnote_index_column": 3
        },
        {
         "Año": 2021,
         "Enero": 745403,
         "Febrero": 745773,
         "Marzo": 745426,
         "Abril": 745490,
         "Mayo": 703530,
         "Junio": 694152,
         "Julio": 731241,
         "Agosto": 747784,
         "Septiembre": 0,
         "Octubre": 0,
         "Noviembre": 0,
         "Diciembre": 0,
         "Total producido año (BPD)": 732349.88,
         "_deepnote_index_column": 4
        }
       ]
      },
      "text/plain": "    Año      Enero    Febrero      Marzo      Abril       Mayo      Junio  \\\n0  2017  860477.00  864522.00  804304.00  858448.00  852516.00  857011.00   \n1  2018  860876.00  823324.00  856509.00  864756.00  866005.00  863738.00   \n2  2019  898972.85  892689.44  884876.14  891011.43  894518.58  892187.45   \n3  2020  883915.06  878389.30  857112.87  796163.98  732276.15  729905.14   \n4  2021  745403.00  745773.00  745426.00  745490.00  703530.00  694152.00   \n\n       Julio     Agosto  Septiembre    Octubre  Noviembre  Diciembre  \\\n0  856400.00  858520.00   852190.00  863854.00   851053.0  870311.00   \n1  860407.00  866485.00   868708.00  878854.00   883264.0  889383.00   \n2  868749.88  882863.58   879497.42  882748.79   880270.8  882222.31   \n3  734986.59  742090.71   749256.09  751376.09   760943.0  760018.42   \n4  731241.00  747784.00        0.00       0.00        0.0       0.00   \n\n   Total producido año (BPD)  \n0                  854133.83  \n1                  865192.42  \n2                  885884.06  \n3                  781369.45  \n4                  732349.88  ",
      "text/html": "<div>\n<style scoped>\n    .dataframe tbody tr th:only-of-type {\n        vertical-align: middle;\n    }\n\n    .dataframe tbody tr th {\n        vertical-align: top;\n    }\n\n    .dataframe thead th {\n        text-align: right;\n    }\n</style>\n<table border=\"1\" class=\"dataframe\">\n  <thead>\n    <tr style=\"text-align: right;\">\n      <th></th>\n      <th>Año</th>\n      <th>Enero</th>\n      <th>Febrero</th>\n      <th>Marzo</th>\n      <th>Abril</th>\n      <th>Mayo</th>\n      <th>Junio</th>\n      <th>Julio</th>\n      <th>Agosto</th>\n      <th>Septiembre</th>\n      <th>Octubre</th>\n      <th>Noviembre</th>\n      <th>Diciembre</th>\n      <th>Total producido año (BPD)</th>\n    </tr>\n  </thead>\n  <tbody>\n    <tr>\n      <th>0</th>\n      <td>2017</td>\n      <td>860477.00</td>\n      <td>864522.00</td>\n      <td>804304.00</td>\n      <td>858448.00</td>\n      <td>852516.00</td>\n      <td>857011.00</td>\n      <td>856400.00</td>\n      <td>858520.00</td>\n      <td>852190.00</td>\n      <td>863854.00</td>\n      <td>851053.0</td>\n      <td>870311.00</td>\n      <td>854133.83</td>\n    </tr>\n    <tr>\n      <th>1</th>\n      <td>2018</td>\n      <td>860876.00</td>\n      <td>823324.00</td>\n      <td>856509.00</td>\n      <td>864756.00</td>\n      <td>866005.00</td>\n      <td>863738.00</td>\n      <td>860407.00</td>\n      <td>866485.00</td>\n      <td>868708.00</td>\n      <td>878854.00</td>\n      <td>883264.0</td>\n      <td>889383.00</td>\n      <td>865192.42</td>\n    </tr>\n    <tr>\n      <th>2</th>\n      <td>2019</td>\n      <td>898972.85</td>\n      <td>892689.44</td>\n      <td>884876.14</td>\n      <td>891011.43</td>\n      <td>894518.58</td>\n      <td>892187.45</td>\n      <td>868749.88</td>\n      <td>882863.58</td>\n      <td>879497.42</td>\n      <td>882748.79</td>\n      <td>880270.8</td>\n      <td>882222.31</td>\n      <td>885884.06</td>\n    </tr>\n    <tr>\n      <th>3</th>\n      <td>2020</td>\n      <td>883915.06</td>\n      <td>878389.30</td>\n      <td>857112.87</td>\n      <td>796163.98</td>\n      <td>732276.15</td>\n      <td>729905.14</td>\n      <td>734986.59</td>\n      <td>742090.71</td>\n      <td>749256.09</td>\n      <td>751376.09</td>\n      <td>760943.0</td>\n      <td>760018.42</td>\n      <td>781369.45</td>\n    </tr>\n    <tr>\n      <th>4</th>\n      <td>2021</td>\n      <td>745403.00</td>\n      <td>745773.00</td>\n      <td>745426.00</td>\n      <td>745490.00</td>\n      <td>703530.00</td>\n      <td>694152.00</td>\n      <td>731241.00</td>\n      <td>747784.00</td>\n      <td>0.00</td>\n      <td>0.00</td>\n      <td>0.0</td>\n      <td>0.00</td>\n      <td>732349.88</td>\n    </tr>\n  </tbody>\n</table>\n</div>"
     },
     "metadata": {}
    }
   ]
  },
  {
   "cell_type": "code",
   "metadata": {
    "cell_id": "05175e10667c400aac8cd341ccd2b75f",
    "tags": [],
    "deepnote_to_be_reexecuted": false,
    "source_hash": "e05dc6e",
    "execution_start": 1660676388511,
    "execution_millis": 198,
    "deepnote_app_coordinates": {
     "x": 0,
     "y": 196,
     "w": 12,
     "h": 5
    },
    "deepnote_cell_type": "code"
   },
   "source": "sns.barplot(data= suma_produccion_años,x = 'Año', y = 'Total producido año (BPD)');\n",
   "execution_count": null,
   "outputs": [
    {
     "data": {
      "text/plain": "<Figure size 432x288 with 1 Axes>",
      "image/png": "[encoded data removed]"
     },
     "metadata": {
      "needs_background": "light",
      "image/png": {
       "width": 407,
       "height": 262
      }
     },
     "output_type": "display_data"
    }
   ]
  },
  {
   "cell_type": "code",
   "metadata": {
    "cell_id": "ac49cfc1ee624bf39ac4fb6d688bd0c3",
    "tags": [],
    "deepnote_to_be_reexecuted": false,
    "source_hash": "1d7a1f36",
    "execution_start": 1660676388716,
    "execution_millis": 174,
    "deepnote_app_coordinates": {
     "x": 0,
     "y": 202,
     "w": 12,
     "h": 5
    },
    "deepnote_cell_type": "code"
   },
   "source": "suma_produccion_años.describe()",
   "execution_count": null,
   "outputs": [
    {
     "output_type": "execute_result",
     "execution_count": 22,
     "data": {
      "application/vnd.deepnote.dataframe.v3+json": {
       "column_count": 14,
       "row_count": 8,
       "columns": [
        {
         "name": "Año",
         "dtype": "float64",
         "stats": {
          "unique_count": 7,
          "nan_count": 0,
          "min": "1.5811388300841898",
          "max": "2021.0",
          "histogram": [
           {
            "bin_start": 1.5811388300841898,
            "bin_end": 203.52302494707578,
            "count": 2
           },
           {
            "bin_start": 203.52302494707578,
            "bin_end": 405.46491106406734,
            "count": 0
           },
           {
            "bin_start": 405.46491106406734,
            "bin_end": 607.406797181059,
            "count": 0
           },
           {
            "bin_start": 607.406797181059,
            "bin_end": 809.3486832980506,
            "count": 0
           },
           {
            "bin_start": 809.3486832980506,
            "bin_end": 1011.2905694150421,
            "count": 0
           },
           {
            "bin_start": 1011.2905694150421,
            "bin_end": 1213.2324555320338,
            "count": 0
           },
           {
            "bin_start": 1213.2324555320338,
            "bin_end": 1415.1743416490253,
            "count": 0
           },
           {
            "bin_start": 1415.1743416490253,
            "bin_end": 1617.116227766017,
            "count": 0
           },
           {
            "bin_start": 1617.116227766017,
            "bin_end": 1819.0581138830084,
            "count": 0
           },
           {
            "bin_start": 1819.0581138830084,
            "bin_end": 2021,
            "count": 6
           }
          ]
         }
        },
        {
         "name": "Enero",
         "dtype": "float64",
         "stats": {
          "unique_count": 8,
          "nan_count": 0,
          "min": "5.0",
          "max": "898972.85",
          "histogram": [
           {
            "bin_start": 5,
            "bin_end": 89901.785,
            "count": 2
           },
           {
            "bin_start": 89901.785,
            "bin_end": 179798.57,
            "count": 0
           },
           {
            "bin_start": 179798.57,
            "bin_end": 269695.355,
            "count": 0
           },
           {
            "bin_start": 269695.355,
            "bin_end": 359592.14,
            "count": 0
           },
           {
            "bin_start": 359592.14,
            "bin_end": 449488.92500000005,
            "count": 0
           },
           {
            "bin_start": 449488.92500000005,
            "bin_end": 539385.71,
            "count": 0
           },
           {
            "bin_start": 539385.71,
            "bin_end": 629282.495,
            "count": 0
           },
           {
            "bin_start": 629282.495,
            "bin_end": 719179.28,
            "count": 0
           },
           {
            "bin_start": 719179.28,
            "bin_end": 809076.0650000001,
            "count": 1
           },
           {
            "bin_start": 809076.0650000001,
            "bin_end": 898972.85,
            "count": 5
           }
          ]
         }
        },
        {
         "name": "Febrero",
         "dtype": "float64",
         "stats": {
          "unique_count": 8,
          "nan_count": 0,
          "min": "5.0",
          "max": "892689.44",
          "histogram": [
           {
            "bin_start": 5,
            "bin_end": 89273.44399999999,
            "count": 2
           },
           {
            "bin_start": 89273.44399999999,
            "bin_end": 178541.88799999998,
            "count": 0
           },
           {
            "bin_start": 178541.88799999998,
            "bin_end": 267810.33199999994,
            "count": 0
           },
           {
            "bin_start": 267810.33199999994,
            "bin_end": 357078.77599999995,
            "count": 0
           },
           {
            "bin_start": 357078.77599999995,
            "bin_end": 446347.22,
            "count": 0
           },
           {
            "bin_start": 446347.22,
            "bin_end": 535615.6639999999,
            "count": 0
           },
           {
            "bin_start": 535615.6639999999,
            "bin_end": 624884.1079999999,
            "count": 0
           },
           {
            "bin_start": 624884.1079999999,
            "bin_end": 714152.5519999999,
            "count": 0
           },
           {
            "bin_start": 714152.5519999999,
            "bin_end": 803420.9959999999,
            "count": 1
           },
           {
            "bin_start": 803420.9959999999,
            "bin_end": 892689.44,
            "count": 5
           }
          ]
         }
        },
        {
         "name": "Marzo",
         "dtype": "float64",
         "stats": {
          "unique_count": 8,
          "nan_count": 0,
          "min": "5.0",
          "max": "884876.14",
          "histogram": [
           {
            "bin_start": 5,
            "bin_end": 88492.114,
            "count": 2
           },
           {
            "bin_start": 88492.114,
            "bin_end": 176979.228,
            "count": 0
           },
           {
            "bin_start": 176979.228,
            "bin_end": 265466.342,
            "count": 0
           },
           {
            "bin_start": 265466.342,
            "bin_end": 353953.456,
            "count": 0
           },
           {
            "bin_start": 353953.456,
            "bin_end": 442440.57,
            "count": 0
           },
           {
            "bin_start": 442440.57,
            "bin_end": 530927.684,
            "count": 0
           },
           {
            "bin_start": 530927.684,
            "bin_end": 619414.798,
            "count": 0
           },
           {
            "bin_start": 619414.798,
            "bin_end": 707901.912,
            "count": 0
           },
           {
            "bin_start": 707901.912,
            "bin_end": 796389.0260000001,
            "count": 1
           },
           {
            "bin_start": 796389.0260000001,
            "bin_end": 884876.14,
            "count": 5
           }
          ]
         }
        },
        {
         "name": "Abril",
         "dtype": "float64",
         "stats": {
          "unique_count": 8,
          "nan_count": 0,
          "min": "5.0",
          "max": "891011.43",
          "histogram": [
           {
            "bin_start": 5,
            "bin_end": 89105.64300000001,
            "count": 2
           },
           {
            "bin_start": 89105.64300000001,
            "bin_end": 178206.28600000002,
            "count": 0
           },
           {
            "bin_start": 178206.28600000002,
            "bin_end": 267306.929,
            "count": 0
           },
           {
            "bin_start": 267306.929,
            "bin_end": 356407.57200000004,
            "count": 0
           },
           {
            "bin_start": 356407.57200000004,
            "bin_end": 445508.2150000001,
            "count": 0
           },
           {
            "bin_start": 445508.2150000001,
            "bin_end": 534608.858,
            "count": 0
           },
           {
            "bin_start": 534608.858,
            "bin_end": 623709.501,
            "count": 0
           },
           {
            "bin_start": 623709.501,
            "bin_end": 712810.1440000001,
            "count": 0
           },
           {
            "bin_start": 712810.1440000001,
            "bin_end": 801910.7870000001,
            "count": 2
           },
           {
            "bin_start": 801910.7870000001,
            "bin_end": 891011.43,
            "count": 4
           }
          ]
         }
        },
        {
         "name": "Mayo",
         "dtype": "float64",
         "stats": {
          "unique_count": 8,
          "nan_count": 0,
          "min": "5.0",
          "max": "894518.58",
          "histogram": [
           {
            "bin_start": 5,
            "bin_end": 89456.358,
            "count": 2
           },
           {
            "bin_start": 89456.358,
            "bin_end": 178907.716,
            "count": 0
           },
           {
            "bin_start": 178907.716,
            "bin_end": 268359.07399999996,
            "count": 0
           },
           {
            "bin_start": 268359.07399999996,
            "bin_end": 357810.432,
            "count": 0
           },
           {
            "bin_start": 357810.432,
            "bin_end": 447261.79,
            "count": 0
           },
           {
            "bin_start": 447261.79,
            "bin_end": 536713.1479999999,
            "count": 0
           },
           {
            "bin_start": 536713.1479999999,
            "bin_end": 626164.5059999999,
            "count": 0
           },
           {
            "bin_start": 626164.5059999999,
            "bin_end": 715615.864,
            "count": 1
           },
           {
            "bin_start": 715615.864,
            "bin_end": 805067.222,
            "count": 1
           },
           {
            "bin_start": 805067.222,
            "bin_end": 894518.58,
            "count": 4
           }
          ]
         }
        },
        {
         "name": "Junio",
         "dtype": "float64",
         "stats": {
          "unique_count": 8,
          "nan_count": 0,
          "min": "5.0",
          "max": "892187.45",
          "histogram": [
           {
            "bin_start": 5,
            "bin_end": 89223.245,
            "count": 2
           },
           {
            "bin_start": 89223.245,
            "bin_end": 178441.49,
            "count": 0
           },
           {
            "bin_start": 178441.49,
            "bin_end": 267659.735,
            "count": 0
           },
           {
            "bin_start": 267659.735,
            "bin_end": 356877.98,
            "count": 0
           },
           {
            "bin_start": 356877.98,
            "bin_end": 446096.225,
            "count": 0
           },
           {
            "bin_start": 446096.225,
            "bin_end": 535314.47,
            "count": 0
           },
           {
            "bin_start": 535314.47,
            "bin_end": 624532.715,
            "count": 0
           },
           {
            "bin_start": 624532.715,
            "bin_end": 713750.96,
            "count": 1
           },
           {
            "bin_start": 713750.96,
            "bin_end": 802969.205,
            "count": 1
           },
           {
            "bin_start": 802969.205,
            "bin_end": 892187.45,
            "count": 4
           }
          ]
         }
        },
        {
         "name": "Julio",
         "dtype": "float64",
         "stats": {
          "unique_count": 8,
          "nan_count": 0,
          "min": "5.0",
          "max": "868749.88",
          "histogram": [
           {
            "bin_start": 5,
            "bin_end": 86879.488,
            "count": 2
           },
           {
            "bin_start": 86879.488,
            "bin_end": 173753.976,
            "count": 0
           },
           {
            "bin_start": 173753.976,
            "bin_end": 260628.46399999998,
            "count": 0
           },
           {
            "bin_start": 260628.46399999998,
            "bin_end": 347502.952,
            "count": 0
           },
           {
            "bin_start": 347502.952,
            "bin_end": 434377.44,
            "count": 0
           },
           {
            "bin_start": 434377.44,
            "bin_end": 521251.92799999996,
            "count": 0
           },
           {
            "bin_start": 521251.92799999996,
            "bin_end": 608126.416,
            "count": 0
           },
           {
            "bin_start": 608126.416,
            "bin_end": 695000.904,
            "count": 0
           },
           {
            "bin_start": 695000.904,
            "bin_end": 781875.392,
            "count": 2
           },
           {
            "bin_start": 781875.392,
            "bin_end": 868749.88,
            "count": 4
           }
          ]
         }
        },
        {
         "name": "Agosto",
         "dtype": "float64",
         "stats": {
          "unique_count": 8,
          "nan_count": 0,
          "min": "5.0",
          "max": "882863.58",
          "histogram": [
           {
            "bin_start": 5,
            "bin_end": 88290.858,
            "count": 2
           },
           {
            "bin_start": 88290.858,
            "bin_end": 176576.716,
            "count": 0
           },
           {
            "bin_start": 176576.716,
            "bin_end": 264862.57399999996,
            "count": 0
           },
           {
            "bin_start": 264862.57399999996,
            "bin_end": 353148.432,
            "count": 0
           },
           {
            "bin_start": 353148.432,
            "bin_end": 441434.29,
            "count": 0
           },
           {
            "bin_start": 441434.29,
            "bin_end": 529720.1479999999,
            "count": 0
           },
           {
            "bin_start": 529720.1479999999,
            "bin_end": 618006.0059999999,
            "count": 0
           },
           {
            "bin_start": 618006.0059999999,
            "bin_end": 706291.864,
            "count": 0
           },
           {
            "bin_start": 706291.864,
            "bin_end": 794577.722,
            "count": 2
           },
           {
            "bin_start": 794577.722,
            "bin_end": 882863.58,
            "count": 4
           }
          ]
         }
        },
        {
         "name": "Septiembre",
         "dtype": "float64",
         "stats": {
          "unique_count": 8,
          "nan_count": 0,
          "min": "0.0",
          "max": "879497.42",
          "histogram": [
           {
            "bin_start": 0,
            "bin_end": 87949.742,
            "count": 2
           },
           {
            "bin_start": 87949.742,
            "bin_end": 175899.484,
            "count": 0
           },
           {
            "bin_start": 175899.484,
            "bin_end": 263849.226,
            "count": 0
           },
           {
            "bin_start": 263849.226,
            "bin_end": 351798.968,
            "count": 0
           },
           {
            "bin_start": 351798.968,
            "bin_end": 439748.70999999996,
            "count": 1
           },
           {
            "bin_start": 439748.70999999996,
            "bin_end": 527698.452,
            "count": 0
           },
           {
            "bin_start": 527698.452,
            "bin_end": 615648.194,
            "count": 0
           },
           {
            "bin_start": 615648.194,
            "bin_end": 703597.936,
            "count": 1
           },
           {
            "bin_start": 703597.936,
            "bin_end": 791547.678,
            "count": 1
           },
           {
            "bin_start": 791547.678,
            "bin_end": 879497.42,
            "count": 3
           }
          ]
         }
        },
        {
         "name": "Octubre",
         "dtype": "float64",
         "stats": {
          "unique_count": 8,
          "nan_count": 0,
          "min": "0.0",
          "max": "882748.79",
          "histogram": [
           {
            "bin_start": 0,
            "bin_end": 88274.879,
            "count": 2
           },
           {
            "bin_start": 88274.879,
            "bin_end": 176549.758,
            "count": 0
           },
           {
            "bin_start": 176549.758,
            "bin_end": 264824.637,
            "count": 0
           },
           {
            "bin_start": 264824.637,
            "bin_end": 353099.516,
            "count": 0
           },
           {
            "bin_start": 353099.516,
            "bin_end": 441374.395,
            "count": 1
           },
           {
            "bin_start": 441374.395,
            "bin_end": 529649.274,
            "count": 0
           },
           {
            "bin_start": 529649.274,
            "bin_end": 617924.153,
            "count": 0
           },
           {
            "bin_start": 617924.153,
            "bin_end": 706199.032,
            "count": 1
           },
           {
            "bin_start": 706199.032,
            "bin_end": 794473.911,
            "count": 1
           },
           {
            "bin_start": 794473.911,
            "bin_end": 882748.79,
            "count": 3
           }
          ]
         }
        },
        {
         "name": "Noviembre",
         "dtype": "float64",
         "stats": {
          "unique_count": 8,
          "nan_count": 0,
          "min": "0.0",
          "max": "883264.0",
          "histogram": [
           {
            "bin_start": 0,
            "bin_end": 88326.4,
            "count": 2
           },
           {
            "bin_start": 88326.4,
            "bin_end": 176652.8,
            "count": 0
           },
           {
            "bin_start": 176652.8,
            "bin_end": 264979.19999999995,
            "count": 0
           },
           {
            "bin_start": 264979.19999999995,
            "bin_end": 353305.6,
            "count": 0
           },
           {
            "bin_start": 353305.6,
            "bin_end": 441632,
            "count": 1
           },
           {
            "bin_start": 441632,
            "bin_end": 529958.3999999999,
            "count": 0
           },
           {
            "bin_start": 529958.3999999999,
            "bin_end": 618284.7999999999,
            "count": 0
           },
           {
            "bin_start": 618284.7999999999,
            "bin_end": 706611.2,
            "count": 1
           },
           {
            "bin_start": 706611.2,
            "bin_end": 794937.6,
            "count": 1
           },
           {
            "bin_start": 794937.6,
            "bin_end": 883264,
            "count": 3
           }
          ]
         }
        },
        {
         "name": "Diciembre",
         "dtype": "float64",
         "stats": {
          "unique_count": 8,
          "nan_count": 0,
          "min": "0.0",
          "max": "889383.0",
          "histogram": [
           {
            "bin_start": 0,
            "bin_end": 88938.3,
            "count": 2
           },
           {
            "bin_start": 88938.3,
            "bin_end": 177876.6,
            "count": 0
           },
           {
            "bin_start": 177876.6,
            "bin_end": 266814.9,
            "count": 0
           },
           {
            "bin_start": 266814.9,
            "bin_end": 355753.2,
            "count": 0
           },
           {
            "bin_start": 355753.2,
            "bin_end": 444691.5,
            "count": 1
           },
           {
            "bin_start": 444691.5,
            "bin_end": 533629.8,
            "count": 0
           },
           {
            "bin_start": 533629.8,
            "bin_end": 622568.1,
            "count": 0
           },
           {
            "bin_start": 622568.1,
            "bin_end": 711506.4,
            "count": 1
           },
           {
            "bin_start": 711506.4,
            "bin_end": 800444.7000000001,
            "count": 1
           },
           {
            "bin_start": 800444.7000000001,
            "bin_end": 889383,
            "count": 3
           }
          ]
         }
        },
        {
         "name": "Total producido año (BPD)",
         "dtype": "float64",
         "stats": {
          "unique_count": 8,
          "nan_count": 0,
          "min": "5.0",
          "max": "885884.06",
          "histogram": [
           {
            "bin_start": 5,
            "bin_end": 88592.906,
            "count": 2
           },
           {
            "bin_start": 88592.906,
            "bin_end": 177180.812,
            "count": 0
           },
           {
            "bin_start": 177180.812,
            "bin_end": 265768.718,
            "count": 0
           },
           {
            "bin_start": 265768.718,
            "bin_end": 354356.624,
            "count": 0
           },
           {
            "bin_start": 354356.624,
            "bin_end": 442944.53,
            "count": 0
           },
           {
            "bin_start": 442944.53,
            "bin_end": 531532.436,
            "count": 0
           },
           {
            "bin_start": 531532.436,
            "bin_end": 620120.3420000001,
            "count": 0
           },
           {
            "bin_start": 620120.3420000001,
            "bin_end": 708708.248,
            "count": 0
           },
           {
            "bin_start": 708708.248,
            "bin_end": 797296.154,
            "count": 2
           },
           {
            "bin_start": 797296.154,
            "bin_end": 885884.06,
            "count": 4
           }
          ]
         }
        },
        {
         "name": "_deepnote_index_column",
         "dtype": "object"
        }
       ],
       "rows": [
        {
         "Año": 5,
         "Enero": 5,
         "Febrero": 5,
         "Marzo": 5,
         "Abril": 5,
         "Mayo": 5,
         "Junio": 5,
         "Julio": 5,
         "Agosto": 5,
         "Septiembre": 5,
         "Octubre": 5,
         "Noviembre": 5,
         "Diciembre": 5,
         "Total producido año (BPD)": 5,
         "_deepnote_index_column": "count"
        },
        {
         "Año": 2019,
         "Enero": 849928.782,
         "Febrero": 840939.5480000001,
         "Marzo": 829645.6020000001,
         "Abril": 831173.882,
         "Mayo": 809769.146,
         "Junio": 807398.7180000001,
         "Julio": 810356.894,
         "Agosto": 819548.658,
         "Septiembre": 669930.3019999999,
         "Octubre": 675366.576,
         "Noviembre": 675106.1599999999,
         "Diciembre": 680386.946,
         "Total producido año (BPD)": 823785.928,
         "_deepnote_index_column": "mean"
        },
        {
         "Año": 1.5811388300841898,
         "Enero": 60657.096216989485,
         "Febrero": 59168.50234453733,
         "Marzo": 55366.15266619237,
         "Abril": 59202.17307104463,
         "Mayo": 85825.62545241413,
         "Junio": 88958.83326672016,
         "Julio": 70665.99065888471,
         "Agosto": 68703.10198913088,
         "Septiembre": 378070.34327744105,
         "Octubre": 381392.01670077385,
         "Noviembre": 380629.6745975384,
         "Diciembre": 383977.72688497114,
         "Total producido año (BPD)": 64520.11161881985,
         "_deepnote_index_column": "std"
        },
        {
         "Año": 2017,
         "Enero": 745403,
         "Febrero": 745773,
         "Marzo": 745426,
         "Abril": 745490,
         "Mayo": 703530,
         "Junio": 694152,
         "Julio": 731241,
         "Agosto": 742090.71,
         "Septiembre": 0,
         "Octubre": 0,
         "Noviembre": 0,
         "Diciembre": 0,
         "Total producido año (BPD)": 732349.88,
         "_deepnote_index_column": "min"
        },
        {
         "Año": 2018,
         "Enero": 860477,
         "Febrero": 823324,
         "Marzo": 804304,
         "Abril": 796163.98,
         "Mayo": 732276.15,
         "Junio": 729905.14,
         "Julio": 734986.59,
         "Agosto": 747784,
         "Septiembre": 749256.09,
         "Octubre": 751376.09,
         "Noviembre": 760943,
         "Diciembre": 760018.42,
         "Total producido año (BPD)": 781369.45,
         "_deepnote_index_column": "25%"
        },
        {
         "Año": 2019,
         "Enero": 860876,
         "Febrero": 864522,
         "Marzo": 856509,
         "Abril": 858448,
         "Mayo": 852516,
         "Junio": 857011,
         "Julio": 856400,
         "Agosto": 858520,
         "Septiembre": 852190,
         "Octubre": 863854,
         "Noviembre": 851053,
         "Diciembre": 870311,
         "Total producido año (BPD)": 854133.83,
         "_deepnote_index_column": "50%"
        },
        {
         "Año": 2020,
         "Enero": 883915.06,
         "Febrero": 878389.3,
         "Marzo": 857112.87,
         "Abril": 864756,
         "Mayo": 866005,
         "Junio": 863738,
         "Julio": 860407,
         "Agosto": 866485,
         "Septiembre": 868708,
         "Octubre": 878854,
         "Noviembre": 880270.8,
         "Diciembre": 882222.31,
         "Total producido año (BPD)": 865192.42,
         "_deepnote_index_column": "75%"
        },
        {
         "Año": 2021,
         "Enero": 898972.85,
         "Febrero": 892689.44,
         "Marzo": 884876.14,
         "Abril": 891011.43,
         "Mayo": 894518.58,
         "Junio": 892187.45,
         "Julio": 868749.88,
         "Agosto": 882863.58,
         "Septiembre": 879497.42,
         "Octubre": 882748.79,
         "Noviembre": 883264,
         "Diciembre": 889383,
         "Total producido año (BPD)": 885884.06,
         "_deepnote_index_column": "max"
        }
       ]
      },
      "text/plain": "               Año          Enero        Febrero          Marzo  \\\ncount     5.000000       5.000000       5.000000       5.000000   \nmean   2019.000000  849928.782000  840939.548000  829645.602000   \nstd       1.581139   60657.096217   59168.502345   55366.152666   \nmin    2017.000000  745403.000000  745773.000000  745426.000000   \n25%    2018.000000  860477.000000  823324.000000  804304.000000   \n50%    2019.000000  860876.000000  864522.000000  856509.000000   \n75%    2020.000000  883915.060000  878389.300000  857112.870000   \nmax    2021.000000  898972.850000  892689.440000  884876.140000   \n\n               Abril           Mayo          Junio          Julio  \\\ncount       5.000000       5.000000       5.000000       5.000000   \nmean   831173.882000  809769.146000  807398.718000  810356.894000   \nstd     59202.173071   85825.625452   88958.833267   70665.990659   \nmin    745490.000000  703530.000000  694152.000000  731241.000000   \n25%    796163.980000  732276.150000  729905.140000  734986.590000   \n50%    858448.000000  852516.000000  857011.000000  856400.000000   \n75%    864756.000000  866005.000000  863738.000000  860407.000000   \nmax    891011.430000  894518.580000  892187.450000  868749.880000   \n\n              Agosto     Septiembre        Octubre      Noviembre  \\\ncount       5.000000       5.000000       5.000000       5.000000   \nmean   819548.658000  669930.302000  675366.576000  675106.160000   \nstd     68703.101989  378070.343277  381392.016701  380629.674598   \nmin    742090.710000       0.000000       0.000000       0.000000   \n25%    747784.000000  749256.090000  751376.090000  760943.000000   \n50%    858520.000000  852190.000000  863854.000000  851053.000000   \n75%    866485.000000  868708.000000  878854.000000  880270.800000   \nmax    882863.580000  879497.420000  882748.790000  883264.000000   \n\n           Diciembre  Total producido año (BPD)  \ncount       5.000000                   5.000000  \nmean   680386.946000              823785.928000  \nstd    383977.726885               64520.111619  \nmin         0.000000              732349.880000  \n25%    760018.420000              781369.450000  \n50%    870311.000000              854133.830000  \n75%    882222.310000              865192.420000  \nmax    889383.000000              885884.060000  ",
      "text/html": "<div>\n<style scoped>\n    .dataframe tbody tr th:only-of-type {\n        vertical-align: middle;\n    }\n\n    .dataframe tbody tr th {\n        vertical-align: top;\n    }\n\n    .dataframe thead th {\n        text-align: right;\n    }\n</style>\n<table border=\"1\" class=\"dataframe\">\n  <thead>\n    <tr style=\"text-align: right;\">\n      <th></th>\n      <th>Año</th>\n      <th>Enero</th>\n      <th>Febrero</th>\n      <th>Marzo</th>\n      <th>Abril</th>\n      <th>Mayo</th>\n      <th>Junio</th>\n      <th>Julio</th>\n      <th>Agosto</th>\n      <th>Septiembre</th>\n      <th>Octubre</th>\n      <th>Noviembre</th>\n      <th>Diciembre</th>\n      <th>Total producido año (BPD)</th>\n    </tr>\n  </thead>\n  <tbody>\n    <tr>\n      <th>count</th>\n      <td>5.000000</td>\n      <td>5.000000</td>\n      <td>5.000000</td>\n      <td>5.000000</td>\n      <td>5.000000</td>\n      <td>5.000000</td>\n      <td>5.000000</td>\n      <td>5.000000</td>\n      <td>5.000000</td>\n      <td>5.000000</td>\n      <td>5.000000</td>\n      <td>5.000000</td>\n      <td>5.000000</td>\n      <td>5.000000</td>\n    </tr>\n    <tr>\n      <th>mean</th>\n      <td>2019.000000</td>\n      <td>849928.782000</td>\n      <td>840939.548000</td>\n      <td>829645.602000</td>\n      <td>831173.882000</td>\n      <td>809769.146000</td>\n      <td>807398.718000</td>\n      <td>810356.894000</td>\n      <td>819548.658000</td>\n      <td>669930.302000</td>\n      <td>675366.576000</td>\n      <td>675106.160000</td>\n      <td>680386.946000</td>\n      <td>823785.928000</td>\n    </tr>\n    <tr>\n      <th>std</th>\n      <td>1.581139</td>\n      <td>60657.096217</td>\n      <td>59168.502345</td>\n      <td>55366.152666</td>\n      <td>59202.173071</td>\n      <td>85825.625452</td>\n      <td>88958.833267</td>\n      <td>70665.990659</td>\n      <td>68703.101989</td>\n      <td>378070.343277</td>\n      <td>381392.016701</td>\n      <td>380629.674598</td>\n      <td>383977.726885</td>\n      <td>64520.111619</td>\n    </tr>\n    <tr>\n      <th>min</th>\n      <td>2017.000000</td>\n      <td>745403.000000</td>\n      <td>745773.000000</td>\n      <td>745426.000000</td>\n      <td>745490.000000</td>\n      <td>703530.000000</td>\n      <td>694152.000000</td>\n      <td>731241.000000</td>\n      <td>742090.710000</td>\n      <td>0.000000</td>\n      <td>0.000000</td>\n      <td>0.000000</td>\n      <td>0.000000</td>\n      <td>732349.880000</td>\n    </tr>\n    <tr>\n      <th>25%</th>\n      <td>2018.000000</td>\n      <td>860477.000000</td>\n      <td>823324.000000</td>\n      <td>804304.000000</td>\n      <td>796163.980000</td>\n      <td>732276.150000</td>\n      <td>729905.140000</td>\n      <td>734986.590000</td>\n      <td>747784.000000</td>\n      <td>749256.090000</td>\n      <td>751376.090000</td>\n      <td>760943.000000</td>\n      <td>760018.420000</td>\n      <td>781369.450000</td>\n    </tr>\n    <tr>\n      <th>50%</th>\n      <td>2019.000000</td>\n      <td>860876.000000</td>\n      <td>864522.000000</td>\n      <td>856509.000000</td>\n      <td>858448.000000</td>\n      <td>852516.000000</td>\n      <td>857011.000000</td>\n      <td>856400.000000</td>\n      <td>858520.000000</td>\n      <td>852190.000000</td>\n      <td>863854.000000</td>\n      <td>851053.000000</td>\n      <td>870311.000000</td>\n      <td>854133.830000</td>\n    </tr>\n    <tr>\n      <th>75%</th>\n      <td>2020.000000</td>\n      <td>883915.060000</td>\n      <td>878389.300000</td>\n      <td>857112.870000</td>\n      <td>864756.000000</td>\n      <td>866005.000000</td>\n      <td>863738.000000</td>\n      <td>860407.000000</td>\n      <td>866485.000000</td>\n      <td>868708.000000</td>\n      <td>878854.000000</td>\n      <td>880270.800000</td>\n      <td>882222.310000</td>\n      <td>865192.420000</td>\n    </tr>\n    <tr>\n      <th>max</th>\n      <td>2021.000000</td>\n      <td>898972.850000</td>\n      <td>892689.440000</td>\n      <td>884876.140000</td>\n      <td>891011.430000</td>\n      <td>894518.580000</td>\n      <td>892187.450000</td>\n      <td>868749.880000</td>\n      <td>882863.580000</td>\n      <td>879497.420000</td>\n      <td>882748.790000</td>\n      <td>883264.000000</td>\n      <td>889383.000000</td>\n      <td>885884.060000</td>\n    </tr>\n  </tbody>\n</table>\n</div>"
     },
     "metadata": {}
    }
   ]
  },
  {
   "cell_type": "markdown",
   "source": "### Análisis de producción por departamento. ",
   "metadata": {
    "formattedRanges": [],
    "is_collapsed": false,
    "cell_id": "74100d3446f4401fb1c47214d23a8982",
    "tags": [],
    "deepnote_app_coordinates": {
     "x": 0,
     "y": 208,
     "w": 12,
     "h": 5
    },
    "deepnote_cell_type": "text-cell-h3"
   }
  },
  {
   "cell_type": "markdown",
   "source": "Se agrupan y se suma todo lo producido por cada departamento en los diferentes meses y años. Después se agrupa por índice y se hace una suma del producido total por cada uno de estos. ",
   "metadata": {
    "formattedRanges": [],
    "is_collapsed": false,
    "cell_id": "d4e5934871eb4dc987cbfbd13108af71",
    "tags": [],
    "deepnote_app_coordinates": {
     "x": 0,
     "y": 214,
     "w": 8,
     "h": 2
    },
    "deepnote_cell_type": "text-cell-p"
   }
  },
  {
   "cell_type": "code",
   "metadata": {
    "cell_id": "dc1cf84eaa234595a9a5e74ae80027f1",
    "tags": [],
    "deepnote_to_be_reexecuted": false,
    "source_hash": "64d3f08f",
    "execution_start": 1660676388907,
    "execution_millis": 729,
    "deepnote_app_coordinates": {
     "x": 0,
     "y": 217,
     "w": 12,
     "h": 5
    },
    "deepnote_cell_type": "code"
   },
   "source": "departamento_mayor_produccion = df_produccion_petroleo.groupby('Departamento').sum()[meses].reset_index()\ndepartamento_mayor_produccion['Total'] = departamento_mayor_produccion.loc[:,meses].sum(axis=1).round(2)\ndepartamento_mayor_produccion = departamento_mayor_produccion.sort_values(by='Total', ascending=False).plot(kind='bar',x='Departamento',y='Total',figsize=(12,8))\nplt.title('Producción total de petróleo por departamento')\nplt.ylabel('Producción total');",
   "execution_count": null,
   "outputs": [
    {
     "data": {
      "text/plain": "<Figure size 864x576 with 1 Axes>",
      "image/png": "[encoded data removed]"
     },
     "metadata": {
      "needs_background": "light",
      "image/png": {
       "width": 720,
       "height": 601
      }
     },
     "output_type": "display_data"
    }
   ]
  },
  {
   "cell_type": "markdown",
   "source": "El departamento en donde ha existido una mayor producción de petróleo en el periodo del 2017 al 2021, es el departamento del Meta, con una gran diferencia.",
   "metadata": {
    "formattedRanges": [],
    "is_collapsed": false,
    "cell_id": "b80c27ac6ef0481bac0dd20ff0d9c3cf",
    "tags": [],
    "deepnote_app_coordinates": {
     "x": 0,
     "y": 223,
     "w": 8,
     "h": 2
    },
    "deepnote_cell_type": "text-cell-p"
   }
  },
  {
   "cell_type": "code",
   "metadata": {
    "cell_id": "d55f0e03b98247138ff65916269a1641",
    "tags": [],
    "deepnote_to_be_reexecuted": false,
    "source_hash": "6f198f2f",
    "execution_start": 1660676389639,
    "execution_millis": 37,
    "deepnote_app_coordinates": {
     "x": 0,
     "y": 226,
     "w": 12,
     "h": 5
    },
    "deepnote_cell_type": "code"
   },
   "source": "campos_petrolificos_por_departamento = df_produccion_petroleo.groupby('Departamento').count()['Campo'].reset_index().sort_values(by='Campo',ascending=False)\ncampos_petrolificos_por_departamento ",
   "execution_count": null,
   "outputs": [
    {
     "output_type": "execute_result",
     "execution_count": 24,
     "data": {
      "application/vnd.deepnote.dataframe.v3+json": {
       "column_count": 2,
       "row_count": 21,
       "columns": [
        {
         "name": "Departamento",
         "dtype": "object",
         "stats": {
          "unique_count": 21,
          "nan_count": 0,
          "categories": [
           {
            "name": "CASANARE",
            "count": 1
           },
           {
            "name": "META",
            "count": 1
           },
           {
            "name": "19 others",
            "count": 19
           }
          ]
         }
        },
        {
         "name": "Campo",
         "dtype": "int64",
         "stats": {
          "unique_count": 20,
          "nan_count": 0,
          "min": "1",
          "max": "846",
          "histogram": [
           {
            "bin_start": 1,
            "bin_end": 85.5,
            "count": 13
           },
           {
            "bin_start": 85.5,
            "bin_end": 170,
            "count": 6
           },
           {
            "bin_start": 170,
            "bin_end": 254.5,
            "count": 0
           },
           {
            "bin_start": 254.5,
            "bin_end": 339,
            "count": 0
           },
           {
            "bin_start": 339,
            "bin_end": 423.5,
            "count": 1
           },
           {
            "bin_start": 423.5,
            "bin_end": 508,
            "count": 0
           },
           {
            "bin_start": 508,
            "bin_end": 592.5,
            "count": 0
           },
           {
            "bin_start": 592.5,
            "bin_end": 677,
            "count": 0
           },
           {
            "bin_start": 677,
            "bin_end": 761.5,
            "count": 0
           },
           {
            "bin_start": 761.5,
            "bin_end": 846,
            "count": 1
           }
          ]
         }
        },
        {
         "name": "_deepnote_index_column",
         "dtype": "int64"
        }
       ],
       "rows": [
        {
         "Departamento": "CASANARE",
         "Campo": 846,
         "_deepnote_index_column": 6
        },
        {
         "Departamento": "META",
         "Campo": 378,
         "_deepnote_index_column": 14
        },
        {
         "Departamento": "SANTANDER",
         "Campo": 162,
         "_deepnote_index_column": 18
        },
        {
         "Departamento": "PUTUMAYO",
         "Campo": 143,
         "_deepnote_index_column": 17
        },
        {
         "Departamento": "HUILA",
         "Campo": 139,
         "_deepnote_index_column": 12
        },
        {
         "Departamento": "ARAUCA",
         "Campo": 123,
         "_deepnote_index_column": 1
        },
        {
         "Departamento": "TOLIMA",
         "Campo": 103,
         "_deepnote_index_column": 20
        },
        {
         "Departamento": "CESAR",
         "Campo": 92,
         "_deepnote_index_column": 8
        },
        {
         "Departamento": "BOYACA",
         "Campo": 61,
         "_deepnote_index_column": 4
        },
        {
         "Departamento": "ANTIOQUIA",
         "Campo": 36,
         "_deepnote_index_column": 0
        }
       ]
      },
      "text/plain": "          Departamento  Campo\n6             CASANARE    846\n14                META    378\n18           SANTANDER    162\n17            PUTUMAYO    143\n12               HUILA    139\n1               ARAUCA    123\n20              TOLIMA    103\n8                CESAR     92\n4               BOYACA     61\n0            ANTIOQUIA     36\n16  NORTE DE SANTANDER     24\n3              BOLIVAR     24\n13           MAGDALENA     23\n19               SUCRE     19\n7                CAUCA     15\n10        CUNDINAMARCA     12\n9              CORDOBA      9\n2            ATLANTICO      8\n15              NARINO      5\n11     DEPARTAMENTO NN      3\n5              CAQUETA      1",
      "text/html": "<div>\n<style scoped>\n    .dataframe tbody tr th:only-of-type {\n        vertical-align: middle;\n    }\n\n    .dataframe tbody tr th {\n        vertical-align: top;\n    }\n\n    .dataframe thead th {\n        text-align: right;\n    }\n</style>\n<table border=\"1\" class=\"dataframe\">\n  <thead>\n    <tr style=\"text-align: right;\">\n      <th></th>\n      <th>Departamento</th>\n      <th>Campo</th>\n    </tr>\n  </thead>\n  <tbody>\n    <tr>\n      <th>6</th>\n      <td>CASANARE</td>\n      <td>846</td>\n    </tr>\n    <tr>\n      <th>14</th>\n      <td>META</td>\n      <td>378</td>\n    </tr>\n    <tr>\n      <th>18</th>\n      <td>SANTANDER</td>\n      <td>162</td>\n    </tr>\n    <tr>\n      <th>17</th>\n      <td>PUTUMAYO</td>\n      <td>143</td>\n    </tr>\n    <tr>\n      <th>12</th>\n      <td>HUILA</td>\n      <td>139</td>\n    </tr>\n    <tr>\n      <th>1</th>\n      <td>ARAUCA</td>\n      <td>123</td>\n    </tr>\n    <tr>\n      <th>20</th>\n      <td>TOLIMA</td>\n      <td>103</td>\n    </tr>\n    <tr>\n      <th>8</th>\n      <td>CESAR</td>\n      <td>92</td>\n    </tr>\n    <tr>\n      <th>4</th>\n      <td>BOYACA</td>\n      <td>61</td>\n    </tr>\n    <tr>\n      <th>0</th>\n      <td>ANTIOQUIA</td>\n      <td>36</td>\n    </tr>\n    <tr>\n      <th>16</th>\n      <td>NORTE DE SANTANDER</td>\n      <td>24</td>\n    </tr>\n    <tr>\n      <th>3</th>\n      <td>BOLIVAR</td>\n      <td>24</td>\n    </tr>\n    <tr>\n      <th>13</th>\n      <td>MAGDALENA</td>\n      <td>23</td>\n    </tr>\n    <tr>\n      <th>19</th>\n      <td>SUCRE</td>\n      <td>19</td>\n    </tr>\n    <tr>\n      <th>7</th>\n      <td>CAUCA</td>\n      <td>15</td>\n    </tr>\n    <tr>\n      <th>10</th>\n      <td>CUNDINAMARCA</td>\n      <td>12</td>\n    </tr>\n    <tr>\n      <th>9</th>\n      <td>CORDOBA</td>\n      <td>9</td>\n    </tr>\n    <tr>\n      <th>2</th>\n      <td>ATLANTICO</td>\n      <td>8</td>\n    </tr>\n    <tr>\n      <th>15</th>\n      <td>NARINO</td>\n      <td>5</td>\n    </tr>\n    <tr>\n      <th>11</th>\n      <td>DEPARTAMENTO NN</td>\n      <td>3</td>\n    </tr>\n    <tr>\n      <th>5</th>\n      <td>CAQUETA</td>\n      <td>1</td>\n    </tr>\n  </tbody>\n</table>\n</div>"
     },
     "metadata": {}
    }
   ]
  },
  {
   "cell_type": "markdown",
   "source": "El departamento de Casanare tiene una mayor cantidad de pozos petroleros. Sin embargo, el departamento del Meta con muchos menos pozos genera una mayor cantidad de petróleo. ",
   "metadata": {
    "formattedRanges": [],
    "is_collapsed": false,
    "cell_id": "72c6881e05d441c8b40772f8a7cfde9e",
    "tags": [],
    "deepnote_app_coordinates": {
     "x": 0,
     "y": 232,
     "w": 8,
     "h": 2
    },
    "deepnote_cell_type": "text-cell-p"
   }
  },
  {
   "cell_type": "markdown",
   "source": "### Análisis de producción de petróleo por municipio. ",
   "metadata": {
    "formattedRanges": [],
    "is_collapsed": false,
    "cell_id": "15f453cdb5c04132a23c28314cbc1cee",
    "tags": [],
    "deepnote_app_coordinates": {
     "x": 0,
     "y": 235,
     "w": 12,
     "h": 5
    },
    "deepnote_cell_type": "text-cell-h3"
   }
  },
  {
   "cell_type": "markdown",
   "source": "Se agrupan y se suma todo lo producido por cada municipio en los diferentes meses y años. Después se agrupa por índice y se hace una suma del producido total por cada uno de estos. ",
   "metadata": {
    "formattedRanges": [],
    "is_collapsed": false,
    "cell_id": "1a98b657-f16c-4dd5-98d0-ad4dc60cadf5",
    "tags": [],
    "deepnote_app_coordinates": {
     "x": 0,
     "y": 241,
     "w": 8,
     "h": 2
    },
    "deepnote_cell_type": "text-cell-p"
   }
  },
  {
   "cell_type": "code",
   "metadata": {
    "cell_id": "edee47df3d9a479b824e4b24942ced96",
    "tags": [],
    "deepnote_to_be_reexecuted": false,
    "source_hash": "25c47bc",
    "execution_start": 1660676389687,
    "execution_millis": 913,
    "deepnote_app_coordinates": {
     "x": 0,
     "y": 244,
     "w": 12,
     "h": 5
    },
    "deepnote_cell_type": "code"
   },
   "source": "municipio_mayor_produccion = df_produccion_petroleo.groupby('Municipio').sum()[meses].reset_index()\nmunicipio_mayor_produccion['Total'] = municipio_mayor_produccion.loc[:,meses].sum(axis=1).round(2)\nmunicipio_mayor_produccion = municipio_mayor_produccion.sort_values(by='Total',ascending=False,ignore_index=True).loc[0:10].plot(kind='bar',x='Municipio',y='Total',figsize=(12,8))\nplt.title('Top 10 municipios en la producción total de petróleo')\nplt.ylabel('Producción total');",
   "execution_count": null,
   "outputs": [
    {
     "data": {
      "text/plain": "<Figure size 864x576 with 1 Axes>",
      "image/png": "[encoded data removed]"
     },
     "metadata": {
      "needs_background": "light",
      "image/png": {
       "width": 720,
       "height": 586
      }
     },
     "output_type": "display_data"
    }
   ]
  },
  {
   "cell_type": "markdown",
   "source": "El municipio de Puerto Gaitán es donde ha existido una mayor producción de petróleo, en el periodo del 2017 al 2021.",
   "metadata": {
    "formattedRanges": [],
    "is_collapsed": false,
    "cell_id": "bedb06b6-a718-4b6b-8460-2ca97c0cd069",
    "tags": [],
    "deepnote_app_coordinates": {
     "x": 0,
     "y": 250,
     "w": 8,
     "h": 2
    },
    "deepnote_cell_type": "text-cell-p"
   }
  },
  {
   "cell_type": "markdown",
   "source": "### Análisis de producción de petróleo por empresa.",
   "metadata": {
    "formattedRanges": [],
    "is_collapsed": false,
    "cell_id": "952d0644bbc7415987406516fa50ea21",
    "tags": [],
    "deepnote_app_coordinates": {
     "x": 0,
     "y": 253,
     "w": 12,
     "h": 5
    },
    "deepnote_cell_type": "text-cell-h3"
   }
  },
  {
   "cell_type": "markdown",
   "source": "Se agrupan y se suma todo lo producido por cada empresa en los diferentes meses y años. Después se agrupa por índice y se hace una suma del producido total por cada uno de estos. ",
   "metadata": {
    "formattedRanges": [],
    "is_collapsed": false,
    "cell_id": "f0f6b380-259d-4665-aa11-d8404d39710c",
    "tags": [],
    "deepnote_app_coordinates": {
     "x": 0,
     "y": 259,
     "w": 8,
     "h": 2
    },
    "deepnote_cell_type": "text-cell-p"
   }
  },
  {
   "cell_type": "code",
   "metadata": {
    "cell_id": "e32ff87f5a4048e2807bb8bf0d00cd56",
    "tags": [],
    "deepnote_to_be_reexecuted": false,
    "source_hash": "38b2d3fe",
    "execution_start": 1660676390060,
    "execution_millis": 568,
    "deepnote_app_coordinates": {
     "x": 0,
     "y": 262,
     "w": 12,
     "h": 5
    },
    "deepnote_cell_type": "code"
   },
   "source": "empresa_mayor_produccion = df_produccion_petroleo.groupby('Operadora').sum()[meses].reset_index()\nempresa_mayor_produccion ['Total'] = empresa_mayor_produccion.loc[:,meses].sum(axis=1).round(2)\nempresa_mayor_produccion = empresa_mayor_produccion.sort_values(by='Total',ascending=False,ignore_index=True).loc[0:10].plot(kind='bar',x='Operadora',y='Total',figsize=(12,8))\nplt.title('Top 10 empresas con la producción total de petróleo')\nplt.ylabel('Producción total');",
   "execution_count": null,
   "outputs": [
    {
     "data": {
      "text/plain": "<Figure size 864x576 with 1 Axes>",
      "image/png": "[encoded data removed]"
     },
     "metadata": {
      "needs_background": "light",
      "image/png": {
       "width": 721,
       "height": 737
      }
     },
     "output_type": "display_data"
    }
   ]
  },
  {
   "cell_type": "code",
   "metadata": {
    "cell_id": "5ac889a9ac7e4c8696e872a40c1bec75",
    "tags": [],
    "deepnote_to_be_reexecuted": false,
    "source_hash": "324a8af3",
    "execution_start": 1660676390454,
    "execution_millis": 174,
    "deepnote_app_coordinates": {
     "x": 0,
     "y": 268,
     "w": 12,
     "h": 5
    },
    "deepnote_cell_type": "code"
   },
   "source": "empresa_numero_campos = df_produccion_petroleo.groupby('Operadora').count()['Campo'].reset_index().sort_values(by='Campo',ascending=False)\nempresa_numero_campos",
   "execution_count": null,
   "outputs": [
    {
     "output_type": "execute_result",
     "execution_count": 27,
     "data": {
      "application/vnd.deepnote.dataframe.v3+json": {
       "column_count": 2,
       "row_count": 74,
       "columns": [
        {
         "name": "Operadora",
         "dtype": "object",
         "stats": {
          "unique_count": 74,
          "nan_count": 0,
          "categories": [
           {
            "name": "ECOPETROL S.A.",
            "count": 1
           },
           {
            "name": "Frontera Energy Colombia Corp Sucursal Colombia",
            "count": 1
           },
           {
            "name": "72 others",
            "count": 72
           }
          ]
         }
        },
        {
         "name": "Campo",
         "dtype": "int64",
         "stats": {
          "unique_count": 35,
          "nan_count": 0,
          "min": "1",
          "max": "562",
          "histogram": [
           {
            "bin_start": 1,
            "bin_end": 57.1,
            "count": 65
           },
           {
            "bin_start": 57.1,
            "bin_end": 113.2,
            "count": 5
           },
           {
            "bin_start": 113.2,
            "bin_end": 169.3,
            "count": 1
           },
           {
            "bin_start": 169.3,
            "bin_end": 225.4,
            "count": 1
           },
           {
            "bin_start": 225.4,
            "bin_end": 281.5,
            "count": 1
           },
           {
            "bin_start": 281.5,
            "bin_end": 337.6,
            "count": 0
           },
           {
            "bin_start": 337.6,
            "bin_end": 393.7,
            "count": 0
           },
           {
            "bin_start": 393.7,
            "bin_end": 449.8,
            "count": 0
           },
           {
            "bin_start": 449.8,
            "bin_end": 505.90000000000003,
            "count": 0
           },
           {
            "bin_start": 505.90000000000003,
            "bin_end": 562,
            "count": 1
           }
          ]
         }
        },
        {
         "name": "_deepnote_index_column",
         "dtype": "int64"
        }
       ],
       "rows": [
        {
         "Operadora": "ECOPETROL S.A.",
         "Campo": 562,
         "_deepnote_index_column": 18
        },
        {
         "Operadora": "Frontera Energy Colombia Corp Sucursal Colombia",
         "Campo": 244,
         "_deepnote_index_column": 22
        },
        {
         "Operadora": "PERENCO COLOMBIA LIMITED",
         "Campo": 173,
         "_deepnote_index_column": 53
        },
        {
         "Operadora": "HOCOL S.A.",
         "Campo": 137,
         "_deepnote_index_column": 32
        },
        {
         "Operadora": "GEOPARK COLOMBIA S.A.S.",
         "Campo": 89,
         "_deepnote_index_column": 24
        },
        {
         "Operadora": "GRAN TIERRA ENERGY COLOMBIA LTD",
         "Campo": 82,
         "_deepnote_index_column": 27
        },
        {
         "Operadora": "CEPSA COLOMBIA S.A.",
         "Campo": 69,
         "_deepnote_index_column": 7
        },
        {
         "Operadora": "OCCIDENTAL DE COLOMBIA LLC",
         "Campo": 68,
         "_deepnote_index_column": 46
        },
        {
         "Operadora": "PAREX RESOURCES COLOMBIA LTD. SUCURSAL",
         "Campo": 65,
         "_deepnote_index_column": 52
        },
        {
         "Operadora": "EMERALD ENERGY PLC SUCURSAL COLOMBIA",
         "Campo": 53,
         "_deepnote_index_column": 19
        }
       ]
      },
      "text/plain": "                                            Operadora  Campo\n18                                     ECOPETROL S.A.    562\n22    Frontera Energy Colombia Corp Sucursal Colombia    244\n53                           PERENCO COLOMBIA LIMITED    173\n32                                         HOCOL S.A.    137\n24                            GEOPARK COLOMBIA S.A.S.     89\n..                                                ...    ...\n23  GAS PETROLEO Y DERIVADOS DE COLOMBIA S.A.S PET...      1\n29                      GREEN POWER SUCURSAL COLOMBIA      1\n15                              COMTROL COLOMBIA S.A.      1\n38   LAGOSUR PETROLEUM COLOMBIA INC SUCURSAL COLOMBIA      1\n16           CONOCOPHILLIPS COLOMBIA VENTURES LIMITED      1\n\n[74 rows x 2 columns]",
      "text/html": "<div>\n<style scoped>\n    .dataframe tbody tr th:only-of-type {\n        vertical-align: middle;\n    }\n\n    .dataframe tbody tr th {\n        vertical-align: top;\n    }\n\n    .dataframe thead th {\n        text-align: right;\n    }\n</style>\n<table border=\"1\" class=\"dataframe\">\n  <thead>\n    <tr style=\"text-align: right;\">\n      <th></th>\n      <th>Operadora</th>\n      <th>Campo</th>\n    </tr>\n  </thead>\n  <tbody>\n    <tr>\n      <th>18</th>\n      <td>ECOPETROL S.A.</td>\n      <td>562</td>\n    </tr>\n    <tr>\n      <th>22</th>\n      <td>Frontera Energy Colombia Corp Sucursal Colombia</td>\n      <td>244</td>\n    </tr>\n    <tr>\n      <th>53</th>\n      <td>PERENCO COLOMBIA LIMITED</td>\n      <td>173</td>\n    </tr>\n    <tr>\n      <th>32</th>\n      <td>HOCOL S.A.</td>\n      <td>137</td>\n    </tr>\n    <tr>\n      <th>24</th>\n      <td>GEOPARK COLOMBIA S.A.S.</td>\n      <td>89</td>\n    </tr>\n    <tr>\n      <th>...</th>\n      <td>...</td>\n      <td>...</td>\n    </tr>\n    <tr>\n      <th>23</th>\n      <td>GAS PETROLEO Y DERIVADOS DE COLOMBIA S.A.S PET...</td>\n      <td>1</td>\n    </tr>\n    <tr>\n      <th>29</th>\n      <td>GREEN POWER SUCURSAL COLOMBIA</td>\n      <td>1</td>\n    </tr>\n    <tr>\n      <th>15</th>\n      <td>COMTROL COLOMBIA S.A.</td>\n      <td>1</td>\n    </tr>\n    <tr>\n      <th>38</th>\n      <td>LAGOSUR PETROLEUM COLOMBIA INC SUCURSAL COLOMBIA</td>\n      <td>1</td>\n    </tr>\n    <tr>\n      <th>16</th>\n      <td>CONOCOPHILLIPS COLOMBIA VENTURES LIMITED</td>\n      <td>1</td>\n    </tr>\n  </tbody>\n</table>\n<p>74 rows × 2 columns</p>\n</div>"
     },
     "metadata": {}
    }
   ]
  },
  {
   "cell_type": "markdown",
   "source": "La empresa Ecopetrol S.A. es la que mas produce petróleo en Colombia y esto es consecuente al ser la empresa con mayor cantidad de pozos petroleros. ",
   "metadata": {
    "formattedRanges": [],
    "is_collapsed": false,
    "cell_id": "77c4e9b81d2c4778918abfe72710ab35",
    "tags": [],
    "deepnote_app_coordinates": {
     "x": 0,
     "y": 274,
     "w": 8,
     "h": 2
    },
    "deepnote_cell_type": "text-cell-p"
   }
  },
  {
   "cell_type": "markdown",
   "source": "### Análisis de producción de petróleo del año 2020. ",
   "metadata": {
    "formattedRanges": [],
    "is_collapsed": false,
    "cell_id": "2e5ec91c8d9b408498de7bc6f4db2866",
    "tags": [],
    "deepnote_app_coordinates": {
     "x": 0,
     "y": 277,
     "w": 12,
     "h": 5
    },
    "deepnote_cell_type": "text-cell-h3"
   }
  },
  {
   "cell_type": "markdown",
   "source": "Se analiza el año 2020, con el fin de observar como la pandemia afecto la producción general en toda Colombia.",
   "metadata": {
    "formattedRanges": [],
    "is_collapsed": false,
    "cell_id": "06b9532f9601407992e472031f34815d",
    "tags": [],
    "deepnote_app_coordinates": {
     "x": 0,
     "y": 283,
     "w": 8,
     "h": 2
    },
    "deepnote_cell_type": "text-cell-p"
   }
  },
  {
   "cell_type": "code",
   "metadata": {
    "cell_id": "ffdd5b84a10d4a01a77c1723f15be0f2",
    "tags": [],
    "deepnote_to_be_reexecuted": false,
    "source_hash": "5b1033d9",
    "execution_start": 1660676390483,
    "execution_millis": 151,
    "deepnote_table_state": {
     "pageSize": 10,
     "pageIndex": 1,
     "filters": [],
     "sortBy": []
    },
    "deepnote_table_loading": false,
    "deepnote_app_coordinates": {
     "x": 0,
     "y": 286,
     "w": 12,
     "h": 5
    },
    "deepnote_cell_type": "code"
   },
   "source": "producion_petroleo_2020 = df_produccion_petroleo[df_produccion_petroleo['Año']== 2020]\nproducion_petroleo_2020_depart = producion_petroleo_2020.groupby('Departamento').sum()[meses].reset_index().round()\nproducion_petroleo_2020_depart",
   "execution_count": null,
   "outputs": [
    {
     "output_type": "execute_result",
     "execution_count": 28,
     "data": {
      "application/vnd.deepnote.dataframe.v3+json": {
       "column_count": 13,
       "row_count": 19,
       "columns": [
        {
         "name": "Departamento",
         "dtype": "object",
         "stats": {
          "unique_count": 19,
          "nan_count": 0,
          "categories": [
           {
            "name": "ANTIOQUIA",
            "count": 1
           },
           {
            "name": "ARAUCA",
            "count": 1
           },
           {
            "name": "17 others",
            "count": 17
           }
          ]
         }
        },
        {
         "name": "Enero",
         "dtype": "float64",
         "stats": {
          "unique_count": 19,
          "nan_count": 0,
          "min": "0.0",
          "max": "453711.0",
          "histogram": [
           {
            "bin_start": 0,
            "bin_end": 45371.1,
            "count": 15
           },
           {
            "bin_start": 45371.1,
            "bin_end": 90742.2,
            "count": 2
           },
           {
            "bin_start": 90742.2,
            "bin_end": 136113.3,
            "count": 0
           },
           {
            "bin_start": 136113.3,
            "bin_end": 181484.4,
            "count": 1
           },
           {
            "bin_start": 181484.4,
            "bin_end": 226855.5,
            "count": 0
           },
           {
            "bin_start": 226855.5,
            "bin_end": 272226.6,
            "count": 0
           },
           {
            "bin_start": 272226.6,
            "bin_end": 317597.7,
            "count": 0
           },
           {
            "bin_start": 317597.7,
            "bin_end": 362968.8,
            "count": 0
           },
           {
            "bin_start": 362968.8,
            "bin_end": 408339.89999999997,
            "count": 0
           },
           {
            "bin_start": 408339.89999999997,
            "bin_end": 453711,
            "count": 1
           }
          ]
         }
        },
        {
         "name": "Febrero",
         "dtype": "float64",
         "stats": {
          "unique_count": 19,
          "nan_count": 0,
          "min": "0.0",
          "max": "446952.0",
          "histogram": [
           {
            "bin_start": 0,
            "bin_end": 44695.2,
            "count": 15
           },
           {
            "bin_start": 44695.2,
            "bin_end": 89390.4,
            "count": 2
           },
           {
            "bin_start": 89390.4,
            "bin_end": 134085.59999999998,
            "count": 0
           },
           {
            "bin_start": 134085.59999999998,
            "bin_end": 178780.8,
            "count": 1
           },
           {
            "bin_start": 178780.8,
            "bin_end": 223476,
            "count": 0
           },
           {
            "bin_start": 223476,
            "bin_end": 268171.19999999995,
            "count": 0
           },
           {
            "bin_start": 268171.19999999995,
            "bin_end": 312866.39999999997,
            "count": 0
           },
           {
            "bin_start": 312866.39999999997,
            "bin_end": 357561.6,
            "count": 0
           },
           {
            "bin_start": 357561.6,
            "bin_end": 402256.8,
            "count": 0
           },
           {
            "bin_start": 402256.8,
            "bin_end": 446952,
            "count": 1
           }
          ]
         }
        },
        {
         "name": "Marzo",
         "dtype": "float64",
         "stats": {
          "unique_count": 19,
          "nan_count": 0,
          "min": "0.0",
          "max": "435555.0",
          "histogram": [
           {
            "bin_start": 0,
            "bin_end": 43555.5,
            "count": 15
           },
           {
            "bin_start": 43555.5,
            "bin_end": 87111,
            "count": 2
           },
           {
            "bin_start": 87111,
            "bin_end": 130666.5,
            "count": 0
           },
           {
            "bin_start": 130666.5,
            "bin_end": 174222,
            "count": 1
           },
           {
            "bin_start": 174222,
            "bin_end": 217777.5,
            "count": 0
           },
           {
            "bin_start": 217777.5,
            "bin_end": 261333,
            "count": 0
           },
           {
            "bin_start": 261333,
            "bin_end": 304888.5,
            "count": 0
           },
           {
            "bin_start": 304888.5,
            "bin_end": 348444,
            "count": 0
           },
           {
            "bin_start": 348444,
            "bin_end": 391999.5,
            "count": 0
           },
           {
            "bin_start": 391999.5,
            "bin_end": 435555,
            "count": 1
           }
          ]
         }
        },
        {
         "name": "Abril",
         "dtype": "float64",
         "stats": {
          "unique_count": 17,
          "nan_count": 0,
          "min": "0.0",
          "max": "403773.0",
          "histogram": [
           {
            "bin_start": 0,
            "bin_end": 40377.3,
            "count": 15
           },
           {
            "bin_start": 40377.3,
            "bin_end": 80754.6,
            "count": 2
           },
           {
            "bin_start": 80754.6,
            "bin_end": 121131.90000000001,
            "count": 0
           },
           {
            "bin_start": 121131.90000000001,
            "bin_end": 161509.2,
            "count": 1
           },
           {
            "bin_start": 161509.2,
            "bin_end": 201886.5,
            "count": 0
           },
           {
            "bin_start": 201886.5,
            "bin_end": 242263.80000000002,
            "count": 0
           },
           {
            "bin_start": 242263.80000000002,
            "bin_end": 282641.10000000003,
            "count": 0
           },
           {
            "bin_start": 282641.10000000003,
            "bin_end": 323018.4,
            "count": 0
           },
           {
            "bin_start": 323018.4,
            "bin_end": 363395.7,
            "count": 0
           },
           {
            "bin_start": 363395.7,
            "bin_end": 403773,
            "count": 1
           }
          ]
         }
        },
        {
         "name": "Mayo",
         "dtype": "float64",
         "stats": {
          "unique_count": 17,
          "nan_count": 0,
          "min": "0.0",
          "max": "374289.0",
          "histogram": [
           {
            "bin_start": 0,
            "bin_end": 37428.9,
            "count": 15
           },
           {
            "bin_start": 37428.9,
            "bin_end": 74857.8,
            "count": 2
           },
           {
            "bin_start": 74857.8,
            "bin_end": 112286.70000000001,
            "count": 0
           },
           {
            "bin_start": 112286.70000000001,
            "bin_end": 149715.6,
            "count": 1
           },
           {
            "bin_start": 149715.6,
            "bin_end": 187144.5,
            "count": 0
           },
           {
            "bin_start": 187144.5,
            "bin_end": 224573.40000000002,
            "count": 0
           },
           {
            "bin_start": 224573.40000000002,
            "bin_end": 262002.30000000002,
            "count": 0
           },
           {
            "bin_start": 262002.30000000002,
            "bin_end": 299431.2,
            "count": 0
           },
           {
            "bin_start": 299431.2,
            "bin_end": 336860.10000000003,
            "count": 0
           },
           {
            "bin_start": 336860.10000000003,
            "bin_end": 374289,
            "count": 1
           }
          ]
         }
        },
        {
         "name": "Junio",
         "dtype": "float64",
         "stats": {
          "unique_count": 17,
          "nan_count": 0,
          "min": "0.0",
          "max": "374123.0",
          "histogram": [
           {
            "bin_start": 0,
            "bin_end": 37412.3,
            "count": 15
           },
           {
            "bin_start": 37412.3,
            "bin_end": 74824.6,
            "count": 2
           },
           {
            "bin_start": 74824.6,
            "bin_end": 112236.90000000001,
            "count": 0
           },
           {
            "bin_start": 112236.90000000001,
            "bin_end": 149649.2,
            "count": 1
           },
           {
            "bin_start": 149649.2,
            "bin_end": 187061.5,
            "count": 0
           },
           {
            "bin_start": 187061.5,
            "bin_end": 224473.80000000002,
            "count": 0
           },
           {
            "bin_start": 224473.80000000002,
            "bin_end": 261886.10000000003,
            "count": 0
           },
           {
            "bin_start": 261886.10000000003,
            "bin_end": 299298.4,
            "count": 0
           },
           {
            "bin_start": 299298.4,
            "bin_end": 336710.7,
            "count": 0
           },
           {
            "bin_start": 336710.7,
            "bin_end": 374123,
            "count": 1
           }
          ]
         }
        },
        {
         "name": "Julio",
         "dtype": "float64",
         "stats": {
          "unique_count": 17,
          "nan_count": 0,
          "min": "0.0",
          "max": "380229.0",
          "histogram": [
           {
            "bin_start": 0,
            "bin_end": 38022.9,
            "count": 15
           },
           {
            "bin_start": 38022.9,
            "bin_end": 76045.8,
            "count": 2
           },
           {
            "bin_start": 76045.8,
            "bin_end": 114068.70000000001,
            "count": 0
           },
           {
            "bin_start": 114068.70000000001,
            "bin_end": 152091.6,
            "count": 1
           },
           {
            "bin_start": 152091.6,
            "bin_end": 190114.5,
            "count": 0
           },
           {
            "bin_start": 190114.5,
            "bin_end": 228137.40000000002,
            "count": 0
           },
           {
            "bin_start": 228137.40000000002,
            "bin_end": 266160.3,
            "count": 0
           },
           {
            "bin_start": 266160.3,
            "bin_end": 304183.2,
            "count": 0
           },
           {
            "bin_start": 304183.2,
            "bin_end": 342206.10000000003,
            "count": 0
           },
           {
            "bin_start": 342206.10000000003,
            "bin_end": 380229,
            "count": 1
           }
          ]
         }
        },
        {
         "name": "Agosto",
         "dtype": "float64",
         "stats": {
          "unique_count": 17,
          "nan_count": 0,
          "min": "0.0",
          "max": "383085.0",
          "histogram": [
           {
            "bin_start": 0,
            "bin_end": 38308.5,
            "count": 15
           },
           {
            "bin_start": 38308.5,
            "bin_end": 76617,
            "count": 2
           },
           {
            "bin_start": 76617,
            "bin_end": 114925.5,
            "count": 0
           },
           {
            "bin_start": 114925.5,
            "bin_end": 153234,
            "count": 1
           },
           {
            "bin_start": 153234,
            "bin_end": 191542.5,
            "count": 0
           },
           {
            "bin_start": 191542.5,
            "bin_end": 229851,
            "count": 0
           },
           {
            "bin_start": 229851,
            "bin_end": 268159.5,
            "count": 0
           },
           {
            "bin_start": 268159.5,
            "bin_end": 306468,
            "count": 0
           },
           {
            "bin_start": 306468,
            "bin_end": 344776.5,
            "count": 0
           },
           {
            "bin_start": 344776.5,
            "bin_end": 383085,
            "count": 1
           }
          ]
         }
        },
        {
         "name": "Septiembre",
         "dtype": "float64",
         "stats": {
          "unique_count": 17,
          "nan_count": 0,
          "min": "0.0",
          "max": "380973.0",
          "histogram": [
           {
            "bin_start": 0,
            "bin_end": 38097.3,
            "count": 15
           },
           {
            "bin_start": 38097.3,
            "bin_end": 76194.6,
            "count": 2
           },
           {
            "bin_start": 76194.6,
            "bin_end": 114291.90000000001,
            "count": 0
           },
           {
            "bin_start": 114291.90000000001,
            "bin_end": 152389.2,
            "count": 1
           },
           {
            "bin_start": 152389.2,
            "bin_end": 190486.5,
            "count": 0
           },
           {
            "bin_start": 190486.5,
            "bin_end": 228583.80000000002,
            "count": 0
           },
           {
            "bin_start": 228583.80000000002,
            "bin_end": 266681.10000000003,
            "count": 0
           },
           {
            "bin_start": 266681.10000000003,
            "bin_end": 304778.4,
            "count": 0
           },
           {
            "bin_start": 304778.4,
            "bin_end": 342875.7,
            "count": 0
           },
           {
            "bin_start": 342875.7,
            "bin_end": 380973,
            "count": 1
           }
          ]
         }
        },
        {
         "name": "Octubre",
         "dtype": "float64",
         "stats": {
          "unique_count": 17,
          "nan_count": 0,
          "min": "0.0",
          "max": "381561.0",
          "histogram": [
           {
            "bin_start": 0,
            "bin_end": 38156.1,
            "count": 15
           },
           {
            "bin_start": 38156.1,
            "bin_end": 76312.2,
            "count": 2
           },
           {
            "bin_start": 76312.2,
            "bin_end": 114468.29999999999,
            "count": 0
           },
           {
            "bin_start": 114468.29999999999,
            "bin_end": 152624.4,
            "count": 1
           },
           {
            "bin_start": 152624.4,
            "bin_end": 190780.5,
            "count": 0
           },
           {
            "bin_start": 190780.5,
            "bin_end": 228936.59999999998,
            "count": 0
           },
           {
            "bin_start": 228936.59999999998,
            "bin_end": 267092.7,
            "count": 0
           },
           {
            "bin_start": 267092.7,
            "bin_end": 305248.8,
            "count": 0
           },
           {
            "bin_start": 305248.8,
            "bin_end": 343404.89999999997,
            "count": 0
           },
           {
            "bin_start": 343404.89999999997,
            "bin_end": 381561,
            "count": 1
           }
          ]
         }
        },
        {
         "name": "Noviembre",
         "dtype": "float64",
         "stats": {
          "unique_count": 18,
          "nan_count": 0,
          "min": "0.0",
          "max": "390745.0",
          "histogram": [
           {
            "bin_start": 0,
            "bin_end": 39074.5,
            "count": 15
           },
           {
            "bin_start": 39074.5,
            "bin_end": 78149,
            "count": 2
           },
           {
            "bin_start": 78149,
            "bin_end": 117223.5,
            "count": 0
           },
           {
            "bin_start": 117223.5,
            "bin_end": 156298,
            "count": 1
           },
           {
            "bin_start": 156298,
            "bin_end": 195372.5,
            "count": 0
           },
           {
            "bin_start": 195372.5,
            "bin_end": 234447,
            "count": 0
           },
           {
            "bin_start": 234447,
            "bin_end": 273521.5,
            "count": 0
           },
           {
            "bin_start": 273521.5,
            "bin_end": 312596,
            "count": 0
           },
           {
            "bin_start": 312596,
            "bin_end": 351670.5,
            "count": 0
           },
           {
            "bin_start": 351670.5,
            "bin_end": 390745,
            "count": 1
           }
          ]
         }
        },
        {
         "name": "Diciembre",
         "dtype": "float64",
         "stats": {
          "unique_count": 18,
          "nan_count": 0,
          "min": "0.0",
          "max": "387832.0",
          "histogram": [
           {
            "bin_start": 0,
            "bin_end": 38783.2,
            "count": 15
           },
           {
            "bin_start": 38783.2,
            "bin_end": 77566.4,
            "count": 2
           },
           {
            "bin_start": 77566.4,
            "bin_end": 116349.59999999999,
            "count": 0
           },
           {
            "bin_start": 116349.59999999999,
            "bin_end": 155132.8,
            "count": 1
           },
           {
            "bin_start": 155132.8,
            "bin_end": 193916,
            "count": 0
           },
           {
            "bin_start": 193916,
            "bin_end": 232699.19999999998,
            "count": 0
           },
           {
            "bin_start": 232699.19999999998,
            "bin_end": 271482.39999999997,
            "count": 0
           },
           {
            "bin_start": 271482.39999999997,
            "bin_end": 310265.6,
            "count": 0
           },
           {
            "bin_start": 310265.6,
            "bin_end": 349048.8,
            "count": 0
           },
           {
            "bin_start": 349048.8,
            "bin_end": 387832,
            "count": 1
           }
          ]
         }
        },
        {
         "name": "_deepnote_index_column",
         "dtype": "int64"
        }
       ],
       "rows": [
        {
         "Departamento": "HUILA",
         "Enero": 23897,
         "Febrero": 25232,
         "Marzo": 24816,
         "Abril": 23708,
         "Mayo": 23357,
         "Junio": 23002,
         "Julio": 22412,
         "Agosto": 22185,
         "Septiembre": 21862,
         "Octubre": 21840,
         "Noviembre": 21937,
         "Diciembre": 22336,
         "_deepnote_index_column": 10
        },
        {
         "Departamento": "MAGDALENA",
         "Enero": 1192,
         "Febrero": 762,
         "Marzo": 106,
         "Abril": 120,
         "Mayo": 112,
         "Junio": 109,
         "Julio": 111,
         "Agosto": 113,
         "Septiembre": 84,
         "Octubre": 65,
         "Noviembre": 59,
         "Diciembre": 58,
         "_deepnote_index_column": 11
        },
        {
         "Departamento": "META",
         "Enero": 453711,
         "Febrero": 446952,
         "Marzo": 435555,
         "Abril": 403773,
         "Mayo": 374289,
         "Junio": 374123,
         "Julio": 380229,
         "Agosto": 383085,
         "Septiembre": 380973,
         "Octubre": 381561,
         "Noviembre": 390745,
         "Diciembre": 387832,
         "_deepnote_index_column": 12
        },
        {
         "Departamento": "NARINO",
         "Enero": 258,
         "Febrero": 246,
         "Marzo": 192,
         "Abril": 0,
         "Mayo": 0,
         "Junio": 0,
         "Julio": 0,
         "Agosto": 0,
         "Septiembre": 0,
         "Octubre": 0,
         "Noviembre": 3,
         "Diciembre": 3,
         "_deepnote_index_column": 13
        },
        {
         "Departamento": "NORTE DE SANTANDER",
         "Enero": 2426,
         "Febrero": 2713,
         "Marzo": 2869,
         "Abril": 2939,
         "Mayo": 2783,
         "Junio": 2594,
         "Julio": 2421,
         "Agosto": 2378,
         "Septiembre": 2471,
         "Octubre": 2380,
         "Noviembre": 2129,
         "Diciembre": 2364,
         "_deepnote_index_column": 14
        },
        {
         "Departamento": "PUTUMAYO",
         "Enero": 28831,
         "Febrero": 25293,
         "Marzo": 19887,
         "Abril": 16591,
         "Mayo": 16653,
         "Junio": 15556,
         "Julio": 13431,
         "Agosto": 14852,
         "Septiembre": 20545,
         "Octubre": 21549,
         "Noviembre": 21299,
         "Diciembre": 22296,
         "_deepnote_index_column": 15
        },
        {
         "Departamento": "SANTANDER",
         "Enero": 60333,
         "Febrero": 59257,
         "Marzo": 58938,
         "Abril": 55544,
         "Mayo": 51022,
         "Junio": 47400,
         "Julio": 45383,
         "Agosto": 45621,
         "Septiembre": 48031,
         "Octubre": 48156,
         "Noviembre": 49329,
         "Diciembre": 48385,
         "_deepnote_index_column": 16
        },
        {
         "Departamento": "SUCRE",
         "Enero": 32,
         "Febrero": 31,
         "Marzo": 29,
         "Abril": 28,
         "Mayo": 29,
         "Junio": 30,
         "Julio": 26,
         "Agosto": 30,
         "Septiembre": 32,
         "Octubre": 32,
         "Noviembre": 32,
         "Diciembre": 31,
         "_deepnote_index_column": 17
        },
        {
         "Departamento": "TOLIMA",
         "Enero": 11998,
         "Febrero": 12943,
         "Marzo": 13892,
         "Abril": 13146,
         "Mayo": 12611,
         "Junio": 12271,
         "Julio": 11909,
         "Agosto": 12035,
         "Septiembre": 11933,
         "Octubre": 11915,
         "Noviembre": 11552,
         "Diciembre": 11773,
         "_deepnote_index_column": 18
        }
       ]
      },
      "text/plain": "          Departamento     Enero   Febrero     Marzo     Abril      Mayo  \\\n0            ANTIOQUIA   17400.0   17086.0   17127.0   16050.0   14065.0   \n1               ARAUCA   53873.0   56603.0   58439.0   55828.0   56928.0   \n2            ATLANTICO     596.0     575.0     559.0     549.0     540.0   \n3              BOLIVAR   16338.0   16547.0   17746.0   17614.0   17182.0   \n4               BOYACA   30739.0   30847.0   30521.0   30032.0   30209.0   \n5             CASANARE  161780.0  162925.0  158201.0  145267.0  118710.0   \n6                CAUCA     761.0     725.0     552.0       0.0       0.0   \n7                CESAR   19570.0   19475.0   17507.0   14796.0   13675.0   \n8              CORDOBA       0.0       0.0       0.0       0.0       0.0   \n9         CUNDINAMARCA     180.0     178.0     178.0     178.0     111.0   \n10               HUILA   23897.0   25232.0   24816.0   23708.0   23357.0   \n11           MAGDALENA    1192.0     762.0     106.0     120.0     112.0   \n12                META  453711.0  446952.0  435555.0  403773.0  374289.0   \n13              NARINO     258.0     246.0     192.0       0.0       0.0   \n14  NORTE DE SANTANDER    2426.0    2713.0    2869.0    2939.0    2783.0   \n15            PUTUMAYO   28831.0   25293.0   19887.0   16591.0   16653.0   \n16           SANTANDER   60333.0   59257.0   58938.0   55544.0   51022.0   \n17               SUCRE      32.0      31.0      29.0      28.0      29.0   \n18              TOLIMA   11998.0   12943.0   13892.0   13146.0   12611.0   \n\n       Junio     Julio    Agosto  Septiembre   Octubre  Noviembre  Diciembre  \n0    13661.0   13932.0   13724.0     14232.0   15091.0    15223.0    15002.0  \n1    58646.0   58592.0   57648.0     57590.0   57673.0    57630.0    58024.0  \n2      532.0     515.0     513.0       521.0     535.0      511.0      536.0  \n3    16099.0   15436.0   13601.0     16071.0   16199.0    17120.0    14442.0  \n4    29197.0   28544.0   28329.0     26990.0   27004.0    26615.0    27396.0  \n5   123212.0  128393.0  134932.0    134624.0  133627.0   132943.0   133950.0  \n6        0.0       0.0       0.0         0.0       0.0        0.0        0.0  \n7    13370.0   13547.0   12935.0     13188.0   13642.0    13705.0    15475.0  \n8        0.0       0.0       0.0         0.0       0.0        0.0        0.0  \n9      105.0     106.0     109.0       108.0     107.0      111.0      113.0  \n10   23002.0   22412.0   22185.0     21862.0   21840.0    21937.0    22336.0  \n11     109.0     111.0     113.0        84.0      65.0       59.0       58.0  \n12  374123.0  380229.0  383085.0    380973.0  381561.0   390745.0   387832.0  \n13       0.0       0.0       0.0         0.0       0.0        3.0        3.0  \n14    2594.0    2421.0    2378.0      2471.0    2380.0     2129.0     2364.0  \n15   15556.0   13431.0   14852.0     20545.0   21549.0    21299.0    22296.0  \n16   47400.0   45383.0   45621.0     48031.0   48156.0    49329.0    48385.0  \n17      30.0      26.0      30.0        32.0      32.0       32.0       31.0  \n18   12271.0   11909.0   12035.0     11933.0   11915.0    11552.0    11773.0  ",
      "text/html": "<div>\n<style scoped>\n    .dataframe tbody tr th:only-of-type {\n        vertical-align: middle;\n    }\n\n    .dataframe tbody tr th {\n        vertical-align: top;\n    }\n\n    .dataframe thead th {\n        text-align: right;\n    }\n</style>\n<table border=\"1\" class=\"dataframe\">\n  <thead>\n    <tr style=\"text-align: right;\">\n      <th></th>\n      <th>Departamento</th>\n      <th>Enero</th>\n      <th>Febrero</th>\n      <th>Marzo</th>\n      <th>Abril</th>\n      <th>Mayo</th>\n      <th>Junio</th>\n      <th>Julio</th>\n      <th>Agosto</th>\n      <th>Septiembre</th>\n      <th>Octubre</th>\n      <th>Noviembre</th>\n      <th>Diciembre</th>\n    </tr>\n  </thead>\n  <tbody>\n    <tr>\n      <th>0</th>\n      <td>ANTIOQUIA</td>\n      <td>17400.0</td>\n      <td>17086.0</td>\n      <td>17127.0</td>\n      <td>16050.0</td>\n      <td>14065.0</td>\n      <td>13661.0</td>\n      <td>13932.0</td>\n      <td>13724.0</td>\n      <td>14232.0</td>\n      <td>15091.0</td>\n      <td>15223.0</td>\n      <td>15002.0</td>\n    </tr>\n    <tr>\n      <th>1</th>\n      <td>ARAUCA</td>\n      <td>53873.0</td>\n      <td>56603.0</td>\n      <td>58439.0</td>\n      <td>55828.0</td>\n      <td>56928.0</td>\n      <td>58646.0</td>\n      <td>58592.0</td>\n      <td>57648.0</td>\n      <td>57590.0</td>\n      <td>57673.0</td>\n      <td>57630.0</td>\n      <td>58024.0</td>\n    </tr>\n    <tr>\n      <th>2</th>\n      <td>ATLANTICO</td>\n      <td>596.0</td>\n      <td>575.0</td>\n      <td>559.0</td>\n      <td>549.0</td>\n      <td>540.0</td>\n      <td>532.0</td>\n      <td>515.0</td>\n      <td>513.0</td>\n      <td>521.0</td>\n      <td>535.0</td>\n      <td>511.0</td>\n      <td>536.0</td>\n    </tr>\n    <tr>\n      <th>3</th>\n      <td>BOLIVAR</td>\n      <td>16338.0</td>\n      <td>16547.0</td>\n      <td>17746.0</td>\n      <td>17614.0</td>\n      <td>17182.0</td>\n      <td>16099.0</td>\n      <td>15436.0</td>\n      <td>13601.0</td>\n      <td>16071.0</td>\n      <td>16199.0</td>\n      <td>17120.0</td>\n      <td>14442.0</td>\n    </tr>\n    <tr>\n      <th>4</th>\n      <td>BOYACA</td>\n      <td>30739.0</td>\n      <td>30847.0</td>\n      <td>30521.0</td>\n      <td>30032.0</td>\n      <td>30209.0</td>\n      <td>29197.0</td>\n      <td>28544.0</td>\n      <td>28329.0</td>\n      <td>26990.0</td>\n      <td>27004.0</td>\n      <td>26615.0</td>\n      <td>27396.0</td>\n    </tr>\n    <tr>\n      <th>5</th>\n      <td>CASANARE</td>\n      <td>161780.0</td>\n      <td>162925.0</td>\n      <td>158201.0</td>\n      <td>145267.0</td>\n      <td>118710.0</td>\n      <td>123212.0</td>\n      <td>128393.0</td>\n      <td>134932.0</td>\n      <td>134624.0</td>\n      <td>133627.0</td>\n      <td>132943.0</td>\n      <td>133950.0</td>\n    </tr>\n    <tr>\n      <th>6</th>\n      <td>CAUCA</td>\n      <td>761.0</td>\n      <td>725.0</td>\n      <td>552.0</td>\n      <td>0.0</td>\n      <td>0.0</td>\n      <td>0.0</td>\n      <td>0.0</td>\n      <td>0.0</td>\n      <td>0.0</td>\n      <td>0.0</td>\n      <td>0.0</td>\n      <td>0.0</td>\n    </tr>\n    <tr>\n      <th>7</th>\n      <td>CESAR</td>\n      <td>19570.0</td>\n      <td>19475.0</td>\n      <td>17507.0</td>\n      <td>14796.0</td>\n      <td>13675.0</td>\n      <td>13370.0</td>\n      <td>13547.0</td>\n      <td>12935.0</td>\n      <td>13188.0</td>\n      <td>13642.0</td>\n      <td>13705.0</td>\n      <td>15475.0</td>\n    </tr>\n    <tr>\n      <th>8</th>\n      <td>CORDOBA</td>\n      <td>0.0</td>\n      <td>0.0</td>\n      <td>0.0</td>\n      <td>0.0</td>\n      <td>0.0</td>\n      <td>0.0</td>\n      <td>0.0</td>\n      <td>0.0</td>\n      <td>0.0</td>\n      <td>0.0</td>\n      <td>0.0</td>\n      <td>0.0</td>\n    </tr>\n    <tr>\n      <th>9</th>\n      <td>CUNDINAMARCA</td>\n      <td>180.0</td>\n      <td>178.0</td>\n      <td>178.0</td>\n      <td>178.0</td>\n      <td>111.0</td>\n      <td>105.0</td>\n      <td>106.0</td>\n      <td>109.0</td>\n      <td>108.0</td>\n      <td>107.0</td>\n      <td>111.0</td>\n      <td>113.0</td>\n    </tr>\n    <tr>\n      <th>10</th>\n      <td>HUILA</td>\n      <td>23897.0</td>\n      <td>25232.0</td>\n      <td>24816.0</td>\n      <td>23708.0</td>\n      <td>23357.0</td>\n      <td>23002.0</td>\n      <td>22412.0</td>\n      <td>22185.0</td>\n      <td>21862.0</td>\n      <td>21840.0</td>\n      <td>21937.0</td>\n      <td>22336.0</td>\n    </tr>\n    <tr>\n      <th>11</th>\n      <td>MAGDALENA</td>\n      <td>1192.0</td>\n      <td>762.0</td>\n      <td>106.0</td>\n      <td>120.0</td>\n      <td>112.0</td>\n      <td>109.0</td>\n      <td>111.0</td>\n      <td>113.0</td>\n      <td>84.0</td>\n      <td>65.0</td>\n      <td>59.0</td>\n      <td>58.0</td>\n    </tr>\n    <tr>\n      <th>12</th>\n      <td>META</td>\n      <td>453711.0</td>\n      <td>446952.0</td>\n      <td>435555.0</td>\n      <td>403773.0</td>\n      <td>374289.0</td>\n      <td>374123.0</td>\n      <td>380229.0</td>\n      <td>383085.0</td>\n      <td>380973.0</td>\n      <td>381561.0</td>\n      <td>390745.0</td>\n      <td>387832.0</td>\n    </tr>\n    <tr>\n      <th>13</th>\n      <td>NARINO</td>\n      <td>258.0</td>\n      <td>246.0</td>\n      <td>192.0</td>\n      <td>0.0</td>\n      <td>0.0</td>\n      <td>0.0</td>\n      <td>0.0</td>\n      <td>0.0</td>\n      <td>0.0</td>\n      <td>0.0</td>\n      <td>3.0</td>\n      <td>3.0</td>\n    </tr>\n    <tr>\n      <th>14</th>\n      <td>NORTE DE SANTANDER</td>\n      <td>2426.0</td>\n      <td>2713.0</td>\n      <td>2869.0</td>\n      <td>2939.0</td>\n      <td>2783.0</td>\n      <td>2594.0</td>\n      <td>2421.0</td>\n      <td>2378.0</td>\n      <td>2471.0</td>\n      <td>2380.0</td>\n      <td>2129.0</td>\n      <td>2364.0</td>\n    </tr>\n    <tr>\n      <th>15</th>\n      <td>PUTUMAYO</td>\n      <td>28831.0</td>\n      <td>25293.0</td>\n      <td>19887.0</td>\n      <td>16591.0</td>\n      <td>16653.0</td>\n      <td>15556.0</td>\n      <td>13431.0</td>\n      <td>14852.0</td>\n      <td>20545.0</td>\n      <td>21549.0</td>\n      <td>21299.0</td>\n      <td>22296.0</td>\n    </tr>\n    <tr>\n      <th>16</th>\n      <td>SANTANDER</td>\n      <td>60333.0</td>\n      <td>59257.0</td>\n      <td>58938.0</td>\n      <td>55544.0</td>\n      <td>51022.0</td>\n      <td>47400.0</td>\n      <td>45383.0</td>\n      <td>45621.0</td>\n      <td>48031.0</td>\n      <td>48156.0</td>\n      <td>49329.0</td>\n      <td>48385.0</td>\n    </tr>\n    <tr>\n      <th>17</th>\n      <td>SUCRE</td>\n      <td>32.0</td>\n      <td>31.0</td>\n      <td>29.0</td>\n      <td>28.0</td>\n      <td>29.0</td>\n      <td>30.0</td>\n      <td>26.0</td>\n      <td>30.0</td>\n      <td>32.0</td>\n      <td>32.0</td>\n      <td>32.0</td>\n      <td>31.0</td>\n    </tr>\n    <tr>\n      <th>18</th>\n      <td>TOLIMA</td>\n      <td>11998.0</td>\n      <td>12943.0</td>\n      <td>13892.0</td>\n      <td>13146.0</td>\n      <td>12611.0</td>\n      <td>12271.0</td>\n      <td>11909.0</td>\n      <td>12035.0</td>\n      <td>11933.0</td>\n      <td>11915.0</td>\n      <td>11552.0</td>\n      <td>11773.0</td>\n    </tr>\n  </tbody>\n</table>\n</div>"
     },
     "metadata": {}
    }
   ]
  },
  {
   "cell_type": "code",
   "metadata": {
    "cell_id": "cc53d2027a5b4985be78d80e311a025c",
    "tags": [],
    "deepnote_to_be_reexecuted": false,
    "source_hash": "53036750",
    "execution_start": 1660677192044,
    "execution_millis": 468,
    "deepnote_app_coordinates": {
     "x": 0,
     "y": 292,
     "w": 12,
     "h": 5
    },
    "deepnote_cell_type": "code"
   },
   "source": "producion_petroleo_2020_depart.loc[5:12:7].plot(kind='bar',x='Departamento',y= meses,figsize=(12,8));\nplt.title('Departamentos con la producción mas alta de petróleo en el 2020')\nplt.ylabel('Producción petroleo (BPD)');",
   "execution_count": null,
   "outputs": [
    {
     "data": {
      "text/plain": "<Figure size 864x576 with 1 Axes>",
      "image/png": "[encoded data removed]"
     },
     "metadata": {
      "needs_background": "light",
      "image/png": {
       "width": 743,
       "height": 540
      }
     },
     "output_type": "display_data"
    }
   ]
  },
  {
   "cell_type": "markdown",
   "source": "Se observa claramente un descenso en la producción de petróleo, el cual llega a su punto mínimo en el mes de mayo. después de esto tiene una pequeña recuperación, sin embargo, no se acerca a niveles pre-pandemia.",
   "metadata": {
    "formattedRanges": [],
    "is_collapsed": false,
    "cell_id": "a811b3d1b32a442fa83aadf21b3fc68f",
    "tags": [],
    "deepnote_app_coordinates": {
     "x": 0,
     "y": 298,
     "w": 8,
     "h": 2
    },
    "deepnote_cell_type": "text-cell-p"
   }
  },
  {
   "cell_type": "code",
   "metadata": {
    "cell_id": "12620b78c7ea4b778ceb63d262eb0244",
    "tags": [],
    "deepnote_to_be_reexecuted": false,
    "source_hash": "26403fc6",
    "execution_start": 1660677738491,
    "execution_millis": 810,
    "deepnote_table_state": {
     "pageSize": 10,
     "pageIndex": 1,
     "filters": [],
     "sortBy": []
    },
    "deepnote_table_loading": false,
    "deepnote_app_coordinates": {
     "x": 0,
     "y": 301,
     "w": 12,
     "h": 5
    },
    "deepnote_cell_type": "code"
   },
   "source": "producion_petroleo_2020_empresa = producion_petroleo_2020.groupby('Operadora').sum()[meses].reset_index().round()\nproducion_petroleo_2020_empresa.loc[6:10:4].plot(kind='bar',x='Operadora',y= meses,figsize=(12,8));\nplt.title('Empresas con la producción mas alta de petróleo en el 2020')\nplt.ylabel('Producción petroleo (BPD)');",
   "execution_count": null,
   "outputs": [
    {
     "data": {
      "text/plain": "<Figure size 864x576 with 1 Axes>",
      "image/png": "[encoded data removed]"
     },
     "metadata": {
      "needs_background": "light",
      "image/png": {
       "width": 743,
       "height": 621
      }
     },
     "output_type": "display_data"
    }
   ]
  },
  {
   "cell_type": "markdown",
   "source": "En el caso de las dos  empresas que mas producen petróleo en Colombia para el 2020. Si se puede observar como afecta la pandemia. sin embargo, para el caso de Ecopetrol en el mes de marzo donde se declaro la cuarentena, se produjo una mayor cantidad de petróleo que otros meses, para después mantener una producción constante. ",
   "metadata": {
    "formattedRanges": [],
    "is_collapsed": false,
    "cell_id": "733f9f003d5d4f90bba0278f20a76684",
    "tags": [],
    "deepnote_app_coordinates": {
     "x": 0,
     "y": 307,
     "w": 8,
     "h": 2
    },
    "deepnote_cell_type": "text-cell-p"
   }
  },
  {
   "cell_type": "markdown",
   "source": "La empresa Geopark también sufrió una caída en su producción de petróleo, sin embargo, no fue muy significativa. ",
   "metadata": {
    "formattedRanges": [],
    "is_collapsed": false,
    "cell_id": "ec13d95f-2444-407a-be89-24d977e8eb36",
    "tags": [],
    "deepnote_app_coordinates": {
     "x": 0,
     "y": 310,
     "w": 8,
     "h": 2
    },
    "deepnote_cell_type": "text-cell-p"
   }
  },
  {
   "cell_type": "markdown",
   "source": "### Mapas.",
   "metadata": {
    "formattedRanges": [],
    "is_collapsed": false,
    "cell_id": "dc72621daf9145a5a9928fbea2634a1e",
    "tags": [],
    "deepnote_app_coordinates": {
     "x": 0,
     "y": 313,
     "w": 12,
     "h": 5
    },
    "deepnote_cell_type": "text-cell-h3"
   }
  },
  {
   "cell_type": "code",
   "metadata": {
    "cell_id": "ef9f5e6126654dd69812785c6657347c",
    "tags": [],
    "deepnote_to_be_reexecuted": false,
    "source_hash": "75f40bb",
    "execution_start": 1660676391319,
    "execution_millis": 0,
    "deepnote_app_coordinates": {
     "x": 0,
     "y": 319,
     "w": 12,
     "h": 5
    },
    "deepnote_cell_type": "code"
   },
   "source": "token_map_plot='pk.eyJ1IjoiY2hlbWlza3kiLCJhIjoiY2tnOGNhcXk3MGZ3eDJ5b2FxZ3ViajN1MyJ9.t3R24lWTwzTQwyJw4vuWFw'",
   "execution_count": null,
   "outputs": []
  },
  {
   "cell_type": "code",
   "metadata": {
    "cell_id": "ddeb950deda94c6f92b5da9fa7401cf1",
    "tags": [],
    "deepnote_to_be_reexecuted": false,
    "source_hash": "91710520",
    "execution_start": 1660676391370,
    "execution_millis": 202,
    "deepnote_app_coordinates": {
     "x": 0,
     "y": 325,
     "w": 12,
     "h": 5
    },
    "deepnote_cell_type": "code"
   },
   "source": "import plotly.express as px\npx.set_mapbox_access_token(token_map_plot)",
   "execution_count": null,
   "outputs": []
  },
  {
   "cell_type": "code",
   "metadata": {
    "cell_id": "1be145bf3bba420597c8045aecaef762",
    "tags": [],
    "deepnote_to_be_reexecuted": false,
    "source_hash": "cddcc6f8",
    "execution_start": 1660676391572,
    "execution_millis": 2467,
    "deepnote_app_coordinates": {
     "x": 0,
     "y": 331,
     "w": 12,
     "h": 5
    },
    "deepnote_cell_type": "code"
   },
   "source": "fig = px.scatter_mapbox(producion_petroleo_2020, lat=\"Latitud\", lon=\"Longitud\",color=\"Departamento\",color_continuous_scale=px.colors.cyclical.IceFire, size_max=15, zoom=10)\nfig.show()",
   "execution_count": null,
   "outputs": [
    {
     "data": {
      "text/html": "<html>\n<head><meta charset=\"utf-8\" /></head>\n<body>\n    <div>            <script src=\"https://cdnjs.cloudflare.com/ajax/libs/mathjax/2.7.5/MathJax.js?config=TeX-AMS-MML_SVG\"></script><script type=\"text/javascript\">if (window.MathJax && window.MathJax.Hub && window.MathJax.Hub.Config) {window.MathJax.Hub.Config({SVG: {font: \"STIX-Web\"}});}</script>                <script type=\"text/javascript\">window.PlotlyConfig = {MathJaxConfig: 'local'};</script>\n        <script src=\"https://cdn.plot.ly/plotly-2.12.1.min.js\"></script>                <div id=\"53967d3a-ac47-4fb5-bb18-14216cf9a926\" class=\"plotly-graph-div\" style=\"height:525px; width:100%;\"></div>            <script type=\"text/javascript\">                                    window.PLOTLYENV=window.PLOTLYENV || {};                                    if (document.getElementById(\"53967d3a-ac47-4fb5-bb18-14216cf9a926\")) {                    Plotly.newPlot(                        \"53967d3a-ac47-4fb5-bb18-14216cf9a926\",                        [{\"hovertemplate\":\"Departamento=ANTIOQUIA<br>Latitud=%{lat}<br>Longitud=%{lon}<extra></extra>\",\"lat\":[6.126539139,6.126539139,6.126539139,5.954830151,6.925159318,6.925159318,6.925159318],\"legendgroup\":\"ANTIOQUIA\",\"lon\":[-74.70317722,-74.70317722,-74.70317722,-74.6861918,-74.15824041,-74.15824041,-74.15824041],\"marker\":{\"color\":\"#636efa\"},\"mode\":\"markers\",\"name\":\"ANTIOQUIA\",\"showlegend\":true,\"subplot\":\"mapbox\",\"type\":\"scattermapbox\"},{\"hovertemplate\":\"Departamento=ARAUCA<br>Latitud=%{lat}<br>Longitud=%{lon}<extra></extra>\",\"lat\":[6.796280825,6.796280825,6.796280825,6.796280825,6.796280825,6.796280825,6.799338394,6.799338394,6.799338394,6.799338394,6.799338394,6.799338394,6.799338394,6.799338394,6.799338394,6.799338394,6.799338394,6.799338394,6.799338394,6.799338394,6.799338394,6.799338394,6.390650479,6.390650479],\"legendgroup\":\"ARAUCA\",\"lon\":[-70.50921153,-70.50921153,-70.50921153,-70.50921153,-70.50921153,-70.50921153,-71.29827429,-71.29827429,-71.29827429,-71.29827429,-71.29827429,-71.29827429,-71.29827429,-71.29827429,-71.29827429,-71.29827429,-71.29827429,-71.29827429,-71.29827429,-71.29827429,-71.29827429,-71.29827429,-71.79178647,-71.79178647],\"marker\":{\"color\":\"#EF553B\"},\"mode\":\"markers\",\"name\":\"ARAUCA\",\"showlegend\":true,\"subplot\":\"mapbox\",\"type\":\"scattermapbox\"},{\"hovertemplate\":\"Departamento=ATLANTICO<br>Latitud=%{lat}<br>Longitud=%{lon}<extra></extra>\",\"lat\":[10.59465102,10.79894015],\"legendgroup\":\"ATLANTICO\",\"lon\":[-74.79847316,-74.7687966],\"marker\":{\"color\":\"#00cc96\"},\"mode\":\"markers\",\"name\":\"ATLANTICO\",\"showlegend\":true,\"subplot\":\"mapbox\",\"type\":\"scattermapbox\"},{\"hovertemplate\":\"Departamento=BOLIVAR<br>Latitud=%{lat}<br>Longitud=%{lon}<extra></extra>\",\"lat\":[7.239229146,9.235268598,9.269516705,9.269516705],\"legendgroup\":\"BOLIVAR\",\"lon\":[-74.10014043,-74.68840962,-74.58695233,-74.58695233],\"marker\":{\"color\":\"#ab63fa\"},\"mode\":\"markers\",\"name\":\"BOLIVAR\",\"showlegend\":true,\"subplot\":\"mapbox\",\"type\":\"scattermapbox\"},{\"hovertemplate\":\"Departamento=BOYACA<br>Latitud=%{lat}<br>Longitud=%{lon}<extra></extra>\",\"lat\":[5.82454582,5.953466654,5.953466654,5.953466654,5.953466654,5.953466654,5.953466654,5.953466654,5.953466654,5.953466654,4.798203543,5.765350303],\"legendgroup\":\"BOYACA\",\"lon\":[-72.84544845,-74.4528581,-74.4528581,-74.4528581,-74.4528581,-74.4528581,-74.4528581,-74.4528581,-74.4528581,-74.4528581,-73.13397018,-72.83672958],\"marker\":{\"color\":\"#FFA15A\"},\"mode\":\"markers\",\"name\":\"BOYACA\",\"showlegend\":true,\"subplot\":\"mapbox\",\"type\":\"scattermapbox\"},{\"hovertemplate\":\"Departamento=CASANARE<br>Latitud=%{lat}<br>Longitud=%{lon}<extra></extra>\",\"lat\":[5.126121886,5.126121886,5.126121886,5.126121886,5.126121886,5.126121886,5.126121886,4.675769488,4.675769488,4.675769488,4.675769488,4.675769488,4.675769488,4.675769488,4.675769488,4.675769488,4.675769488,4.675769488,4.675769488,4.675769488,4.675769488,4.675769488,4.841308642,4.841308642,5.529181235,4.915139133,4.915139133,4.915139133,4.915139133,4.915139133,4.915139133,4.915139133,4.915139133,4.915139133,4.915139133,4.915139133,4.915139133,4.915139133,4.915139133,4.915139133,4.915139133,4.915139133,4.915139133,4.915139133,4.915139133,4.915139133,4.915139133,4.915139133,4.915139133,4.915139133,4.915139133,4.915139133,4.915139133,4.915139133,4.915139133,4.915139133,4.915139133,4.915139133,4.915139133,4.915139133,4.915139133,4.915139133,4.915139133,4.915139133,4.915139133,4.915139133,5.779915281,5.779915281,5.779915281,5.779915281,5.779915281,5.779915281,5.779915281,5.779915281,5.779915281,5.779915281,5.779915281,5.779915281,5.779915281,5.779915281,5.779915281,5.779915281,5.779915281,5.779915281,5.779915281,5.779915281,5.663194953,5.663194953,5.663194953,5.274955665,5.274955665,5.274955665,5.274955665,5.274955665,5.274955665,5.274955665,5.274955665,5.274955665,5.274955665,5.274955665,5.274955665,5.274955665,5.274955665,5.274955665,5.274955665,5.274955665,5.274955665,5.274955665,5.274955665,5.274955665,5.274955665,5.274955665,5.274955665,4.697463691,4.697463691,4.697463691,4.697463691,4.697463691,4.697463691,4.697463691,4.697463691,4.697463691,4.697463691,4.697463691,4.697463691,4.697463691,4.697463691,4.697463691,4.697463691,4.697463691,4.697463691,5.354527091,5.354527091,5.354527091,5.354527091,5.354527091,5.354527091,5.354527091,5.354527091,5.354527091,5.354527091,5.354527091,5.354527091,5.354527091,4.528307719,4.528307719,4.528307719,4.528307719,4.528307719,4.528307719,4.528307719,4.528307719,5.242744761,5.242744761,5.242744761,5.242744761,5.242744761,5.242744761,5.242744761,5.242744761,5.242744761,5.242744761,5.242744761,5.242744761,5.242744761,5.242744761,5.242744761,5.242744761,5.242744761],\"legendgroup\":\"CASANARE\",\"lon\":[-72.54821017,-72.54821017,-72.54821017,-72.54821017,-72.54821017,-72.54821017,-72.54821017,-72.21280273,-72.21280273,-72.21280273,-72.21280273,-72.21280273,-72.21280273,-72.21280273,-72.21280273,-72.21280273,-72.21280273,-72.21280273,-72.21280273,-72.21280273,-72.21280273,-72.21280273,-72.8473434,-72.8473434,-72.09251937,-71.59873966,-71.59873966,-71.59873966,-71.59873966,-71.59873966,-71.59873966,-71.59873966,-71.59873966,-71.59873966,-71.59873966,-71.59873966,-71.59873966,-71.59873966,-71.59873966,-71.59873966,-71.59873966,-71.59873966,-71.59873966,-71.59873966,-71.59873966,-71.59873966,-71.59873966,-71.59873966,-71.59873966,-71.59873966,-71.59873966,-71.59873966,-71.59873966,-71.59873966,-71.59873966,-71.59873966,-71.59873966,-71.59873966,-71.59873966,-71.59873966,-71.59873966,-71.59873966,-71.59873966,-71.59873966,-71.59873966,-71.59873966,-70.86947037,-70.86947037,-70.86947037,-70.86947037,-70.86947037,-70.86947037,-70.86947037,-70.86947037,-70.86947037,-70.86947037,-70.86947037,-70.86947037,-70.86947037,-70.86947037,-70.86947037,-70.86947037,-70.86947037,-70.86947037,-70.86947037,-70.86947037,-71.92580806,-71.92580806,-71.92580806,-71.81749276,-71.81749276,-71.81749276,-71.81749276,-71.81749276,-71.81749276,-71.81749276,-71.81749276,-71.81749276,-71.81749276,-71.81749276,-71.81749276,-71.81749276,-71.81749276,-71.81749276,-71.81749276,-71.81749276,-71.81749276,-71.81749276,-71.81749276,-71.81749276,-71.81749276,-71.81749276,-71.81749276,-72.62922436,-72.62922436,-72.62922436,-72.62922436,-72.62922436,-72.62922436,-72.62922436,-72.62922436,-72.62922436,-72.62922436,-72.62922436,-72.62922436,-72.62922436,-72.62922436,-72.62922436,-72.62922436,-72.62922436,-72.62922436,-71.25479519,-71.25479519,-71.25479519,-71.25479519,-71.25479519,-71.25479519,-71.25479519,-71.25479519,-71.25479519,-71.25479519,-71.25479519,-71.25479519,-71.25479519,-72.82314281,-72.82314281,-72.82314281,-72.82314281,-72.82314281,-72.82314281,-72.82314281,-72.82314281,-72.25802857,-72.25802857,-72.25802857,-72.25802857,-72.25802857,-72.25802857,-72.25802857,-72.25802857,-72.25802857,-72.25802857,-72.25802857,-72.25802857,-72.25802857,-72.25802857,-72.25802857,-72.25802857,-72.25802857],\"marker\":{\"color\":\"#19d3f3\"},\"mode\":\"markers\",\"name\":\"CASANARE\",\"showlegend\":true,\"subplot\":\"mapbox\",\"type\":\"scattermapbox\"},{\"hovertemplate\":\"Departamento=CAUCA<br>Latitud=%{lat}<br>Longitud=%{lon}<extra></extra>\",\"lat\":[1.054128816,1.054128816,1.054128816],\"legendgroup\":\"CAUCA\",\"lon\":[-76.4443271,-76.4443271,-76.4443271],\"marker\":{\"color\":\"#FF6692\"},\"mode\":\"markers\",\"name\":\"CAUCA\",\"showlegend\":true,\"subplot\":\"mapbox\",\"type\":\"scattermapbox\"},{\"hovertemplate\":\"Departamento=CESAR<br>Latitud=%{lat}<br>Longitud=%{lon}<extra></extra>\",\"lat\":[8.248735219,8.248735219,8.201070245,8.201070245,8.201070245,8.201070245,8.201070245,8.201070245,7.769815987,7.937788454,7.937788454,7.937788454,7.937788454,7.937788454],\"legendgroup\":\"CESAR\",\"lon\":[-73.6227405,-73.6227405,-73.48750127,-73.48750127,-73.48750127,-73.48750127,-73.48750127,-73.48750127,-73.47218888,-73.54436312,-73.54436312,-73.54436312,-73.54436312,-73.54436312],\"marker\":{\"color\":\"#B6E880\"},\"mode\":\"markers\",\"name\":\"CESAR\",\"showlegend\":true,\"subplot\":\"mapbox\",\"type\":\"scattermapbox\"},{\"hovertemplate\":\"Departamento=CORDOBA<br>Latitud=%{lat}<br>Longitud=%{lon}<extra></extra>\",\"lat\":[8.481339568,8.481339568,8.481339568],\"legendgroup\":\"CORDOBA\",\"lon\":[-75.40516154,-75.40516154,-75.40516154],\"marker\":{\"color\":\"#FF97FF\"},\"mode\":\"markers\",\"name\":\"CORDOBA\",\"showlegend\":true,\"subplot\":\"mapbox\",\"type\":\"scattermapbox\"},{\"hovertemplate\":\"Departamento=CUNDINAMARCA<br>Latitud=%{lat}<br>Longitud=%{lon}<extra></extra>\",\"lat\":[5.173554764,4.691336253],\"legendgroup\":\"CUNDINAMARCA\",\"lon\":[-74.64014651,-74.68074404],\"marker\":{\"color\":\"#FECB52\"},\"mode\":\"markers\",\"name\":\"CUNDINAMARCA\",\"showlegend\":true,\"subplot\":\"mapbox\",\"type\":\"scattermapbox\"},{\"hovertemplate\":\"Departamento=HUILA<br>Latitud=%{lat}<br>Longitud=%{lon}<extra></extra>\",\"lat\":[3.243441923,3.243441923,3.243441923,3.243441923,3.243441923,3.243441923,3.243441923,3.243441923,3.243441923,3.135423634,2.172441496,2.371781539,2.993360046,2.993360046,2.993360046,2.993360046,2.993360046,2.993360046,2.993360046,2.993360046,2.993360046,2.40689827,2.914491967,2.914491967,2.914491967,2.526855132,3.287057875,2.646563339],\"legendgroup\":\"HUILA\",\"lon\":[-75.27670655,-75.27670655,-75.27670655,-75.27670655,-75.27670655,-75.27670655,-75.27670655,-75.27670655,-75.27670655,-74.95797796,-75.57131243,-75.51699754,-75.27236232,-75.27236232,-75.27236232,-75.27236232,-75.27236232,-75.27236232,-75.27236232,-75.27236232,-75.27236232,-75.72803027,-75.44066118,-75.44066118,-75.44066118,-75.68259642,-75.13838292,-75.51592645],\"marker\":{\"color\":\"#636efa\"},\"mode\":\"markers\",\"name\":\"HUILA\",\"showlegend\":true,\"subplot\":\"mapbox\",\"type\":\"scattermapbox\"},{\"hovertemplate\":\"Departamento=MAGDALENA<br>Latitud=%{lat}<br>Longitud=%{lon}<extra></extra>\",\"lat\":[9.834264955,9.76945611,9.503097215,9.503097215,9.503097215,9.503097215],\"legendgroup\":\"MAGDALENA\",\"lon\":[-74.08460085,-74.60181576,-74.44419381,-74.44419381,-74.44419381,-74.44419381],\"marker\":{\"color\":\"#EF553B\"},\"mode\":\"markers\",\"name\":\"MAGDALENA\",\"showlegend\":true,\"subplot\":\"mapbox\",\"type\":\"scattermapbox\"},{\"hovertemplate\":\"Departamento=META<br>Latitud=%{lat}<br>Longitud=%{lon}<extra></extra>\",\"lat\":[3.943383008,3.943383008,3.943383008,3.943383008,3.943383008,4.519076127,4.519076127,4.519076127,4.519076127,4.519076127,4.519076127,4.315244759,4.315244759,4.315244759,4.315244759,4.315244759,4.315244759,4.315244759,4.315244759,4.315244759,4.315244759,4.315244759,4.315244759,4.315244759,4.315244759,4.315244759,4.315244759,3.805154089,3.805154089,3.805154089,3.805154089,3.947775585,3.947775585,3.947775585,2.161863917,4.005034467,4.005034467,4.005034467,4.005034467,4.005034467,4.005034467,4.005034467,4.005034467,4.005034467,4.005034467,4.005034467,4.005034467,4.005034467,4.005034467,4.005034467,4.005034467,4.005034467,4.005034467,4.005034467,4.005034467,4.005034467,4.005034467,4.005034467,4.005034467,4.005034467,4.005034467,4.005034467,4.014298921,4.014298921,4.014298921,4.09166877,4.09166877,4.09166877,4.09166877,4.09166877,4.09166877,4.09166877,4.09166877,4.09166877,4.09166877,4.09166877,4.09166877],\"legendgroup\":\"META\",\"lon\":[-73.57135162,-73.57135162,-73.57135162,-73.57135162,-73.57135162,-72.99548981,-72.99548981,-72.99548981,-72.99548981,-72.99548981,-72.99548981,-72.95268896,-72.95268896,-72.95268896,-72.95268896,-72.95268896,-72.95268896,-72.95268896,-72.95268896,-72.95268896,-72.95268896,-72.95268896,-72.95268896,-72.95268896,-72.95268896,-72.95268896,-72.95268896,-73.53886668,-73.53886668,-73.53886668,-73.53886668,-73.95983864,-73.95983864,-73.95983864,-74.09488076,-71.63157429,-71.63157429,-71.63157429,-71.63157429,-71.63157429,-71.63157429,-71.63157429,-71.63157429,-71.63157429,-71.63157429,-71.63157429,-71.63157429,-71.63157429,-71.63157429,-71.63157429,-71.63157429,-71.63157429,-71.63157429,-71.63157429,-71.63157429,-71.63157429,-71.63157429,-71.63157429,-71.63157429,-71.63157429,-71.63157429,-71.63157429,-72.64570499,-72.64570499,-72.64570499,-73.49291595,-73.49291595,-73.49291595,-73.49291595,-73.49291595,-73.49291595,-73.49291595,-73.49291595,-73.49291595,-73.49291595,-73.49291595,-73.49291595],\"marker\":{\"color\":\"#00cc96\"},\"mode\":\"markers\",\"name\":\"META\",\"showlegend\":true,\"subplot\":\"mapbox\",\"type\":\"scattermapbox\"},{\"hovertemplate\":\"Departamento=NARINO<br>Latitud=%{lat}<br>Longitud=%{lon}<extra></extra>\",\"lat\":[0.497708465],\"legendgroup\":\"NARINO\",\"lon\":[-77.24047625],\"marker\":{\"color\":\"#ab63fa\"},\"mode\":\"markers\",\"name\":\"NARINO\",\"showlegend\":true,\"subplot\":\"mapbox\",\"type\":\"scattermapbox\"},{\"hovertemplate\":\"Departamento=NORTE DE SANTANDER<br>Latitud=%{lat}<br>Longitud=%{lon}<extra></extra>\",\"lat\":[8.112041811,8.215080767,8.713507237,8.713507237],\"legendgroup\":\"NORTE DE SANTANDER\",\"lon\":[-72.48862641,-72.79580961,-72.79925855,-72.79925855],\"marker\":{\"color\":\"#FFA15A\"},\"mode\":\"markers\",\"name\":\"NORTE DE SANTANDER\",\"showlegend\":true,\"subplot\":\"mapbox\",\"type\":\"scattermapbox\"},{\"hovertemplate\":\"Departamento=PUTUMAYO<br>Latitud=%{lat}<br>Longitud=%{lon}<extra></extra>\",\"lat\":[1.26070915,1.26070915,0.673756323,0.673756323,0.673756323,0.673756323,0.673756323,0.673756323,0.673756323,0.433884539,0.433884539,0.433884539,0.433884539,0.433884539,0.433884539,0.433884539,0.70416861,0.70416861,0.272449048,0.272449048,0.42012589,0.42012589,0.911149515,0.911149515,0.911149515,0.911149515,0.911149515],\"legendgroup\":\"PUTUMAYO\",\"lon\":[-76.66584349,-76.66584349,-76.94313923,-76.94313923,-76.94313923,-76.94313923,-76.94313923,-76.94313923,-76.94313923,-76.52158203,-76.52158203,-76.52158203,-76.52158203,-76.52158203,-76.52158203,-76.52158203,-76.49864415,-76.49864415,-76.84510459,-76.84510459,-76.77067026,-76.77067026,-76.74495447,-76.74495447,-76.74495447,-76.74495447,-76.74495447],\"marker\":{\"color\":\"#19d3f3\"},\"mode\":\"markers\",\"name\":\"PUTUMAYO\",\"showlegend\":true,\"subplot\":\"mapbox\",\"type\":\"scattermapbox\"},{\"hovertemplate\":\"Departamento=SANTANDER<br>Latitud=%{lat}<br>Longitud=%{lon}<extra></extra>\",\"lat\":[7.054074558,7.054074558,7.054074558,6.40972961,6.40972961,6.40972961,6.40972961,6.40972961,6.40972961,7.398198257,7.398198257,7.398198257,7.474226085,7.474226085,7.474226085,7.474226085,7.474226085,7.4065422,7.4065422,7.4065422,7.4065422,7.4065422,7.4065422,7.4065422,7.4065422,7.4065422,6.894292346,6.894292346,6.894292346,6.894292346,6.894292346,6.894292346,6.894292346,6.894292346,6.494231551],\"legendgroup\":\"SANTANDER\",\"lon\":[-73.78211646,-73.78211646,-73.78211646,-74.17030427,-74.17030427,-74.17030427,-74.17030427,-74.17030427,-74.17030427,-73.8354696,-73.8354696,-73.8354696,-73.37246417,-73.37246417,-73.37246417,-73.37246417,-73.37246417,-73.57131807,-73.57131807,-73.57131807,-73.57131807,-73.57131807,-73.57131807,-73.57131807,-73.57131807,-73.57131807,-73.53900334,-73.53900334,-73.53900334,-73.53900334,-73.53900334,-73.53900334,-73.53900334,-73.53900334,-73.45910992],\"marker\":{\"color\":\"#FF6692\"},\"mode\":\"markers\",\"name\":\"SANTANDER\",\"showlegend\":true,\"subplot\":\"mapbox\",\"type\":\"scattermapbox\"},{\"hovertemplate\":\"Departamento=SUCRE<br>Latitud=%{lat}<br>Longitud=%{lon}<extra></extra>\",\"lat\":[9.549655271,9.549655271,9.396835638],\"legendgroup\":\"SUCRE\",\"lon\":[-75.18855916,-75.18855916,-75.03741815],\"marker\":{\"color\":\"#B6E880\"},\"mode\":\"markers\",\"name\":\"SUCRE\",\"showlegend\":true,\"subplot\":\"mapbox\",\"type\":\"scattermapbox\"},{\"hovertemplate\":\"Departamento=TOLIMA<br>Latitud=%{lat}<br>Longitud=%{lon}<extra></extra>\",\"lat\":[4.582625784,3.743693084,3.743693084,4.166476969,4.166476969,4.076501341,4.193215498,4.193215498,4.193215498,3.937793962,3.937793962,3.937793962,3.937793962,3.937793962,4.433764446,4.433764446,4.433764446,4.433764446,3.729166649,3.854281614,3.854281614,3.854281614,3.854281614,4.057271684],\"legendgroup\":\"TOLIMA\",\"lon\":[-74.98630686,-75.58986634,-75.58986634,-74.89352941,-74.89352941,-74.97657287,-74.60517497,-74.60517497,-74.60517497,-75.27824314,-75.27824314,-75.27824314,-75.27824314,-75.27824314,-74.99879938,-74.99879938,-74.99879938,-74.99879938,-74.87247706,-74.87451155,-74.87451155,-74.87451155,-74.87451155,-75.16320806],\"marker\":{\"color\":\"#FF97FF\"},\"mode\":\"markers\",\"name\":\"TOLIMA\",\"showlegend\":true,\"subplot\":\"mapbox\",\"type\":\"scattermapbox\"}],                        {\"template\":{\"data\":{\"histogram2dcontour\":[{\"type\":\"histogram2dcontour\",\"colorbar\":{\"outlinewidth\":0,\"ticks\":\"\"},\"colorscale\":[[0.0,\"#0d0887\"],[0.1111111111111111,\"#46039f\"],[0.2222222222222222,\"#7201a8\"],[0.3333333333333333,\"#9c179e\"],[0.4444444444444444,\"#bd3786\"],[0.5555555555555556,\"#d8576b\"],[0.6666666666666666,\"#ed7953\"],[0.7777777777777778,\"#fb9f3a\"],[0.8888888888888888,\"#fdca26\"],[1.0,\"#f0f921\"]]}],\"choropleth\":[{\"type\":\"choropleth\",\"colorbar\":{\"outlinewidth\":0,\"ticks\":\"\"}}],\"histogram2d\":[{\"type\":\"histogram2d\",\"colorbar\":{\"outlinewidth\":0,\"ticks\":\"\"},\"colorscale\":[[0.0,\"#0d0887\"],[0.1111111111111111,\"#46039f\"],[0.2222222222222222,\"#7201a8\"],[0.3333333333333333,\"#9c179e\"],[0.4444444444444444,\"#bd3786\"],[0.5555555555555556,\"#d8576b\"],[0.6666666666666666,\"#ed7953\"],[0.7777777777777778,\"#fb9f3a\"],[0.8888888888888888,\"#fdca26\"],[1.0,\"#f0f921\"]]}],\"heatmap\":[{\"type\":\"heatmap\",\"colorbar\":{\"outlinewidth\":0,\"ticks\":\"\"},\"colorscale\":[[0.0,\"#0d0887\"],[0.1111111111111111,\"#46039f\"],[0.2222222222222222,\"#7201a8\"],[0.3333333333333333,\"#9c179e\"],[0.4444444444444444,\"#bd3786\"],[0.5555555555555556,\"#d8576b\"],[0.6666666666666666,\"#ed7953\"],[0.7777777777777778,\"#fb9f3a\"],[0.8888888888888888,\"#fdca26\"],[1.0,\"#f0f921\"]]}],\"heatmapgl\":[{\"type\":\"heatmapgl\",\"colorbar\":{\"outlinewidth\":0,\"ticks\":\"\"},\"colorscale\":[[0.0,\"#0d0887\"],[0.1111111111111111,\"#46039f\"],[0.2222222222222222,\"#7201a8\"],[0.3333333333333333,\"#9c179e\"],[0.4444444444444444,\"#bd3786\"],[0.5555555555555556,\"#d8576b\"],[0.6666666666666666,\"#ed7953\"],[0.7777777777777778,\"#fb9f3a\"],[0.8888888888888888,\"#fdca26\"],[1.0,\"#f0f921\"]]}],\"contourcarpet\":[{\"type\":\"contourcarpet\",\"colorbar\":{\"outlinewidth\":0,\"ticks\":\"\"}}],\"contour\":[{\"type\":\"contour\",\"colorbar\":{\"outlinewidth\":0,\"ticks\":\"\"},\"colorscale\":[[0.0,\"#0d0887\"],[0.1111111111111111,\"#46039f\"],[0.2222222222222222,\"#7201a8\"],[0.3333333333333333,\"#9c179e\"],[0.4444444444444444,\"#bd3786\"],[0.5555555555555556,\"#d8576b\"],[0.6666666666666666,\"#ed7953\"],[0.7777777777777778,\"#fb9f3a\"],[0.8888888888888888,\"#fdca26\"],[1.0,\"#f0f921\"]]}],\"surface\":[{\"type\":\"surface\",\"colorbar\":{\"outlinewidth\":0,\"ticks\":\"\"},\"colorscale\":[[0.0,\"#0d0887\"],[0.1111111111111111,\"#46039f\"],[0.2222222222222222,\"#7201a8\"],[0.3333333333333333,\"#9c179e\"],[0.4444444444444444,\"#bd3786\"],[0.5555555555555556,\"#d8576b\"],[0.6666666666666666,\"#ed7953\"],[0.7777777777777778,\"#fb9f3a\"],[0.8888888888888888,\"#fdca26\"],[1.0,\"#f0f921\"]]}],\"mesh3d\":[{\"type\":\"mesh3d\",\"colorbar\":{\"outlinewidth\":0,\"ticks\":\"\"}}],\"scatter\":[{\"fillpattern\":{\"fillmode\":\"overlay\",\"size\":10,\"solidity\":0.2},\"type\":\"scatter\"}],\"parcoords\":[{\"type\":\"parcoords\",\"line\":{\"colorbar\":{\"outlinewidth\":0,\"ticks\":\"\"}}}],\"scatterpolargl\":[{\"type\":\"scatterpolargl\",\"marker\":{\"colorbar\":{\"outlinewidth\":0,\"ticks\":\"\"}}}],\"bar\":[{\"error_x\":{\"color\":\"#2a3f5f\"},\"error_y\":{\"color\":\"#2a3f5f\"},\"marker\":{\"line\":{\"color\":\"#E5ECF6\",\"width\":0.5},\"pattern\":{\"fillmode\":\"overlay\",\"size\":10,\"solidity\":0.2}},\"type\":\"bar\"}],\"scattergeo\":[{\"type\":\"scattergeo\",\"marker\":{\"colorbar\":{\"outlinewidth\":0,\"ticks\":\"\"}}}],\"scatterpolar\":[{\"type\":\"scatterpolar\",\"marker\":{\"colorbar\":{\"outlinewidth\":0,\"ticks\":\"\"}}}],\"histogram\":[{\"marker\":{\"pattern\":{\"fillmode\":\"overlay\",\"size\":10,\"solidity\":0.2}},\"type\":\"histogram\"}],\"scattergl\":[{\"type\":\"scattergl\",\"marker\":{\"colorbar\":{\"outlinewidth\":0,\"ticks\":\"\"}}}],\"scatter3d\":[{\"type\":\"scatter3d\",\"line\":{\"colorbar\":{\"outlinewidth\":0,\"ticks\":\"\"}},\"marker\":{\"colorbar\":{\"outlinewidth\":0,\"ticks\":\"\"}}}],\"scattermapbox\":[{\"type\":\"scattermapbox\",\"marker\":{\"colorbar\":{\"outlinewidth\":0,\"ticks\":\"\"}}}],\"scatterternary\":[{\"type\":\"scatterternary\",\"marker\":{\"colorbar\":{\"outlinewidth\":0,\"ticks\":\"\"}}}],\"scattercarpet\":[{\"type\":\"scattercarpet\",\"marker\":{\"colorbar\":{\"outlinewidth\":0,\"ticks\":\"\"}}}],\"carpet\":[{\"aaxis\":{\"endlinecolor\":\"#2a3f5f\",\"gridcolor\":\"white\",\"linecolor\":\"white\",\"minorgridcolor\":\"white\",\"startlinecolor\":\"#2a3f5f\"},\"baxis\":{\"endlinecolor\":\"#2a3f5f\",\"gridcolor\":\"white\",\"linecolor\":\"white\",\"minorgridcolor\":\"white\",\"startlinecolor\":\"#2a3f5f\"},\"type\":\"carpet\"}],\"table\":[{\"cells\":{\"fill\":{\"color\":\"#EBF0F8\"},\"line\":{\"color\":\"white\"}},\"header\":{\"fill\":{\"color\":\"#C8D4E3\"},\"line\":{\"color\":\"white\"}},\"type\":\"table\"}],\"barpolar\":[{\"marker\":{\"line\":{\"color\":\"#E5ECF6\",\"width\":0.5},\"pattern\":{\"fillmode\":\"overlay\",\"size\":10,\"solidity\":0.2}},\"type\":\"barpolar\"}],\"pie\":[{\"automargin\":true,\"type\":\"pie\"}]},\"layout\":{\"autotypenumbers\":\"strict\",\"colorway\":[\"#636efa\",\"#EF553B\",\"#00cc96\",\"#ab63fa\",\"#FFA15A\",\"#19d3f3\",\"#FF6692\",\"#B6E880\",\"#FF97FF\",\"#FECB52\"],\"font\":{\"color\":\"#2a3f5f\"},\"hovermode\":\"closest\",\"hoverlabel\":{\"align\":\"left\"},\"paper_bgcolor\":\"white\",\"plot_bgcolor\":\"#E5ECF6\",\"polar\":{\"bgcolor\":\"#E5ECF6\",\"angularaxis\":{\"gridcolor\":\"white\",\"linecolor\":\"white\",\"ticks\":\"\"},\"radialaxis\":{\"gridcolor\":\"white\",\"linecolor\":\"white\",\"ticks\":\"\"}},\"ternary\":{\"bgcolor\":\"#E5ECF6\",\"aaxis\":{\"gridcolor\":\"white\",\"linecolor\":\"white\",\"ticks\":\"\"},\"baxis\":{\"gridcolor\":\"white\",\"linecolor\":\"white\",\"ticks\":\"\"},\"caxis\":{\"gridcolor\":\"white\",\"linecolor\":\"white\",\"ticks\":\"\"}},\"coloraxis\":{\"colorbar\":{\"outlinewidth\":0,\"ticks\":\"\"}},\"colorscale\":{\"sequential\":[[0.0,\"#0d0887\"],[0.1111111111111111,\"#46039f\"],[0.2222222222222222,\"#7201a8\"],[0.3333333333333333,\"#9c179e\"],[0.4444444444444444,\"#bd3786\"],[0.5555555555555556,\"#d8576b\"],[0.6666666666666666,\"#ed7953\"],[0.7777777777777778,\"#fb9f3a\"],[0.8888888888888888,\"#fdca26\"],[1.0,\"#f0f921\"]],\"sequentialminus\":[[0.0,\"#0d0887\"],[0.1111111111111111,\"#46039f\"],[0.2222222222222222,\"#7201a8\"],[0.3333333333333333,\"#9c179e\"],[0.4444444444444444,\"#bd3786\"],[0.5555555555555556,\"#d8576b\"],[0.6666666666666666,\"#ed7953\"],[0.7777777777777778,\"#fb9f3a\"],[0.8888888888888888,\"#fdca26\"],[1.0,\"#f0f921\"]],\"diverging\":[[0,\"#8e0152\"],[0.1,\"#c51b7d\"],[0.2,\"#de77ae\"],[0.3,\"#f1b6da\"],[0.4,\"#fde0ef\"],[0.5,\"#f7f7f7\"],[0.6,\"#e6f5d0\"],[0.7,\"#b8e186\"],[0.8,\"#7fbc41\"],[0.9,\"#4d9221\"],[1,\"#276419\"]]},\"xaxis\":{\"gridcolor\":\"white\",\"linecolor\":\"white\",\"ticks\":\"\",\"title\":{\"standoff\":15},\"zerolinecolor\":\"white\",\"automargin\":true,\"zerolinewidth\":2},\"yaxis\":{\"gridcolor\":\"white\",\"linecolor\":\"white\",\"ticks\":\"\",\"title\":{\"standoff\":15},\"zerolinecolor\":\"white\",\"automargin\":true,\"zerolinewidth\":2},\"scene\":{\"xaxis\":{\"backgroundcolor\":\"#E5ECF6\",\"gridcolor\":\"white\",\"linecolor\":\"white\",\"showbackground\":true,\"ticks\":\"\",\"zerolinecolor\":\"white\",\"gridwidth\":2},\"yaxis\":{\"backgroundcolor\":\"#E5ECF6\",\"gridcolor\":\"white\",\"linecolor\":\"white\",\"showbackground\":true,\"ticks\":\"\",\"zerolinecolor\":\"white\",\"gridwidth\":2},\"zaxis\":{\"backgroundcolor\":\"#E5ECF6\",\"gridcolor\":\"white\",\"linecolor\":\"white\",\"showbackground\":true,\"ticks\":\"\",\"zerolinecolor\":\"white\",\"gridwidth\":2}},\"shapedefaults\":{\"line\":{\"color\":\"#2a3f5f\"}},\"annotationdefaults\":{\"arrowcolor\":\"#2a3f5f\",\"arrowhead\":0,\"arrowwidth\":1},\"geo\":{\"bgcolor\":\"white\",\"landcolor\":\"#E5ECF6\",\"subunitcolor\":\"white\",\"showland\":true,\"showlakes\":true,\"lakecolor\":\"white\"},\"title\":{\"x\":0.05},\"mapbox\":{\"style\":\"light\"}}},\"mapbox\":{\"domain\":{\"x\":[0.0,1.0],\"y\":[0.0,1.0]},\"center\":{\"lat\":5.006503654076404,\"lon\":-73.12906876096629},\"accesstoken\":\"pk.eyJ1IjoiY2hlbWlza3kiLCJhIjoiY2tnOGNhcXk3MGZ3eDJ5b2FxZ3ViajN1MyJ9.t3R24lWTwzTQwyJw4vuWFw\",\"zoom\":10},\"legend\":{\"title\":{\"text\":\"Departamento\"},\"tracegroupgap\":0},\"margin\":{\"t\":60}},                        {\"responsive\": true}                    ).then(function(){\n                            \nvar gd = document.getElementById('53967d3a-ac47-4fb5-bb18-14216cf9a926');\nvar x = new MutationObserver(function (mutations, observer) {{\n        var display = window.getComputedStyle(gd).display;\n        if (!display || display === 'none') {{\n            console.log([gd, 'removed!']);\n            Plotly.purge(gd);\n            observer.disconnect();\n        }}\n}});\n\n// Listen for the removal of the full notebook cells\nvar notebookContainer = gd.closest('#notebook-container');\nif (notebookContainer) {{\n    x.observe(notebookContainer, {childList: true});\n}}\n\n// Listen for the clearing of the current output cell\nvar outputEl = gd.closest('.output');\nif (outputEl) {{\n    x.observe(outputEl, {childList: true});\n}}\n\n                        })                };                            </script>        </div>\n</body>\n</html>"
     },
     "metadata": {},
     "output_type": "display_data"
    }
   ]
  },
  {
   "cell_type": "markdown",
   "source": "En el mapa se puede observar como están distribuidos los diferentes pozos petroleros y se segmentan por color según el departamento al que pertenecen.",
   "metadata": {
    "formattedRanges": [],
    "is_collapsed": false,
    "cell_id": "d23ca7508acb4f39858cd10df7672292",
    "tags": [],
    "deepnote_app_coordinates": {
     "x": 0,
     "y": 337,
     "w": 8,
     "h": 2
    },
    "deepnote_cell_type": "text-cell-p"
   }
  },
  {
   "cell_type": "code",
   "metadata": {
    "cell_id": "5275215e5df440a79a53951203fea5c3",
    "tags": [],
    "deepnote_to_be_reexecuted": false,
    "source_hash": "52efbca4",
    "execution_start": 1660676394038,
    "execution_millis": 61,
    "deepnote_app_coordinates": {
     "x": 0,
     "y": 340,
     "w": 12,
     "h": 5
    },
    "deepnote_cell_type": "code"
   },
   "source": "fig = px.scatter_mapbox(producion_petroleo_2020, lat=\"Latitud\", lon=\"Longitud\",color=\"Departamento\",size='Enero',color_continuous_scale=px.colors.cyclical.IceFire, size_max=15, zoom=10)\nfig.show()",
   "execution_count": null,
   "outputs": [
    {
     "data": {
      "text/html": "<html>\n<head><meta charset=\"utf-8\" /></head>\n<body>\n    <div>            <script src=\"https://cdnjs.cloudflare.com/ajax/libs/mathjax/2.7.5/MathJax.js?config=TeX-AMS-MML_SVG\"></script><script type=\"text/javascript\">if (window.MathJax && window.MathJax.Hub && window.MathJax.Hub.Config) {window.MathJax.Hub.Config({SVG: {font: \"STIX-Web\"}});}</script>                <script type=\"text/javascript\">window.PlotlyConfig = {MathJaxConfig: 'local'};</script>\n        <script src=\"https://cdn.plot.ly/plotly-2.12.1.min.js\"></script>                <div id=\"548aaa5c-de19-49c7-85e4-ddd5ef5aa951\" class=\"plotly-graph-div\" style=\"height:525px; width:100%;\"></div>            <script type=\"text/javascript\">                                    window.PLOTLYENV=window.PLOTLYENV || {};                                    if (document.getElementById(\"548aaa5c-de19-49c7-85e4-ddd5ef5aa951\")) {                    Plotly.newPlot(                        \"548aaa5c-de19-49c7-85e4-ddd5ef5aa951\",                        [{\"hovertemplate\":\"Departamento=ANTIOQUIA<br>Enero=%{marker.size}<br>Latitud=%{lat}<br>Longitud=%{lon}<extra></extra>\",\"lat\":[6.126539139,6.126539139,6.126539139,5.954830151,6.925159318,6.925159318,6.925159318],\"legendgroup\":\"ANTIOQUIA\",\"lon\":[-74.70317722,-74.70317722,-74.70317722,-74.6861918,-74.15824041,-74.15824041,-74.15824041],\"marker\":{\"color\":\"#636efa\",\"size\":[1765.84,187.33,645.83,119.7,11636.58,1852.6,1191.87],\"sizemode\":\"area\",\"sizeref\":518.7735111111111},\"mode\":\"markers\",\"name\":\"ANTIOQUIA\",\"showlegend\":true,\"subplot\":\"mapbox\",\"type\":\"scattermapbox\"},{\"hovertemplate\":\"Departamento=ARAUCA<br>Enero=%{marker.size}<br>Latitud=%{lat}<br>Longitud=%{lon}<extra></extra>\",\"lat\":[6.796280825,6.796280825,6.796280825,6.796280825,6.796280825,6.796280825,6.799338394,6.799338394,6.799338394,6.799338394,6.799338394,6.799338394,6.799338394,6.799338394,6.799338394,6.799338394,6.799338394,6.799338394,6.799338394,6.799338394,6.799338394,6.799338394,6.390650479,6.390650479],\"legendgroup\":\"ARAUCA\",\"lon\":[-70.50921153,-70.50921153,-70.50921153,-70.50921153,-70.50921153,-70.50921153,-71.29827429,-71.29827429,-71.29827429,-71.29827429,-71.29827429,-71.29827429,-71.29827429,-71.29827429,-71.29827429,-71.29827429,-71.29827429,-71.29827429,-71.29827429,-71.29827429,-71.29827429,-71.29827429,-71.79178647,-71.79178647],\"marker\":{\"color\":\"#EF553B\",\"size\":[20370.23,3080.65,5400.06,105.58,171.42,56.0,61.26,357.77,1092.06,725.87,2827.19,3295.23,89.35,3229.42,39.68,45.87,292.74,744.68,56.03,220.9,7188.16,1275.97,2162.59,984.23],\"sizemode\":\"area\",\"sizeref\":518.7735111111111},\"mode\":\"markers\",\"name\":\"ARAUCA\",\"showlegend\":true,\"subplot\":\"mapbox\",\"type\":\"scattermapbox\"},{\"hovertemplate\":\"Departamento=ATLANTICO<br>Enero=%{marker.size}<br>Latitud=%{lat}<br>Longitud=%{lon}<extra></extra>\",\"lat\":[10.59465102,10.79894015],\"legendgroup\":\"ATLANTICO\",\"lon\":[-74.79847316,-74.7687966],\"marker\":{\"color\":\"#00cc96\",\"size\":[0.0,595.82],\"sizemode\":\"area\",\"sizeref\":518.7735111111111},\"mode\":\"markers\",\"name\":\"ATLANTICO\",\"showlegend\":true,\"subplot\":\"mapbox\",\"type\":\"scattermapbox\"},{\"hovertemplate\":\"Departamento=BOLIVAR<br>Enero=%{marker.size}<br>Latitud=%{lat}<br>Longitud=%{lon}<extra></extra>\",\"lat\":[7.239229146,9.235268598,9.269516705,9.269516705],\"legendgroup\":\"BOLIVAR\",\"lon\":[-74.10014043,-74.68840962,-74.58695233,-74.58695233],\"marker\":{\"color\":\"#ab63fa\",\"size\":[15744.91,345.13,61.47,186.97],\"sizemode\":\"area\",\"sizeref\":518.7735111111111},\"mode\":\"markers\",\"name\":\"BOLIVAR\",\"showlegend\":true,\"subplot\":\"mapbox\",\"type\":\"scattermapbox\"},{\"hovertemplate\":\"Departamento=BOYACA<br>Enero=%{marker.size}<br>Latitud=%{lat}<br>Longitud=%{lon}<extra></extra>\",\"lat\":[5.82454582,5.953466654,5.953466654,5.953466654,5.953466654,5.953466654,5.953466654,5.953466654,5.953466654,5.953466654,4.798203543,5.765350303],\"legendgroup\":\"BOYACA\",\"lon\":[-72.84544845,-74.4528581,-74.4528581,-74.4528581,-74.4528581,-74.4528581,-74.4528581,-74.4528581,-74.4528581,-74.4528581,-73.13397018,-72.83672958],\"marker\":{\"color\":\"#FFA15A\",\"size\":[191.97,2957.72,597.45,2474.1,3442.74,9714.85,6960.45,273.38,1078.79,2959.99,51.39,36.38],\"sizemode\":\"area\",\"sizeref\":518.7735111111111},\"mode\":\"markers\",\"name\":\"BOYACA\",\"showlegend\":true,\"subplot\":\"mapbox\",\"type\":\"scattermapbox\"},{\"hovertemplate\":\"Departamento=CASANARE<br>Enero=%{marker.size}<br>Latitud=%{lat}<br>Longitud=%{lon}<extra></extra>\",\"lat\":[5.126121886,5.126121886,5.126121886,5.126121886,5.126121886,5.126121886,5.126121886,4.675769488,4.675769488,4.675769488,4.675769488,4.675769488,4.675769488,4.675769488,4.675769488,4.675769488,4.675769488,4.675769488,4.675769488,4.675769488,4.675769488,4.675769488,4.841308642,4.841308642,5.529181235,4.915139133,4.915139133,4.915139133,4.915139133,4.915139133,4.915139133,4.915139133,4.915139133,4.915139133,4.915139133,4.915139133,4.915139133,4.915139133,4.915139133,4.915139133,4.915139133,4.915139133,4.915139133,4.915139133,4.915139133,4.915139133,4.915139133,4.915139133,4.915139133,4.915139133,4.915139133,4.915139133,4.915139133,4.915139133,4.915139133,4.915139133,4.915139133,4.915139133,4.915139133,4.915139133,4.915139133,4.915139133,4.915139133,4.915139133,4.915139133,4.915139133,5.779915281,5.779915281,5.779915281,5.779915281,5.779915281,5.779915281,5.779915281,5.779915281,5.779915281,5.779915281,5.779915281,5.779915281,5.779915281,5.779915281,5.779915281,5.779915281,5.779915281,5.779915281,5.779915281,5.779915281,5.663194953,5.663194953,5.663194953,5.274955665,5.274955665,5.274955665,5.274955665,5.274955665,5.274955665,5.274955665,5.274955665,5.274955665,5.274955665,5.274955665,5.274955665,5.274955665,5.274955665,5.274955665,5.274955665,5.274955665,5.274955665,5.274955665,5.274955665,5.274955665,5.274955665,5.274955665,5.274955665,4.697463691,4.697463691,4.697463691,4.697463691,4.697463691,4.697463691,4.697463691,4.697463691,4.697463691,4.697463691,4.697463691,4.697463691,4.697463691,4.697463691,4.697463691,4.697463691,4.697463691,4.697463691,5.354527091,5.354527091,5.354527091,5.354527091,5.354527091,5.354527091,5.354527091,5.354527091,5.354527091,5.354527091,5.354527091,5.354527091,5.354527091,4.528307719,4.528307719,4.528307719,4.528307719,4.528307719,4.528307719,4.528307719,4.528307719,5.242744761,5.242744761,5.242744761,5.242744761,5.242744761,5.242744761,5.242744761,5.242744761,5.242744761,5.242744761,5.242744761,5.242744761,5.242744761,5.242744761,5.242744761,5.242744761,5.242744761],\"legendgroup\":\"CASANARE\",\"lon\":[-72.54821017,-72.54821017,-72.54821017,-72.54821017,-72.54821017,-72.54821017,-72.54821017,-72.21280273,-72.21280273,-72.21280273,-72.21280273,-72.21280273,-72.21280273,-72.21280273,-72.21280273,-72.21280273,-72.21280273,-72.21280273,-72.21280273,-72.21280273,-72.21280273,-72.21280273,-72.8473434,-72.8473434,-72.09251937,-71.59873966,-71.59873966,-71.59873966,-71.59873966,-71.59873966,-71.59873966,-71.59873966,-71.59873966,-71.59873966,-71.59873966,-71.59873966,-71.59873966,-71.59873966,-71.59873966,-71.59873966,-71.59873966,-71.59873966,-71.59873966,-71.59873966,-71.59873966,-71.59873966,-71.59873966,-71.59873966,-71.59873966,-71.59873966,-71.59873966,-71.59873966,-71.59873966,-71.59873966,-71.59873966,-71.59873966,-71.59873966,-71.59873966,-71.59873966,-71.59873966,-71.59873966,-71.59873966,-71.59873966,-71.59873966,-71.59873966,-71.59873966,-70.86947037,-70.86947037,-70.86947037,-70.86947037,-70.86947037,-70.86947037,-70.86947037,-70.86947037,-70.86947037,-70.86947037,-70.86947037,-70.86947037,-70.86947037,-70.86947037,-70.86947037,-70.86947037,-70.86947037,-70.86947037,-70.86947037,-70.86947037,-71.92580806,-71.92580806,-71.92580806,-71.81749276,-71.81749276,-71.81749276,-71.81749276,-71.81749276,-71.81749276,-71.81749276,-71.81749276,-71.81749276,-71.81749276,-71.81749276,-71.81749276,-71.81749276,-71.81749276,-71.81749276,-71.81749276,-71.81749276,-71.81749276,-71.81749276,-71.81749276,-71.81749276,-71.81749276,-71.81749276,-71.81749276,-72.62922436,-72.62922436,-72.62922436,-72.62922436,-72.62922436,-72.62922436,-72.62922436,-72.62922436,-72.62922436,-72.62922436,-72.62922436,-72.62922436,-72.62922436,-72.62922436,-72.62922436,-72.62922436,-72.62922436,-72.62922436,-71.25479519,-71.25479519,-71.25479519,-71.25479519,-71.25479519,-71.25479519,-71.25479519,-71.25479519,-71.25479519,-71.25479519,-71.25479519,-71.25479519,-71.25479519,-72.82314281,-72.82314281,-72.82314281,-72.82314281,-72.82314281,-72.82314281,-72.82314281,-72.82314281,-72.25802857,-72.25802857,-72.25802857,-72.25802857,-72.25802857,-72.25802857,-72.25802857,-72.25802857,-72.25802857,-72.25802857,-72.25802857,-72.25802857,-72.25802857,-72.25802857,-72.25802857,-72.25802857,-72.25802857],\"marker\":{\"color\":\"#19d3f3\",\"size\":[5231.83,2363.19,1372.03,656.15,334.18,1235.62,1666.47,365.53,96.56,333.42,78.11,276.83,147.32,268.46,668.71,46.83,116.27,289.02,238.04,533.26,546.31,0.0,7.81,224.39,0.0,168.99,33.1,53.2,340.83,874.84,30.63,371.7,154.18,140.72,111.93,234.9,140.21,546.6,74.11,823.31,229.52,85.59,169.36,43.28,484.13,100.26,381.78,0.0,61.64,89.16,1079.52,580.75,220.22,131.97,63.77,777.65,397.8,140.89,0.0,331.26,0.0,757.19,1902.54,134.16,151.81,1244.11,685.68,86.61,160.85,282.71,188.31,124.24,118.29,242.3,18.59,439.21,142.61,1510.0,37.44,114.65,35.64,10.28,29.87,109.44,1060.52,42.29,306.18,337.96,52.78,367.98,47.36,178.51,183.52,151.53,0.0,0.0,1553.21,923.9,177.04,150.25,179.84,395.49,481.82,99.26,273.22,351.18,124.32,11.01,0.0,71.52,303.28,192.12,53.13,1979.27,0.0,333.67,124.69,113.34,3161.0,883.11,703.45,0.0,241.34,193.74,556.14,261.23,87.72,399.42,34987.24,355.12,4318.55,516.34,1258.06,722.98,78.28,81.79,179.9,41.15,40.12,24.37,0.0,35.21,521.16,128.43,1920.33,3403.38,0.0,237.72,225.94,381.67,33.85,26365.64,12.43,0.0,3671.18,0.0,2579.08,424.41,118.48,0.32,191.5,0.0,23898.49,568.85,194.72,1450.3,193.43,411.95,9.79],\"sizemode\":\"area\",\"sizeref\":518.7735111111111},\"mode\":\"markers\",\"name\":\"CASANARE\",\"showlegend\":true,\"subplot\":\"mapbox\",\"type\":\"scattermapbox\"},{\"hovertemplate\":\"Departamento=CAUCA<br>Enero=%{marker.size}<br>Latitud=%{lat}<br>Longitud=%{lon}<extra></extra>\",\"lat\":[1.054128816,1.054128816,1.054128816],\"legendgroup\":\"CAUCA\",\"lon\":[-76.4443271,-76.4443271,-76.4443271],\"marker\":{\"color\":\"#FF6692\",\"size\":[394.6,129.71,236.61],\"sizemode\":\"area\",\"sizeref\":518.7735111111111},\"mode\":\"markers\",\"name\":\"CAUCA\",\"showlegend\":true,\"subplot\":\"mapbox\",\"type\":\"scattermapbox\"},{\"hovertemplate\":\"Departamento=CESAR<br>Enero=%{marker.size}<br>Latitud=%{lat}<br>Longitud=%{lon}<extra></extra>\",\"lat\":[8.248735219,8.248735219,8.201070245,8.201070245,8.201070245,8.201070245,8.201070245,8.201070245,7.769815987,7.937788454,7.937788454,7.937788454,7.937788454,7.937788454],\"legendgroup\":\"CESAR\",\"lon\":[-73.6227405,-73.6227405,-73.48750127,-73.48750127,-73.48750127,-73.48750127,-73.48750127,-73.48750127,-73.47218888,-73.54436312,-73.54436312,-73.54436312,-73.54436312,-73.54436312],\"marker\":{\"color\":\"#B6E880\",\"size\":[414.89,125.91,194.01,589.79,1.25,85.61,20.27,7.65,224.45,14708.88,30.7,1247.93,1915.85,3.27],\"sizemode\":\"area\",\"sizeref\":518.7735111111111},\"mode\":\"markers\",\"name\":\"CESAR\",\"showlegend\":true,\"subplot\":\"mapbox\",\"type\":\"scattermapbox\"},{\"hovertemplate\":\"Departamento=CORDOBA<br>Enero=%{marker.size}<br>Latitud=%{lat}<br>Longitud=%{lon}<extra></extra>\",\"lat\":[8.481339568,8.481339568,8.481339568],\"legendgroup\":\"CORDOBA\",\"lon\":[-75.40516154,-75.40516154,-75.40516154],\"marker\":{\"color\":\"#FF97FF\",\"size\":[0.0,0.0,0.27],\"sizemode\":\"area\",\"sizeref\":518.7735111111111},\"mode\":\"markers\",\"name\":\"CORDOBA\",\"showlegend\":true,\"subplot\":\"mapbox\",\"type\":\"scattermapbox\"},{\"hovertemplate\":\"Departamento=CUNDINAMARCA<br>Enero=%{marker.size}<br>Latitud=%{lat}<br>Longitud=%{lon}<extra></extra>\",\"lat\":[5.173554764,4.691336253],\"legendgroup\":\"CUNDINAMARCA\",\"lon\":[-74.64014651,-74.68074404],\"marker\":{\"color\":\"#FECB52\",\"size\":[126.77,53.38],\"sizemode\":\"area\",\"sizeref\":518.7735111111111},\"mode\":\"markers\",\"name\":\"CUNDINAMARCA\",\"showlegend\":true,\"subplot\":\"mapbox\",\"type\":\"scattermapbox\"},{\"hovertemplate\":\"Departamento=HUILA<br>Enero=%{marker.size}<br>Latitud=%{lat}<br>Longitud=%{lon}<extra></extra>\",\"lat\":[3.243441923,3.243441923,3.243441923,3.243441923,3.243441923,3.243441923,3.243441923,3.243441923,3.243441923,3.135423634,2.172441496,2.371781539,2.993360046,2.993360046,2.993360046,2.993360046,2.993360046,2.993360046,2.993360046,2.993360046,2.993360046,2.40689827,2.914491967,2.914491967,2.914491967,2.526855132,3.287057875,2.646563339],\"legendgroup\":\"HUILA\",\"lon\":[-75.27670655,-75.27670655,-75.27670655,-75.27670655,-75.27670655,-75.27670655,-75.27670655,-75.27670655,-75.27670655,-74.95797796,-75.57131243,-75.51699754,-75.27236232,-75.27236232,-75.27236232,-75.27236232,-75.27236232,-75.27236232,-75.27236232,-75.27236232,-75.27236232,-75.72803027,-75.44066118,-75.44066118,-75.44066118,-75.68259642,-75.13838292,-75.51592645],\"marker\":{\"color\":\"#636efa\",\"size\":[1318.95,663.68,206.32,1241.26,445.74,2685.04,185.06,102.45,180.67,84.75,1319.45,0.0,197.85,16.26,55.8,927.16,677.4,100.84,785.02,2255.06,4102.44,1298.91,117.16,1555.24,412.13,926.93,313.43,1721.63],\"sizemode\":\"area\",\"sizeref\":518.7735111111111},\"mode\":\"markers\",\"name\":\"HUILA\",\"showlegend\":true,\"subplot\":\"mapbox\",\"type\":\"scattermapbox\"},{\"hovertemplate\":\"Departamento=MAGDALENA<br>Enero=%{marker.size}<br>Latitud=%{lat}<br>Longitud=%{lon}<extra></extra>\",\"lat\":[9.834264955,9.76945611,9.503097215,9.503097215,9.503097215,9.503097215],\"legendgroup\":\"MAGDALENA\",\"lon\":[-74.08460085,-74.60181576,-74.44419381,-74.44419381,-74.44419381,-74.44419381],\"marker\":{\"color\":\"#EF553B\",\"size\":[132.99,1054.1,1.6,0.79,0.14,2.76],\"sizemode\":\"area\",\"sizeref\":518.7735111111111},\"mode\":\"markers\",\"name\":\"MAGDALENA\",\"showlegend\":true,\"subplot\":\"mapbox\",\"type\":\"scattermapbox\"},{\"hovertemplate\":\"Departamento=META<br>Enero=%{marker.size}<br>Latitud=%{lat}<br>Longitud=%{lon}<extra></extra>\",\"lat\":[3.943383008,3.943383008,3.943383008,3.943383008,3.943383008,4.519076127,4.519076127,4.519076127,4.519076127,4.519076127,4.519076127,4.315244759,4.315244759,4.315244759,4.315244759,4.315244759,4.315244759,4.315244759,4.315244759,4.315244759,4.315244759,4.315244759,4.315244759,4.315244759,4.315244759,4.315244759,4.315244759,3.805154089,3.805154089,3.805154089,3.805154089,3.947775585,3.947775585,3.947775585,2.161863917,4.005034467,4.005034467,4.005034467,4.005034467,4.005034467,4.005034467,4.005034467,4.005034467,4.005034467,4.005034467,4.005034467,4.005034467,4.005034467,4.005034467,4.005034467,4.005034467,4.005034467,4.005034467,4.005034467,4.005034467,4.005034467,4.005034467,4.005034467,4.005034467,4.005034467,4.005034467,4.005034467,4.014298921,4.014298921,4.014298921,4.09166877,4.09166877,4.09166877,4.09166877,4.09166877,4.09166877,4.09166877,4.09166877,4.09166877,4.09166877,4.09166877,4.09166877],\"legendgroup\":\"META\",\"lon\":[-73.57135162,-73.57135162,-73.57135162,-73.57135162,-73.57135162,-72.99548981,-72.99548981,-72.99548981,-72.99548981,-72.99548981,-72.99548981,-72.95268896,-72.95268896,-72.95268896,-72.95268896,-72.95268896,-72.95268896,-72.95268896,-72.95268896,-72.95268896,-72.95268896,-72.95268896,-72.95268896,-72.95268896,-72.95268896,-72.95268896,-72.95268896,-73.53886668,-73.53886668,-73.53886668,-73.53886668,-73.95983864,-73.95983864,-73.95983864,-74.09488076,-71.63157429,-71.63157429,-71.63157429,-71.63157429,-71.63157429,-71.63157429,-71.63157429,-71.63157429,-71.63157429,-71.63157429,-71.63157429,-71.63157429,-71.63157429,-71.63157429,-71.63157429,-71.63157429,-71.63157429,-71.63157429,-71.63157429,-71.63157429,-71.63157429,-71.63157429,-71.63157429,-71.63157429,-71.63157429,-71.63157429,-71.63157429,-72.64570499,-72.64570499,-72.64570499,-73.49291595,-73.49291595,-73.49291595,-73.49291595,-73.49291595,-73.49291595,-73.49291595,-73.49291595,-73.49291595,-73.49291595,-73.49291595,-73.49291595],\"marker\":{\"color\":\"#00cc96\",\"size\":[20511.55,176.07,44857.54,50433.11,388.42,0.0,201.99,0.0,210.19,0.0,60.34,0.0,2500.3,0.0,7831.41,0.0,171.18,0.0,2195.65,0.0,93.27,0.0,236.78,4948.88,3118.89,0.0,75.38,69186.93,130.7,2747.22,0.0,2413.85,920.71,21176.18,1985.28,234.81,566.86,2084.77,5926.54,2291.58,1860.67,10.86,954.03,918.62,3267.18,224.46,9907.08,1645.99,575.26,1060.88,803.66,2836.18,409.74,1569.73,44865.72,116.13,116724.04,1209.78,247.35,303.17,86.31,81.69,655.82,867.51,280.3,2989.08,308.77,221.13,1329.01,1957.03,0.0,164.65,22.36,70.69,5845.84,1214.17,429.95],\"sizemode\":\"area\",\"sizeref\":518.7735111111111},\"mode\":\"markers\",\"name\":\"META\",\"showlegend\":true,\"subplot\":\"mapbox\",\"type\":\"scattermapbox\"},{\"hovertemplate\":\"Departamento=NARINO<br>Enero=%{marker.size}<br>Latitud=%{lat}<br>Longitud=%{lon}<extra></extra>\",\"lat\":[0.497708465],\"legendgroup\":\"NARINO\",\"lon\":[-77.24047625],\"marker\":{\"color\":\"#ab63fa\",\"size\":[257.89],\"sizemode\":\"area\",\"sizeref\":518.7735111111111},\"mode\":\"markers\",\"name\":\"NARINO\",\"showlegend\":true,\"subplot\":\"mapbox\",\"type\":\"scattermapbox\"},{\"hovertemplate\":\"Departamento=NORTE DE SANTANDER<br>Enero=%{marker.size}<br>Latitud=%{lat}<br>Longitud=%{lon}<extra></extra>\",\"lat\":[8.112041811,8.215080767,8.713507237,8.713507237],\"legendgroup\":\"NORTE DE SANTANDER\",\"lon\":[-72.48862641,-72.79580961,-72.79925855,-72.79925855],\"marker\":{\"color\":\"#FFA15A\",\"size\":[636.72,0.33,92.11,1696.72],\"sizemode\":\"area\",\"sizeref\":518.7735111111111},\"mode\":\"markers\",\"name\":\"NORTE DE SANTANDER\",\"showlegend\":true,\"subplot\":\"mapbox\",\"type\":\"scattermapbox\"},{\"hovertemplate\":\"Departamento=PUTUMAYO<br>Enero=%{marker.size}<br>Latitud=%{lat}<br>Longitud=%{lon}<extra></extra>\",\"lat\":[1.26070915,1.26070915,0.673756323,0.673756323,0.673756323,0.673756323,0.673756323,0.673756323,0.673756323,0.433884539,0.433884539,0.433884539,0.433884539,0.433884539,0.433884539,0.433884539,0.70416861,0.70416861,0.272449048,0.272449048,0.42012589,0.42012589,0.911149515,0.911149515,0.911149515,0.911149515,0.911149515],\"legendgroup\":\"PUTUMAYO\",\"lon\":[-76.66584349,-76.66584349,-76.94313923,-76.94313923,-76.94313923,-76.94313923,-76.94313923,-76.94313923,-76.94313923,-76.52158203,-76.52158203,-76.52158203,-76.52158203,-76.52158203,-76.52158203,-76.52158203,-76.49864415,-76.49864415,-76.84510459,-76.84510459,-76.77067026,-76.77067026,-76.74495447,-76.74495447,-76.74495447,-76.74495447,-76.74495447],\"marker\":{\"color\":\"#19d3f3\",\"size\":[2944.55,213.26,1133.57,151.42,145.0,1998.92,0.0,126.79,0.0,0.0,5985.1,550.69,3521.6,0.0,811.86,298.1,199.92,157.28,1569.34,349.61,26.33,282.03,141.41,7006.3,455.28,396.86,365.54],\"sizemode\":\"area\",\"sizeref\":518.7735111111111},\"mode\":\"markers\",\"name\":\"PUTUMAYO\",\"showlegend\":true,\"subplot\":\"mapbox\",\"type\":\"scattermapbox\"},{\"hovertemplate\":\"Departamento=SANTANDER<br>Enero=%{marker.size}<br>Latitud=%{lat}<br>Longitud=%{lon}<extra></extra>\",\"lat\":[7.054074558,7.054074558,7.054074558,6.40972961,6.40972961,6.40972961,6.40972961,6.40972961,6.40972961,7.398198257,7.398198257,7.398198257,7.474226085,7.474226085,7.474226085,7.474226085,7.474226085,7.4065422,7.4065422,7.4065422,7.4065422,7.4065422,7.4065422,7.4065422,7.4065422,7.4065422,6.894292346,6.894292346,6.894292346,6.894292346,6.894292346,6.894292346,6.894292346,6.894292346,6.494231551],\"legendgroup\":\"SANTANDER\",\"lon\":[-73.78211646,-73.78211646,-73.78211646,-74.17030427,-74.17030427,-74.17030427,-74.17030427,-74.17030427,-74.17030427,-73.8354696,-73.8354696,-73.8354696,-73.37246417,-73.37246417,-73.37246417,-73.37246417,-73.37246417,-73.57131807,-73.57131807,-73.57131807,-73.57131807,-73.57131807,-73.57131807,-73.57131807,-73.57131807,-73.57131807,-73.53900334,-73.53900334,-73.53900334,-73.53900334,-73.53900334,-73.53900334,-73.53900334,-73.53900334,-73.45910992],\"marker\":{\"color\":\"#FF6692\",\"size\":[12368.3,29780.27,5259.8,5.51,93.04,0.0,0.0,13.96,0.0,0.0,169.22,3509.86,1648.94,442.9,153.31,0.0,249.71,0.0,286.54,30.88,170.33,0.0,500.29,6.16,2200.62,1049.14,0.0,0.0,0.0,825.18,0.0,1238.66,0.0,114.06,215.88],\"sizemode\":\"area\",\"sizeref\":518.7735111111111},\"mode\":\"markers\",\"name\":\"SANTANDER\",\"showlegend\":true,\"subplot\":\"mapbox\",\"type\":\"scattermapbox\"},{\"hovertemplate\":\"Departamento=SUCRE<br>Enero=%{marker.size}<br>Latitud=%{lat}<br>Longitud=%{lon}<extra></extra>\",\"lat\":[9.549655271,9.549655271,9.396835638],\"legendgroup\":\"SUCRE\",\"lon\":[-75.18855916,-75.18855916,-75.03741815],\"marker\":{\"color\":\"#B6E880\",\"size\":[5.52,24.67,1.72],\"sizemode\":\"area\",\"sizeref\":518.7735111111111},\"mode\":\"markers\",\"name\":\"SUCRE\",\"showlegend\":true,\"subplot\":\"mapbox\",\"type\":\"scattermapbox\"},{\"hovertemplate\":\"Departamento=TOLIMA<br>Enero=%{marker.size}<br>Latitud=%{lat}<br>Longitud=%{lon}<extra></extra>\",\"lat\":[4.582625784,3.743693084,3.743693084,4.166476969,4.166476969,4.076501341,4.193215498,4.193215498,4.193215498,3.937793962,3.937793962,3.937793962,3.937793962,3.937793962,4.433764446,4.433764446,4.433764446,4.433764446,3.729166649,3.854281614,3.854281614,3.854281614,3.854281614,4.057271684],\"legendgroup\":\"TOLIMA\",\"lon\":[-74.98630686,-75.58986634,-75.58986634,-74.89352941,-74.89352941,-74.97657287,-74.60517497,-74.60517497,-74.60517497,-75.27824314,-75.27824314,-75.27824314,-75.27824314,-75.27824314,-74.99879938,-74.99879938,-74.99879938,-74.99879938,-74.87247706,-74.87451155,-74.87451155,-74.87451155,-74.87451155,-75.16320806],\"marker\":{\"color\":\"#FF97FF\",\"size\":[72.13,67.94,857.97,0.0,507.72,0.03,0.0,5224.41,2027.15,197.18,231.19,259.71,0.0,150.35,28.84,423.94,25.91,356.76,114.72,50.84,1215.96,80.3,52.02,52.59],\"sizemode\":\"area\",\"sizeref\":518.7735111111111},\"mode\":\"markers\",\"name\":\"TOLIMA\",\"showlegend\":true,\"subplot\":\"mapbox\",\"type\":\"scattermapbox\"}],                        {\"template\":{\"data\":{\"histogram2dcontour\":[{\"type\":\"histogram2dcontour\",\"colorbar\":{\"outlinewidth\":0,\"ticks\":\"\"},\"colorscale\":[[0.0,\"#0d0887\"],[0.1111111111111111,\"#46039f\"],[0.2222222222222222,\"#7201a8\"],[0.3333333333333333,\"#9c179e\"],[0.4444444444444444,\"#bd3786\"],[0.5555555555555556,\"#d8576b\"],[0.6666666666666666,\"#ed7953\"],[0.7777777777777778,\"#fb9f3a\"],[0.8888888888888888,\"#fdca26\"],[1.0,\"#f0f921\"]]}],\"choropleth\":[{\"type\":\"choropleth\",\"colorbar\":{\"outlinewidth\":0,\"ticks\":\"\"}}],\"histogram2d\":[{\"type\":\"histogram2d\",\"colorbar\":{\"outlinewidth\":0,\"ticks\":\"\"},\"colorscale\":[[0.0,\"#0d0887\"],[0.1111111111111111,\"#46039f\"],[0.2222222222222222,\"#7201a8\"],[0.3333333333333333,\"#9c179e\"],[0.4444444444444444,\"#bd3786\"],[0.5555555555555556,\"#d8576b\"],[0.6666666666666666,\"#ed7953\"],[0.7777777777777778,\"#fb9f3a\"],[0.8888888888888888,\"#fdca26\"],[1.0,\"#f0f921\"]]}],\"heatmap\":[{\"type\":\"heatmap\",\"colorbar\":{\"outlinewidth\":0,\"ticks\":\"\"},\"colorscale\":[[0.0,\"#0d0887\"],[0.1111111111111111,\"#46039f\"],[0.2222222222222222,\"#7201a8\"],[0.3333333333333333,\"#9c179e\"],[0.4444444444444444,\"#bd3786\"],[0.5555555555555556,\"#d8576b\"],[0.6666666666666666,\"#ed7953\"],[0.7777777777777778,\"#fb9f3a\"],[0.8888888888888888,\"#fdca26\"],[1.0,\"#f0f921\"]]}],\"heatmapgl\":[{\"type\":\"heatmapgl\",\"colorbar\":{\"outlinewidth\":0,\"ticks\":\"\"},\"colorscale\":[[0.0,\"#0d0887\"],[0.1111111111111111,\"#46039f\"],[0.2222222222222222,\"#7201a8\"],[0.3333333333333333,\"#9c179e\"],[0.4444444444444444,\"#bd3786\"],[0.5555555555555556,\"#d8576b\"],[0.6666666666666666,\"#ed7953\"],[0.7777777777777778,\"#fb9f3a\"],[0.8888888888888888,\"#fdca26\"],[1.0,\"#f0f921\"]]}],\"contourcarpet\":[{\"type\":\"contourcarpet\",\"colorbar\":{\"outlinewidth\":0,\"ticks\":\"\"}}],\"contour\":[{\"type\":\"contour\",\"colorbar\":{\"outlinewidth\":0,\"ticks\":\"\"},\"colorscale\":[[0.0,\"#0d0887\"],[0.1111111111111111,\"#46039f\"],[0.2222222222222222,\"#7201a8\"],[0.3333333333333333,\"#9c179e\"],[0.4444444444444444,\"#bd3786\"],[0.5555555555555556,\"#d8576b\"],[0.6666666666666666,\"#ed7953\"],[0.7777777777777778,\"#fb9f3a\"],[0.8888888888888888,\"#fdca26\"],[1.0,\"#f0f921\"]]}],\"surface\":[{\"type\":\"surface\",\"colorbar\":{\"outlinewidth\":0,\"ticks\":\"\"},\"colorscale\":[[0.0,\"#0d0887\"],[0.1111111111111111,\"#46039f\"],[0.2222222222222222,\"#7201a8\"],[0.3333333333333333,\"#9c179e\"],[0.4444444444444444,\"#bd3786\"],[0.5555555555555556,\"#d8576b\"],[0.6666666666666666,\"#ed7953\"],[0.7777777777777778,\"#fb9f3a\"],[0.8888888888888888,\"#fdca26\"],[1.0,\"#f0f921\"]]}],\"mesh3d\":[{\"type\":\"mesh3d\",\"colorbar\":{\"outlinewidth\":0,\"ticks\":\"\"}}],\"scatter\":[{\"fillpattern\":{\"fillmode\":\"overlay\",\"size\":10,\"solidity\":0.2},\"type\":\"scatter\"}],\"parcoords\":[{\"type\":\"parcoords\",\"line\":{\"colorbar\":{\"outlinewidth\":0,\"ticks\":\"\"}}}],\"scatterpolargl\":[{\"type\":\"scatterpolargl\",\"marker\":{\"colorbar\":{\"outlinewidth\":0,\"ticks\":\"\"}}}],\"bar\":[{\"error_x\":{\"color\":\"#2a3f5f\"},\"error_y\":{\"color\":\"#2a3f5f\"},\"marker\":{\"line\":{\"color\":\"#E5ECF6\",\"width\":0.5},\"pattern\":{\"fillmode\":\"overlay\",\"size\":10,\"solidity\":0.2}},\"type\":\"bar\"}],\"scattergeo\":[{\"type\":\"scattergeo\",\"marker\":{\"colorbar\":{\"outlinewidth\":0,\"ticks\":\"\"}}}],\"scatterpolar\":[{\"type\":\"scatterpolar\",\"marker\":{\"colorbar\":{\"outlinewidth\":0,\"ticks\":\"\"}}}],\"histogram\":[{\"marker\":{\"pattern\":{\"fillmode\":\"overlay\",\"size\":10,\"solidity\":0.2}},\"type\":\"histogram\"}],\"scattergl\":[{\"type\":\"scattergl\",\"marker\":{\"colorbar\":{\"outlinewidth\":0,\"ticks\":\"\"}}}],\"scatter3d\":[{\"type\":\"scatter3d\",\"line\":{\"colorbar\":{\"outlinewidth\":0,\"ticks\":\"\"}},\"marker\":{\"colorbar\":{\"outlinewidth\":0,\"ticks\":\"\"}}}],\"scattermapbox\":[{\"type\":\"scattermapbox\",\"marker\":{\"colorbar\":{\"outlinewidth\":0,\"ticks\":\"\"}}}],\"scatterternary\":[{\"type\":\"scatterternary\",\"marker\":{\"colorbar\":{\"outlinewidth\":0,\"ticks\":\"\"}}}],\"scattercarpet\":[{\"type\":\"scattercarpet\",\"marker\":{\"colorbar\":{\"outlinewidth\":0,\"ticks\":\"\"}}}],\"carpet\":[{\"aaxis\":{\"endlinecolor\":\"#2a3f5f\",\"gridcolor\":\"white\",\"linecolor\":\"white\",\"minorgridcolor\":\"white\",\"startlinecolor\":\"#2a3f5f\"},\"baxis\":{\"endlinecolor\":\"#2a3f5f\",\"gridcolor\":\"white\",\"linecolor\":\"white\",\"minorgridcolor\":\"white\",\"startlinecolor\":\"#2a3f5f\"},\"type\":\"carpet\"}],\"table\":[{\"cells\":{\"fill\":{\"color\":\"#EBF0F8\"},\"line\":{\"color\":\"white\"}},\"header\":{\"fill\":{\"color\":\"#C8D4E3\"},\"line\":{\"color\":\"white\"}},\"type\":\"table\"}],\"barpolar\":[{\"marker\":{\"line\":{\"color\":\"#E5ECF6\",\"width\":0.5},\"pattern\":{\"fillmode\":\"overlay\",\"size\":10,\"solidity\":0.2}},\"type\":\"barpolar\"}],\"pie\":[{\"automargin\":true,\"type\":\"pie\"}]},\"layout\":{\"autotypenumbers\":\"strict\",\"colorway\":[\"#636efa\",\"#EF553B\",\"#00cc96\",\"#ab63fa\",\"#FFA15A\",\"#19d3f3\",\"#FF6692\",\"#B6E880\",\"#FF97FF\",\"#FECB52\"],\"font\":{\"color\":\"#2a3f5f\"},\"hovermode\":\"closest\",\"hoverlabel\":{\"align\":\"left\"},\"paper_bgcolor\":\"white\",\"plot_bgcolor\":\"#E5ECF6\",\"polar\":{\"bgcolor\":\"#E5ECF6\",\"angularaxis\":{\"gridcolor\":\"white\",\"linecolor\":\"white\",\"ticks\":\"\"},\"radialaxis\":{\"gridcolor\":\"white\",\"linecolor\":\"white\",\"ticks\":\"\"}},\"ternary\":{\"bgcolor\":\"#E5ECF6\",\"aaxis\":{\"gridcolor\":\"white\",\"linecolor\":\"white\",\"ticks\":\"\"},\"baxis\":{\"gridcolor\":\"white\",\"linecolor\":\"white\",\"ticks\":\"\"},\"caxis\":{\"gridcolor\":\"white\",\"linecolor\":\"white\",\"ticks\":\"\"}},\"coloraxis\":{\"colorbar\":{\"outlinewidth\":0,\"ticks\":\"\"}},\"colorscale\":{\"sequential\":[[0.0,\"#0d0887\"],[0.1111111111111111,\"#46039f\"],[0.2222222222222222,\"#7201a8\"],[0.3333333333333333,\"#9c179e\"],[0.4444444444444444,\"#bd3786\"],[0.5555555555555556,\"#d8576b\"],[0.6666666666666666,\"#ed7953\"],[0.7777777777777778,\"#fb9f3a\"],[0.8888888888888888,\"#fdca26\"],[1.0,\"#f0f921\"]],\"sequentialminus\":[[0.0,\"#0d0887\"],[0.1111111111111111,\"#46039f\"],[0.2222222222222222,\"#7201a8\"],[0.3333333333333333,\"#9c179e\"],[0.4444444444444444,\"#bd3786\"],[0.5555555555555556,\"#d8576b\"],[0.6666666666666666,\"#ed7953\"],[0.7777777777777778,\"#fb9f3a\"],[0.8888888888888888,\"#fdca26\"],[1.0,\"#f0f921\"]],\"diverging\":[[0,\"#8e0152\"],[0.1,\"#c51b7d\"],[0.2,\"#de77ae\"],[0.3,\"#f1b6da\"],[0.4,\"#fde0ef\"],[0.5,\"#f7f7f7\"],[0.6,\"#e6f5d0\"],[0.7,\"#b8e186\"],[0.8,\"#7fbc41\"],[0.9,\"#4d9221\"],[1,\"#276419\"]]},\"xaxis\":{\"gridcolor\":\"white\",\"linecolor\":\"white\",\"ticks\":\"\",\"title\":{\"standoff\":15},\"zerolinecolor\":\"white\",\"automargin\":true,\"zerolinewidth\":2},\"yaxis\":{\"gridcolor\":\"white\",\"linecolor\":\"white\",\"ticks\":\"\",\"title\":{\"standoff\":15},\"zerolinecolor\":\"white\",\"automargin\":true,\"zerolinewidth\":2},\"scene\":{\"xaxis\":{\"backgroundcolor\":\"#E5ECF6\",\"gridcolor\":\"white\",\"linecolor\":\"white\",\"showbackground\":true,\"ticks\":\"\",\"zerolinecolor\":\"white\",\"gridwidth\":2},\"yaxis\":{\"backgroundcolor\":\"#E5ECF6\",\"gridcolor\":\"white\",\"linecolor\":\"white\",\"showbackground\":true,\"ticks\":\"\",\"zerolinecolor\":\"white\",\"gridwidth\":2},\"zaxis\":{\"backgroundcolor\":\"#E5ECF6\",\"gridcolor\":\"white\",\"linecolor\":\"white\",\"showbackground\":true,\"ticks\":\"\",\"zerolinecolor\":\"white\",\"gridwidth\":2}},\"shapedefaults\":{\"line\":{\"color\":\"#2a3f5f\"}},\"annotationdefaults\":{\"arrowcolor\":\"#2a3f5f\",\"arrowhead\":0,\"arrowwidth\":1},\"geo\":{\"bgcolor\":\"white\",\"landcolor\":\"#E5ECF6\",\"subunitcolor\":\"white\",\"showland\":true,\"showlakes\":true,\"lakecolor\":\"white\"},\"title\":{\"x\":0.05},\"mapbox\":{\"style\":\"light\"}}},\"mapbox\":{\"domain\":{\"x\":[0.0,1.0],\"y\":[0.0,1.0]},\"center\":{\"lat\":5.006503654076404,\"lon\":-73.12906876096629},\"accesstoken\":\"pk.eyJ1IjoiY2hlbWlza3kiLCJhIjoiY2tnOGNhcXk3MGZ3eDJ5b2FxZ3ViajN1MyJ9.t3R24lWTwzTQwyJw4vuWFw\",\"zoom\":10},\"legend\":{\"title\":{\"text\":\"Departamento\"},\"tracegroupgap\":0,\"itemsizing\":\"constant\"},\"margin\":{\"t\":60}},                        {\"responsive\": true}                    ).then(function(){\n                            \nvar gd = document.getElementById('548aaa5c-de19-49c7-85e4-ddd5ef5aa951');\nvar x = new MutationObserver(function (mutations, observer) {{\n        var display = window.getComputedStyle(gd).display;\n        if (!display || display === 'none') {{\n            console.log([gd, 'removed!']);\n            Plotly.purge(gd);\n            observer.disconnect();\n        }}\n}});\n\n// Listen for the removal of the full notebook cells\nvar notebookContainer = gd.closest('#notebook-container');\nif (notebookContainer) {{\n    x.observe(notebookContainer, {childList: true});\n}}\n\n// Listen for the clearing of the current output cell\nvar outputEl = gd.closest('.output');\nif (outputEl) {{\n    x.observe(outputEl, {childList: true});\n}}\n\n                        })                };                            </script>        </div>\n</body>\n</html>"
     },
     "metadata": {},
     "output_type": "display_data"
    }
   ]
  },
  {
   "cell_type": "markdown",
   "source": "Ahora se usa como referencia el mes de enero del 2020 para observar cuales son los campos que tiene una mayor producción de petróleo.",
   "metadata": {
    "formattedRanges": [],
    "is_collapsed": false,
    "cell_id": "b1d2b9473b0242f68a3ddb8ca7d66e2a",
    "tags": [],
    "deepnote_app_coordinates": {
     "x": 0,
     "y": 346,
     "w": 8,
     "h": 2
    },
    "deepnote_cell_type": "text-cell-p"
   }
  },
  {
   "cell_type": "markdown",
   "source": "<a style='text-decoration:none;line-height:16px;display:flex;color:#5B5B62;padding:10px;justify-content:end;' href='https://deepnote.com?utm_source=created-in-deepnote-cell&projectId=0fd3e98d-bed4-4d63-b92c-a6f754667634' target=\"_blank\">\n<img alt='Created in deepnote.com' style='display:inline;max-height:16px;margin:0px;margin-right:7.5px;' src='data:image/svg+xml;base64,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' > </img>\nCreated in <span style='font-weight:600;margin-left:4px;'>Deepnote</span></a>",
   "metadata": {
    "tags": [],
    "created_in_deepnote_cell": true,
    "deepnote_cell_type": "markdown"
   }
  }
 ],
 "nbformat": 4,
 "nbformat_minor": 2,
 "metadata": {
  "orig_nbformat": 2,
  "deepnote": {},
  "deepnote_notebook_id": "1e6b4923-42e8-486c-a0f1-b43fa4a82dff",
  "deepnote_execution_queue": [],
  "deepnote_app_layout": "article"
 }
}