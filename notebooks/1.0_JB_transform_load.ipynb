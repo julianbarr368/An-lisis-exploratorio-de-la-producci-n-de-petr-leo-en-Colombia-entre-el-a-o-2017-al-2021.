{
 "cells": [
  {
   "cell_type": "code",
   "metadata": {
    "tags": [],
    "cell_id": "dbec7b71-3ba9-4312-b164-00d03cda5a29",
    "deepnote_to_be_reexecuted": false,
    "source_hash": "55c300e9",
    "execution_start": 1661373885562,
    "execution_millis": 713851479,
    "deepnote_cell_type": "code",
    "deepnote_cell_height": 94
   },
   "source": "import pandas as pd\nimport os ",
   "execution_count": 1,
   "outputs": []
  },
  {
   "cell_type": "markdown",
   "source": "## Carga de la información.",
   "metadata": {
    "formattedRanges": [],
    "is_collapsed": false,
    "cell_id": "2f000e18509044dd89c5c6e315ac41b5",
    "tags": [],
    "deepnote_cell_type": "text-cell-h2"
   }
  },
  {
   "cell_type": "code",
   "metadata": {
    "cell_id": "252d8a18531642bebba8e7f35bc18d9c",
    "tags": [],
    "deepnote_to_be_reexecuted": false,
    "source_hash": "556e2252",
    "execution_start": 1661373885563,
    "execution_millis": 0,
    "deepnote_cell_type": "code",
    "deepnote_cell_height": 153
   },
   "source": "df_produccion_petroleo_2017 = pd.read_csv('/work/produccion_petroleo_colombia_2017-2021/data/raw/Produccion petroleo 2017.csv')\ndf_produccion_petroleo_2018 = pd.read_csv('/work/produccion_petroleo_colombia_2017-2021/data/raw/Produccion petroleo 2018.csv')\ndf_produccion_petroleo_2019 = pd.read_csv('/work/produccion_petroleo_colombia_2017-2021/data/raw/Produccion petroleo 2019.csv')\ndf_produccion_petroleo_2020 = pd.read_csv('/work/produccion_petroleo_colombia_2017-2021/data/raw/Produccion petroleo 2020.csv')\ndf_produccion_petroleo_2021 = pd.read_csv('/work/produccion_petroleo_colombia_2017-2021/data/raw/Produccion petroleo 2021.csv')",
   "execution_count": 2,
   "outputs": []
  },
  {
   "cell_type": "markdown",
   "source": "## Asignación del año de producción a cada conjunto de datos. ",
   "metadata": {
    "formattedRanges": [],
    "is_collapsed": false,
    "cell_id": "aa811dbb76044971ac46379a7f6f7a96",
    "tags": [],
    "deepnote_cell_type": "text-cell-h2"
   }
  },
  {
   "cell_type": "code",
   "metadata": {
    "cell_id": "687bd75a2b734e54a46196797f8dace5",
    "tags": [],
    "deepnote_to_be_reexecuted": false,
    "source_hash": "976e94d5",
    "execution_start": 1661373885572,
    "execution_millis": 0,
    "deepnote_cell_type": "code",
    "deepnote_cell_height": 166
   },
   "source": "df_produccion_petroleo_2017 ['Año'] = 2017 \ndf_produccion_petroleo_2018 ['Año'] = 2018\ndf_produccion_petroleo_2019 ['Año'] = 2019\ndf_produccion_petroleo_2020 ['Año'] = 2020\ndf_produccion_petroleo_2021 ['Año'] = 2021\n",
   "execution_count": 3,
   "outputs": []
  },
  {
   "cell_type": "markdown",
   "source": "Se producirá un problema en la concatenación de los datos y lo esta causando el dataset del 2020. Básicamente se están creado nuevas columnas debido a que las columnas de los meses están escritas de forma diferente.",
   "metadata": {
    "formattedRanges": [],
    "is_collapsed": false,
    "cell_id": "9e20d93fb3d14fe3b6b6412e93f36257",
    "tags": [],
    "deepnote_cell_type": "text-cell-p"
   }
  },
  {
   "cell_type": "code",
   "metadata": {
    "cell_id": "2c91f5da96b843999bc4f1c0315f7a0f",
    "tags": [],
    "deepnote_to_be_reexecuted": false,
    "source_hash": "5beb3fe0",
    "execution_start": 1661373885578,
    "execution_millis": 9,
    "deepnote_cell_type": "code",
    "deepnote_cell_height": 188.9375,
    "deepnote_output_heights": [
     96.9375
    ]
   },
   "source": "df_produccion_petroleo_2017.columns",
   "execution_count": 4,
   "outputs": [
    {
     "output_type": "execute_result",
     "execution_count": 4,
     "data": {
      "text/plain": "Index(['Departamento', 'Municipio', 'Latitud', 'Longitud', 'Geolocalizacion',\n       'Operadora', 'Contrato', 'Campo', 'Enero', 'Febrero', 'Marzo', 'Abril',\n       'Mayo', 'Junio', 'Julio', 'Agosto', 'Septiembre', 'Octubre',\n       'Noviembre', 'Diciembre', 'Año'],\n      dtype='object')"
     },
     "metadata": {}
    }
   ]
  },
  {
   "cell_type": "code",
   "metadata": {
    "cell_id": "4d3d3f01ed164a7eb2e1b5b423b45bad",
    "tags": [],
    "deepnote_to_be_reexecuted": false,
    "source_hash": "ac6152c2",
    "execution_start": 1661373885591,
    "execution_millis": 8,
    "deepnote_cell_type": "code",
    "deepnote_cell_height": 188.9375,
    "deepnote_output_heights": [
     96.9375
    ]
   },
   "source": "df_produccion_petroleo_2020.columns",
   "execution_count": 5,
   "outputs": [
    {
     "output_type": "execute_result",
     "execution_count": 5,
     "data": {
      "text/plain": "Index(['Departamento', 'Municipio', 'Latitud', 'Longitud', 'Geolocalizacion',\n       'Operadora', 'Contrato', 'Campo', 'enero', 'febrero', 'marzo', 'abril',\n       'mayo', 'junio', 'julio', 'agosto', 'septiembre', 'octubre',\n       'noviembre', 'diciembre', 'Año'],\n      dtype='object')"
     },
     "metadata": {}
    }
   ]
  },
  {
   "cell_type": "markdown",
   "source": "Se le asigna los nombres correspondientes. ",
   "metadata": {
    "formattedRanges": [],
    "is_collapsed": false,
    "cell_id": "928fc67ccc5d4f9da051cc471fb0374a",
    "tags": [],
    "deepnote_cell_type": "text-cell-p"
   }
  },
  {
   "cell_type": "code",
   "metadata": {
    "cell_id": "f10d7e866d2a40d4835ff3fc4ddde37f",
    "tags": [],
    "deepnote_to_be_reexecuted": false,
    "source_hash": "ac6d5126",
    "execution_start": 1661373885635,
    "execution_millis": 21,
    "deepnote_cell_type": "code",
    "deepnote_cell_height": 117
   },
   "source": "df_produccion_petroleo_2020 = df_produccion_petroleo_2020.rename(columns={'enero':'Enero', 'febrero':'Febrero', 'marzo': 'Marzo', 'abril':'Abril',\n       'mayo':'Mayo', 'junio':'Junio', 'julio':'Julio', 'agosto':'Agosto', 'septiembre':'Septiembre', 'octubre':'Octubre',\n       'noviembre':'Noviembre', 'diciembre':'Diciembre'})",
   "execution_count": 6,
   "outputs": []
  },
  {
   "cell_type": "markdown",
   "source": "## Tipos de datos del datset.",
   "metadata": {
    "formattedRanges": [],
    "is_collapsed": false,
    "cell_id": "aa16ba39-c98c-4ef4-9b05-b24583d41685",
    "tags": [],
    "deepnote_cell_type": "text-cell-h2"
   }
  },
  {
   "cell_type": "code",
   "metadata": {
    "cell_id": "5ffb876913374ee083ec032c003feaef",
    "tags": [],
    "deepnote_to_be_reexecuted": false,
    "source_hash": "ae2790f0",
    "execution_start": 1661373885666,
    "execution_millis": 24,
    "deepnote_cell_type": "code",
    "deepnote_cell_height": 652.25
   },
   "source": "df_produccion_petroleo_2017.info()",
   "execution_count": 7,
   "outputs": [
    {
     "name": "stdout",
     "text": "<class 'pandas.core.frame.DataFrame'>\nRangeIndex: 467 entries, 0 to 466\nData columns (total 21 columns):\n #   Column           Non-Null Count  Dtype  \n---  ------           --------------  -----  \n 0   Departamento     467 non-null    object \n 1   Municipio        467 non-null    object \n 2   Latitud          467 non-null    float64\n 3   Longitud         467 non-null    float64\n 4   Geolocalizacion  467 non-null    object \n 5   Operadora        467 non-null    object \n 6   Contrato         467 non-null    object \n 7   Campo            467 non-null    object \n 8   Enero            467 non-null    object \n 9   Febrero          467 non-null    object \n 10  Marzo            467 non-null    object \n 11  Abril            467 non-null    object \n 12  Mayo             467 non-null    object \n 13  Junio            467 non-null    object \n 14  Julio            467 non-null    object \n 15  Agosto           467 non-null    object \n 16  Septiembre       467 non-null    object \n 17  Octubre          467 non-null    object \n 18  Noviembre        467 non-null    object \n 19  Diciembre        466 non-null    object \n 20  Año              467 non-null    int64  \ndtypes: float64(2), int64(1), object(18)\nmemory usage: 76.7+ KB\n",
     "output_type": "stream"
    }
   ]
  },
  {
   "cell_type": "code",
   "metadata": {
    "cell_id": "62b99a0f58b0471d93b81c499158e16f",
    "tags": [],
    "deepnote_to_be_reexecuted": false,
    "source_hash": "33560347",
    "execution_start": 1661373885682,
    "execution_millis": 16,
    "deepnote_cell_type": "code",
    "deepnote_cell_height": 652.25
   },
   "source": "df_produccion_petroleo_2018.info()",
   "execution_count": 8,
   "outputs": [
    {
     "name": "stdout",
     "text": "<class 'pandas.core.frame.DataFrame'>\nRangeIndex: 469 entries, 0 to 468\nData columns (total 21 columns):\n #   Column           Non-Null Count  Dtype  \n---  ------           --------------  -----  \n 0   Departamento     469 non-null    object \n 1   Municipio        469 non-null    object \n 2   Latitud          469 non-null    float64\n 3   Longitud         469 non-null    float64\n 4   Geolocalizacion  469 non-null    object \n 5   Operadora        469 non-null    object \n 6   Contrato         469 non-null    object \n 7   Campo            469 non-null    object \n 8   Enero            469 non-null    float64\n 9   Febrero          469 non-null    float64\n 10  Marzo            469 non-null    float64\n 11  Abril            469 non-null    float64\n 12  Mayo             469 non-null    float64\n 13  Junio            469 non-null    float64\n 14  Julio            469 non-null    float64\n 15  Agosto           469 non-null    float64\n 16  Septiembre       469 non-null    float64\n 17  Octubre          469 non-null    float64\n 18  Noviembre        469 non-null    float64\n 19  Diciembre        469 non-null    float64\n 20  Año              469 non-null    int64  \ndtypes: float64(14), int64(1), object(6)\nmemory usage: 77.1+ KB\n",
     "output_type": "stream"
    }
   ]
  },
  {
   "cell_type": "code",
   "metadata": {
    "cell_id": "fcfa2def42334120a642109c618d4e82",
    "tags": [],
    "deepnote_to_be_reexecuted": false,
    "source_hash": "3588b3f6",
    "execution_start": 1661373885700,
    "execution_millis": 17,
    "deepnote_cell_type": "code",
    "deepnote_cell_height": 652.25
   },
   "source": "df_produccion_petroleo_2019.info()",
   "execution_count": 9,
   "outputs": [
    {
     "name": "stdout",
     "text": "<class 'pandas.core.frame.DataFrame'>\nRangeIndex: 456 entries, 0 to 455\nData columns (total 21 columns):\n #   Column           Non-Null Count  Dtype  \n---  ------           --------------  -----  \n 0   Departamento     456 non-null    object \n 1   Municipio        456 non-null    object \n 2   Latitud          456 non-null    float64\n 3   Longitud         456 non-null    float64\n 4   Geolocalizacion  456 non-null    object \n 5   Operadora        456 non-null    object \n 6   Contrato         456 non-null    object \n 7   Campo            456 non-null    object \n 8   Enero            456 non-null    float64\n 9   Febrero          456 non-null    float64\n 10  Marzo            456 non-null    float64\n 11  Abril            456 non-null    float64\n 12  Mayo             456 non-null    float64\n 13  Junio            456 non-null    float64\n 14  Julio            456 non-null    float64\n 15  Agosto           456 non-null    float64\n 16  Septiembre       456 non-null    float64\n 17  Octubre          456 non-null    float64\n 18  Noviembre        456 non-null    float64\n 19  Diciembre        456 non-null    float64\n 20  Año              456 non-null    int64  \ndtypes: float64(14), int64(1), object(6)\nmemory usage: 74.9+ KB\n",
     "output_type": "stream"
    }
   ]
  },
  {
   "cell_type": "code",
   "metadata": {
    "cell_id": "fbb2ed8d94f04048a1f2e50c325e16b1",
    "tags": [],
    "deepnote_to_be_reexecuted": false,
    "source_hash": "bac14ebd",
    "execution_start": 1661373885739,
    "execution_millis": 15,
    "deepnote_cell_type": "code",
    "deepnote_cell_height": 652.25
   },
   "source": "df_produccion_petroleo_2020.info()",
   "execution_count": 10,
   "outputs": [
    {
     "name": "stdout",
     "text": "<class 'pandas.core.frame.DataFrame'>\nRangeIndex: 445 entries, 0 to 444\nData columns (total 21 columns):\n #   Column           Non-Null Count  Dtype  \n---  ------           --------------  -----  \n 0   Departamento     445 non-null    object \n 1   Municipio        445 non-null    object \n 2   Latitud          445 non-null    float64\n 3   Longitud         445 non-null    float64\n 4   Geolocalizacion  445 non-null    object \n 5   Operadora        445 non-null    object \n 6   Contrato         445 non-null    object \n 7   Campo            445 non-null    object \n 8   Enero            445 non-null    float64\n 9   Febrero          445 non-null    float64\n 10  Marzo            445 non-null    float64\n 11  Abril            445 non-null    float64\n 12  Mayo             445 non-null    float64\n 13  Junio            445 non-null    float64\n 14  Julio            445 non-null    float64\n 15  Agosto           445 non-null    float64\n 16  Septiembre       445 non-null    float64\n 17  Octubre          445 non-null    float64\n 18  Noviembre        445 non-null    float64\n 19  Diciembre        445 non-null    float64\n 20  Año              445 non-null    int64  \ndtypes: float64(14), int64(1), object(6)\nmemory usage: 73.1+ KB\n",
     "output_type": "stream"
    }
   ]
  },
  {
   "cell_type": "code",
   "metadata": {
    "cell_id": "5021de7e8f1f4581802cf4f84efb8210",
    "tags": [],
    "deepnote_to_be_reexecuted": false,
    "source_hash": "3e284c6d",
    "execution_start": 1661373885798,
    "execution_millis": 4,
    "deepnote_cell_type": "code",
    "deepnote_cell_height": 652.25
   },
   "source": "df_produccion_petroleo_2021.info()",
   "execution_count": 11,
   "outputs": [
    {
     "name": "stdout",
     "text": "<class 'pandas.core.frame.DataFrame'>\nRangeIndex: 389 entries, 0 to 388\nData columns (total 21 columns):\n #   Column           Non-Null Count  Dtype  \n---  ------           --------------  -----  \n 0   Departamento     389 non-null    object \n 1   Municipio        389 non-null    object \n 2   Latitud          389 non-null    float64\n 3   Longitud         389 non-null    float64\n 4   Geolocalizacion  389 non-null    object \n 5   Operadora        389 non-null    object \n 6   Contrato         389 non-null    object \n 7   Campo            389 non-null    object \n 8   Enero            389 non-null    float64\n 9   Febrero          389 non-null    float64\n 10  Marzo            389 non-null    float64\n 11  Abril            389 non-null    float64\n 12  Mayo             389 non-null    float64\n 13  Junio            389 non-null    float64\n 14  Julio            389 non-null    float64\n 15  Agosto           389 non-null    float64\n 16  Septiembre       0 non-null      float64\n 17  Octubre          0 non-null      float64\n 18  Noviembre        0 non-null      float64\n 19  Diciembre        0 non-null      float64\n 20  Año              389 non-null    int64  \ndtypes: float64(14), int64(1), object(6)\nmemory usage: 63.9+ KB\n",
     "output_type": "stream"
    }
   ]
  },
  {
   "cell_type": "markdown",
   "source": "El dataset del 2021, no incluye los dato de los meses correspondientes a septiembre, octubre, noviembre y diciembre.",
   "metadata": {
    "formattedRanges": [],
    "is_collapsed": false,
    "cell_id": "32fa79f9-1efa-40f5-b813-996e06205fb5",
    "tags": [],
    "deepnote_cell_type": "text-cell-p"
   }
  },
  {
   "cell_type": "markdown",
   "source": "El año 2017 tiene diferentes tipos de datos a los otros datsets, por lo que se procese a transformarlos. todos los datos numéricos serán llevados a tipo Float.",
   "metadata": {
    "formattedRanges": [],
    "is_collapsed": false,
    "cell_id": "27b707eb34604d2ebd72ba5e84626aef",
    "tags": [],
    "deepnote_cell_type": "text-cell-p"
   }
  },
  {
   "cell_type": "code",
   "metadata": {
    "cell_id": "9d2356779cca435791da9c917bfc7226",
    "tags": [],
    "deepnote_to_be_reexecuted": false,
    "source_hash": "e1312f9b",
    "execution_start": 1661373885799,
    "execution_millis": 0,
    "deepnote_cell_type": "code",
    "deepnote_cell_height": 130
   },
   "source": "meses = ['Enero', 'Febrero', 'Marzo', 'Abril',\n       'Mayo', 'Junio', 'Julio', 'Agosto', 'Septiembre', 'Octubre',\n       'Noviembre', 'Diciembre']\n",
   "execution_count": 12,
   "outputs": []
  },
  {
   "cell_type": "code",
   "metadata": {
    "cell_id": "75fb2c6ae92b4ab8aa7c2bc4fd9fedef",
    "tags": [],
    "deepnote_to_be_reexecuted": false,
    "source_hash": "4ff84026",
    "execution_start": 1661373885800,
    "execution_millis": 42,
    "deepnote_cell_type": "code",
    "deepnote_cell_height": 81
   },
   "source": "df_meses_2017 = df_produccion_petroleo_2017[meses].apply(lambda x: pd.to_numeric(x, downcast='float',errors='coerce'))",
   "execution_count": 13,
   "outputs": []
  },
  {
   "cell_type": "code",
   "metadata": {
    "cell_id": "f407432405ef45e0b245eeded5e38482",
    "tags": [],
    "deepnote_to_be_reexecuted": false,
    "source_hash": "7ace9f5e",
    "execution_start": 1661373885842,
    "execution_millis": 0,
    "deepnote_cell_type": "code",
    "deepnote_cell_height": 76
   },
   "source": "df_produccion_petroleo_2017[meses]= df_meses_2017",
   "execution_count": 14,
   "outputs": []
  },
  {
   "cell_type": "code",
   "metadata": {
    "cell_id": "4ccbd5c4760d4a5e9b628b4d31293953",
    "tags": [],
    "deepnote_to_be_reexecuted": false,
    "source_hash": "8caf409e",
    "execution_start": 1661373885851,
    "execution_millis": 58,
    "deepnote_cell_type": "code",
    "deepnote_cell_height": 612
   },
   "source": "df_produccion_petroleo_2017.head(10)",
   "execution_count": 15,
   "outputs": [
    {
     "output_type": "execute_result",
     "execution_count": 15,
     "data": {
      "application/vnd.deepnote.dataframe.v3+json": {
       "column_count": 21,
       "row_count": 10,
       "columns": [
        {
         "name": "Departamento",
         "dtype": "object",
         "stats": {
          "unique_count": 2,
          "nan_count": 0,
          "categories": [
           {
            "name": "ANTIOQUIA",
            "count": 7
           },
           {
            "name": "ARAUCA",
            "count": 3
           }
          ]
         }
        },
        {
         "name": "Municipio",
         "dtype": "object",
         "stats": {
          "unique_count": 4,
          "nan_count": 0,
          "categories": [
           {
            "name": "PUERTO NARE",
            "count": 3
           },
           {
            "name": "YONDO",
            "count": 3
           },
           {
            "name": "2 others",
            "count": 4
           }
          ]
         }
        },
        {
         "name": "Latitud",
         "dtype": "float64",
         "stats": {
          "unique_count": 5,
          "nan_count": 0,
          "min": "5.826388779",
          "max": "6.925159318",
          "histogram": [
           {
            "bin_start": 5.826388779,
            "bin_end": 5.9362658329,
            "count": 1
           },
           {
            "bin_start": 5.9362658329,
            "bin_end": 6.0461428868,
            "count": 1
           },
           {
            "bin_start": 6.0461428868,
            "bin_end": 6.1560199407,
            "count": 3
           },
           {
            "bin_start": 6.1560199407,
            "bin_end": 6.2658969946,
            "count": 0
           },
           {
            "bin_start": 6.2658969946,
            "bin_end": 6.3757740485,
            "count": 0
           },
           {
            "bin_start": 6.3757740485,
            "bin_end": 6.4856511024,
            "count": 0
           },
           {
            "bin_start": 6.4856511024,
            "bin_end": 6.5955281563,
            "count": 0
           },
           {
            "bin_start": 6.5955281563,
            "bin_end": 6.7054052102,
            "count": 0
           },
           {
            "bin_start": 6.7054052102,
            "bin_end": 6.8152822641,
            "count": 2
           },
           {
            "bin_start": 6.8152822641,
            "bin_end": 6.925159318,
            "count": 3
           }
          ]
         }
        },
        {
         "name": "Longitud",
         "dtype": "float64",
         "stats": {
          "unique_count": 5,
          "nan_count": 0,
          "min": "-74.83637623",
          "max": "-70.50921153",
          "histogram": [
           {
            "bin_start": -74.83637623,
            "bin_end": -74.40365976,
            "count": 5
           },
           {
            "bin_start": -74.40365976,
            "bin_end": -73.97094329,
            "count": 3
           },
           {
            "bin_start": -73.97094329,
            "bin_end": -73.53822682,
            "count": 0
           },
           {
            "bin_start": -73.53822682,
            "bin_end": -73.10551035,
            "count": 0
           },
           {
            "bin_start": -73.10551035,
            "bin_end": -72.67279388,
            "count": 0
           },
           {
            "bin_start": -72.67279388,
            "bin_end": -72.24007741,
            "count": 0
           },
           {
            "bin_start": -72.24007741,
            "bin_end": -71.80736094,
            "count": 0
           },
           {
            "bin_start": -71.80736094,
            "bin_end": -71.37464447,
            "count": 0
           },
           {
            "bin_start": -71.37464447,
            "bin_end": -70.941928,
            "count": 0
           },
           {
            "bin_start": -70.941928,
            "bin_end": -70.50921153,
            "count": 2
           }
          ]
         }
        },
        {
         "name": "Geolocalizacion",
         "dtype": "object",
         "stats": {
          "unique_count": 5,
          "nan_count": 0,
          "categories": [
           {
            "name": "POINT (-74.70317722 6.126539139)",
            "count": 3
           },
           {
            "name": "POINT (-74.15824041 6.925159318)",
            "count": 3
           },
           {
            "name": "3 others",
            "count": 4
           }
          ]
         }
        },
        {
         "name": "Operadora",
         "dtype": "object",
         "stats": {
          "unique_count": 3,
          "nan_count": 0,
          "categories": [
           {
            "name": "ECOPETROL S.A.",
            "count": 5
           },
           {
            "name": "OCCIDENTAL DE COLOMBIA LLC",
            "count": 3
           },
           {
            "name": "MANSAROVAR ENERGY COLOMBIA LTD",
            "count": 2
           }
          ]
         }
        },
        {
         "name": "Contrato",
         "dtype": "object",
         "stats": {
          "unique_count": 4,
          "nan_count": 0,
          "categories": [
           {
            "name": "CASABE",
            "count": 3
           },
           {
            "name": "CHIPIRON",
            "count": 3
           },
           {
            "name": "2 others",
            "count": 4
           }
          ]
         }
        },
        {
         "name": "Campo",
         "dtype": "object",
         "stats": {
          "unique_count": 9,
          "nan_count": 0,
          "categories": [
           {
            "name": "AREA TECA-COCORNA",
            "count": 2
           },
           {
            "name": "NARE",
            "count": 1
           },
           {
            "name": "7 others",
            "count": 7
           }
          ]
         }
        },
        {
         "name": "Enero",
         "dtype": "float32",
         "stats": {
          "unique_count": 10,
          "nan_count": 0,
          "min": "5.0",
          "max": "12745.0",
          "histogram": [
           {
            "bin_start": 5,
            "bin_end": 1279,
            "count": 6
           },
           {
            "bin_start": 1279,
            "bin_end": 2553,
            "count": 2
           },
           {
            "bin_start": 2553,
            "bin_end": 3827,
            "count": 0
           },
           {
            "bin_start": 3827,
            "bin_end": 5101,
            "count": 0
           },
           {
            "bin_start": 5101,
            "bin_end": 6375,
            "count": 0
           },
           {
            "bin_start": 6375,
            "bin_end": 7649,
            "count": 0
           },
           {
            "bin_start": 7649,
            "bin_end": 8923,
            "count": 0
           },
           {
            "bin_start": 8923,
            "bin_end": 10197,
            "count": 0
           },
           {
            "bin_start": 10197,
            "bin_end": 11471,
            "count": 1
           },
           {
            "bin_start": 11471,
            "bin_end": 12745,
            "count": 1
           }
          ]
         }
        },
        {
         "name": "Febrero",
         "dtype": "float32",
         "stats": {
          "unique_count": 9,
          "nan_count": 1,
          "min": "257.0",
          "max": "13009.0",
          "histogram": [
           {
            "bin_start": 257,
            "bin_end": 1532.199951171875,
            "count": 6
           },
           {
            "bin_start": 1532.199951171875,
            "bin_end": 2807.39990234375,
            "count": 1
           },
           {
            "bin_start": 2807.39990234375,
            "bin_end": 4082.60009765625,
            "count": 0
           },
           {
            "bin_start": 4082.60009765625,
            "bin_end": 5357.7998046875,
            "count": 0
           },
           {
            "bin_start": 5357.7998046875,
            "bin_end": 6633,
            "count": 0
           },
           {
            "bin_start": 6633,
            "bin_end": 7908.2001953125,
            "count": 0
           },
           {
            "bin_start": 7908.2001953125,
            "bin_end": 9183.400390625,
            "count": 0
           },
           {
            "bin_start": 9183.400390625,
            "bin_end": 10458.599609375,
            "count": 0
           },
           {
            "bin_start": 10458.599609375,
            "bin_end": 11733.7998046875,
            "count": 0
           },
           {
            "bin_start": 11733.7998046875,
            "bin_end": 13009,
            "count": 2
           }
          ]
         }
        },
        {
         "name": "Marzo",
         "dtype": "float32",
         "stats": {
          "unique_count": 10,
          "nan_count": 0,
          "min": "54.0",
          "max": "12756.0",
          "histogram": [
           {
            "bin_start": 54,
            "bin_end": 1324.199951171875,
            "count": 6
           },
           {
            "bin_start": 1324.199951171875,
            "bin_end": 2594.39990234375,
            "count": 2
           },
           {
            "bin_start": 2594.39990234375,
            "bin_end": 3864.60009765625,
            "count": 1
           },
           {
            "bin_start": 3864.60009765625,
            "bin_end": 5134.7998046875,
            "count": 0
           },
           {
            "bin_start": 5134.7998046875,
            "bin_end": 6405,
            "count": 0
           },
           {
            "bin_start": 6405,
            "bin_end": 7675.2001953125,
            "count": 0
           },
           {
            "bin_start": 7675.2001953125,
            "bin_end": 8945.400390625,
            "count": 0
           },
           {
            "bin_start": 8945.400390625,
            "bin_end": 10215.599609375,
            "count": 0
           },
           {
            "bin_start": 10215.599609375,
            "bin_end": 11485.7998046875,
            "count": 0
           },
           {
            "bin_start": 11485.7998046875,
            "bin_end": 12756,
            "count": 1
           }
          ]
         }
        },
        {
         "name": "Abril",
         "dtype": "float32",
         "stats": {
          "unique_count": 10,
          "nan_count": 0,
          "min": "233.0",
          "max": "12833.0",
          "histogram": [
           {
            "bin_start": 233,
            "bin_end": 1493,
            "count": 7
           },
           {
            "bin_start": 1493,
            "bin_end": 2753,
            "count": 1
           },
           {
            "bin_start": 2753,
            "bin_end": 4013,
            "count": 0
           },
           {
            "bin_start": 4013,
            "bin_end": 5273,
            "count": 0
           },
           {
            "bin_start": 5273,
            "bin_end": 6533,
            "count": 0
           },
           {
            "bin_start": 6533,
            "bin_end": 7793,
            "count": 0
           },
           {
            "bin_start": 7793,
            "bin_end": 9053,
            "count": 0
           },
           {
            "bin_start": 9053,
            "bin_end": 10313,
            "count": 0
           },
           {
            "bin_start": 10313,
            "bin_end": 11573,
            "count": 0
           },
           {
            "bin_start": 11573,
            "bin_end": 12833,
            "count": 2
           }
          ]
         }
        },
        {
         "name": "Mayo",
         "dtype": "float32",
         "stats": {
          "unique_count": 10,
          "nan_count": 0,
          "min": "262.0",
          "max": "12492.0",
          "histogram": [
           {
            "bin_start": 262,
            "bin_end": 1485,
            "count": 7
           },
           {
            "bin_start": 1485,
            "bin_end": 2708,
            "count": 1
           },
           {
            "bin_start": 2708,
            "bin_end": 3931,
            "count": 0
           },
           {
            "bin_start": 3931,
            "bin_end": 5154,
            "count": 0
           },
           {
            "bin_start": 5154,
            "bin_end": 6377,
            "count": 0
           },
           {
            "bin_start": 6377,
            "bin_end": 7600,
            "count": 0
           },
           {
            "bin_start": 7600,
            "bin_end": 8823,
            "count": 0
           },
           {
            "bin_start": 8823,
            "bin_end": 10046,
            "count": 0
           },
           {
            "bin_start": 10046,
            "bin_end": 11269,
            "count": 0
           },
           {
            "bin_start": 11269,
            "bin_end": 12492,
            "count": 2
           }
          ]
         }
        },
        {
         "name": "Junio",
         "dtype": "float32",
         "stats": {
          "unique_count": 10,
          "nan_count": 0,
          "min": "216.0",
          "max": "13127.0",
          "histogram": [
           {
            "bin_start": 216,
            "bin_end": 1507.0999755859375,
            "count": 7
           },
           {
            "bin_start": 1507.0999755859375,
            "bin_end": 2798.199951171875,
            "count": 1
           },
           {
            "bin_start": 2798.199951171875,
            "bin_end": 4089.300048828125,
            "count": 0
           },
           {
            "bin_start": 4089.300048828125,
            "bin_end": 5380.39990234375,
            "count": 0
           },
           {
            "bin_start": 5380.39990234375,
            "bin_end": 6671.5,
            "count": 0
           },
           {
            "bin_start": 6671.5,
            "bin_end": 7962.60009765625,
            "count": 0
           },
           {
            "bin_start": 7962.60009765625,
            "bin_end": 9253.7001953125,
            "count": 0
           },
           {
            "bin_start": 9253.7001953125,
            "bin_end": 10544.7998046875,
            "count": 0
           },
           {
            "bin_start": 10544.7998046875,
            "bin_end": 11835.900390625,
            "count": 1
           },
           {
            "bin_start": 11835.900390625,
            "bin_end": 13127,
            "count": 1
           }
          ]
         }
        },
        {
         "name": "Julio",
         "dtype": "float32",
         "stats": {
          "unique_count": 10,
          "nan_count": 0,
          "min": "194.0",
          "max": "12377.0",
          "histogram": [
           {
            "bin_start": 194,
            "bin_end": 1412.300048828125,
            "count": 7
           },
           {
            "bin_start": 1412.300048828125,
            "bin_end": 2630.60009765625,
            "count": 1
           },
           {
            "bin_start": 2630.60009765625,
            "bin_end": 3848.89990234375,
            "count": 0
           },
           {
            "bin_start": 3848.89990234375,
            "bin_end": 5067.2001953125,
            "count": 0
           },
           {
            "bin_start": 5067.2001953125,
            "bin_end": 6285.5,
            "count": 0
           },
           {
            "bin_start": 6285.5,
            "bin_end": 7503.7998046875,
            "count": 0
           },
           {
            "bin_start": 7503.7998046875,
            "bin_end": 8722.099609375,
            "count": 0
           },
           {
            "bin_start": 8722.099609375,
            "bin_end": 9940.400390625,
            "count": 0
           },
           {
            "bin_start": 9940.400390625,
            "bin_end": 11158.7001953125,
            "count": 1
           },
           {
            "bin_start": 11158.7001953125,
            "bin_end": 12377,
            "count": 1
           }
          ]
         }
        },
        {
         "name": "Agosto",
         "dtype": "float32",
         "stats": {
          "unique_count": 10,
          "nan_count": 0,
          "min": "162.0",
          "max": "12084.0",
          "histogram": [
           {
            "bin_start": 162,
            "bin_end": 1354.199951171875,
            "count": 7
           },
           {
            "bin_start": 1354.199951171875,
            "bin_end": 2546.39990234375,
            "count": 1
           },
           {
            "bin_start": 2546.39990234375,
            "bin_end": 3738.60009765625,
            "count": 0
           },
           {
            "bin_start": 3738.60009765625,
            "bin_end": 4930.7998046875,
            "count": 0
           },
           {
            "bin_start": 4930.7998046875,
            "bin_end": 6123,
            "count": 0
           },
           {
            "bin_start": 6123,
            "bin_end": 7315.2001953125,
            "count": 0
           },
           {
            "bin_start": 7315.2001953125,
            "bin_end": 8507.400390625,
            "count": 0
           },
           {
            "bin_start": 8507.400390625,
            "bin_end": 9699.599609375,
            "count": 0
           },
           {
            "bin_start": 9699.599609375,
            "bin_end": 10891.7998046875,
            "count": 0
           },
           {
            "bin_start": 10891.7998046875,
            "bin_end": 12084,
            "count": 2
           }
          ]
         }
        },
        {
         "name": "Septiembre",
         "dtype": "float32",
         "stats": {
          "unique_count": 10,
          "nan_count": 0,
          "min": "232.0",
          "max": "11965.0",
          "histogram": [
           {
            "bin_start": 232,
            "bin_end": 1405.300048828125,
            "count": 7
           },
           {
            "bin_start": 1405.300048828125,
            "bin_end": 2578.60009765625,
            "count": 1
           },
           {
            "bin_start": 2578.60009765625,
            "bin_end": 3751.89990234375,
            "count": 0
           },
           {
            "bin_start": 3751.89990234375,
            "bin_end": 4925.2001953125,
            "count": 0
           },
           {
            "bin_start": 4925.2001953125,
            "bin_end": 6098.5,
            "count": 0
           },
           {
            "bin_start": 6098.5,
            "bin_end": 7271.7998046875,
            "count": 0
           },
           {
            "bin_start": 7271.7998046875,
            "bin_end": 8445.099609375,
            "count": 0
           },
           {
            "bin_start": 8445.099609375,
            "bin_end": 9618.400390625,
            "count": 0
           },
           {
            "bin_start": 9618.400390625,
            "bin_end": 10791.7001953125,
            "count": 0
           },
           {
            "bin_start": 10791.7001953125,
            "bin_end": 11965,
            "count": 2
           }
          ]
         }
        },
        {
         "name": "Octubre",
         "dtype": "float32",
         "stats": {
          "unique_count": 10,
          "nan_count": 0,
          "min": "244.0",
          "max": "11751.0",
          "histogram": [
           {
            "bin_start": 244,
            "bin_end": 1394.699951171875,
            "count": 7
           },
           {
            "bin_start": 1394.699951171875,
            "bin_end": 2545.39990234375,
            "count": 1
           },
           {
            "bin_start": 2545.39990234375,
            "bin_end": 3696.10009765625,
            "count": 0
           },
           {
            "bin_start": 3696.10009765625,
            "bin_end": 4846.7998046875,
            "count": 0
           },
           {
            "bin_start": 4846.7998046875,
            "bin_end": 5997.5,
            "count": 0
           },
           {
            "bin_start": 5997.5,
            "bin_end": 7148.2001953125,
            "count": 0
           },
           {
            "bin_start": 7148.2001953125,
            "bin_end": 8298.900390625,
            "count": 0
           },
           {
            "bin_start": 8298.900390625,
            "bin_end": 9449.599609375,
            "count": 0
           },
           {
            "bin_start": 9449.599609375,
            "bin_end": 10600.2998046875,
            "count": 1
           },
           {
            "bin_start": 10600.2998046875,
            "bin_end": 11751,
            "count": 1
           }
          ]
         }
        },
        {
         "name": "Noviembre",
         "dtype": "float32",
         "stats": {
          "unique_count": 10,
          "nan_count": 0,
          "min": "38.0",
          "max": "11932.0",
          "histogram": [
           {
            "bin_start": 38,
            "bin_end": 1227.4000244140625,
            "count": 7
           },
           {
            "bin_start": 1227.4000244140625,
            "bin_end": 2416.800048828125,
            "count": 1
           },
           {
            "bin_start": 2416.800048828125,
            "bin_end": 3606.199951171875,
            "count": 0
           },
           {
            "bin_start": 3606.199951171875,
            "bin_end": 4795.60009765625,
            "count": 0
           },
           {
            "bin_start": 4795.60009765625,
            "bin_end": 5985,
            "count": 0
           },
           {
            "bin_start": 5985,
            "bin_end": 7174.39990234375,
            "count": 0
           },
           {
            "bin_start": 7174.39990234375,
            "bin_end": 8363.7998046875,
            "count": 0
           },
           {
            "bin_start": 8363.7998046875,
            "bin_end": 9553.2001953125,
            "count": 1
           },
           {
            "bin_start": 9553.2001953125,
            "bin_end": 10742.599609375,
            "count": 0
           },
           {
            "bin_start": 10742.599609375,
            "bin_end": 11932,
            "count": 1
           }
          ]
         }
        },
        {
         "name": "Diciembre",
         "dtype": "float32",
         "stats": {
          "unique_count": 10,
          "nan_count": 0,
          "min": "209.0",
          "max": "11634.0",
          "histogram": [
           {
            "bin_start": 209,
            "bin_end": 1351.5,
            "count": 7
           },
           {
            "bin_start": 1351.5,
            "bin_end": 2494,
            "count": 1
           },
           {
            "bin_start": 2494,
            "bin_end": 3636.5,
            "count": 0
           },
           {
            "bin_start": 3636.5,
            "bin_end": 4779,
            "count": 0
           },
           {
            "bin_start": 4779,
            "bin_end": 5921.5,
            "count": 0
           },
           {
            "bin_start": 5921.5,
            "bin_end": 7064,
            "count": 0
           },
           {
            "bin_start": 7064,
            "bin_end": 8206.5,
            "count": 0
           },
           {
            "bin_start": 8206.5,
            "bin_end": 9349,
            "count": 1
           },
           {
            "bin_start": 9349,
            "bin_end": 10491.5,
            "count": 0
           },
           {
            "bin_start": 10491.5,
            "bin_end": 11634,
            "count": 1
           }
          ]
         }
        },
        {
         "name": "Año",
         "dtype": "int64",
         "stats": {
          "unique_count": 1,
          "nan_count": 0,
          "min": "2017",
          "max": "2017",
          "histogram": [
           {
            "bin_start": 2016.5,
            "bin_end": 2016.6,
            "count": 0
           },
           {
            "bin_start": 2016.6,
            "bin_end": 2016.7,
            "count": 0
           },
           {
            "bin_start": 2016.7,
            "bin_end": 2016.8,
            "count": 0
           },
           {
            "bin_start": 2016.8,
            "bin_end": 2016.9,
            "count": 0
           },
           {
            "bin_start": 2016.9,
            "bin_end": 2017,
            "count": 0
           },
           {
            "bin_start": 2017,
            "bin_end": 2017.1,
            "count": 10
           },
           {
            "bin_start": 2017.1,
            "bin_end": 2017.2,
            "count": 0
           },
           {
            "bin_start": 2017.2,
            "bin_end": 2017.3,
            "count": 0
           },
           {
            "bin_start": 2017.3,
            "bin_end": 2017.4,
            "count": 0
           },
           {
            "bin_start": 2017.4,
            "bin_end": 2017.5,
            "count": 0
           }
          ]
         }
        },
        {
         "name": "_deepnote_index_column",
         "dtype": "int64"
        }
       ],
       "rows": [
        {
         "Departamento": "ANTIOQUIA",
         "Municipio": "PUERTO NARE",
         "Latitud": 6.126539139,
         "Longitud": -74.70317722,
         "Geolocalizacion": "POINT (-74.70317722 6.126539139)",
         "Operadora": "ECOPETROL S.A.",
         "Contrato": "OPERACION-DIRECTA ECOPETROL",
         "Campo": "AREA TECA-COCORNA",
         "Enero": 1231,
         "Febrero": 1109,
         "Marzo": 1026,
         "Abril": 1036,
         "Mayo": 1047,
         "Junio": 1122,
         "Julio": 1133,
         "Agosto": 1164,
         "Septiembre": 1130,
         "Octubre": 1078,
         "Noviembre": 1156,
         "Diciembre": 1099,
         "Año": 2017,
         "_deepnote_index_column": 0
        },
        {
         "Departamento": "ANTIOQUIA",
         "Municipio": "PUERTO NARE",
         "Latitud": 6.126539139,
         "Longitud": -74.70317722,
         "Geolocalizacion": "POINT (-74.70317722 6.126539139)",
         "Operadora": "MANSAROVAR ENERGY COLOMBIA LTD",
         "Contrato": "NARE ASOCIACION",
         "Campo": "NARE",
         "Enero": 272,
         "Febrero": 257,
         "Marzo": 253,
         "Abril": 233,
         "Mayo": 262,
         "Junio": 216,
         "Julio": 194,
         "Agosto": 162,
         "Septiembre": 232,
         "Octubre": 244,
         "Noviembre": 222,
         "Diciembre": 209,
         "Año": 2017,
         "_deepnote_index_column": 1
        },
        {
         "Departamento": "ANTIOQUIA",
         "Municipio": "PUERTO NARE",
         "Latitud": 6.126539139,
         "Longitud": -74.70317722,
         "Geolocalizacion": "POINT (-74.70317722 6.126539139)",
         "Operadora": "MANSAROVAR ENERGY COLOMBIA LTD",
         "Contrato": "NARE ASOCIACION",
         "Campo": "UNDERRIVER",
         "Enero": 936,
         "Febrero": 797,
         "Marzo": 880,
         "Abril": 900,
         "Mayo": 994,
         "Junio": 802,
         "Julio": 765,
         "Agosto": 815,
         "Septiembre": 888,
         "Octubre": 846,
         "Noviembre": 720,
         "Diciembre": 833,
         "Año": 2017,
         "_deepnote_index_column": 2
        },
        {
         "Departamento": "ANTIOQUIA",
         "Municipio": "PUERTO TRIUNFO",
         "Latitud": 5.954830151,
         "Longitud": -74.6861918,
         "Geolocalizacion": "POINT (-74.6861918 5.954830151)",
         "Operadora": "ECOPETROL S.A.",
         "Contrato": "OPERACION-DIRECTA ECOPETROL",
         "Campo": "AREA TECA-COCORNA",
         "Enero": 393,
         "Febrero": 386,
         "Marzo": 362,
         "Abril": 365,
         "Mayo": 396,
         "Junio": 382,
         "Julio": 369,
         "Agosto": 342,
         "Septiembre": 280,
         "Octubre": 264,
         "Noviembre": 282,
         "Diciembre": 278,
         "Año": 2017,
         "_deepnote_index_column": 3
        },
        {
         "Departamento": "ANTIOQUIA",
         "Municipio": "YONDO",
         "Latitud": 6.925159318,
         "Longitud": -74.15824041,
         "Geolocalizacion": "POINT (-74.15824041 6.925159318)",
         "Operadora": "ECOPETROL S.A.",
         "Contrato": "CASABE",
         "Campo": "CASABE",
         "Enero": 12745,
         "Febrero": 12535,
         "Marzo": 12756,
         "Abril": 12720,
         "Mayo": 12492,
         "Junio": 13127,
         "Julio": 12377,
         "Agosto": 12084,
         "Septiembre": 11965,
         "Octubre": 11751,
         "Noviembre": 11932,
         "Diciembre": 11634,
         "Año": 2017,
         "_deepnote_index_column": 4
        },
        {
         "Departamento": "ANTIOQUIA",
         "Municipio": "YONDO",
         "Latitud": 6.925159318,
         "Longitud": -74.15824041,
         "Geolocalizacion": "POINT (-74.15824041 6.925159318)",
         "Operadora": "ECOPETROL S.A.",
         "Contrato": "CASABE",
         "Campo": "CASABE SUR",
         "Enero": 2301,
         "Febrero": 2487,
         "Marzo": 2393,
         "Abril": 2268,
         "Mayo": 2187,
         "Junio": 2277,
         "Julio": 2323,
         "Agosto": 2274,
         "Septiembre": 2125,
         "Octubre": 2254,
         "Noviembre": 2194,
         "Diciembre": 2123,
         "Año": 2017,
         "_deepnote_index_column": 5
        },
        {
         "Departamento": "ANTIOQUIA",
         "Municipio": "YONDO",
         "Latitud": 6.925159318,
         "Longitud": -74.15824041,
         "Geolocalizacion": "POINT (-74.15824041 6.925159318)",
         "Operadora": "ECOPETROL S.A.",
         "Contrato": "CASABE",
         "Campo": "PE��AS BLANCAS",
         "Enero": 1437,
         "Febrero": 1532,
         "Marzo": 1420,
         "Abril": 1399,
         "Mayo": 1391,
         "Junio": 1193,
         "Julio": 1193,
         "Agosto": 1182,
         "Septiembre": 1190,
         "Octubre": 1204,
         "Noviembre": 1200,
         "Diciembre": 1118,
         "Año": 2017,
         "_deepnote_index_column": 6
        },
        {
         "Departamento": "ARAUCA",
         "Municipio": "ARAUCA",
         "Latitud": 5.826388779,
         "Longitud": -74.83637623,
         "Geolocalizacion": "POINT (-74.83637623 5.826388779)",
         "Operadora": "OCCIDENTAL DE COLOMBIA LLC",
         "Contrato": "CHIPIRON",
         "Campo": "CHIPIR��N",
         "Enero": 11376,
         "Febrero": 13009,
         "Marzo": 3673,
         "Abril": 12833,
         "Mayo": 11878,
         "Junio": 11159,
         "Julio": 10682,
         "Agosto": 11371,
         "Septiembre": 11045,
         "Octubre": 10036,
         "Noviembre": 9120,
         "Diciembre": 8406,
         "Año": 2017,
         "_deepnote_index_column": 7
        },
        {
         "Departamento": "ARAUCA",
         "Municipio": "ARAUCA",
         "Latitud": 6.796280825,
         "Longitud": -70.50921153,
         "Geolocalizacion": "POINT (-70.50921153 6.796280825)",
         "Operadora": "OCCIDENTAL DE COLOMBIA LLC",
         "Contrato": "CHIPIRON",
         "Campo": "GALEMBO",
         "Enero": 5,
         "Febrero": "nan",
         "Marzo": 54,
         "Abril": 400,
         "Mayo": 297,
         "Junio": 234,
         "Julio": 215,
         "Agosto": 233,
         "Septiembre": 262,
         "Octubre": 253,
         "Noviembre": 38,
         "Diciembre": 226,
         "Año": 2017,
         "_deepnote_index_column": 8
        },
        {
         "Departamento": "ARAUCA",
         "Municipio": "ARAUCA",
         "Latitud": 6.796280825,
         "Longitud": -70.50921153,
         "Geolocalizacion": "POINT (-70.50921153 6.796280825)",
         "Operadora": "OCCIDENTAL DE COLOMBIA LLC",
         "Contrato": "CHIPIRON",
         "Campo": "MACANA",
         "Enero": 111,
         "Febrero": 524,
         "Marzo": 209,
         "Abril": 440,
         "Mayo": 505,
         "Junio": 519,
         "Julio": 422,
         "Agosto": 455,
         "Septiembre": 397,
         "Octubre": 350,
         "Noviembre": 454,
         "Diciembre": 407,
         "Año": 2017,
         "_deepnote_index_column": 9
        }
       ]
      },
      "text/plain": "  Departamento       Municipio   Latitud   Longitud  \\\n0    ANTIOQUIA     PUERTO NARE  6.126539 -74.703177   \n1    ANTIOQUIA     PUERTO NARE  6.126539 -74.703177   \n2    ANTIOQUIA     PUERTO NARE  6.126539 -74.703177   \n3    ANTIOQUIA  PUERTO TRIUNFO  5.954830 -74.686192   \n4    ANTIOQUIA           YONDO  6.925159 -74.158240   \n5    ANTIOQUIA           YONDO  6.925159 -74.158240   \n6    ANTIOQUIA           YONDO  6.925159 -74.158240   \n7       ARAUCA          ARAUCA  5.826389 -74.836376   \n8       ARAUCA          ARAUCA  6.796281 -70.509212   \n9       ARAUCA          ARAUCA  6.796281 -70.509212   \n\n                    Geolocalizacion                       Operadora  \\\n0  POINT (-74.70317722 6.126539139)                  ECOPETROL S.A.   \n1  POINT (-74.70317722 6.126539139)  MANSAROVAR ENERGY COLOMBIA LTD   \n2  POINT (-74.70317722 6.126539139)  MANSAROVAR ENERGY COLOMBIA LTD   \n3   POINT (-74.6861918 5.954830151)                  ECOPETROL S.A.   \n4  POINT (-74.15824041 6.925159318)                  ECOPETROL S.A.   \n5  POINT (-74.15824041 6.925159318)                  ECOPETROL S.A.   \n6  POINT (-74.15824041 6.925159318)                  ECOPETROL S.A.   \n7  POINT (-74.83637623 5.826388779)      OCCIDENTAL DE COLOMBIA LLC   \n8  POINT (-70.50921153 6.796280825)      OCCIDENTAL DE COLOMBIA LLC   \n9  POINT (-70.50921153 6.796280825)      OCCIDENTAL DE COLOMBIA LLC   \n\n                      Contrato              Campo    Enero  Febrero  ...  \\\n0  OPERACION-DIRECTA ECOPETROL  AREA TECA-COCORNA   1231.0   1109.0  ...   \n1              NARE ASOCIACION               NARE    272.0    257.0  ...   \n2              NARE ASOCIACION         UNDERRIVER    936.0    797.0  ...   \n3  OPERACION-DIRECTA ECOPETROL  AREA TECA-COCORNA    393.0    386.0  ...   \n4                       CASABE             CASABE  12745.0  12535.0  ...   \n5                       CASABE         CASABE SUR   2301.0   2487.0  ...   \n6                       CASABE     PE��AS BLANCAS   1437.0   1532.0  ...   \n7                     CHIPIRON          CHIPIR��N  11376.0  13009.0  ...   \n8                     CHIPIRON            GALEMBO      5.0      NaN  ...   \n9                     CHIPIRON             MACANA    111.0    524.0  ...   \n\n     Abril     Mayo    Junio    Julio   Agosto  Septiembre  Octubre  \\\n0   1036.0   1047.0   1122.0   1133.0   1164.0      1130.0   1078.0   \n1    233.0    262.0    216.0    194.0    162.0       232.0    244.0   \n2    900.0    994.0    802.0    765.0    815.0       888.0    846.0   \n3    365.0    396.0    382.0    369.0    342.0       280.0    264.0   \n4  12720.0  12492.0  13127.0  12377.0  12084.0     11965.0  11751.0   \n5   2268.0   2187.0   2277.0   2323.0   2274.0      2125.0   2254.0   \n6   1399.0   1391.0   1193.0   1193.0   1182.0      1190.0   1204.0   \n7  12833.0  11878.0  11159.0  10682.0  11371.0     11045.0  10036.0   \n8    400.0    297.0    234.0    215.0    233.0       262.0    253.0   \n9    440.0    505.0    519.0    422.0    455.0       397.0    350.0   \n\n   Noviembre  Diciembre   Año  \n0     1156.0     1099.0  2017  \n1      222.0      209.0  2017  \n2      720.0      833.0  2017  \n3      282.0      278.0  2017  \n4    11932.0    11634.0  2017  \n5     2194.0     2123.0  2017  \n6     1200.0     1118.0  2017  \n7     9120.0     8406.0  2017  \n8       38.0      226.0  2017  \n9      454.0      407.0  2017  \n\n[10 rows x 21 columns]",
      "text/html": "<div>\n<style scoped>\n    .dataframe tbody tr th:only-of-type {\n        vertical-align: middle;\n    }\n\n    .dataframe tbody tr th {\n        vertical-align: top;\n    }\n\n    .dataframe thead th {\n        text-align: right;\n    }\n</style>\n<table border=\"1\" class=\"dataframe\">\n  <thead>\n    <tr style=\"text-align: right;\">\n      <th></th>\n      <th>Departamento</th>\n      <th>Municipio</th>\n      <th>Latitud</th>\n      <th>Longitud</th>\n      <th>Geolocalizacion</th>\n      <th>Operadora</th>\n      <th>Contrato</th>\n      <th>Campo</th>\n      <th>Enero</th>\n      <th>Febrero</th>\n      <th>...</th>\n      <th>Abril</th>\n      <th>Mayo</th>\n      <th>Junio</th>\n      <th>Julio</th>\n      <th>Agosto</th>\n      <th>Septiembre</th>\n      <th>Octubre</th>\n      <th>Noviembre</th>\n      <th>Diciembre</th>\n      <th>Año</th>\n    </tr>\n  </thead>\n  <tbody>\n    <tr>\n      <th>0</th>\n      <td>ANTIOQUIA</td>\n      <td>PUERTO NARE</td>\n      <td>6.126539</td>\n      <td>-74.703177</td>\n      <td>POINT (-74.70317722 6.126539139)</td>\n      <td>ECOPETROL S.A.</td>\n      <td>OPERACION-DIRECTA ECOPETROL</td>\n      <td>AREA TECA-COCORNA</td>\n      <td>1231.0</td>\n      <td>1109.0</td>\n      <td>...</td>\n      <td>1036.0</td>\n      <td>1047.0</td>\n      <td>1122.0</td>\n      <td>1133.0</td>\n      <td>1164.0</td>\n      <td>1130.0</td>\n      <td>1078.0</td>\n      <td>1156.0</td>\n      <td>1099.0</td>\n      <td>2017</td>\n    </tr>\n    <tr>\n      <th>1</th>\n      <td>ANTIOQUIA</td>\n      <td>PUERTO NARE</td>\n      <td>6.126539</td>\n      <td>-74.703177</td>\n      <td>POINT (-74.70317722 6.126539139)</td>\n      <td>MANSAROVAR ENERGY COLOMBIA LTD</td>\n      <td>NARE ASOCIACION</td>\n      <td>NARE</td>\n      <td>272.0</td>\n      <td>257.0</td>\n      <td>...</td>\n      <td>233.0</td>\n      <td>262.0</td>\n      <td>216.0</td>\n      <td>194.0</td>\n      <td>162.0</td>\n      <td>232.0</td>\n      <td>244.0</td>\n      <td>222.0</td>\n      <td>209.0</td>\n      <td>2017</td>\n    </tr>\n    <tr>\n      <th>2</th>\n      <td>ANTIOQUIA</td>\n      <td>PUERTO NARE</td>\n      <td>6.126539</td>\n      <td>-74.703177</td>\n      <td>POINT (-74.70317722 6.126539139)</td>\n      <td>MANSAROVAR ENERGY COLOMBIA LTD</td>\n      <td>NARE ASOCIACION</td>\n      <td>UNDERRIVER</td>\n      <td>936.0</td>\n      <td>797.0</td>\n      <td>...</td>\n      <td>900.0</td>\n      <td>994.0</td>\n      <td>802.0</td>\n      <td>765.0</td>\n      <td>815.0</td>\n      <td>888.0</td>\n      <td>846.0</td>\n      <td>720.0</td>\n      <td>833.0</td>\n      <td>2017</td>\n    </tr>\n    <tr>\n      <th>3</th>\n      <td>ANTIOQUIA</td>\n      <td>PUERTO TRIUNFO</td>\n      <td>5.954830</td>\n      <td>-74.686192</td>\n      <td>POINT (-74.6861918 5.954830151)</td>\n      <td>ECOPETROL S.A.</td>\n      <td>OPERACION-DIRECTA ECOPETROL</td>\n      <td>AREA TECA-COCORNA</td>\n      <td>393.0</td>\n      <td>386.0</td>\n      <td>...</td>\n      <td>365.0</td>\n      <td>396.0</td>\n      <td>382.0</td>\n      <td>369.0</td>\n      <td>342.0</td>\n      <td>280.0</td>\n      <td>264.0</td>\n      <td>282.0</td>\n      <td>278.0</td>\n      <td>2017</td>\n    </tr>\n    <tr>\n      <th>4</th>\n      <td>ANTIOQUIA</td>\n      <td>YONDO</td>\n      <td>6.925159</td>\n      <td>-74.158240</td>\n      <td>POINT (-74.15824041 6.925159318)</td>\n      <td>ECOPETROL S.A.</td>\n      <td>CASABE</td>\n      <td>CASABE</td>\n      <td>12745.0</td>\n      <td>12535.0</td>\n      <td>...</td>\n      <td>12720.0</td>\n      <td>12492.0</td>\n      <td>13127.0</td>\n      <td>12377.0</td>\n      <td>12084.0</td>\n      <td>11965.0</td>\n      <td>11751.0</td>\n      <td>11932.0</td>\n      <td>11634.0</td>\n      <td>2017</td>\n    </tr>\n    <tr>\n      <th>5</th>\n      <td>ANTIOQUIA</td>\n      <td>YONDO</td>\n      <td>6.925159</td>\n      <td>-74.158240</td>\n      <td>POINT (-74.15824041 6.925159318)</td>\n      <td>ECOPETROL S.A.</td>\n      <td>CASABE</td>\n      <td>CASABE SUR</td>\n      <td>2301.0</td>\n      <td>2487.0</td>\n      <td>...</td>\n      <td>2268.0</td>\n      <td>2187.0</td>\n      <td>2277.0</td>\n      <td>2323.0</td>\n      <td>2274.0</td>\n      <td>2125.0</td>\n      <td>2254.0</td>\n      <td>2194.0</td>\n      <td>2123.0</td>\n      <td>2017</td>\n    </tr>\n    <tr>\n      <th>6</th>\n      <td>ANTIOQUIA</td>\n      <td>YONDO</td>\n      <td>6.925159</td>\n      <td>-74.158240</td>\n      <td>POINT (-74.15824041 6.925159318)</td>\n      <td>ECOPETROL S.A.</td>\n      <td>CASABE</td>\n      <td>PE��AS BLANCAS</td>\n      <td>1437.0</td>\n      <td>1532.0</td>\n      <td>...</td>\n      <td>1399.0</td>\n      <td>1391.0</td>\n      <td>1193.0</td>\n      <td>1193.0</td>\n      <td>1182.0</td>\n      <td>1190.0</td>\n      <td>1204.0</td>\n      <td>1200.0</td>\n      <td>1118.0</td>\n      <td>2017</td>\n    </tr>\n    <tr>\n      <th>7</th>\n      <td>ARAUCA</td>\n      <td>ARAUCA</td>\n      <td>5.826389</td>\n      <td>-74.836376</td>\n      <td>POINT (-74.83637623 5.826388779)</td>\n      <td>OCCIDENTAL DE COLOMBIA LLC</td>\n      <td>CHIPIRON</td>\n      <td>CHIPIR��N</td>\n      <td>11376.0</td>\n      <td>13009.0</td>\n      <td>...</td>\n      <td>12833.0</td>\n      <td>11878.0</td>\n      <td>11159.0</td>\n      <td>10682.0</td>\n      <td>11371.0</td>\n      <td>11045.0</td>\n      <td>10036.0</td>\n      <td>9120.0</td>\n      <td>8406.0</td>\n      <td>2017</td>\n    </tr>\n    <tr>\n      <th>8</th>\n      <td>ARAUCA</td>\n      <td>ARAUCA</td>\n      <td>6.796281</td>\n      <td>-70.509212</td>\n      <td>POINT (-70.50921153 6.796280825)</td>\n      <td>OCCIDENTAL DE COLOMBIA LLC</td>\n      <td>CHIPIRON</td>\n      <td>GALEMBO</td>\n      <td>5.0</td>\n      <td>NaN</td>\n      <td>...</td>\n      <td>400.0</td>\n      <td>297.0</td>\n      <td>234.0</td>\n      <td>215.0</td>\n      <td>233.0</td>\n      <td>262.0</td>\n      <td>253.0</td>\n      <td>38.0</td>\n      <td>226.0</td>\n      <td>2017</td>\n    </tr>\n    <tr>\n      <th>9</th>\n      <td>ARAUCA</td>\n      <td>ARAUCA</td>\n      <td>6.796281</td>\n      <td>-70.509212</td>\n      <td>POINT (-70.50921153 6.796280825)</td>\n      <td>OCCIDENTAL DE COLOMBIA LLC</td>\n      <td>CHIPIRON</td>\n      <td>MACANA</td>\n      <td>111.0</td>\n      <td>524.0</td>\n      <td>...</td>\n      <td>440.0</td>\n      <td>505.0</td>\n      <td>519.0</td>\n      <td>422.0</td>\n      <td>455.0</td>\n      <td>397.0</td>\n      <td>350.0</td>\n      <td>454.0</td>\n      <td>407.0</td>\n      <td>2017</td>\n    </tr>\n  </tbody>\n</table>\n<p>10 rows × 21 columns</p>\n</div>"
     },
     "metadata": {}
    }
   ]
  },
  {
   "cell_type": "code",
   "metadata": {
    "cell_id": "3956b859b8e847bc848a9486242188e8",
    "tags": [],
    "deepnote_to_be_reexecuted": false,
    "source_hash": "ae2790f0",
    "execution_start": 1661373885910,
    "execution_millis": 31,
    "deepnote_cell_type": "code",
    "deepnote_cell_height": 652.25
   },
   "source": "df_produccion_petroleo_2017.info()",
   "execution_count": 16,
   "outputs": [
    {
     "name": "stdout",
     "text": "<class 'pandas.core.frame.DataFrame'>\nRangeIndex: 467 entries, 0 to 466\nData columns (total 21 columns):\n #   Column           Non-Null Count  Dtype  \n---  ------           --------------  -----  \n 0   Departamento     467 non-null    object \n 1   Municipio        467 non-null    object \n 2   Latitud          467 non-null    float64\n 3   Longitud         467 non-null    float64\n 4   Geolocalizacion  467 non-null    object \n 5   Operadora        467 non-null    object \n 6   Contrato         467 non-null    object \n 7   Campo            467 non-null    object \n 8   Enero            356 non-null    float32\n 9   Febrero          369 non-null    float32\n 10  Marzo            372 non-null    float32\n 11  Abril            379 non-null    float32\n 12  Mayo             379 non-null    float32\n 13  Junio            373 non-null    float32\n 14  Julio            376 non-null    float32\n 15  Agosto           381 non-null    float32\n 16  Septiembre       376 non-null    float32\n 17  Octubre          379 non-null    float32\n 18  Noviembre        375 non-null    float32\n 19  Diciembre        380 non-null    float32\n 20  Año              467 non-null    int64  \ndtypes: float32(12), float64(2), int64(1), object(6)\nmemory usage: 54.9+ KB\n",
     "output_type": "stream"
    }
   ]
  },
  {
   "cell_type": "markdown",
   "source": "## Concatenación de los datasets.",
   "metadata": {
    "is_collapsed": false,
    "cell_id": "9e1d9680-f17b-4ac4-8ab9-940ea1ac8978",
    "tags": [],
    "formattedRanges": [],
    "deepnote_cell_type": "text-cell-h2"
   }
  },
  {
   "cell_type": "code",
   "metadata": {
    "cell_id": "51dc9fe222b5424e85e24beb7c282c5f",
    "tags": [],
    "deepnote_to_be_reexecuted": false,
    "source_hash": "ece12402",
    "execution_start": 1661373885943,
    "execution_millis": 7,
    "deepnote_cell_type": "code",
    "deepnote_cell_height": 99
   },
   "source": "df_produccion_petroleo_2017_2021 = pd.concat([df_produccion_petroleo_2017,df_produccion_petroleo_2018,df_produccion_petroleo_2019,df_produccion_petroleo_2020,df_produccion_petroleo_2021], ignore_index= True)\n",
   "execution_count": 17,
   "outputs": []
  },
  {
   "cell_type": "code",
   "metadata": {
    "cell_id": "61f4c398986747d29aebc3f241d83e1e",
    "tags": [],
    "deepnote_to_be_reexecuted": false,
    "source_hash": "de52108",
    "execution_start": 1661373885959,
    "execution_millis": 139,
    "deepnote_table_state": {
     "pageSize": 10,
     "pageIndex": 0,
     "filters": [],
     "sortBy": []
    },
    "deepnote_table_loading": false,
    "deepnote_cell_type": "code",
    "deepnote_cell_height": 612
   },
   "source": "df_produccion_petroleo_2017_2021",
   "execution_count": 18,
   "outputs": [
    {
     "output_type": "execute_result",
     "execution_count": 18,
     "data": {
      "application/vnd.deepnote.dataframe.v3+json": {
       "column_count": 21,
       "row_count": 2226,
       "columns": [
        {
         "name": "Departamento",
         "dtype": "object",
         "stats": {
          "unique_count": 21,
          "nan_count": 0,
          "categories": [
           {
            "name": "CASANARE",
            "count": 846
           },
           {
            "name": "META",
            "count": 378
           },
           {
            "name": "19 others",
            "count": 1002
           }
          ]
         }
        },
        {
         "name": "Municipio",
         "dtype": "object",
         "stats": {
          "unique_count": 106,
          "nan_count": 0,
          "categories": [
           {
            "name": "OROCUE",
            "count": 202
           },
           {
            "name": "PUERTO GAITAN",
            "count": 141
           },
           {
            "name": "104 others",
            "count": 1883
           }
          ]
         }
        },
        {
         "name": "Latitud",
         "dtype": "float64",
         "stats": {
          "unique_count": 99,
          "nan_count": 0,
          "min": "0.272449048",
          "max": "10.79894015",
          "histogram": [
           {
            "bin_start": 0.272449048,
            "bin_end": 1.3250981581999999,
            "count": 160
           },
           {
            "bin_start": 1.3250981581999999,
            "bin_end": 2.3777472684,
            "count": 8
           },
           {
            "bin_start": 2.3777472684,
            "bin_end": 3.4303963786,
            "count": 133
           },
           {
            "bin_start": 3.4303963786,
            "bin_end": 4.4830454888,
            "count": 453
           },
           {
            "bin_start": 4.4830454888,
            "bin_end": 5.535694599,
            "count": 761
           },
           {
            "bin_start": 5.535694599,
            "bin_end": 6.5883437092,
            "count": 240
           },
           {
            "bin_start": 6.5883437092,
            "bin_end": 7.6409928194,
            "count": 268
           },
           {
            "bin_start": 7.6409928194,
            "bin_end": 8.6936419296,
            "count": 120
           },
           {
            "bin_start": 8.6936419296,
            "bin_end": 9.746291039800001,
            "count": 67
           },
           {
            "bin_start": 9.746291039800001,
            "bin_end": 10.79894015,
            "count": 16
           }
          ]
         }
        },
        {
         "name": "Longitud",
         "dtype": "float64",
         "stats": {
          "unique_count": 99,
          "nan_count": 0,
          "min": "-77.24047625",
          "max": "-70.50921153",
          "histogram": [
           {
            "bin_start": -77.24047625,
            "bin_end": -76.567349778,
            "count": 104
           },
           {
            "bin_start": -76.567349778,
            "bin_end": -75.894223306,
            "count": 54
           },
           {
            "bin_start": -75.894223306,
            "bin_end": -75.22109683400001,
            "count": 164
           },
           {
            "bin_start": -75.22109683400001,
            "bin_end": -74.547970362,
            "count": 171
           },
           {
            "bin_start": -74.547970362,
            "bin_end": -73.87484389,
            "count": 134
           },
           {
            "bin_start": -73.87484389,
            "bin_end": -73.201717418,
            "count": 346
           },
           {
            "bin_start": -73.201717418,
            "bin_end": -72.52859094600001,
            "count": 314
           },
           {
            "bin_start": -72.52859094600001,
            "bin_end": -71.855464474,
            "count": 178
           },
           {
            "bin_start": -71.855464474,
            "bin_end": -71.182338002,
            "count": 628
           },
           {
            "bin_start": -71.182338002,
            "bin_end": -70.50921153,
            "count": 133
           }
          ]
         }
        },
        {
         "name": "Geolocalizacion",
         "dtype": "object",
         "stats": {
          "unique_count": 99,
          "nan_count": 0,
          "categories": [
           {
            "name": "POINT (-71.59873966 4.915139133)",
            "count": 201
           },
           {
            "name": "POINT (-71.63157429 4.005034467)",
            "count": 143
           },
           {
            "name": "97 others",
            "count": 1882
           }
          ]
         }
        },
        {
         "name": "Operadora",
         "dtype": "object",
         "stats": {
          "unique_count": 74,
          "nan_count": 0,
          "categories": [
           {
            "name": "ECOPETROL S.A.",
            "count": 562
           },
           {
            "name": "Frontera Energy Colombia Corp Sucursal Colombia",
            "count": 244
           },
           {
            "name": "72 others",
            "count": 1420
           }
          ]
         }
        },
        {
         "name": "Contrato",
         "dtype": "object",
         "stats": {
          "unique_count": 606,
          "nan_count": 0,
          "categories": [
           {
            "name": "CARACARA",
            "count": 48
           },
           {
            "name": "CASANARE",
            "count": 47
           },
           {
            "name": "604 others",
            "count": 2131
           }
          ]
         }
        },
        {
         "name": "Campo",
         "dtype": "object",
         "stats": {
          "unique_count": 597,
          "nan_count": 0,
          "categories": [
           {
            "name": "CHIPIR��N",
            "count": 16
           },
           {
            "name": "APIAY",
            "count": 16
           },
           {
            "name": "595 others",
            "count": 2194
           }
          ]
         }
        },
        {
         "name": "Enero",
         "dtype": "float64",
         "stats": {
          "unique_count": 1548,
          "nan_count": 111,
          "min": "0.0",
          "max": "122499.45",
          "histogram": [
           {
            "bin_start": 0,
            "bin_end": 12249.945,
            "count": 2047
           },
           {
            "bin_start": 12249.945,
            "bin_end": 24499.89,
            "count": 32
           },
           {
            "bin_start": 24499.89,
            "bin_end": 36749.835,
            "count": 13
           },
           {
            "bin_start": 36749.835,
            "bin_end": 48999.78,
            "count": 9
           },
           {
            "bin_start": 48999.78,
            "bin_end": 61249.725,
            "count": 5
           },
           {
            "bin_start": 61249.725,
            "bin_end": 73499.67,
            "count": 3
           },
           {
            "bin_start": 73499.67,
            "bin_end": 85749.61499999999,
            "count": 1
           },
           {
            "bin_start": 85749.61499999999,
            "bin_end": 97999.56,
            "count": 0
           },
           {
            "bin_start": 97999.56,
            "bin_end": 110249.505,
            "count": 1
           },
           {
            "bin_start": 110249.505,
            "bin_end": 122499.45,
            "count": 4
           }
          ]
         }
        },
        {
         "name": "Febrero",
         "dtype": "float64",
         "stats": {
          "unique_count": 1545,
          "nan_count": 98,
          "min": "0.0",
          "max": "121803.04",
          "histogram": [
           {
            "bin_start": 0,
            "bin_end": 12180.304,
            "count": 2059
           },
           {
            "bin_start": 12180.304,
            "bin_end": 24360.608,
            "count": 33
           },
           {
            "bin_start": 24360.608,
            "bin_end": 36540.912,
            "count": 14
           },
           {
            "bin_start": 36540.912,
            "bin_end": 48721.216,
            "count": 9
           },
           {
            "bin_start": 48721.216,
            "bin_end": 60901.520000000004,
            "count": 4
           },
           {
            "bin_start": 60901.520000000004,
            "bin_end": 73081.824,
            "count": 3
           },
           {
            "bin_start": 73081.824,
            "bin_end": 85262.128,
            "count": 1
           },
           {
            "bin_start": 85262.128,
            "bin_end": 97442.432,
            "count": 0
           },
           {
            "bin_start": 97442.432,
            "bin_end": 109622.736,
            "count": 1
           },
           {
            "bin_start": 109622.736,
            "bin_end": 121803.04,
            "count": 4
           }
          ]
         }
        },
        {
         "name": "Marzo",
         "dtype": "float64",
         "stats": {
          "unique_count": 1530,
          "nan_count": 95,
          "min": "0.0",
          "max": "117572.0",
          "histogram": [
           {
            "bin_start": 0,
            "bin_end": 11757.2,
            "count": 2059
           },
           {
            "bin_start": 11757.2,
            "bin_end": 23514.4,
            "count": 34
           },
           {
            "bin_start": 23514.4,
            "bin_end": 35271.600000000006,
            "count": 14
           },
           {
            "bin_start": 35271.600000000006,
            "bin_end": 47028.8,
            "count": 9
           },
           {
            "bin_start": 47028.8,
            "bin_end": 58786,
            "count": 6
           },
           {
            "bin_start": 58786,
            "bin_end": 70543.20000000001,
            "count": 2
           },
           {
            "bin_start": 70543.20000000001,
            "bin_end": 82300.40000000001,
            "count": 2
           },
           {
            "bin_start": 82300.40000000001,
            "bin_end": 94057.6,
            "count": 0
           },
           {
            "bin_start": 94057.6,
            "bin_end": 105814.8,
            "count": 2
           },
           {
            "bin_start": 105814.8,
            "bin_end": 117572,
            "count": 3
           }
          ]
         }
        },
        {
         "name": "Abril",
         "dtype": "float64",
         "stats": {
          "unique_count": 1490,
          "nan_count": 88,
          "min": "0.0",
          "max": "121200.72",
          "histogram": [
           {
            "bin_start": 0,
            "bin_end": 12120.072,
            "count": 2069
           },
           {
            "bin_start": 12120.072,
            "bin_end": 24240.144,
            "count": 35
           },
           {
            "bin_start": 24240.144,
            "bin_end": 36360.216,
            "count": 11
           },
           {
            "bin_start": 36360.216,
            "bin_end": 48480.288,
            "count": 11
           },
           {
            "bin_start": 48480.288,
            "bin_end": 60600.36,
            "count": 3
           },
           {
            "bin_start": 60600.36,
            "bin_end": 72720.432,
            "count": 3
           },
           {
            "bin_start": 72720.432,
            "bin_end": 84840.504,
            "count": 1
           },
           {
            "bin_start": 84840.504,
            "bin_end": 96960.576,
            "count": 0
           },
           {
            "bin_start": 96960.576,
            "bin_end": 109080.648,
            "count": 2
           },
           {
            "bin_start": 109080.648,
            "bin_end": 121200.72,
            "count": 3
           }
          ]
         }
        },
        {
         "name": "Mayo",
         "dtype": "float64",
         "stats": {
          "unique_count": 1436,
          "nan_count": 88,
          "min": "0.0",
          "max": "120572.42",
          "histogram": [
           {
            "bin_start": 0,
            "bin_end": 12057.242,
            "count": 2071
           },
           {
            "bin_start": 12057.242,
            "bin_end": 24114.484,
            "count": 34
           },
           {
            "bin_start": 24114.484,
            "bin_end": 36171.726,
            "count": 11
           },
           {
            "bin_start": 36171.726,
            "bin_end": 48228.968,
            "count": 9
           },
           {
            "bin_start": 48228.968,
            "bin_end": 60286.21,
            "count": 4
           },
           {
            "bin_start": 60286.21,
            "bin_end": 72343.452,
            "count": 2
           },
           {
            "bin_start": 72343.452,
            "bin_end": 84400.694,
            "count": 2
           },
           {
            "bin_start": 84400.694,
            "bin_end": 96457.936,
            "count": 0
           },
           {
            "bin_start": 96457.936,
            "bin_end": 108515.178,
            "count": 2
           },
           {
            "bin_start": 108515.178,
            "bin_end": 120572.42,
            "count": 3
           }
          ]
         }
        },
        {
         "name": "Junio",
         "dtype": "float64",
         "stats": {
          "unique_count": 1433,
          "nan_count": 94,
          "min": "0.0",
          "max": "121107.0",
          "histogram": [
           {
            "bin_start": 0,
            "bin_end": 12110.7,
            "count": 2065
           },
           {
            "bin_start": 12110.7,
            "bin_end": 24221.4,
            "count": 34
           },
           {
            "bin_start": 24221.4,
            "bin_end": 36332.100000000006,
            "count": 11
           },
           {
            "bin_start": 36332.100000000006,
            "bin_end": 48442.8,
            "count": 9
           },
           {
            "bin_start": 48442.8,
            "bin_end": 60553.5,
            "count": 4
           },
           {
            "bin_start": 60553.5,
            "bin_end": 72664.20000000001,
            "count": 4
           },
           {
            "bin_start": 72664.20000000001,
            "bin_end": 84774.90000000001,
            "count": 0
           },
           {
            "bin_start": 84774.90000000001,
            "bin_end": 96885.6,
            "count": 1
           },
           {
            "bin_start": 96885.6,
            "bin_end": 108996.3,
            "count": 1
           },
           {
            "bin_start": 108996.3,
            "bin_end": 121107,
            "count": 3
           }
          ]
         }
        },
        {
         "name": "Julio",
         "dtype": "float64",
         "stats": {
          "unique_count": 1454,
          "nan_count": 91,
          "min": "0.0",
          "max": "122102.0",
          "histogram": [
           {
            "bin_start": 0,
            "bin_end": 12210.2,
            "count": 2069
           },
           {
            "bin_start": 12210.2,
            "bin_end": 24420.4,
            "count": 31
           },
           {
            "bin_start": 24420.4,
            "bin_end": 36630.600000000006,
            "count": 12
           },
           {
            "bin_start": 36630.600000000006,
            "bin_end": 48840.8,
            "count": 11
           },
           {
            "bin_start": 48840.8,
            "bin_end": 61051,
            "count": 3
           },
           {
            "bin_start": 61051,
            "bin_end": 73261.20000000001,
            "count": 2
           },
           {
            "bin_start": 73261.20000000001,
            "bin_end": 85471.40000000001,
            "count": 2
           },
           {
            "bin_start": 85471.40000000001,
            "bin_end": 97681.6,
            "count": 0
           },
           {
            "bin_start": 97681.6,
            "bin_end": 109891.8,
            "count": 2
           },
           {
            "bin_start": 109891.8,
            "bin_end": 122102,
            "count": 3
           }
          ]
         }
        },
        {
         "name": "Agosto",
         "dtype": "float64",
         "stats": {
          "unique_count": 1466,
          "nan_count": 86,
          "min": "0.0",
          "max": "123536.0",
          "histogram": [
           {
            "bin_start": 0,
            "bin_end": 12353.6,
            "count": 2075
           },
           {
            "bin_start": 12353.6,
            "bin_end": 24707.2,
            "count": 29
           },
           {
            "bin_start": 24707.2,
            "bin_end": 37060.8,
            "count": 13
           },
           {
            "bin_start": 37060.8,
            "bin_end": 49414.4,
            "count": 11
           },
           {
            "bin_start": 49414.4,
            "bin_end": 61768,
            "count": 3
           },
           {
            "bin_start": 61768,
            "bin_end": 74121.6,
            "count": 4
           },
           {
            "bin_start": 74121.6,
            "bin_end": 86475.2,
            "count": 0
           },
           {
            "bin_start": 86475.2,
            "bin_end": 98828.8,
            "count": 0
           },
           {
            "bin_start": 98828.8,
            "bin_end": 111182.40000000001,
            "count": 2
           },
           {
            "bin_start": 111182.40000000001,
            "bin_end": 123536,
            "count": 3
           }
          ]
         }
        },
        {
         "name": "Septiembre",
         "dtype": "float64",
         "stats": {
          "unique_count": 1307,
          "nan_count": 480,
          "min": "0.0",
          "max": "121785.0",
          "histogram": [
           {
            "bin_start": 0,
            "bin_end": 12178.5,
            "count": 1693
           },
           {
            "bin_start": 12178.5,
            "bin_end": 24357,
            "count": 23
           },
           {
            "bin_start": 24357,
            "bin_end": 36535.5,
            "count": 11
           },
           {
            "bin_start": 36535.5,
            "bin_end": 48714,
            "count": 8
           },
           {
            "bin_start": 48714,
            "bin_end": 60892.5,
            "count": 3
           },
           {
            "bin_start": 60892.5,
            "bin_end": 73071,
            "count": 4
           },
           {
            "bin_start": 73071,
            "bin_end": 85249.5,
            "count": 0
           },
           {
            "bin_start": 85249.5,
            "bin_end": 97428,
            "count": 0
           },
           {
            "bin_start": 97428,
            "bin_end": 109606.5,
            "count": 1
           },
           {
            "bin_start": 109606.5,
            "bin_end": 121785,
            "count": 3
           }
          ]
         }
        },
        {
         "name": "Octubre",
         "dtype": "float64",
         "stats": {
          "unique_count": 1298,
          "nan_count": 477,
          "min": "0.0",
          "max": "123125.0",
          "histogram": [
           {
            "bin_start": 0,
            "bin_end": 12312.5,
            "count": 1696
           },
           {
            "bin_start": 12312.5,
            "bin_end": 24625,
            "count": 24
           },
           {
            "bin_start": 24625,
            "bin_end": 36937.5,
            "count": 10
           },
           {
            "bin_start": 36937.5,
            "bin_end": 49250,
            "count": 6
           },
           {
            "bin_start": 49250,
            "bin_end": 61562.5,
            "count": 5
           },
           {
            "bin_start": 61562.5,
            "bin_end": 73875,
            "count": 4
           },
           {
            "bin_start": 73875,
            "bin_end": 86187.5,
            "count": 0
           },
           {
            "bin_start": 86187.5,
            "bin_end": 98500,
            "count": 0
           },
           {
            "bin_start": 98500,
            "bin_end": 110812.5,
            "count": 1
           },
           {
            "bin_start": 110812.5,
            "bin_end": 123125,
            "count": 3
           }
          ]
         }
        },
        {
         "name": "Noviembre",
         "dtype": "float64",
         "stats": {
          "unique_count": 1303,
          "nan_count": 481,
          "min": "0.0",
          "max": "121541.0",
          "histogram": [
           {
            "bin_start": 0,
            "bin_end": 12154.1,
            "count": 1691
           },
           {
            "bin_start": 12154.1,
            "bin_end": 24308.2,
            "count": 25
           },
           {
            "bin_start": 24308.2,
            "bin_end": 36462.3,
            "count": 9
           },
           {
            "bin_start": 36462.3,
            "bin_end": 48616.4,
            "count": 9
           },
           {
            "bin_start": 48616.4,
            "bin_end": 60770.5,
            "count": 3
           },
           {
            "bin_start": 60770.5,
            "bin_end": 72924.6,
            "count": 4
           },
           {
            "bin_start": 72924.6,
            "bin_end": 85078.7,
            "count": 0
           },
           {
            "bin_start": 85078.7,
            "bin_end": 97232.8,
            "count": 0
           },
           {
            "bin_start": 97232.8,
            "bin_end": 109386.90000000001,
            "count": 1
           },
           {
            "bin_start": 109386.90000000001,
            "bin_end": 121541,
            "count": 3
           }
          ]
         }
        },
        {
         "name": "Diciembre",
         "dtype": "float64",
         "stats": {
          "unique_count": 1305,
          "nan_count": 476,
          "min": "0.0",
          "max": "122560.0",
          "histogram": [
           {
            "bin_start": 0,
            "bin_end": 12256,
            "count": 1695
           },
           {
            "bin_start": 12256,
            "bin_end": 24512,
            "count": 26
           },
           {
            "bin_start": 24512,
            "bin_end": 36768,
            "count": 10
           },
           {
            "bin_start": 36768,
            "bin_end": 49024,
            "count": 9
           },
           {
            "bin_start": 49024,
            "bin_end": 61280,
            "count": 3
           },
           {
            "bin_start": 61280,
            "bin_end": 73536,
            "count": 3
           },
           {
            "bin_start": 73536,
            "bin_end": 85792,
            "count": 0
           },
           {
            "bin_start": 85792,
            "bin_end": 98048,
            "count": 0
           },
           {
            "bin_start": 98048,
            "bin_end": 110304,
            "count": 1
           },
           {
            "bin_start": 110304,
            "bin_end": 122560,
            "count": 3
           }
          ]
         }
        },
        {
         "name": "Año",
         "dtype": "int64",
         "stats": {
          "unique_count": 5,
          "nan_count": 0,
          "min": "2017",
          "max": "2021",
          "histogram": [
           {
            "bin_start": 2017,
            "bin_end": 2017.4,
            "count": 467
           },
           {
            "bin_start": 2017.4,
            "bin_end": 2017.8,
            "count": 0
           },
           {
            "bin_start": 2017.8,
            "bin_end": 2018.2,
            "count": 469
           },
           {
            "bin_start": 2018.2,
            "bin_end": 2018.6,
            "count": 0
           },
           {
            "bin_start": 2018.6,
            "bin_end": 2019,
            "count": 0
           },
           {
            "bin_start": 2019,
            "bin_end": 2019.4,
            "count": 456
           },
           {
            "bin_start": 2019.4,
            "bin_end": 2019.8,
            "count": 0
           },
           {
            "bin_start": 2019.8,
            "bin_end": 2020.2,
            "count": 445
           },
           {
            "bin_start": 2020.2,
            "bin_end": 2020.6,
            "count": 0
           },
           {
            "bin_start": 2020.6,
            "bin_end": 2021,
            "count": 389
           }
          ]
         }
        },
        {
         "name": "_deepnote_index_column",
         "dtype": "int64"
        }
       ],
       "rows": [
        {
         "Departamento": "ANTIOQUIA",
         "Municipio": "PUERTO NARE",
         "Latitud": 6.126539139,
         "Longitud": -74.70317722,
         "Geolocalizacion": "POINT (-74.70317722 6.126539139)",
         "Operadora": "ECOPETROL S.A.",
         "Contrato": "OPERACION-DIRECTA ECOPETROL",
         "Campo": "AREA TECA-COCORNA",
         "Enero": 1231,
         "Febrero": 1109,
         "Marzo": 1026,
         "Abril": 1036,
         "Mayo": 1047,
         "Junio": 1122,
         "Julio": 1133,
         "Agosto": 1164,
         "Septiembre": 1130,
         "Octubre": 1078,
         "Noviembre": 1156,
         "Diciembre": 1099,
         "Año": 2017,
         "_deepnote_index_column": 0
        },
        {
         "Departamento": "ANTIOQUIA",
         "Municipio": "PUERTO NARE",
         "Latitud": 6.126539139,
         "Longitud": -74.70317722,
         "Geolocalizacion": "POINT (-74.70317722 6.126539139)",
         "Operadora": "MANSAROVAR ENERGY COLOMBIA LTD",
         "Contrato": "NARE ASOCIACION",
         "Campo": "NARE",
         "Enero": 272,
         "Febrero": 257,
         "Marzo": 253,
         "Abril": 233,
         "Mayo": 262,
         "Junio": 216,
         "Julio": 194,
         "Agosto": 162,
         "Septiembre": 232,
         "Octubre": 244,
         "Noviembre": 222,
         "Diciembre": 209,
         "Año": 2017,
         "_deepnote_index_column": 1
        },
        {
         "Departamento": "ANTIOQUIA",
         "Municipio": "PUERTO NARE",
         "Latitud": 6.126539139,
         "Longitud": -74.70317722,
         "Geolocalizacion": "POINT (-74.70317722 6.126539139)",
         "Operadora": "MANSAROVAR ENERGY COLOMBIA LTD",
         "Contrato": "NARE ASOCIACION",
         "Campo": "UNDERRIVER",
         "Enero": 936,
         "Febrero": 797,
         "Marzo": 880,
         "Abril": 900,
         "Mayo": 994,
         "Junio": 802,
         "Julio": 765,
         "Agosto": 815,
         "Septiembre": 888,
         "Octubre": 846,
         "Noviembre": 720,
         "Diciembre": 833,
         "Año": 2017,
         "_deepnote_index_column": 2
        },
        {
         "Departamento": "ANTIOQUIA",
         "Municipio": "PUERTO TRIUNFO",
         "Latitud": 5.954830151,
         "Longitud": -74.6861918,
         "Geolocalizacion": "POINT (-74.6861918 5.954830151)",
         "Operadora": "ECOPETROL S.A.",
         "Contrato": "OPERACION-DIRECTA ECOPETROL",
         "Campo": "AREA TECA-COCORNA",
         "Enero": 393,
         "Febrero": 386,
         "Marzo": 362,
         "Abril": 365,
         "Mayo": 396,
         "Junio": 382,
         "Julio": 369,
         "Agosto": 342,
         "Septiembre": 280,
         "Octubre": 264,
         "Noviembre": 282,
         "Diciembre": 278,
         "Año": 2017,
         "_deepnote_index_column": 3
        },
        {
         "Departamento": "ANTIOQUIA",
         "Municipio": "YONDO",
         "Latitud": 6.925159318,
         "Longitud": -74.15824041,
         "Geolocalizacion": "POINT (-74.15824041 6.925159318)",
         "Operadora": "ECOPETROL S.A.",
         "Contrato": "CASABE",
         "Campo": "CASABE",
         "Enero": 12745,
         "Febrero": 12535,
         "Marzo": 12756,
         "Abril": 12720,
         "Mayo": 12492,
         "Junio": 13127,
         "Julio": 12377,
         "Agosto": 12084,
         "Septiembre": 11965,
         "Octubre": 11751,
         "Noviembre": 11932,
         "Diciembre": 11634,
         "Año": 2017,
         "_deepnote_index_column": 4
        },
        {
         "Departamento": "ANTIOQUIA",
         "Municipio": "YONDO",
         "Latitud": 6.925159318,
         "Longitud": -74.15824041,
         "Geolocalizacion": "POINT (-74.15824041 6.925159318)",
         "Operadora": "ECOPETROL S.A.",
         "Contrato": "CASABE",
         "Campo": "CASABE SUR",
         "Enero": 2301,
         "Febrero": 2487,
         "Marzo": 2393,
         "Abril": 2268,
         "Mayo": 2187,
         "Junio": 2277,
         "Julio": 2323,
         "Agosto": 2274,
         "Septiembre": 2125,
         "Octubre": 2254,
         "Noviembre": 2194,
         "Diciembre": 2123,
         "Año": 2017,
         "_deepnote_index_column": 5
        },
        {
         "Departamento": "ANTIOQUIA",
         "Municipio": "YONDO",
         "Latitud": 6.925159318,
         "Longitud": -74.15824041,
         "Geolocalizacion": "POINT (-74.15824041 6.925159318)",
         "Operadora": "ECOPETROL S.A.",
         "Contrato": "CASABE",
         "Campo": "PE��AS BLANCAS",
         "Enero": 1437,
         "Febrero": 1532,
         "Marzo": 1420,
         "Abril": 1399,
         "Mayo": 1391,
         "Junio": 1193,
         "Julio": 1193,
         "Agosto": 1182,
         "Septiembre": 1190,
         "Octubre": 1204,
         "Noviembre": 1200,
         "Diciembre": 1118,
         "Año": 2017,
         "_deepnote_index_column": 6
        },
        {
         "Departamento": "ARAUCA",
         "Municipio": "ARAUCA",
         "Latitud": 5.826388779,
         "Longitud": -74.83637623,
         "Geolocalizacion": "POINT (-74.83637623 5.826388779)",
         "Operadora": "OCCIDENTAL DE COLOMBIA LLC",
         "Contrato": "CHIPIRON",
         "Campo": "CHIPIR��N",
         "Enero": 11376,
         "Febrero": 13009,
         "Marzo": 3673,
         "Abril": 12833,
         "Mayo": 11878,
         "Junio": 11159,
         "Julio": 10682,
         "Agosto": 11371,
         "Septiembre": 11045,
         "Octubre": 10036,
         "Noviembre": 9120,
         "Diciembre": 8406,
         "Año": 2017,
         "_deepnote_index_column": 7
        },
        {
         "Departamento": "ARAUCA",
         "Municipio": "ARAUCA",
         "Latitud": 6.796280825,
         "Longitud": -70.50921153,
         "Geolocalizacion": "POINT (-70.50921153 6.796280825)",
         "Operadora": "OCCIDENTAL DE COLOMBIA LLC",
         "Contrato": "CHIPIRON",
         "Campo": "GALEMBO",
         "Enero": 5,
         "Febrero": "nan",
         "Marzo": 54,
         "Abril": 400,
         "Mayo": 297,
         "Junio": 234,
         "Julio": 215,
         "Agosto": 233,
         "Septiembre": 262,
         "Octubre": 253,
         "Noviembre": 38,
         "Diciembre": 226,
         "Año": 2017,
         "_deepnote_index_column": 8
        },
        {
         "Departamento": "ARAUCA",
         "Municipio": "ARAUCA",
         "Latitud": 6.796280825,
         "Longitud": -70.50921153,
         "Geolocalizacion": "POINT (-70.50921153 6.796280825)",
         "Operadora": "OCCIDENTAL DE COLOMBIA LLC",
         "Contrato": "CHIPIRON",
         "Campo": "MACANA",
         "Enero": 111,
         "Febrero": 524,
         "Marzo": 209,
         "Abril": 440,
         "Mayo": 505,
         "Junio": 519,
         "Julio": 422,
         "Agosto": 455,
         "Septiembre": 397,
         "Octubre": 350,
         "Noviembre": 454,
         "Diciembre": 407,
         "Año": 2017,
         "_deepnote_index_column": 9
        }
       ]
      },
      "text/plain": "     Departamento       Municipio   Latitud   Longitud  \\\n0       ANTIOQUIA     PUERTO NARE  6.126539 -74.703177   \n1       ANTIOQUIA     PUERTO NARE  6.126539 -74.703177   \n2       ANTIOQUIA     PUERTO NARE  6.126539 -74.703177   \n3       ANTIOQUIA  PUERTO TRIUNFO  5.954830 -74.686192   \n4       ANTIOQUIA           YONDO  6.925159 -74.158240   \n...           ...             ...       ...        ...   \n2221       TOLIMA   PURIFICACI��N  3.854282 -74.874512   \n2222       TOLIMA   PURIFICACI��N  3.854282 -74.874512   \n2223       TOLIMA   PURIFICACI��N  3.854282 -74.874512   \n2224       TOLIMA   PURIFICACI��N  3.854282 -74.874512   \n2225       TOLIMA        SAN LUIS  4.057272 -75.163208   \n\n                       Geolocalizacion                       Operadora  \\\n0     POINT (-74.70317722 6.126539139)                  ECOPETROL S.A.   \n1     POINT (-74.70317722 6.126539139)  MANSAROVAR ENERGY COLOMBIA LTD   \n2     POINT (-74.70317722 6.126539139)  MANSAROVAR ENERGY COLOMBIA LTD   \n3      POINT (-74.6861918 5.954830151)                  ECOPETROL S.A.   \n4     POINT (-74.15824041 6.925159318)                  ECOPETROL S.A.   \n...                                ...                             ...   \n2221  POINT (-74.87451155 3.854281614)                      HOCOL S.A.   \n2222  POINT (-74.87451155 3.854281614)                      HOCOL S.A.   \n2223  POINT (-74.87451155 3.854281614)                      HOCOL S.A.   \n2224  POINT (-74.87451155 3.854281614)                      HOCOL S.A.   \n2225  POINT (-75.16320806 4.057271684)                      HOCOL S.A.   \n\n                         Contrato              Campo    Enero  Febrero  ...  \\\n0     OPERACION-DIRECTA ECOPETROL  AREA TECA-COCORNA   1231.0   1109.0  ...   \n1                 NARE ASOCIACION               NARE    272.0    257.0  ...   \n2                 NARE ASOCIACION         UNDERRIVER    936.0    797.0  ...   \n3     OPERACION-DIRECTA ECOPETROL  AREA TECA-COCORNA    393.0    386.0  ...   \n4                          CASABE             CASABE  12745.0  12535.0  ...   \n...                           ...                ...      ...      ...  ...   \n2221                      CHENCHE            CHENCHE     46.0     45.0  ...   \n2222               MATACH̍N NORTE            ESPINAL   1189.0   1108.0  ...   \n2223                 MATACH̍N SUR            ESPINAL     99.0     96.0  ...   \n2224                PURIFICACI��N            ESPINAL      0.0      0.0  ...   \n2225                      PACANDE             ORTEGA     68.0     67.0  ...   \n\n        Abril     Mayo    Junio    Julio   Agosto  Septiembre  Octubre  \\\n0      1036.0   1047.0   1122.0   1133.0   1164.0      1130.0   1078.0   \n1       233.0    262.0    216.0    194.0    162.0       232.0    244.0   \n2       900.0    994.0    802.0    765.0    815.0       888.0    846.0   \n3       365.0    396.0    382.0    369.0    342.0       280.0    264.0   \n4     12720.0  12492.0  13127.0  12377.0  12084.0     11965.0  11751.0   \n...       ...      ...      ...      ...      ...         ...      ...   \n2221     48.0     46.0     45.0     43.0     17.0         NaN      NaN   \n2222   1172.0   1159.0   1173.0   1121.0   1125.0         NaN      NaN   \n2223     69.0     67.0     55.0     46.0     41.0         NaN      NaN   \n2224      0.0      0.0      0.0      0.0     20.0         NaN      NaN   \n2225     67.0     64.0     21.0     46.0      0.0         NaN      NaN   \n\n      Noviembre  Diciembre   Año  \n0        1156.0     1099.0  2017  \n1         222.0      209.0  2017  \n2         720.0      833.0  2017  \n3         282.0      278.0  2017  \n4       11932.0    11634.0  2017  \n...         ...        ...   ...  \n2221        NaN        NaN  2021  \n2222        NaN        NaN  2021  \n2223        NaN        NaN  2021  \n2224        NaN        NaN  2021  \n2225        NaN        NaN  2021  \n\n[2226 rows x 21 columns]",
      "text/html": "<div>\n<style scoped>\n    .dataframe tbody tr th:only-of-type {\n        vertical-align: middle;\n    }\n\n    .dataframe tbody tr th {\n        vertical-align: top;\n    }\n\n    .dataframe thead th {\n        text-align: right;\n    }\n</style>\n<table border=\"1\" class=\"dataframe\">\n  <thead>\n    <tr style=\"text-align: right;\">\n      <th></th>\n      <th>Departamento</th>\n      <th>Municipio</th>\n      <th>Latitud</th>\n      <th>Longitud</th>\n      <th>Geolocalizacion</th>\n      <th>Operadora</th>\n      <th>Contrato</th>\n      <th>Campo</th>\n      <th>Enero</th>\n      <th>Febrero</th>\n      <th>...</th>\n      <th>Abril</th>\n      <th>Mayo</th>\n      <th>Junio</th>\n      <th>Julio</th>\n      <th>Agosto</th>\n      <th>Septiembre</th>\n      <th>Octubre</th>\n      <th>Noviembre</th>\n      <th>Diciembre</th>\n      <th>Año</th>\n    </tr>\n  </thead>\n  <tbody>\n    <tr>\n      <th>0</th>\n      <td>ANTIOQUIA</td>\n      <td>PUERTO NARE</td>\n      <td>6.126539</td>\n      <td>-74.703177</td>\n      <td>POINT (-74.70317722 6.126539139)</td>\n      <td>ECOPETROL S.A.</td>\n      <td>OPERACION-DIRECTA ECOPETROL</td>\n      <td>AREA TECA-COCORNA</td>\n      <td>1231.0</td>\n      <td>1109.0</td>\n      <td>...</td>\n      <td>1036.0</td>\n      <td>1047.0</td>\n      <td>1122.0</td>\n      <td>1133.0</td>\n      <td>1164.0</td>\n      <td>1130.0</td>\n      <td>1078.0</td>\n      <td>1156.0</td>\n      <td>1099.0</td>\n      <td>2017</td>\n    </tr>\n    <tr>\n      <th>1</th>\n      <td>ANTIOQUIA</td>\n      <td>PUERTO NARE</td>\n      <td>6.126539</td>\n      <td>-74.703177</td>\n      <td>POINT (-74.70317722 6.126539139)</td>\n      <td>MANSAROVAR ENERGY COLOMBIA LTD</td>\n      <td>NARE ASOCIACION</td>\n      <td>NARE</td>\n      <td>272.0</td>\n      <td>257.0</td>\n      <td>...</td>\n      <td>233.0</td>\n      <td>262.0</td>\n      <td>216.0</td>\n      <td>194.0</td>\n      <td>162.0</td>\n      <td>232.0</td>\n      <td>244.0</td>\n      <td>222.0</td>\n      <td>209.0</td>\n      <td>2017</td>\n    </tr>\n    <tr>\n      <th>2</th>\n      <td>ANTIOQUIA</td>\n      <td>PUERTO NARE</td>\n      <td>6.126539</td>\n      <td>-74.703177</td>\n      <td>POINT (-74.70317722 6.126539139)</td>\n      <td>MANSAROVAR ENERGY COLOMBIA LTD</td>\n      <td>NARE ASOCIACION</td>\n      <td>UNDERRIVER</td>\n      <td>936.0</td>\n      <td>797.0</td>\n      <td>...</td>\n      <td>900.0</td>\n      <td>994.0</td>\n      <td>802.0</td>\n      <td>765.0</td>\n      <td>815.0</td>\n      <td>888.0</td>\n      <td>846.0</td>\n      <td>720.0</td>\n      <td>833.0</td>\n      <td>2017</td>\n    </tr>\n    <tr>\n      <th>3</th>\n      <td>ANTIOQUIA</td>\n      <td>PUERTO TRIUNFO</td>\n      <td>5.954830</td>\n      <td>-74.686192</td>\n      <td>POINT (-74.6861918 5.954830151)</td>\n      <td>ECOPETROL S.A.</td>\n      <td>OPERACION-DIRECTA ECOPETROL</td>\n      <td>AREA TECA-COCORNA</td>\n      <td>393.0</td>\n      <td>386.0</td>\n      <td>...</td>\n      <td>365.0</td>\n      <td>396.0</td>\n      <td>382.0</td>\n      <td>369.0</td>\n      <td>342.0</td>\n      <td>280.0</td>\n      <td>264.0</td>\n      <td>282.0</td>\n      <td>278.0</td>\n      <td>2017</td>\n    </tr>\n    <tr>\n      <th>4</th>\n      <td>ANTIOQUIA</td>\n      <td>YONDO</td>\n      <td>6.925159</td>\n      <td>-74.158240</td>\n      <td>POINT (-74.15824041 6.925159318)</td>\n      <td>ECOPETROL S.A.</td>\n      <td>CASABE</td>\n      <td>CASABE</td>\n      <td>12745.0</td>\n      <td>12535.0</td>\n      <td>...</td>\n      <td>12720.0</td>\n      <td>12492.0</td>\n      <td>13127.0</td>\n      <td>12377.0</td>\n      <td>12084.0</td>\n      <td>11965.0</td>\n      <td>11751.0</td>\n      <td>11932.0</td>\n      <td>11634.0</td>\n      <td>2017</td>\n    </tr>\n    <tr>\n      <th>...</th>\n      <td>...</td>\n      <td>...</td>\n      <td>...</td>\n      <td>...</td>\n      <td>...</td>\n      <td>...</td>\n      <td>...</td>\n      <td>...</td>\n      <td>...</td>\n      <td>...</td>\n      <td>...</td>\n      <td>...</td>\n      <td>...</td>\n      <td>...</td>\n      <td>...</td>\n      <td>...</td>\n      <td>...</td>\n      <td>...</td>\n      <td>...</td>\n      <td>...</td>\n      <td>...</td>\n    </tr>\n    <tr>\n      <th>2221</th>\n      <td>TOLIMA</td>\n      <td>PURIFICACI��N</td>\n      <td>3.854282</td>\n      <td>-74.874512</td>\n      <td>POINT (-74.87451155 3.854281614)</td>\n      <td>HOCOL S.A.</td>\n      <td>CHENCHE</td>\n      <td>CHENCHE</td>\n      <td>46.0</td>\n      <td>45.0</td>\n      <td>...</td>\n      <td>48.0</td>\n      <td>46.0</td>\n      <td>45.0</td>\n      <td>43.0</td>\n      <td>17.0</td>\n      <td>NaN</td>\n      <td>NaN</td>\n      <td>NaN</td>\n      <td>NaN</td>\n      <td>2021</td>\n    </tr>\n    <tr>\n      <th>2222</th>\n      <td>TOLIMA</td>\n      <td>PURIFICACI��N</td>\n      <td>3.854282</td>\n      <td>-74.874512</td>\n      <td>POINT (-74.87451155 3.854281614)</td>\n      <td>HOCOL S.A.</td>\n      <td>MATACH̍N NORTE</td>\n      <td>ESPINAL</td>\n      <td>1189.0</td>\n      <td>1108.0</td>\n      <td>...</td>\n      <td>1172.0</td>\n      <td>1159.0</td>\n      <td>1173.0</td>\n      <td>1121.0</td>\n      <td>1125.0</td>\n      <td>NaN</td>\n      <td>NaN</td>\n      <td>NaN</td>\n      <td>NaN</td>\n      <td>2021</td>\n    </tr>\n    <tr>\n      <th>2223</th>\n      <td>TOLIMA</td>\n      <td>PURIFICACI��N</td>\n      <td>3.854282</td>\n      <td>-74.874512</td>\n      <td>POINT (-74.87451155 3.854281614)</td>\n      <td>HOCOL S.A.</td>\n      <td>MATACH̍N SUR</td>\n      <td>ESPINAL</td>\n      <td>99.0</td>\n      <td>96.0</td>\n      <td>...</td>\n      <td>69.0</td>\n      <td>67.0</td>\n      <td>55.0</td>\n      <td>46.0</td>\n      <td>41.0</td>\n      <td>NaN</td>\n      <td>NaN</td>\n      <td>NaN</td>\n      <td>NaN</td>\n      <td>2021</td>\n    </tr>\n    <tr>\n      <th>2224</th>\n      <td>TOLIMA</td>\n      <td>PURIFICACI��N</td>\n      <td>3.854282</td>\n      <td>-74.874512</td>\n      <td>POINT (-74.87451155 3.854281614)</td>\n      <td>HOCOL S.A.</td>\n      <td>PURIFICACI��N</td>\n      <td>ESPINAL</td>\n      <td>0.0</td>\n      <td>0.0</td>\n      <td>...</td>\n      <td>0.0</td>\n      <td>0.0</td>\n      <td>0.0</td>\n      <td>0.0</td>\n      <td>20.0</td>\n      <td>NaN</td>\n      <td>NaN</td>\n      <td>NaN</td>\n      <td>NaN</td>\n      <td>2021</td>\n    </tr>\n    <tr>\n      <th>2225</th>\n      <td>TOLIMA</td>\n      <td>SAN LUIS</td>\n      <td>4.057272</td>\n      <td>-75.163208</td>\n      <td>POINT (-75.16320806 4.057271684)</td>\n      <td>HOCOL S.A.</td>\n      <td>PACANDE</td>\n      <td>ORTEGA</td>\n      <td>68.0</td>\n      <td>67.0</td>\n      <td>...</td>\n      <td>67.0</td>\n      <td>64.0</td>\n      <td>21.0</td>\n      <td>46.0</td>\n      <td>0.0</td>\n      <td>NaN</td>\n      <td>NaN</td>\n      <td>NaN</td>\n      <td>NaN</td>\n      <td>2021</td>\n    </tr>\n  </tbody>\n</table>\n<p>2226 rows × 21 columns</p>\n</div>"
     },
     "metadata": {}
    }
   ]
  },
  {
   "cell_type": "markdown",
   "source": "## Datos nulos.",
   "metadata": {
    "formattedRanges": [],
    "is_collapsed": false,
    "cell_id": "9092bfd9ec9c4954a239652efe938e71",
    "tags": [],
    "deepnote_cell_type": "text-cell-h2"
   }
  },
  {
   "cell_type": "markdown",
   "source": "Existen campos petroleros que no reportaron producción en diferentes meses, adicional a estos los datos del 2021 llegan hasta el mes de agosto. Por lo que no se puede simplemente eliminar esos campos por ser nulos.",
   "metadata": {
    "formattedRanges": [],
    "is_collapsed": false,
    "cell_id": "1f86e5ab33c34f858fc218ac9d960cac",
    "tags": [],
    "deepnote_cell_type": "text-cell-p"
   }
  },
  {
   "cell_type": "markdown",
   "source": "Se procede llegar estos campos nulos con un valor de cero.",
   "metadata": {
    "formattedRanges": [],
    "is_collapsed": false,
    "cell_id": "cba72d1c-8f38-4a37-a963-bf90afd3360d",
    "tags": [],
    "deepnote_cell_type": "text-cell-p"
   }
  },
  {
   "cell_type": "code",
   "metadata": {
    "cell_id": "e888202b46434d4184ced718d6f2ff79",
    "tags": [],
    "deepnote_to_be_reexecuted": false,
    "source_hash": "92587d92",
    "execution_start": 1661373886086,
    "execution_millis": 14,
    "deepnote_table_state": {
     "pageSize": 10,
     "pageIndex": 222,
     "filters": [],
     "sortBy": []
    },
    "deepnote_table_loading": false,
    "deepnote_cell_type": "code",
    "deepnote_cell_height": 61
   },
   "source": "df_produccion_petroleo_2017_2021 = df_produccion_petroleo_2017_2021.fillna(0)",
   "execution_count": 19,
   "outputs": []
  },
  {
   "cell_type": "markdown",
   "source": "Los datos ya están listos para su análisis. se guardan en la carpeta data/ interim. Esto se hace con el fin de hacer un ultimo ajuste en los caracteres especiales. ",
   "metadata": {
    "formattedRanges": [],
    "is_collapsed": false,
    "cell_id": "2f17f64e7c9a430590367101f8dc9de6",
    "tags": [],
    "deepnote_cell_type": "text-cell-p"
   }
  },
  {
   "cell_type": "code",
   "metadata": {
    "cell_id": "c57a0c0542f64667b5dd76d0c4cb7170",
    "tags": [],
    "deepnote_to_be_reexecuted": false,
    "source_hash": "b19f7fa8",
    "execution_start": 1661373886133,
    "execution_millis": 47,
    "deepnote_cell_type": "code"
   },
   "source": "os.makedirs('/work/produccion_petroleo_colombia_2017-2021/data/interim', exist_ok=True)  \ndf_produccion_petroleo_2017_2021.to_csv('/work/produccion_petroleo_colombia_2017-2021/data/interim/ produccion petroleo 2017 - 2021.csv', index=None)  ",
   "execution_count": 20,
   "outputs": []
  },
  {
   "cell_type": "markdown",
   "source": "<a style='text-decoration:none;line-height:16px;display:flex;color:#5B5B62;padding:10px;justify-content:end;' href='https://deepnote.com?utm_source=created-in-deepnote-cell&projectId=0fd3e98d-bed4-4d63-b92c-a6f754667634' target=\"_blank\">\n<img alt='Created in deepnote.com' style='display:inline;max-height:16px;margin:0px;margin-right:7.5px;' src='data:image/svg+xml;base64,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' > </img>\nCreated in <span style='font-weight:600;margin-left:4px;'>Deepnote</span></a>",
   "metadata": {
    "tags": [],
    "created_in_deepnote_cell": true,
    "deepnote_cell_type": "markdown"
   }
  }
 ],
 "nbformat": 4,
 "nbformat_minor": 2,
 "metadata": {
  "orig_nbformat": 2,
  "deepnote": {},
  "deepnote_notebook_id": "0527e76e-6793-4b25-aa36-f2f3846b1d9d",
  "deepnote_execution_queue": []
 }
}