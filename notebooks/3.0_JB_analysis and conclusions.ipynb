{
 "cells": [
  {
   "cell_type": "markdown",
   "source": "# Análisis y conclusiones.",
   "metadata": {
    "formattedRanges": [],
    "is_collapsed": false,
    "cell_id": "10e34569a9ef456c9e2ff83e123bb0f8",
    "tags": [],
    "deepnote_cell_type": "text-cell-h1"
   }
  },
  {
   "cell_type": "markdown",
   "source": "El conjunto de datos tiene la información mensual de producción de petróleo entre los años del 2017 a agosto del 2021 en Colombia. Segmentada por departamento, municipio, empresa y campos petroleros. ",
   "metadata": {
    "formattedRanges": [],
    "is_collapsed": false,
    "cell_id": "88895367-0b3b-4748-8420-58edb5ff7cf8",
    "tags": [],
    "deepnote_cell_type": "text-cell-p"
   }
  },
  {
   "cell_type": "markdown",
   "source": "Se analizo este conjunto de datos buscaba responder a la siguiente pregunta:",
   "metadata": {
    "formattedRanges": [],
    "is_collapsed": false,
    "cell_id": "47a71d315ad54116b9ffe5a28f8d2e94",
    "tags": [],
    "deepnote_cell_type": "text-cell-p"
   }
  },
  {
   "cell_type": "markdown",
   "source": "¿La producción de petróleo en Colombia se vio afectada por la pandemia del covid-19?",
   "metadata": {
    "formattedRanges": [],
    "is_collapsed": false,
    "cell_id": "e42cdf33-90cc-4017-98ef-8441c3b9b7f4",
    "tags": [],
    "deepnote_cell_type": "text-cell-p"
   }
  },
  {
   "cell_type": "markdown",
   "source": "## Conclusiones:",
   "metadata": {
    "formattedRanges": [],
    "is_collapsed": false,
    "cell_id": "6a0999e509d74362b5137d9e478e2eba",
    "tags": [],
    "deepnote_cell_type": "text-cell-h2"
   }
  },
  {
   "cell_type": "markdown",
   "source": "Después de realizar la transformación, limpieza, carga y el análisis exploratorio de nuestro conjunto de datos se llego a las siguientes conclusiones:",
   "metadata": {
    "formattedRanges": [],
    "is_collapsed": false,
    "cell_id": "b7979204bd4b44c9a49e39c137634a16",
    "tags": [],
    "deepnote_cell_type": "text-cell-p"
   }
  },
  {
   "cell_type": "markdown",
   "source": "- Los 5 departamentos Colombianos  con mas actividades petrolera son: Casanare, Meta, Santander, Putumayo y Huila.",
   "metadata": {
    "formattedRanges": [],
    "is_collapsed": false,
    "cell_id": "ca377187e6da46d6b58570ff6ca6f2d1",
    "tags": [],
    "deepnote_cell_type": "text-cell-bullet"
   }
  },
  {
   "cell_type": "markdown",
   "source": "- Los 5 municipios Colombianos con mas actividad petrolera son: Orocue, Puerto Gaitán, San Luis de Palenque , Paz de Ariporo, Tauramena.",
   "metadata": {
    "formattedRanges": [],
    "is_collapsed": false,
    "cell_id": "69cdb554-18ff-495d-8e6a-9284da410cd3",
    "tags": [],
    "deepnote_cell_type": "text-cell-bullet"
   }
  },
  {
   "cell_type": "markdown",
   "source": "- Existe 595 diferentes campos petroleros a lo largo de Colombia, de los cuales en el periodo del 2017 al 2021se ha extraído petróleo en algún momento.",
   "metadata": {
    "formattedRanges": [],
    "is_collapsed": false,
    "cell_id": "a2db113d-071a-4fc9-a839-a342c4836f57",
    "tags": [],
    "deepnote_cell_type": "text-cell-bullet"
   }
  },
  {
   "cell_type": "markdown",
   "source": "- El departamento del Meta es con diferencia el que ha prodición una mayor cantidad de petróleo en los últimos años, seguido por el departamento de Casanare, el cual cuenta con una mayor cantidad de pozos petroleros. sim embargo, debido a la alta presencia de grupos armados organizados al margen de la ley muchos de estos campos tienen una producción reducida de petróleo. ",
   "metadata": {
    "formattedRanges": [],
    "is_collapsed": false,
    "cell_id": "47ecb944-4e34-4bee-94ca-b56cea7738fe",
    "tags": [],
    "deepnote_cell_type": "text-cell-bullet"
   }
  },
  {
   "cell_type": "markdown",
   "source": "- El municipio de Puerto Gaitán es donde ha existido una mayor producción de petróleo, en el periodo del 2017 al 2021.",
   "metadata": {
    "formattedRanges": [],
    "is_collapsed": false,
    "cell_id": "4ca5dee0-0b89-493d-be28-37f8941458b8",
    "tags": [],
    "deepnote_cell_type": "text-cell-bullet"
   }
  },
  {
   "cell_type": "markdown",
   "source": "-  Ecopetrol S.A. es la empresa que mas produce petróleo en Colombia con una gran diferencia y esto es consecuente al ser la empresa con mayor cantidad de pozos petroleros.  En segundo lugar se encuentra Geopark Colombia S.A.S.",
   "metadata": {
    "formattedRanges": [],
    "is_collapsed": false,
    "cell_id": "2d0fef57-fa36-4760-a98d-b215110318cc",
    "tags": [],
    "deepnote_cell_type": "text-cell-bullet"
   }
  },
  {
   "cell_type": "markdown",
   "source": "## Año 2020.",
   "metadata": {
    "formattedRanges": [],
    "is_collapsed": false,
    "cell_id": "aecd3feda118421ab3d5f709a2611fa9",
    "tags": [],
    "deepnote_cell_type": "text-cell-h2"
   }
  },
  {
   "cell_type": "markdown",
   "source": "Antes del año 2020 se observa una tendencia en aumento en la producción general de petróleo en Colombia y claramente se observa una disminución causada por la cuarentena obligatoria debido a la pandemia del covid-19.",
   "metadata": {
    "formattedRanges": [],
    "is_collapsed": false,
    "cell_id": "da3ba7b1-f05a-47f7-8fe6-ebe0ffa0db35",
    "tags": [],
    "deepnote_cell_type": "text-cell-p"
   }
  },
  {
   "cell_type": "markdown",
   "source": "Para cada año que integran el dataset, se tiene una producción anual de petróleo en BPD (Barriles petróleo diarios) de:",
   "metadata": {
    "formattedRanges": [],
    "is_collapsed": false,
    "cell_id": "9b44e668dd574269843ca408b0ff0a67",
    "tags": [],
    "deepnote_cell_type": "text-cell-p"
   }
  },
  {
   "cell_type": "markdown",
   "source": "undefined.  2017 = 854.133 BPD",
   "metadata": {
    "formattedRanges": [
     {
      "fromCodePoint": 1,
      "toCodePoint": 5,
      "marks": {
       "bold": true
      }
     },
     {
      "fromCodePoint": 8,
      "toCodePoint": 19,
      "marks": {
       "bold": true,
       "italic": true
      }
     }
    ],
    "is_collapsed": false,
    "cell_id": "1ff5c668da07439b8831c3792965108a",
    "tags": [],
    "deepnote_cell_type": "text-cell-number"
   }
  },
  {
   "cell_type": "markdown",
   "source": "undefined.  2018 = 865.192 BPD",
   "metadata": {
    "formattedRanges": [
     {
      "fromCodePoint": 1,
      "toCodePoint": 5,
      "marks": {
       "bold": true
      }
     },
     {
      "fromCodePoint": 8,
      "toCodePoint": 19,
      "marks": {
       "bold": true,
       "italic": true
      }
     }
    ],
    "is_collapsed": false,
    "cell_id": "f9a81167-53a0-4829-8de3-49d304f236eb",
    "tags": [],
    "deepnote_cell_type": "text-cell-number"
   }
  },
  {
   "cell_type": "markdown",
   "source": "undefined.  2019 = 885.884 BPD",
   "metadata": {
    "formattedRanges": [
     {
      "fromCodePoint": 0,
      "toCodePoint": 1,
      "marks": {
       "bold": true,
       "italic": true
      }
     },
     {
      "fromCodePoint": 1,
      "toCodePoint": 5,
      "marks": {
       "bold": true
      }
     },
     {
      "fromCodePoint": 8,
      "toCodePoint": 19,
      "marks": {
       "bold": true,
       "italic": true
      }
     }
    ],
    "is_collapsed": false,
    "cell_id": "31da18b1-dc1b-4f89-b53f-b47b77b4b58e",
    "tags": [],
    "deepnote_cell_type": "text-cell-number"
   }
  },
  {
   "cell_type": "markdown",
   "source": "undefined.  2020 = 781.369 BPD",
   "metadata": {
    "formattedRanges": [
     {
      "fromCodePoint": 0,
      "toCodePoint": 1,
      "marks": {
       "bold": true,
       "italic": true
      }
     },
     {
      "fromCodePoint": 1,
      "toCodePoint": 5,
      "marks": {
       "bold": true
      }
     },
     {
      "fromCodePoint": 7,
      "toCodePoint": 19,
      "marks": {
       "bold": true,
       "italic": true
      }
     }
    ],
    "is_collapsed": false,
    "cell_id": "35ad208a-da4d-4f45-932b-cc9871446d69",
    "tags": [],
    "deepnote_cell_type": "text-cell-number"
   }
  },
  {
   "cell_type": "markdown",
   "source": "undefined.  2021 = 732.349 BPD",
   "metadata": {
    "formattedRanges": [
     {
      "fromCodePoint": 0,
      "toCodePoint": 1,
      "marks": {
       "bold": true,
       "italic": true
      }
     },
     {
      "fromCodePoint": 1,
      "toCodePoint": 2,
      "marks": {
       "bold": true
      }
     },
     {
      "fromCodePoint": 2,
      "toCodePoint": 5,
      "marks": {
       "italic": true,
       "bold": true
      }
     },
     {
      "fromCodePoint": 5,
      "toCodePoint": 7,
      "marks": {
       "italic": true
      }
     },
     {
      "fromCodePoint": 7,
      "toCodePoint": 19,
      "marks": {
       "bold": true,
       "italic": true
      }
     }
    ],
    "is_collapsed": false,
    "cell_id": "a8f3afff-f6f1-4109-b6d6-c4858f088322",
    "tags": [],
    "deepnote_cell_type": "text-cell-number"
   }
  },
  {
   "cell_type": "markdown",
   "source": "Se observa como la producción anual de petróleo en Colombia va incrementando hasta el 2020 donde se produjo una reducción de 104.515 BPD menos que el año anterior. Lo que equivale a una disminución del  12 % menos comparada con el año anterior.",
   "metadata": {
    "formattedRanges": [],
    "is_collapsed": false,
    "cell_id": "b624c4779ebb49c3b3735faf91b9500f",
    "tags": [],
    "deepnote_cell_type": "text-cell-p"
   }
  },
  {
   "cell_type": "markdown",
   "source": "Teniendo en cuenta que el petróleo es un motor para la economía colombiana, por ser el principal generador de renta externa por encima incluso del café y por ser la fuente principal de rentas para las regiones, bien a título de regalías por su explotación o por contribuciones fiscales en las distintas fases de su proceso. Lo que implica un fuerte golpe para la economía colombiana, el cual se se vera reflejado en los años siguientes a la pandemia.",
   "metadata": {
    "formattedRanges": [],
    "is_collapsed": false,
    "cell_id": "ab939305ffde4ca7a5ebb138b874fe64",
    "tags": [],
    "deepnote_cell_type": "text-cell-p"
   }
  },
  {
   "cell_type": "markdown",
   "source": "En este mismo año, la producción mensual mas baja se dio en el mes de mayo para después de esto incrementar a un valor aproximado de 760.000 BPD. En el 2021, se produjo aproximadamente de forma mensual el mismo valor, estando muy lejos en el mes de agosto de alcanzar los valores de producción pre-pandemia.",
   "metadata": {
    "formattedRanges": [],
    "is_collapsed": false,
    "cell_id": "8d8ac8634a104af9b9983a3e67b1f7fb",
    "tags": [],
    "deepnote_cell_type": "text-cell-p"
   }
  },
  {
   "cell_type": "markdown",
   "source": "<a style='text-decoration:none;line-height:16px;display:flex;color:#5B5B62;padding:10px;justify-content:end;' href='https://deepnote.com?utm_source=created-in-deepnote-cell&projectId=0fd3e98d-bed4-4d63-b92c-a6f754667634' target=\"_blank\">\n<img alt='Created in deepnote.com' style='display:inline;max-height:16px;margin:0px;margin-right:7.5px;' src='data:image/svg+xml;base64,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' > </img>\nCreated in <span style='font-weight:600;margin-left:4px;'>Deepnote</span></a>",
   "metadata": {
    "tags": [],
    "created_in_deepnote_cell": true,
    "deepnote_cell_type": "markdown"
   }
  }
 ],
 "nbformat": 4,
 "nbformat_minor": 2,
 "metadata": {
  "orig_nbformat": 2,
  "deepnote": {},
  "deepnote_notebook_id": "c4b2ec0c-7040-46bc-9f98-210a2738d142",
  "deepnote_execution_queue": []
 }
}